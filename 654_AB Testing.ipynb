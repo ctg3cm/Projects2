{
 "cells": [
  {
   "cell_type": "code",
   "execution_count": 1,
   "id": "35f3ee5d",
   "metadata": {},
   "outputs": [
    {
     "data": {
      "text/plain": [
       "<BarContainer object of 3 artists>"
      ]
     },
     "execution_count": 1,
     "metadata": {},
     "output_type": "execute_result"
    },
    {
     "data": {
      "image/png": "[encoded data removed]",
      "text/plain": [
       "<Figure size 432x288 with 1 Axes>"
      ]
     },
     "metadata": {
      "needs_background": "light"
     },
     "output_type": "display_data"
    }
   ],
   "source": [
    "# Part I: A/B Testing Sales Promotion Strategies\n",
    "\n",
    "# A. Generate a barplot to show the average SalesInThousands values, separated by the different \n",
    "# promotion types.\n",
    "\n",
    "import numpy as np\n",
    "import pandas as pd\n",
    "import seaborn as sns\n",
    "import statsmodels.api as sm\n",
    "import matplotlib.pyplot as plt\n",
    "from statistics import mean\n",
    "from scipy import stats\n",
    "\n",
    "cd = pd.read_csv('campaign_data.csv')\n",
    "\n",
    "a = cd[cd['Promotion'] < 2] # promotion 1 \n",
    "b = cd[cd['Promotion'] == 2] # promotion 2 \n",
    "c = cd[cd['Promotion'] > 2] # promotion 3 \n",
    "\n",
    "data = {'1': mean(a['SalesInThousands']),  \n",
    "        '2': mean(b['SalesInThousands']), \n",
    "        '3': mean(c['SalesInThousands'])}  \n",
    "\n",
    "x = list(data.keys())\n",
    "y = list(data.values())\n",
    "\n",
    "plt.bar(x, y, width = 0.5)"
   ]
  },
  {
   "cell_type": "markdown",
   "id": "88910cad",
   "metadata": {},
   "source": [
    "a. Describe your barplot in 1-2 sentences.\n",
    "\n",
    "From the barplot, we can tell promotion 2 has the highest average sales in thousands, promotion 3 has the lowest average sales in thousands. "
   ]
  },
  {
   "cell_type": "code",
   "execution_count": 2,
   "id": "d6c08be2",
   "metadata": {},
   "outputs": [
    {
     "data": {
      "text/plain": [
       "MarketID            47\n",
       "MarketSize          47\n",
       "LocationID          47\n",
       "AgeOfStore          47\n",
       "Promotion           47\n",
       "week                47\n",
       "SalesInThousands    47\n",
       "dtype: int64"
      ]
     },
     "execution_count": 2,
     "metadata": {},
     "output_type": "execute_result"
    }
   ],
   "source": [
    "# B. You want to make sure that the promotions were evenly-balanced across time. \n",
    "# Create another barplot -- this time, build a barplot that shows the number of instances in \n",
    "# which each of the promotions was held. Include the ‘week’ variable in your plot, too.\n",
    "\n",
    "# Promotion 1\n",
    "d1 = a[a['week'] == 1]\n",
    "e1 = a[a['week'] == 2]\n",
    "f1 = a[a['week'] == 3]\n",
    "g1 = a[a['week'] == 4]\n",
    "\n",
    "# Promotion 2\n",
    "d2 = b[b['week'] == 1]\n",
    "e2 = b[b['week'] == 2]\n",
    "f2 = b[b['week'] == 3]\n",
    "g2 = b[b['week'] == 4]\n",
    "\n",
    "# Promotion 3\n",
    "d3 = c[c['week'] == 1]\n",
    "e3 = c[c['week'] == 2]\n",
    "f3 = c[c['week'] == 3]\n",
    "g3 = c[c['week'] == 4]\n",
    "\n",
    "d1.count() # 43\n",
    "d2.count() # 47\n",
    "d3.count() # 47\n",
    "\n",
    "e1.count() # 43\n",
    "e2.count() # 47\n",
    "e3.count() # 47\n",
    "\n",
    "f1.count() # 43\n",
    "f2.count() # 47\n",
    "f3.count() # 47\n",
    "\n",
    "g1.count() # 43\n",
    "g2.count() # 47\n",
    "g3.count() # 47"
   ]
  },
  {
   "cell_type": "code",
   "execution_count": 3,
   "id": "dc6fe245",
   "metadata": {},
   "outputs": [
    {
     "data": {
      "image/png": "[encoded data removed]",
      "text/plain": [
       "<Figure size 432x288 with 1 Axes>"
      ]
     },
     "metadata": {
      "needs_background": "light"
     },
     "output_type": "display_data"
    }
   ],
   "source": [
    "x = ['1', '2', '3']\n",
    "y1 = np.array([43, 47, 47]) # d1, d2, d3\n",
    "y2 = np.array([43, 47, 47]) # e1, e2, e3\n",
    "y3 = np.array([43, 47, 47]) # f1, f2, f3\n",
    "y4 = np.array([43, 47, 47]) # g1, g2, g3\n",
    "\n",
    "plt.bar(x, y1, color = 'r')\n",
    "plt.bar(x, y2, bottom = y1, color = 'b')\n",
    "plt.bar(x, y3, bottom = y1 + y2, color = 'y')\n",
    "plt.bar(x, y4, bottom = y1 + y2 + y3, color = 'g')\n",
    "plt.xlabel(\"Promotion\")\n",
    "plt.ylabel(\"week\")\n",
    "plt.legend([\"week 1\", \"week 2\", \"week 3\", \"week 4\"])\n",
    "plt.show()"
   ]
  },
  {
   "cell_type": "markdown",
   "id": "21557c18",
   "metadata": {},
   "source": [
    "a. What does this show you about the experiment design? Do you think the ‘week’ could be a confounding variable in the experiment?\n",
    "\n",
    "Promotion 1 was held 43 times from week 1 to week 4, and promotion 2 and 3 was held 47 times from week 1 to week 4. I do not think the 'week' could be a confounding variable in the experiment, because both promotion 2 and 3 was held 47 times each week but the average sales in thousands were totally different. "
   ]
  },
  {
   "cell_type": "code",
   "execution_count": 4,
   "id": "9466dfb8",
   "metadata": {},
   "outputs": [
    {
     "data": {
      "text/html": [
       "<div>\n",
       "<style scoped>\n",
       "    .dataframe tbody tr th:only-of-type {\n",
       "        vertical-align: middle;\n",
       "    }\n",
       "\n",
       "    .dataframe tbody tr th {\n",
       "        vertical-align: top;\n",
       "    }\n",
       "\n",
       "    .dataframe thead th {\n",
       "        text-align: right;\n",
       "    }\n",
       "</style>\n",
       "<table border=\"1\" class=\"dataframe\">\n",
       "  <thead>\n",
       "    <tr style=\"text-align: right;\">\n",
       "      <th></th>\n",
       "      <th>count</th>\n",
       "      <th>mean</th>\n",
       "      <th>std</th>\n",
       "      <th>min</th>\n",
       "      <th>25%</th>\n",
       "      <th>50%</th>\n",
       "      <th>75%</th>\n",
       "      <th>max</th>\n",
       "    </tr>\n",
       "    <tr>\n",
       "      <th>Promotion</th>\n",
       "      <th></th>\n",
       "      <th></th>\n",
       "      <th></th>\n",
       "      <th></th>\n",
       "      <th></th>\n",
       "      <th></th>\n",
       "      <th></th>\n",
       "      <th></th>\n",
       "    </tr>\n",
       "  </thead>\n",
       "  <tbody>\n",
       "    <tr>\n",
       "      <th>1</th>\n",
       "      <td>172.0</td>\n",
       "      <td>8.279070</td>\n",
       "      <td>6.636160</td>\n",
       "      <td>1.0</td>\n",
       "      <td>3.0</td>\n",
       "      <td>6.0</td>\n",
       "      <td>12.0</td>\n",
       "      <td>27.0</td>\n",
       "    </tr>\n",
       "    <tr>\n",
       "      <th>2</th>\n",
       "      <td>188.0</td>\n",
       "      <td>7.978723</td>\n",
       "      <td>6.597648</td>\n",
       "      <td>1.0</td>\n",
       "      <td>3.0</td>\n",
       "      <td>7.0</td>\n",
       "      <td>10.0</td>\n",
       "      <td>28.0</td>\n",
       "    </tr>\n",
       "    <tr>\n",
       "      <th>3</th>\n",
       "      <td>188.0</td>\n",
       "      <td>9.234043</td>\n",
       "      <td>6.651646</td>\n",
       "      <td>1.0</td>\n",
       "      <td>5.0</td>\n",
       "      <td>8.0</td>\n",
       "      <td>12.0</td>\n",
       "      <td>24.0</td>\n",
       "    </tr>\n",
       "  </tbody>\n",
       "</table>\n",
       "</div>"
      ],
      "text/plain": [
       "           count      mean       std  min  25%  50%   75%   max\n",
       "Promotion                                                      \n",
       "1          172.0  8.279070  6.636160  1.0  3.0  6.0  12.0  27.0\n",
       "2          188.0  7.978723  6.597648  1.0  3.0  7.0  10.0  28.0\n",
       "3          188.0  9.234043  6.651646  1.0  5.0  8.0  12.0  24.0"
      ]
     },
     "execution_count": 4,
     "metadata": {},
     "output_type": "execute_result"
    }
   ],
   "source": [
    "# C. Next, generate some summary stats here -- group the observations by ‘Promotion’ and then \n",
    "# describe the store ages.\n",
    "\n",
    "cd.groupby('Promotion').describe()['AgeOfStore']"
   ]
  },
  {
   "cell_type": "markdown",
   "id": "a2237f30",
   "metadata": {},
   "source": [
    "a. How would you describe these results in general? You won’t use a statistical test here, but instead, just summarize what this seems to show -- does the age profile of the stores seem to be very different, or does it look like it’s pretty similar across these three groups?\n",
    "\n",
    "The average age of store for promotion 1 is 8.28, the average age of store for promotion 2 is 7.98, and the average age of store for promotion 3 is 9.23. The max age of store for promotion 1 is 27, the max age of store for promotion 2 is 28, and the max age of store for promotion 3 is 24. The age profile of the stores seem to be pretty similar across these three groups. "
   ]
  },
  {
   "cell_type": "code",
   "execution_count": 5,
   "id": "6930597c",
   "metadata": {},
   "outputs": [],
   "source": [
    "# D. Using an appropriate statistical test for each comparison, compare every possible \n",
    "# promotion (Promotion 1 vs. Promotion 2, Promotion 2 vs. Promotion 3, and Promotion 1 vs. \n",
    "# Promotion 3) to assess its impact on sales.\n",
    "\n",
    "t, p = stats.ttest_ind(cd.loc[cd['Promotion'] == 1, 'SalesInThousands'].values, \n",
    "                       cd.loc[cd['Promotion'] == 2, 'SalesInThousands'].values, \n",
    "                       equal_var=False)"
   ]
  },
  {
   "cell_type": "code",
   "execution_count": 6,
   "id": "4835ad0c",
   "metadata": {},
   "outputs": [
    {
     "data": {
      "text/plain": [
       "-2.512859893840587"
      ]
     },
     "execution_count": 6,
     "metadata": {},
     "output_type": "execute_result"
    }
   ],
   "source": [
    "t"
   ]
  },
  {
   "cell_type": "code",
   "execution_count": 7,
   "id": "f83fb538",
   "metadata": {},
   "outputs": [
    {
     "data": {
      "text/plain": [
       "0.012428715478592204"
      ]
     },
     "execution_count": 7,
     "metadata": {},
     "output_type": "execute_result"
    }
   ],
   "source": [
    "p"
   ]
  },
  {
   "cell_type": "code",
   "execution_count": 8,
   "id": "692db3c3",
   "metadata": {},
   "outputs": [],
   "source": [
    "t, p = stats.ttest_ind(cd.loc[cd['Promotion'] == 2, 'SalesInThousands'].values, \n",
    "                       cd.loc[cd['Promotion'] == 3, 'SalesInThousands'].values, \n",
    "                       equal_var=False)"
   ]
  },
  {
   "cell_type": "code",
   "execution_count": 9,
   "id": "797356b6",
   "metadata": {},
   "outputs": [
    {
     "data": {
      "text/plain": [
       "4.2191398016523785"
      ]
     },
     "execution_count": 9,
     "metadata": {},
     "output_type": "execute_result"
    }
   ],
   "source": [
    "t"
   ]
  },
  {
   "cell_type": "code",
   "execution_count": 10,
   "id": "0f1f7c34",
   "metadata": {},
   "outputs": [
    {
     "data": {
      "text/plain": [
       "3.088085195537442e-05"
      ]
     },
     "execution_count": 10,
     "metadata": {},
     "output_type": "execute_result"
    }
   ],
   "source": [
    "p"
   ]
  },
  {
   "cell_type": "code",
   "execution_count": 11,
   "id": "b15365ae",
   "metadata": {},
   "outputs": [],
   "source": [
    "t, p = stats.ttest_ind(cd.loc[cd['Promotion'] == 1, 'SalesInThousands'].values, \n",
    "                       cd.loc[cd['Promotion'] == 3, 'SalesInThousands'].values, \n",
    "                       equal_var=False)"
   ]
  },
  {
   "cell_type": "code",
   "execution_count": 12,
   "id": "7b560c62",
   "metadata": {},
   "outputs": [
    {
     "data": {
      "text/plain": [
       "1.5560224307758634"
      ]
     },
     "execution_count": 12,
     "metadata": {},
     "output_type": "execute_result"
    }
   ],
   "source": [
    "t"
   ]
  },
  {
   "cell_type": "code",
   "execution_count": 13,
   "id": "515cc577",
   "metadata": {},
   "outputs": [
    {
     "data": {
      "text/plain": [
       "0.12059147742229478"
      ]
     },
     "execution_count": 13,
     "metadata": {},
     "output_type": "execute_result"
    }
   ],
   "source": [
    "p"
   ]
  },
  {
   "cell_type": "markdown",
   "id": "fbc65c46",
   "metadata": {},
   "source": [
    "a. What were the t-statistics and p-statistics for each head-to-head test?\n",
    "\n",
    "Promotion 1 vs. Promotion 2: t: -2.512859893840587, p: 0.012428715478592204\n",
    "\n",
    "Promotion 2 vs. Promotion 3: t: 4.2191398016523785, p: 3.088085195537442e-05\n",
    "\n",
    "Promotion 1 vs. Promotion 3: t: 1.5560224307758634, p: 0.12059147742229478"
   ]
  },
  {
   "cell_type": "markdown",
   "id": "cbe68836",
   "metadata": {},
   "source": [
    "b. Based on these results, what can you conclude about the promotions?\n",
    "\n",
    "promotion 1 vs. promotion 2 and promotion2 vs. promotion 3 have p-values are lower than 0.05. It is considered statistically significant. We will reject the null hypothesis that there is no meaningful variation among the promotions. Promotion 1 vs. promotion 3 has p-value greater than 0.05, we failed to reject the null hypothesis that there is no meaningful variation among the promotions. "
   ]
  },
  {
   "cell_type": "markdown",
   "id": "fd0173e1",
   "metadata": {},
   "source": [
    "Part II: Using a Statistical Test to Evaluate a Claim"
   ]
  },
  {
   "cell_type": "code",
   "execution_count": 14,
   "id": "3bfc8df3",
   "metadata": {},
   "outputs": [
    {
     "name": "stdout",
     "output_type": "stream",
     "text": [
      "The chisquare value is : 5.800000000000001\n",
      "The p-value is : 0.32616881369357226\n"
     ]
    }
   ],
   "source": [
    "# A. Using the results from the first set of dice rolls (in which you rolled the visitor’s \n",
    "# dice 60 times), conduct a chi-square goodness of fit test in Python.\n",
    "\n",
    "from scipy.stats import chisquare\n",
    "\n",
    "observed = [13, 7, 12, 8, 14, 6]\n",
    "expected = [10, 10, 10, 10, 10, 10]\n",
    "\n",
    "chisq, pvalue = chisquare(f_obs = observed, f_exp = expected)\n",
    "print('The chisquare value is :', chisq)\n",
    "print('The p-value is :', pvalue)"
   ]
  },
  {
   "cell_type": "markdown",
   "id": "6741c3f9",
   "metadata": {},
   "source": [
    "a. What is the null hypothesis of this test? What is the alternative hypothesis?\n",
    "\n",
    "The null hypothesis is the probability of each number of the dice is 1/6. The alternative hypothesis is the probability of each number of the dice is not 1/6.  "
   ]
  },
  {
   "cell_type": "code",
   "execution_count": 15,
   "id": "26984c29",
   "metadata": {},
   "outputs": [
    {
     "data": {
      "text/plain": [
       "11.070497693516351"
      ]
     },
     "execution_count": 15,
     "metadata": {},
     "output_type": "execute_result"
    }
   ],
   "source": [
    "import scipy.stats\n",
    "\n",
    "scipy.stats.chi2.ppf(1 - .05, df = 5)"
   ]
  },
  {
   "cell_type": "markdown",
   "id": "a859cfba",
   "metadata": {},
   "source": [
    "b. What is the p-value of this test? Based on this value, what will you conclude? Be sure to mention the null hypothesis in your answer to this question. (you can assume that Lobster Land uses an alpha value of 0.05 for statistical tests)\n",
    "\n",
    "The p-value is 0.326. The chi-square calculated value is lower than the chi-square critical value, then we failed to reject the null hypothesis."
   ]
  },
  {
   "cell_type": "code",
   "execution_count": 16,
   "id": "48f31ce1",
   "metadata": {},
   "outputs": [
    {
     "name": "stdout",
     "output_type": "stream",
     "text": [
      "The chisquare value is : 11.600000000000001\n",
      "The p-value is : 0.040699388504049985\n"
     ]
    }
   ],
   "source": [
    "# B. Now, using only the results from the second set of dice rolls (in which the intern \n",
    "# rolled the visitor’s dice 120 times), conduct a chi-square goodness of fit test in Python.\n",
    "\n",
    "observed = [26, 14, 24, 16, 28, 12]\n",
    "expected = [20, 20, 20, 20, 20, 20]\n",
    "\n",
    "chisq, pvalue = chisquare(f_obs = observed, f_exp = expected)\n",
    "print('The chisquare value is :', chisq)\n",
    "print('The p-value is :', pvalue)"
   ]
  },
  {
   "cell_type": "markdown",
   "id": "c5c7f081",
   "metadata": {},
   "source": [
    "a. What is the null hypothesis of this test? What is the alternative hypothesis?\n",
    "\n",
    "The null hypothesis is the probability of each number of the dice is 1/6. The alternative hypothesis is the probability of each number of the dice is not 1/6."
   ]
  },
  {
   "cell_type": "markdown",
   "id": "3abaf531",
   "metadata": {},
   "source": [
    "b. What is the p-value of this test? Based on this value, what will you conclude? Be sure to mention the null hypothesis in your answer to this question.\n",
    "\n",
    "The p-value is 0.041. The chi-square calculated value is greater than the chi-square critical value, then we reject the null hypothesis."
   ]
  },
  {
   "cell_type": "code",
   "execution_count": 17,
   "id": "a29a4cf4",
   "metadata": {},
   "outputs": [
    {
     "data": {
      "text/plain": [
       "5.800000000000001"
      ]
     },
     "execution_count": 17,
     "metadata": {},
     "output_type": "execute_result"
    }
   ],
   "source": [
    "# C. Demonstrate where the two chi-square values used above came from. Use Jupyter Notebook \n",
    "# to do this, but do not use any Python libraries or modules. Instead, show the calculation \n",
    "# used to determine the chi-square value for each case (the 60-roll trial, and the 120-roll \n",
    "# trial).\n",
    "\n",
    "# 60-roll\n",
    "(13-10)**2/10+(7-10)**2/10+(12-10)**2/10+(8-10)**2/10+(14-10)**2/10+(6-10)**2/10"
   ]
  },
  {
   "cell_type": "code",
   "execution_count": 18,
   "id": "0b7fc6f8",
   "metadata": {},
   "outputs": [
    {
     "data": {
      "text/plain": [
       "11.600000000000001"
      ]
     },
     "execution_count": 18,
     "metadata": {},
     "output_type": "execute_result"
    }
   ],
   "source": [
    "# 120-roll\n",
    "(26-20)**2/20+(14-20)**2/20+(24-20)**2/20+(16-20)**2/20+(28-20)**2/20+(12-20)**2/20"
   ]
  },
  {
   "cell_type": "markdown",
   "id": "b37b1e1d",
   "metadata": {},
   "source": [
    "i. What pattern did you notice in the results, when comparing the observed values from the two trials?\n",
    "\n",
    "The chi-square value doubled when the number of trials doubled. "
   ]
  },
  {
   "cell_type": "markdown",
   "id": "be27e379",
   "metadata": {},
   "source": [
    "ii. If your chi-square value from the second trial was different from the one you obtained from the first trial, describe in about 1-2 sentences why you think it changed. Just a couple sentences is enough here -- a full credit answer will ‘connect the dots’ between the formula for the chi-square value and the way it was impacted by the data here.\n",
    "\n",
    "The observed values are doubled in the second trial. Since the number of dice rolled was also doubled, we can tell from the formula that 9/10 is double 36/20. As a result, the chi-square value was doubled in the second trial. "
   ]
  },
  {
   "cell_type": "markdown",
   "id": "d925d639",
   "metadata": {},
   "source": [
    "D. What should Lobster Land tell the traveling salesman? Why?\n",
    "\n",
    "The Lobster Land could tell the traveling salesman to set up the dice game. Because the second trail has a p-value of 0.04, so we reject null. "
   ]
  },
  {
   "cell_type": "markdown",
   "id": "da5262bb",
   "metadata": {},
   "source": [
    "E. If using more dice rolls in the 2nd trial seems to have impacted the results, write a completely intuitive (no math!) explanation for why this might make sense. To write this answer, don’t use any math or statistics references. Instead, be creative, and think about how you might explain to a small child (or an adult that doesn’t know about math) about the impact of having more evidence in order to make the decision here (2-4 sentences here will be enough).\n",
    "\n",
    "When examing whether a dice is fair, the larger the sample size, the more accurate the result. In the second trial, we double the sample size so we found a more meaningful value. "
   ]
  },
  {
   "cell_type": "code",
   "execution_count": null,
   "id": "de647ba5",
   "metadata": {},
   "outputs": [],
   "source": []
  }
 ],
 "metadata": {
  "kernelspec": {
   "display_name": "Python 3 (ipykernel)",
   "language": "python",
   "name": "python3"
  },
  "language_info": {
   "codemirror_mode": {
    "name": "ipython",
    "version": 3
   },
   "file_extension": ".py",
   "mimetype": "text/x-python",
   "name": "python",
   "nbconvert_exporter": "python",
   "pygments_lexer": "ipython3",
   "version": "3.9.12"
  }
 },
 "nbformat": 4,
 "nbformat_minor": 5
}
