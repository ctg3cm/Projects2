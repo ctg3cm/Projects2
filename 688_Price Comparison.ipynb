{
 "cells": [
  {
   "cell_type": "markdown",
   "metadata": {
    "id": "vuT4v0dYoFbA"
   },
   "source": [
    "### Comparison of Prices through Web scraping"
   ]
  },
  {
   "cell_type": "code",
   "execution_count": 1,
   "metadata": {
    "executionInfo": {
     "elapsed": 782,
     "status": "ok",
     "timestamp": 1616026623118,
     "user": {
      "displayName": "Ravi Doddavaram",
      "photoUrl": "",
      "userId": "10820994610138353105"
     },
     "user_tz": 240
    },
    "id": "JjJutcE5jmTW"
   },
   "outputs": [],
   "source": [
    "import bs4, requests\n",
    "import re\n",
    "import pandas as pd\n",
    "import numpy as np\n",
    "import json\n",
    "\n",
    "from re import sub\n",
    "from decimal import Decimal"
   ]
  },
  {
   "cell_type": "code",
   "execution_count": 2,
   "metadata": {
    "executionInfo": {
     "elapsed": 989,
     "status": "ok",
     "timestamp": 1616026643681,
     "user": {
      "displayName": "Ravi Doddavaram",
      "photoUrl": "",
      "userId": "10820994610138353105"
     },
     "user_tz": 240
    },
    "id": "FK5aTyU-mVp-"
   },
   "outputs": [],
   "source": [
    "# city of NYC\n",
    "url='https://www.cargurus.com/Cars/inventorylisting/viewDetailsFilterViewInventoryListing.action?zip=10100&inventorySearchWidgetType=AUTO&searchId=aa62eb38-5dd0-4d24-8522-badb6a546c98&nonShippableBaseline=396&shopByTypes=MIX&sortDir=ASC&sourceContext=carGurusHomePageModel&distance=50&sortType=DEAL_SCORE&entitySelectingHelper.selectedEntity=d380'\n",
    "res = requests.get(url)"
   ]
  },
  {
   "cell_type": "code",
   "execution_count": 3,
   "metadata": {
    "colab": {
     "base_uri": "https://localhost:8080/"
    },
    "executionInfo": {
     "elapsed": 1759,
     "status": "ok",
     "timestamp": 1616026707482,
     "user": {
      "displayName": "Ravi Doddavaram",
      "photoUrl": "",
      "userId": "10820994610138353105"
     },
     "user_tz": 240
    },
    "id": "hR9oelVMmZ2y",
    "outputId": "94842c6b-c5a4-459c-edc0-2e48b3b7abe4"
   },
   "outputs": [],
   "source": [
    "soup = bs4.BeautifulSoup(res.text)\n",
    "#print(soup.prettify())"
   ]
  },
  {
   "cell_type": "code",
   "execution_count": 4,
   "metadata": {},
   "outputs": [
    {
     "name": "stdout",
     "output_type": "stream",
     "text": [
      "<class 'dict'>\n"
     ]
    }
   ],
   "source": [
    "#find data in dictionary format\n",
    "dataset = soup.find_all(\"script\")\n",
    "dictionary = []\n",
    "for data in dataset:\n",
    "    #print(type(data))\n",
    "    #print(data)\n",
    "    if 'PREFLIGHT' in str(data):\n",
    "        dictionary.append(data)\n",
    "        #print('found')\n",
    "        break\n",
    "             \n",
    "data_str = str(dictionary)\n",
    "dict_object = json.loads(re.search('({.+})', data_str).group(0).replace(\"'\", '\"'))\n",
    "print(type(dict_object))\n",
    "#print(dict_object)"
   ]
  },
  {
   "cell_type": "code",
   "execution_count": 5,
   "metadata": {},
   "outputs": [
    {
     "data": {
      "text/html": [
       "<div>\n",
       "<style scoped>\n",
       "    .dataframe tbody tr th:only-of-type {\n",
       "        vertical-align: middle;\n",
       "    }\n",
       "\n",
       "    .dataframe tbody tr th {\n",
       "        vertical-align: top;\n",
       "    }\n",
       "\n",
       "    .dataframe thead th {\n",
       "        text-align: right;\n",
       "    }\n",
       "</style>\n",
       "<table border=\"1\" class=\"dataframe\">\n",
       "  <thead>\n",
       "    <tr style=\"text-align: right;\">\n",
       "      <th></th>\n",
       "      <th>Title</th>\n",
       "      <th>Price</th>\n",
       "      <th>Mileage</th>\n",
       "      <th>Year</th>\n",
       "    </tr>\n",
       "  </thead>\n",
       "  <tbody>\n",
       "    <tr>\n",
       "      <th>0</th>\n",
       "      <td>2018 Subaru Outback 3.6R Limited AWD</td>\n",
       "      <td>24988.0</td>\n",
       "      <td>41868</td>\n",
       "      <td>2018</td>\n",
       "    </tr>\n",
       "    <tr>\n",
       "      <th>1</th>\n",
       "      <td>2019 Subaru Outback 2.5i Premium AWD</td>\n",
       "      <td>24788.0</td>\n",
       "      <td>9250</td>\n",
       "      <td>2019</td>\n",
       "    </tr>\n",
       "    <tr>\n",
       "      <th>2</th>\n",
       "      <td>2018 Subaru Outback 3.6R Touring AWD</td>\n",
       "      <td>27295.0</td>\n",
       "      <td>42245</td>\n",
       "      <td>2018</td>\n",
       "    </tr>\n",
       "    <tr>\n",
       "      <th>3</th>\n",
       "      <td>2019 Subaru Outback 2.5i Limited AWD</td>\n",
       "      <td>28592.0</td>\n",
       "      <td>7864</td>\n",
       "      <td>2019</td>\n",
       "    </tr>\n",
       "    <tr>\n",
       "      <th>4</th>\n",
       "      <td>2014 Subaru Outback 2.5i Premium</td>\n",
       "      <td>10995.0</td>\n",
       "      <td>114553</td>\n",
       "      <td>2014</td>\n",
       "    </tr>\n",
       "    <tr>\n",
       "      <th>5</th>\n",
       "      <td>2018 Subaru Outback 3.6R Touring AWD</td>\n",
       "      <td>28491.0</td>\n",
       "      <td>31663</td>\n",
       "      <td>2018</td>\n",
       "    </tr>\n",
       "    <tr>\n",
       "      <th>6</th>\n",
       "      <td>2019 Subaru Outback 2.5i Premium AWD</td>\n",
       "      <td>25791.0</td>\n",
       "      <td>9540</td>\n",
       "      <td>2019</td>\n",
       "    </tr>\n",
       "    <tr>\n",
       "      <th>7</th>\n",
       "      <td>2019 Subaru Outback 2.5i Premium AWD</td>\n",
       "      <td>25223.0</td>\n",
       "      <td>12994</td>\n",
       "      <td>2019</td>\n",
       "    </tr>\n",
       "    <tr>\n",
       "      <th>8</th>\n",
       "      <td>2019 Subaru Outback 3.6R Limited AWD</td>\n",
       "      <td>28904.0</td>\n",
       "      <td>25011</td>\n",
       "      <td>2019</td>\n",
       "    </tr>\n",
       "    <tr>\n",
       "      <th>9</th>\n",
       "      <td>2019 Subaru Outback 2.5i Limited AWD</td>\n",
       "      <td>26827.0</td>\n",
       "      <td>32302</td>\n",
       "      <td>2019</td>\n",
       "    </tr>\n",
       "    <tr>\n",
       "      <th>10</th>\n",
       "      <td>2019 Subaru Outback 2.5i Limited AWD</td>\n",
       "      <td>28995.0</td>\n",
       "      <td>15081</td>\n",
       "      <td>2019</td>\n",
       "    </tr>\n",
       "    <tr>\n",
       "      <th>11</th>\n",
       "      <td>2019 Subaru Outback 2.5i Limited AWD</td>\n",
       "      <td>28592.0</td>\n",
       "      <td>18764</td>\n",
       "      <td>2019</td>\n",
       "    </tr>\n",
       "    <tr>\n",
       "      <th>12</th>\n",
       "      <td>2019 Subaru Outback 2.5i Premium AWD</td>\n",
       "      <td>26110.0</td>\n",
       "      <td>10605</td>\n",
       "      <td>2019</td>\n",
       "    </tr>\n",
       "    <tr>\n",
       "      <th>13</th>\n",
       "      <td>2019 Subaru Outback 2.5i Limited AWD</td>\n",
       "      <td>28897.0</td>\n",
       "      <td>11696</td>\n",
       "      <td>2019</td>\n",
       "    </tr>\n",
       "    <tr>\n",
       "      <th>14</th>\n",
       "      <td>2019 Subaru Outback 2.5i Premium AWD</td>\n",
       "      <td>25798.0</td>\n",
       "      <td>13641</td>\n",
       "      <td>2019</td>\n",
       "    </tr>\n",
       "  </tbody>\n",
       "</table>\n",
       "</div>"
      ],
      "text/plain": [
       "                                   Title    Price Mileage  Year\n",
       "0   2018 Subaru Outback 3.6R Limited AWD  24988.0   41868  2018\n",
       "1   2019 Subaru Outback 2.5i Premium AWD  24788.0    9250  2019\n",
       "2   2018 Subaru Outback 3.6R Touring AWD  27295.0   42245  2018\n",
       "3   2019 Subaru Outback 2.5i Limited AWD  28592.0    7864  2019\n",
       "4       2014 Subaru Outback 2.5i Premium  10995.0  114553  2014\n",
       "5   2018 Subaru Outback 3.6R Touring AWD  28491.0   31663  2018\n",
       "6   2019 Subaru Outback 2.5i Premium AWD  25791.0    9540  2019\n",
       "7   2019 Subaru Outback 2.5i Premium AWD  25223.0   12994  2019\n",
       "8   2019 Subaru Outback 3.6R Limited AWD  28904.0   25011  2019\n",
       "9   2019 Subaru Outback 2.5i Limited AWD  26827.0   32302  2019\n",
       "10  2019 Subaru Outback 2.5i Limited AWD  28995.0   15081  2019\n",
       "11  2019 Subaru Outback 2.5i Limited AWD  28592.0   18764  2019\n",
       "12  2019 Subaru Outback 2.5i Premium AWD  26110.0   10605  2019\n",
       "13  2019 Subaru Outback 2.5i Limited AWD  28897.0   11696  2019\n",
       "14  2019 Subaru Outback 2.5i Premium AWD  25798.0   13641  2019"
      ]
     },
     "execution_count": 5,
     "metadata": {},
     "output_type": "execute_result"
    }
   ],
   "source": [
    "#for key, value in dict_object.items():\n",
    "    #print(key)\n",
    "\n",
    "listings = dict_object[\"listings\"]\n",
    "#print(type(listings))\n",
    "#print(listings)\n",
    "output_frame = pd.DataFrame(columns = ['Title','Price','Mileage', 'Year'])\n",
    "for car in listings:\n",
    "    year = car['carYear']\n",
    "    title = car['listingTitle']\n",
    "    price = car['price']\n",
    "    mileage = car['mileage']\n",
    "    output_frame.loc[len(output_frame.index)] = [title, price, mileage, year]\n",
    "    \n",
    "output_frame"
   ]
  },
  {
   "cell_type": "code",
   "execution_count": 6,
   "metadata": {
    "colab": {
     "base_uri": "https://localhost:8080/",
     "height": 106
    },
    "executionInfo": {
     "elapsed": 867,
     "status": "ok",
     "timestamp": 1607261473594,
     "user": {
      "displayName": "Xiaoyu Wang",
      "photoUrl": "",
      "userId": "06357200018372322073"
     },
     "user_tz": -480
    },
    "id": "YkVvgWQcpWd-",
    "outputId": "53f9c62c-d04a-4ce3-d623-31a27dc7056d"
   },
   "outputs": [
    {
     "data": {
      "text/html": [
       "<div>\n",
       "<style scoped>\n",
       "    .dataframe tbody tr th:only-of-type {\n",
       "        vertical-align: middle;\n",
       "    }\n",
       "\n",
       "    .dataframe tbody tr th {\n",
       "        vertical-align: top;\n",
       "    }\n",
       "\n",
       "    .dataframe thead th {\n",
       "        text-align: right;\n",
       "    }\n",
       "</style>\n",
       "<table border=\"1\" class=\"dataframe\">\n",
       "  <thead>\n",
       "    <tr style=\"text-align: right;\">\n",
       "      <th></th>\n",
       "      <th>Price</th>\n",
       "      <th>Year</th>\n",
       "    </tr>\n",
       "  </thead>\n",
       "  <tbody>\n",
       "    <tr>\n",
       "      <th>Price</th>\n",
       "      <td>1.000000</td>\n",
       "      <td>0.894372</td>\n",
       "    </tr>\n",
       "    <tr>\n",
       "      <th>Year</th>\n",
       "      <td>0.894372</td>\n",
       "      <td>1.000000</td>\n",
       "    </tr>\n",
       "  </tbody>\n",
       "</table>\n",
       "</div>"
      ],
      "text/plain": [
       "          Price      Year\n",
       "Price  1.000000  0.894372\n",
       "Year   0.894372  1.000000"
      ]
     },
     "execution_count": 6,
     "metadata": {},
     "output_type": "execute_result"
    }
   ],
   "source": [
    "output_frame['Year'] = pd.to_numeric(output_frame['Year'])\n",
    "output_frame['Price'] = pd.to_numeric(output_frame['Price'])\n",
    "output_frame['Price'].corr(output_frame['Year'])\n",
    "output_frame.corr()"
   ]
  },
  {
   "cell_type": "code",
   "execution_count": 7,
   "metadata": {},
   "outputs": [],
   "source": [
    "#here's where you take over!\n",
    "#from here you can the analysis on the years and prices from the above data\n",
    "#Tasks\n",
    "#    1) develop depreciation curves for the car model of your choice in two cities\n",
    "#    2) compute the price of a 3-year old car in each city\n",
    "#    3) Write a report suggesting a plan of action for buying that car"
   ]
  },
  {
   "cell_type": "code",
   "execution_count": 8,
   "metadata": {},
   "outputs": [
    {
     "data": {
      "text/html": [
       "<div>\n",
       "<style scoped>\n",
       "    .dataframe tbody tr th:only-of-type {\n",
       "        vertical-align: middle;\n",
       "    }\n",
       "\n",
       "    .dataframe tbody tr th {\n",
       "        vertical-align: top;\n",
       "    }\n",
       "\n",
       "    .dataframe thead th {\n",
       "        text-align: right;\n",
       "    }\n",
       "</style>\n",
       "<table border=\"1\" class=\"dataframe\">\n",
       "  <thead>\n",
       "    <tr style=\"text-align: right;\">\n",
       "      <th></th>\n",
       "      <th>Title</th>\n",
       "      <th>Price</th>\n",
       "      <th>Mileage</th>\n",
       "      <th>Year</th>\n",
       "    </tr>\n",
       "  </thead>\n",
       "  <tbody>\n",
       "    <tr>\n",
       "      <th>4</th>\n",
       "      <td>2014 Subaru Outback 2.5i Premium</td>\n",
       "      <td>10995.0</td>\n",
       "      <td>114553</td>\n",
       "      <td>2014</td>\n",
       "    </tr>\n",
       "    <tr>\n",
       "      <th>0</th>\n",
       "      <td>2018 Subaru Outback 3.6R Limited AWD</td>\n",
       "      <td>24988.0</td>\n",
       "      <td>41868</td>\n",
       "      <td>2018</td>\n",
       "    </tr>\n",
       "    <tr>\n",
       "      <th>2</th>\n",
       "      <td>2018 Subaru Outback 3.6R Touring AWD</td>\n",
       "      <td>27295.0</td>\n",
       "      <td>42245</td>\n",
       "      <td>2018</td>\n",
       "    </tr>\n",
       "    <tr>\n",
       "      <th>5</th>\n",
       "      <td>2018 Subaru Outback 3.6R Touring AWD</td>\n",
       "      <td>28491.0</td>\n",
       "      <td>31663</td>\n",
       "      <td>2018</td>\n",
       "    </tr>\n",
       "    <tr>\n",
       "      <th>1</th>\n",
       "      <td>2019 Subaru Outback 2.5i Premium AWD</td>\n",
       "      <td>24788.0</td>\n",
       "      <td>9250</td>\n",
       "      <td>2019</td>\n",
       "    </tr>\n",
       "    <tr>\n",
       "      <th>3</th>\n",
       "      <td>2019 Subaru Outback 2.5i Limited AWD</td>\n",
       "      <td>28592.0</td>\n",
       "      <td>7864</td>\n",
       "      <td>2019</td>\n",
       "    </tr>\n",
       "    <tr>\n",
       "      <th>6</th>\n",
       "      <td>2019 Subaru Outback 2.5i Premium AWD</td>\n",
       "      <td>25791.0</td>\n",
       "      <td>9540</td>\n",
       "      <td>2019</td>\n",
       "    </tr>\n",
       "    <tr>\n",
       "      <th>7</th>\n",
       "      <td>2019 Subaru Outback 2.5i Premium AWD</td>\n",
       "      <td>25223.0</td>\n",
       "      <td>12994</td>\n",
       "      <td>2019</td>\n",
       "    </tr>\n",
       "    <tr>\n",
       "      <th>8</th>\n",
       "      <td>2019 Subaru Outback 3.6R Limited AWD</td>\n",
       "      <td>28904.0</td>\n",
       "      <td>25011</td>\n",
       "      <td>2019</td>\n",
       "    </tr>\n",
       "    <tr>\n",
       "      <th>9</th>\n",
       "      <td>2019 Subaru Outback 2.5i Limited AWD</td>\n",
       "      <td>26827.0</td>\n",
       "      <td>32302</td>\n",
       "      <td>2019</td>\n",
       "    </tr>\n",
       "    <tr>\n",
       "      <th>10</th>\n",
       "      <td>2019 Subaru Outback 2.5i Limited AWD</td>\n",
       "      <td>28995.0</td>\n",
       "      <td>15081</td>\n",
       "      <td>2019</td>\n",
       "    </tr>\n",
       "    <tr>\n",
       "      <th>11</th>\n",
       "      <td>2019 Subaru Outback 2.5i Limited AWD</td>\n",
       "      <td>28592.0</td>\n",
       "      <td>18764</td>\n",
       "      <td>2019</td>\n",
       "    </tr>\n",
       "    <tr>\n",
       "      <th>12</th>\n",
       "      <td>2019 Subaru Outback 2.5i Premium AWD</td>\n",
       "      <td>26110.0</td>\n",
       "      <td>10605</td>\n",
       "      <td>2019</td>\n",
       "    </tr>\n",
       "    <tr>\n",
       "      <th>13</th>\n",
       "      <td>2019 Subaru Outback 2.5i Limited AWD</td>\n",
       "      <td>28897.0</td>\n",
       "      <td>11696</td>\n",
       "      <td>2019</td>\n",
       "    </tr>\n",
       "    <tr>\n",
       "      <th>14</th>\n",
       "      <td>2019 Subaru Outback 2.5i Premium AWD</td>\n",
       "      <td>25798.0</td>\n",
       "      <td>13641</td>\n",
       "      <td>2019</td>\n",
       "    </tr>\n",
       "  </tbody>\n",
       "</table>\n",
       "</div>"
      ],
      "text/plain": [
       "                                   Title    Price Mileage  Year\n",
       "4       2014 Subaru Outback 2.5i Premium  10995.0  114553  2014\n",
       "0   2018 Subaru Outback 3.6R Limited AWD  24988.0   41868  2018\n",
       "2   2018 Subaru Outback 3.6R Touring AWD  27295.0   42245  2018\n",
       "5   2018 Subaru Outback 3.6R Touring AWD  28491.0   31663  2018\n",
       "1   2019 Subaru Outback 2.5i Premium AWD  24788.0    9250  2019\n",
       "3   2019 Subaru Outback 2.5i Limited AWD  28592.0    7864  2019\n",
       "6   2019 Subaru Outback 2.5i Premium AWD  25791.0    9540  2019\n",
       "7   2019 Subaru Outback 2.5i Premium AWD  25223.0   12994  2019\n",
       "8   2019 Subaru Outback 3.6R Limited AWD  28904.0   25011  2019\n",
       "9   2019 Subaru Outback 2.5i Limited AWD  26827.0   32302  2019\n",
       "10  2019 Subaru Outback 2.5i Limited AWD  28995.0   15081  2019\n",
       "11  2019 Subaru Outback 2.5i Limited AWD  28592.0   18764  2019\n",
       "12  2019 Subaru Outback 2.5i Premium AWD  26110.0   10605  2019\n",
       "13  2019 Subaru Outback 2.5i Limited AWD  28897.0   11696  2019\n",
       "14  2019 Subaru Outback 2.5i Premium AWD  25798.0   13641  2019"
      ]
     },
     "execution_count": 8,
     "metadata": {},
     "output_type": "execute_result"
    }
   ],
   "source": [
    "output_frame.sort_values('Year', inplace=True)\n",
    "output_frame"
   ]
  },
  {
   "cell_type": "code",
   "execution_count": 9,
   "metadata": {},
   "outputs": [],
   "source": [
    "import seaborn as sns\n",
    "%matplotlib inline"
   ]
  },
  {
   "cell_type": "code",
   "execution_count": 10,
   "metadata": {},
   "outputs": [
    {
     "data": {
      "text/plain": [
       "<AxesSubplot:xlabel='Year', ylabel='Price'>"
      ]
     },
     "execution_count": 10,
     "metadata": {},
     "output_type": "execute_result"
    },
    {
     "data": {
      "image/png": "[encoded data removed]",
      "text/plain": [
       "<Figure size 432x288 with 1 Axes>"
      ]
     },
     "metadata": {
      "needs_background": "light"
     },
     "output_type": "display_data"
    }
   ],
   "source": [
    "sns.lineplot(data = output_frame, x='Year', y='Price')"
   ]
  },
  {
   "cell_type": "code",
   "execution_count": 11,
   "metadata": {},
   "outputs": [
    {
     "data": {
      "text/html": [
       "<div>\n",
       "<style scoped>\n",
       "    .dataframe tbody tr th:only-of-type {\n",
       "        vertical-align: middle;\n",
       "    }\n",
       "\n",
       "    .dataframe tbody tr th {\n",
       "        vertical-align: top;\n",
       "    }\n",
       "\n",
       "    .dataframe thead th {\n",
       "        text-align: right;\n",
       "    }\n",
       "</style>\n",
       "<table border=\"1\" class=\"dataframe\">\n",
       "  <thead>\n",
       "    <tr style=\"text-align: right;\">\n",
       "      <th></th>\n",
       "      <th>Title</th>\n",
       "      <th>Price</th>\n",
       "      <th>Mileage</th>\n",
       "      <th>Year</th>\n",
       "    </tr>\n",
       "  </thead>\n",
       "  <tbody>\n",
       "    <tr>\n",
       "      <th>1</th>\n",
       "      <td>2019 Subaru Outback 2.5i Premium AWD</td>\n",
       "      <td>24788.0</td>\n",
       "      <td>9250</td>\n",
       "      <td>2019</td>\n",
       "    </tr>\n",
       "    <tr>\n",
       "      <th>3</th>\n",
       "      <td>2019 Subaru Outback 2.5i Limited AWD</td>\n",
       "      <td>28592.0</td>\n",
       "      <td>7864</td>\n",
       "      <td>2019</td>\n",
       "    </tr>\n",
       "    <tr>\n",
       "      <th>6</th>\n",
       "      <td>2019 Subaru Outback 2.5i Premium AWD</td>\n",
       "      <td>25791.0</td>\n",
       "      <td>9540</td>\n",
       "      <td>2019</td>\n",
       "    </tr>\n",
       "    <tr>\n",
       "      <th>7</th>\n",
       "      <td>2019 Subaru Outback 2.5i Premium AWD</td>\n",
       "      <td>25223.0</td>\n",
       "      <td>12994</td>\n",
       "      <td>2019</td>\n",
       "    </tr>\n",
       "    <tr>\n",
       "      <th>8</th>\n",
       "      <td>2019 Subaru Outback 3.6R Limited AWD</td>\n",
       "      <td>28904.0</td>\n",
       "      <td>25011</td>\n",
       "      <td>2019</td>\n",
       "    </tr>\n",
       "    <tr>\n",
       "      <th>9</th>\n",
       "      <td>2019 Subaru Outback 2.5i Limited AWD</td>\n",
       "      <td>26827.0</td>\n",
       "      <td>32302</td>\n",
       "      <td>2019</td>\n",
       "    </tr>\n",
       "    <tr>\n",
       "      <th>10</th>\n",
       "      <td>2019 Subaru Outback 2.5i Limited AWD</td>\n",
       "      <td>28995.0</td>\n",
       "      <td>15081</td>\n",
       "      <td>2019</td>\n",
       "    </tr>\n",
       "    <tr>\n",
       "      <th>11</th>\n",
       "      <td>2019 Subaru Outback 2.5i Limited AWD</td>\n",
       "      <td>28592.0</td>\n",
       "      <td>18764</td>\n",
       "      <td>2019</td>\n",
       "    </tr>\n",
       "    <tr>\n",
       "      <th>12</th>\n",
       "      <td>2019 Subaru Outback 2.5i Premium AWD</td>\n",
       "      <td>26110.0</td>\n",
       "      <td>10605</td>\n",
       "      <td>2019</td>\n",
       "    </tr>\n",
       "    <tr>\n",
       "      <th>13</th>\n",
       "      <td>2019 Subaru Outback 2.5i Limited AWD</td>\n",
       "      <td>28897.0</td>\n",
       "      <td>11696</td>\n",
       "      <td>2019</td>\n",
       "    </tr>\n",
       "    <tr>\n",
       "      <th>14</th>\n",
       "      <td>2019 Subaru Outback 2.5i Premium AWD</td>\n",
       "      <td>25798.0</td>\n",
       "      <td>13641</td>\n",
       "      <td>2019</td>\n",
       "    </tr>\n",
       "  </tbody>\n",
       "</table>\n",
       "</div>"
      ],
      "text/plain": [
       "                                   Title    Price Mileage  Year\n",
       "1   2019 Subaru Outback 2.5i Premium AWD  24788.0    9250  2019\n",
       "3   2019 Subaru Outback 2.5i Limited AWD  28592.0    7864  2019\n",
       "6   2019 Subaru Outback 2.5i Premium AWD  25791.0    9540  2019\n",
       "7   2019 Subaru Outback 2.5i Premium AWD  25223.0   12994  2019\n",
       "8   2019 Subaru Outback 3.6R Limited AWD  28904.0   25011  2019\n",
       "9   2019 Subaru Outback 2.5i Limited AWD  26827.0   32302  2019\n",
       "10  2019 Subaru Outback 2.5i Limited AWD  28995.0   15081  2019\n",
       "11  2019 Subaru Outback 2.5i Limited AWD  28592.0   18764  2019\n",
       "12  2019 Subaru Outback 2.5i Premium AWD  26110.0   10605  2019\n",
       "13  2019 Subaru Outback 2.5i Limited AWD  28897.0   11696  2019\n",
       "14  2019 Subaru Outback 2.5i Premium AWD  25798.0   13641  2019"
      ]
     },
     "execution_count": 11,
     "metadata": {},
     "output_type": "execute_result"
    }
   ],
   "source": [
    "output_frame_2 = output_frame[output_frame.Year.isin([2019])]\n",
    "output_frame_2"
   ]
  },
  {
   "cell_type": "code",
   "execution_count": 12,
   "metadata": {},
   "outputs": [
    {
     "data": {
      "text/plain": [
       "27137.909090909092"
      ]
     },
     "execution_count": 12,
     "metadata": {},
     "output_type": "execute_result"
    }
   ],
   "source": [
    "output_frame_2.Price.mean()"
   ]
  },
  {
   "cell_type": "code",
   "execution_count": 13,
   "metadata": {},
   "outputs": [
    {
     "data": {
      "text/plain": [
       "15158.90909090909"
      ]
     },
     "execution_count": 13,
     "metadata": {},
     "output_type": "execute_result"
    }
   ],
   "source": [
    "output_frame_2.Mileage.mean()"
   ]
  },
  {
   "cell_type": "code",
   "execution_count": 14,
   "metadata": {},
   "outputs": [],
   "source": [
    "# city of Buffalo"
   ]
  },
  {
   "cell_type": "code",
   "execution_count": 15,
   "metadata": {},
   "outputs": [
    {
     "name": "stdout",
     "output_type": "stream",
     "text": [
      "<class 'dict'>\n"
     ]
    },
    {
     "data": {
      "text/html": [
       "<div>\n",
       "<style scoped>\n",
       "    .dataframe tbody tr th:only-of-type {\n",
       "        vertical-align: middle;\n",
       "    }\n",
       "\n",
       "    .dataframe tbody tr th {\n",
       "        vertical-align: top;\n",
       "    }\n",
       "\n",
       "    .dataframe thead th {\n",
       "        text-align: right;\n",
       "    }\n",
       "</style>\n",
       "<table border=\"1\" class=\"dataframe\">\n",
       "  <thead>\n",
       "    <tr style=\"text-align: right;\">\n",
       "      <th></th>\n",
       "      <th>Price</th>\n",
       "      <th>Year</th>\n",
       "    </tr>\n",
       "  </thead>\n",
       "  <tbody>\n",
       "    <tr>\n",
       "      <th>Price</th>\n",
       "      <td>1.000000</td>\n",
       "      <td>0.916235</td>\n",
       "    </tr>\n",
       "    <tr>\n",
       "      <th>Year</th>\n",
       "      <td>0.916235</td>\n",
       "      <td>1.000000</td>\n",
       "    </tr>\n",
       "  </tbody>\n",
       "</table>\n",
       "</div>"
      ],
      "text/plain": [
       "          Price      Year\n",
       "Price  1.000000  0.916235\n",
       "Year   0.916235  1.000000"
      ]
     },
     "execution_count": 15,
     "metadata": {},
     "output_type": "execute_result"
    }
   ],
   "source": [
    "url3 = 'https://www.cargurus.com/Cars/inventorylisting/viewDetailsFilterViewInventoryListing.action?zip=14228&inventorySearchWidgetType=AUTO&searchId=f0896ffa-82df-41f0-800f-2f57d42dca23&nonShippableBaseline=395&shopByTypes=MIX&sortDir=ASC&sourceContext=carGurusHomePageModel&distance=50&sortType=DEAL_SCORE&entitySelectingHelper.selectedEntity=d380'\n",
    "res = requests.get(url3)\n",
    "\n",
    "soup = bs4.BeautifulSoup(res.text)\n",
    "\n",
    "dataset = soup.find_all(\"script\")\n",
    "dictionary = []\n",
    "for data in dataset:\n",
    "    #print(type(data))\n",
    "    #print(data)\n",
    "    if 'PREFLIGHT' in str(data):\n",
    "        dictionary.append(data)\n",
    "        #print('found')\n",
    "        break\n",
    "             \n",
    "data_str = str(dictionary)\n",
    "dict_object = json.loads(re.search('({.+})', data_str).group(0).replace(\"'\", '\"'))\n",
    "print(type(dict_object))\n",
    "\n",
    "listings = dict_object[\"listings\"]\n",
    "output_frame = pd.DataFrame(columns = ['Title','Price','Mileage', 'Year'])\n",
    "for car in listings:\n",
    "    year = car['carYear']\n",
    "    title = car['listingTitle']\n",
    "    price = car['price']\n",
    "    mileage = car['mileage']\n",
    "    output_frame.loc[len(output_frame.index)] = [title, price, mileage, year]\n",
    "    \n",
    "output_frame\n",
    "\n",
    "output_frame['Year'] = pd.to_numeric(output_frame['Year'])\n",
    "output_frame['Price'] = pd.to_numeric(output_frame['Price'])\n",
    "output_frame['Price'].corr(output_frame['Year'])\n",
    "output_frame.corr()"
   ]
  },
  {
   "cell_type": "code",
   "execution_count": 16,
   "metadata": {},
   "outputs": [
    {
     "data": {
      "text/html": [
       "<div>\n",
       "<style scoped>\n",
       "    .dataframe tbody tr th:only-of-type {\n",
       "        vertical-align: middle;\n",
       "    }\n",
       "\n",
       "    .dataframe tbody tr th {\n",
       "        vertical-align: top;\n",
       "    }\n",
       "\n",
       "    .dataframe thead th {\n",
       "        text-align: right;\n",
       "    }\n",
       "</style>\n",
       "<table border=\"1\" class=\"dataframe\">\n",
       "  <thead>\n",
       "    <tr style=\"text-align: right;\">\n",
       "      <th></th>\n",
       "      <th>Title</th>\n",
       "      <th>Price</th>\n",
       "      <th>Mileage</th>\n",
       "      <th>Year</th>\n",
       "    </tr>\n",
       "  </thead>\n",
       "  <tbody>\n",
       "    <tr>\n",
       "      <th>11</th>\n",
       "      <td>2010 Subaru Outback 3.6R Limited</td>\n",
       "      <td>11975.0</td>\n",
       "      <td>102867</td>\n",
       "      <td>2010</td>\n",
       "    </tr>\n",
       "    <tr>\n",
       "      <th>2</th>\n",
       "      <td>2014 Subaru Outback 2.5i</td>\n",
       "      <td>15200.0</td>\n",
       "      <td>96936</td>\n",
       "      <td>2014</td>\n",
       "    </tr>\n",
       "    <tr>\n",
       "      <th>6</th>\n",
       "      <td>2017 Subaru Outback 2.5i Premium AWD</td>\n",
       "      <td>24636.0</td>\n",
       "      <td>36852</td>\n",
       "      <td>2017</td>\n",
       "    </tr>\n",
       "    <tr>\n",
       "      <th>0</th>\n",
       "      <td>2018 Subaru Outback 2.5i Limited AWD</td>\n",
       "      <td>28900.0</td>\n",
       "      <td>25583</td>\n",
       "      <td>2018</td>\n",
       "    </tr>\n",
       "    <tr>\n",
       "      <th>12</th>\n",
       "      <td>2018 Subaru Outback 2.5i Premium AWD</td>\n",
       "      <td>27319.0</td>\n",
       "      <td>19656</td>\n",
       "      <td>2018</td>\n",
       "    </tr>\n",
       "    <tr>\n",
       "      <th>14</th>\n",
       "      <td>2018 Subaru Outback 3.6R Limited AWD</td>\n",
       "      <td>29853.0</td>\n",
       "      <td>51176</td>\n",
       "      <td>2018</td>\n",
       "    </tr>\n",
       "    <tr>\n",
       "      <th>1</th>\n",
       "      <td>2019 Subaru Outback 2.5i Premium AWD</td>\n",
       "      <td>28250.0</td>\n",
       "      <td>14752</td>\n",
       "      <td>2019</td>\n",
       "    </tr>\n",
       "    <tr>\n",
       "      <th>5</th>\n",
       "      <td>2019 Subaru Outback 2.5i Premium AWD</td>\n",
       "      <td>27463.0</td>\n",
       "      <td>31286</td>\n",
       "      <td>2019</td>\n",
       "    </tr>\n",
       "    <tr>\n",
       "      <th>9</th>\n",
       "      <td>2019 Subaru Outback 2.5i Premium AWD</td>\n",
       "      <td>27231.0</td>\n",
       "      <td>31768</td>\n",
       "      <td>2019</td>\n",
       "    </tr>\n",
       "    <tr>\n",
       "      <th>13</th>\n",
       "      <td>2019 Subaru Outback 2.5i Premium AWD</td>\n",
       "      <td>27333.0</td>\n",
       "      <td>33816</td>\n",
       "      <td>2019</td>\n",
       "    </tr>\n",
       "    <tr>\n",
       "      <th>7</th>\n",
       "      <td>2020 Subaru Outback Premium AWD</td>\n",
       "      <td>29547.0</td>\n",
       "      <td>47855</td>\n",
       "      <td>2020</td>\n",
       "    </tr>\n",
       "    <tr>\n",
       "      <th>8</th>\n",
       "      <td>2020 Subaru Outback Touring AWD</td>\n",
       "      <td>36597.0</td>\n",
       "      <td>24601</td>\n",
       "      <td>2020</td>\n",
       "    </tr>\n",
       "    <tr>\n",
       "      <th>10</th>\n",
       "      <td>2020 Subaru Outback Onyx Edition XT AWD</td>\n",
       "      <td>38097.0</td>\n",
       "      <td>13096</td>\n",
       "      <td>2020</td>\n",
       "    </tr>\n",
       "    <tr>\n",
       "      <th>3</th>\n",
       "      <td>2021 Subaru Outback Touring XT Crossover AWD</td>\n",
       "      <td>39097.0</td>\n",
       "      <td>28857</td>\n",
       "      <td>2021</td>\n",
       "    </tr>\n",
       "    <tr>\n",
       "      <th>4</th>\n",
       "      <td>2021 Subaru Outback Onyx Edition XT Crossover AWD</td>\n",
       "      <td>38000.0</td>\n",
       "      <td>14823</td>\n",
       "      <td>2021</td>\n",
       "    </tr>\n",
       "  </tbody>\n",
       "</table>\n",
       "</div>"
      ],
      "text/plain": [
       "                                                Title    Price Mileage  Year\n",
       "11                   2010 Subaru Outback 3.6R Limited  11975.0  102867  2010\n",
       "2                            2014 Subaru Outback 2.5i  15200.0   96936  2014\n",
       "6                2017 Subaru Outback 2.5i Premium AWD  24636.0   36852  2017\n",
       "0                2018 Subaru Outback 2.5i Limited AWD  28900.0   25583  2018\n",
       "12               2018 Subaru Outback 2.5i Premium AWD  27319.0   19656  2018\n",
       "14               2018 Subaru Outback 3.6R Limited AWD  29853.0   51176  2018\n",
       "1                2019 Subaru Outback 2.5i Premium AWD  28250.0   14752  2019\n",
       "5                2019 Subaru Outback 2.5i Premium AWD  27463.0   31286  2019\n",
       "9                2019 Subaru Outback 2.5i Premium AWD  27231.0   31768  2019\n",
       "13               2019 Subaru Outback 2.5i Premium AWD  27333.0   33816  2019\n",
       "7                     2020 Subaru Outback Premium AWD  29547.0   47855  2020\n",
       "8                     2020 Subaru Outback Touring AWD  36597.0   24601  2020\n",
       "10            2020 Subaru Outback Onyx Edition XT AWD  38097.0   13096  2020\n",
       "3        2021 Subaru Outback Touring XT Crossover AWD  39097.0   28857  2021\n",
       "4   2021 Subaru Outback Onyx Edition XT Crossover AWD  38000.0   14823  2021"
      ]
     },
     "execution_count": 16,
     "metadata": {},
     "output_type": "execute_result"
    }
   ],
   "source": [
    "output_frame.sort_values('Year', inplace=True)\n",
    "output_frame"
   ]
  },
  {
   "cell_type": "code",
   "execution_count": 17,
   "metadata": {},
   "outputs": [
    {
     "data": {
      "text/plain": [
       "<AxesSubplot:xlabel='Year', ylabel='Price'>"
      ]
     },
     "execution_count": 17,
     "metadata": {},
     "output_type": "execute_result"
    },
    {
     "data": {
      "image/png": "[encoded data removed]",
      "text/plain": [
       "<Figure size 432x288 with 1 Axes>"
      ]
     },
     "metadata": {
      "needs_background": "light"
     },
     "output_type": "display_data"
    }
   ],
   "source": [
    "sns.lineplot(data = output_frame, x='Year', y='Price')"
   ]
  },
  {
   "cell_type": "code",
   "execution_count": 18,
   "metadata": {},
   "outputs": [
    {
     "data": {
      "text/html": [
       "<div>\n",
       "<style scoped>\n",
       "    .dataframe tbody tr th:only-of-type {\n",
       "        vertical-align: middle;\n",
       "    }\n",
       "\n",
       "    .dataframe tbody tr th {\n",
       "        vertical-align: top;\n",
       "    }\n",
       "\n",
       "    .dataframe thead th {\n",
       "        text-align: right;\n",
       "    }\n",
       "</style>\n",
       "<table border=\"1\" class=\"dataframe\">\n",
       "  <thead>\n",
       "    <tr style=\"text-align: right;\">\n",
       "      <th></th>\n",
       "      <th>Title</th>\n",
       "      <th>Price</th>\n",
       "      <th>Mileage</th>\n",
       "      <th>Year</th>\n",
       "    </tr>\n",
       "  </thead>\n",
       "  <tbody>\n",
       "    <tr>\n",
       "      <th>1</th>\n",
       "      <td>2019 Subaru Outback 2.5i Premium AWD</td>\n",
       "      <td>28250.0</td>\n",
       "      <td>14752</td>\n",
       "      <td>2019</td>\n",
       "    </tr>\n",
       "    <tr>\n",
       "      <th>5</th>\n",
       "      <td>2019 Subaru Outback 2.5i Premium AWD</td>\n",
       "      <td>27463.0</td>\n",
       "      <td>31286</td>\n",
       "      <td>2019</td>\n",
       "    </tr>\n",
       "    <tr>\n",
       "      <th>9</th>\n",
       "      <td>2019 Subaru Outback 2.5i Premium AWD</td>\n",
       "      <td>27231.0</td>\n",
       "      <td>31768</td>\n",
       "      <td>2019</td>\n",
       "    </tr>\n",
       "    <tr>\n",
       "      <th>13</th>\n",
       "      <td>2019 Subaru Outback 2.5i Premium AWD</td>\n",
       "      <td>27333.0</td>\n",
       "      <td>33816</td>\n",
       "      <td>2019</td>\n",
       "    </tr>\n",
       "  </tbody>\n",
       "</table>\n",
       "</div>"
      ],
      "text/plain": [
       "                                   Title    Price Mileage  Year\n",
       "1   2019 Subaru Outback 2.5i Premium AWD  28250.0   14752  2019\n",
       "5   2019 Subaru Outback 2.5i Premium AWD  27463.0   31286  2019\n",
       "9   2019 Subaru Outback 2.5i Premium AWD  27231.0   31768  2019\n",
       "13  2019 Subaru Outback 2.5i Premium AWD  27333.0   33816  2019"
      ]
     },
     "execution_count": 18,
     "metadata": {},
     "output_type": "execute_result"
    }
   ],
   "source": [
    "output_frame_2 = output_frame[output_frame.Year.isin([2019])]\n",
    "output_frame_2"
   ]
  },
  {
   "cell_type": "code",
   "execution_count": 19,
   "metadata": {},
   "outputs": [
    {
     "data": {
      "text/plain": [
       "27569.25"
      ]
     },
     "execution_count": 19,
     "metadata": {},
     "output_type": "execute_result"
    }
   ],
   "source": [
    "output_frame_2.Price.mean()"
   ]
  },
  {
   "cell_type": "code",
   "execution_count": 20,
   "metadata": {},
   "outputs": [
    {
     "data": {
      "text/plain": [
       "27905.5"
      ]
     },
     "execution_count": 20,
     "metadata": {},
     "output_type": "execute_result"
    }
   ],
   "source": [
    "output_frame_2.Mileage.mean()"
   ]
  }
 ],
 "metadata": {
  "colab": {
   "collapsed_sections": [],
   "name": "PriceComparison2.ipynb",
   "provenance": []
  },
  "kernelspec": {
   "display_name": "Python 3",
   "language": "python",
   "name": "python3"
  },
  "language_info": {
   "codemirror_mode": {
    "name": "ipython",
    "version": 3
   },
   "file_extension": ".py",
   "mimetype": "text/x-python",
   "name": "python",
   "nbconvert_exporter": "python",
   "pygments_lexer": "ipython3",
   "version": "3.8.8"
  }
 },
 "nbformat": 4,
 "nbformat_minor": 1
}
