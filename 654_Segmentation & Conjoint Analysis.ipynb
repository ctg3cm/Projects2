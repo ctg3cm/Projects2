{
 "cells": [
  {
   "cell_type": "code",
   "execution_count": 1,
   "id": "6ce49e66",
   "metadata": {},
   "outputs": [
    {
     "data": {
      "text/html": [
       "<div>\n",
       "<style scoped>\n",
       "    .dataframe tbody tr th:only-of-type {\n",
       "        vertical-align: middle;\n",
       "    }\n",
       "\n",
       "    .dataframe tbody tr th {\n",
       "        vertical-align: top;\n",
       "    }\n",
       "\n",
       "    .dataframe thead th {\n",
       "        text-align: right;\n",
       "    }\n",
       "</style>\n",
       "<table border=\"1\" class=\"dataframe\">\n",
       "  <thead>\n",
       "    <tr style=\"text-align: right;\">\n",
       "      <th></th>\n",
       "      <th>customerID</th>\n",
       "      <th>days_since_purch</th>\n",
       "      <th>days_since_sitevisit</th>\n",
       "      <th>total_visits_yr</th>\n",
       "      <th>total_purch_yr</th>\n",
       "      <th>total_dollars_yr</th>\n",
       "      <th>total_dollars_other</th>\n",
       "    </tr>\n",
       "  </thead>\n",
       "  <tbody>\n",
       "    <tr>\n",
       "      <th>0</th>\n",
       "      <td>1</td>\n",
       "      <td>27</td>\n",
       "      <td>21</td>\n",
       "      <td>35</td>\n",
       "      <td>25</td>\n",
       "      <td>90.73</td>\n",
       "      <td>54.88</td>\n",
       "    </tr>\n",
       "    <tr>\n",
       "      <th>1</th>\n",
       "      <td>2</td>\n",
       "      <td>29</td>\n",
       "      <td>12</td>\n",
       "      <td>25</td>\n",
       "      <td>13</td>\n",
       "      <td>112.33</td>\n",
       "      <td>76.44</td>\n",
       "    </tr>\n",
       "    <tr>\n",
       "      <th>2</th>\n",
       "      <td>3</td>\n",
       "      <td>18</td>\n",
       "      <td>5</td>\n",
       "      <td>45</td>\n",
       "      <td>42</td>\n",
       "      <td>67.85</td>\n",
       "      <td>49.11</td>\n",
       "    </tr>\n",
       "    <tr>\n",
       "      <th>3</th>\n",
       "      <td>4</td>\n",
       "      <td>31</td>\n",
       "      <td>18</td>\n",
       "      <td>33</td>\n",
       "      <td>34</td>\n",
       "      <td>107.51</td>\n",
       "      <td>86.25</td>\n",
       "    </tr>\n",
       "    <tr>\n",
       "      <th>4</th>\n",
       "      <td>5</td>\n",
       "      <td>20</td>\n",
       "      <td>20</td>\n",
       "      <td>27</td>\n",
       "      <td>21</td>\n",
       "      <td>109.98</td>\n",
       "      <td>80.86</td>\n",
       "    </tr>\n",
       "  </tbody>\n",
       "</table>\n",
       "</div>"
      ],
      "text/plain": [
       "   customerID  days_since_purch  days_since_sitevisit  total_visits_yr  \\\n",
       "0           1                27                    21               35   \n",
       "1           2                29                    12               25   \n",
       "2           3                18                     5               45   \n",
       "3           4                31                    18               33   \n",
       "4           5                20                    20               27   \n",
       "\n",
       "   total_purch_yr  total_dollars_yr  total_dollars_other  \n",
       "0              25             90.73                54.88  \n",
       "1              13            112.33                76.44  \n",
       "2              42             67.85                49.11  \n",
       "3              34            107.51                86.25  \n",
       "4              21            109.98                80.86  "
      ]
     },
     "execution_count": 1,
     "metadata": {},
     "output_type": "execute_result"
    }
   ],
   "source": [
    "# Part I: Segmentation\n",
    "\n",
    "# I. Bring the dataset titled lobster_club.csv into your local environment in Jupyter \n",
    "# Notebook. This dataset contains information about 654 different members of the Lobster \n",
    "# Club, a group of Lobster Land fans who have signed up to receive emails and push notifications\n",
    "# regarding online merchandise offerings.\n",
    "\n",
    "# For this assignment, you will build an RFM model for Lobster Land. RFM stands for “Recency, \n",
    "# Frequency, and Monetary.” The variables in this dataset contain information about Lobster \n",
    "# Club members’ total spending, the frequency of their site visits and purchases in the past \n",
    "# year, and the recency of their interactions with the online merch store.\n",
    "\n",
    "import pandas as pd\n",
    "import matplotlib.pyplot as plt\n",
    "import seaborn as sns\n",
    "\n",
    "lc = pd.read_csv(\"lobster_club_rfm.csv\")\n",
    "lc.head()"
   ]
  },
  {
   "cell_type": "code",
   "execution_count": 2,
   "id": "8f648190",
   "metadata": {},
   "outputs": [
    {
     "data": {
      "text/html": [
       "<div>\n",
       "<style scoped>\n",
       "    .dataframe tbody tr th:only-of-type {\n",
       "        vertical-align: middle;\n",
       "    }\n",
       "\n",
       "    .dataframe tbody tr th {\n",
       "        vertical-align: top;\n",
       "    }\n",
       "\n",
       "    .dataframe thead th {\n",
       "        text-align: right;\n",
       "    }\n",
       "</style>\n",
       "<table border=\"1\" class=\"dataframe\">\n",
       "  <thead>\n",
       "    <tr style=\"text-align: right;\">\n",
       "      <th></th>\n",
       "      <th>days_since_purch</th>\n",
       "      <th>days_since_sitevisit</th>\n",
       "      <th>total_visits_yr</th>\n",
       "      <th>total_purch_yr</th>\n",
       "      <th>total_dollars_yr</th>\n",
       "      <th>total_dollars_other</th>\n",
       "    </tr>\n",
       "  </thead>\n",
       "  <tbody>\n",
       "    <tr>\n",
       "      <th>0</th>\n",
       "      <td>27</td>\n",
       "      <td>21</td>\n",
       "      <td>35</td>\n",
       "      <td>25</td>\n",
       "      <td>90.73</td>\n",
       "      <td>54.88</td>\n",
       "    </tr>\n",
       "    <tr>\n",
       "      <th>1</th>\n",
       "      <td>29</td>\n",
       "      <td>12</td>\n",
       "      <td>25</td>\n",
       "      <td>13</td>\n",
       "      <td>112.33</td>\n",
       "      <td>76.44</td>\n",
       "    </tr>\n",
       "    <tr>\n",
       "      <th>2</th>\n",
       "      <td>18</td>\n",
       "      <td>5</td>\n",
       "      <td>45</td>\n",
       "      <td>42</td>\n",
       "      <td>67.85</td>\n",
       "      <td>49.11</td>\n",
       "    </tr>\n",
       "    <tr>\n",
       "      <th>3</th>\n",
       "      <td>31</td>\n",
       "      <td>18</td>\n",
       "      <td>33</td>\n",
       "      <td>34</td>\n",
       "      <td>107.51</td>\n",
       "      <td>86.25</td>\n",
       "    </tr>\n",
       "    <tr>\n",
       "      <th>4</th>\n",
       "      <td>20</td>\n",
       "      <td>20</td>\n",
       "      <td>27</td>\n",
       "      <td>21</td>\n",
       "      <td>109.98</td>\n",
       "      <td>80.86</td>\n",
       "    </tr>\n",
       "  </tbody>\n",
       "</table>\n",
       "</div>"
      ],
      "text/plain": [
       "   days_since_purch  days_since_sitevisit  total_visits_yr  total_purch_yr  \\\n",
       "0                27                    21               35              25   \n",
       "1                29                    12               25              13   \n",
       "2                18                     5               45              42   \n",
       "3                31                    18               33              34   \n",
       "4                20                    20               27              21   \n",
       "\n",
       "   total_dollars_yr  total_dollars_other  \n",
       "0             90.73                54.88  \n",
       "1            112.33                76.44  \n",
       "2             67.85                49.11  \n",
       "3            107.51                86.25  \n",
       "4            109.98                80.86  "
      ]
     },
     "execution_count": 2,
     "metadata": {},
     "output_type": "execute_result"
    }
   ],
   "source": [
    "# A. Drop the customerID variable: \n",
    "\n",
    "lc2 = lc.drop(columns = 'customerID')\n",
    "lc2.head()"
   ]
  },
  {
   "cell_type": "markdown",
   "id": "21d702a6",
   "metadata": {},
   "source": [
    "a. Why will customerID not be relevant in a clustering model? In your answer, do not just write “it will confuse the model.” Instead, take the time to explain this with a sentence or two, using a bit of math and your understanding of Euclidean distance.\n",
    "\n",
    "Each customer ID is unique, it represents a name of a customer. When calculating the Euclidean distance, the customer ID is like the person's name in the example from the lecture. The distance from customer ID 100 to customer ID 1 is not the actual distance and has no meaning. Therefore, it will confuse the model if we do not drop the column of customerID."
   ]
  },
  {
   "cell_type": "code",
   "execution_count": 3,
   "id": "74f42f55",
   "metadata": {},
   "outputs": [
    {
     "data": {
      "text/html": [
       "<div>\n",
       "<style scoped>\n",
       "    .dataframe tbody tr th:only-of-type {\n",
       "        vertical-align: middle;\n",
       "    }\n",
       "\n",
       "    .dataframe tbody tr th {\n",
       "        vertical-align: top;\n",
       "    }\n",
       "\n",
       "    .dataframe thead th {\n",
       "        text-align: right;\n",
       "    }\n",
       "</style>\n",
       "<table border=\"1\" class=\"dataframe\">\n",
       "  <thead>\n",
       "    <tr style=\"text-align: right;\">\n",
       "      <th></th>\n",
       "      <th>days_since_purch</th>\n",
       "      <th>days_since_sitevisit</th>\n",
       "      <th>total_visits_yr</th>\n",
       "      <th>total_purch_yr</th>\n",
       "      <th>total_dollars_yr</th>\n",
       "      <th>total_dollars_other</th>\n",
       "    </tr>\n",
       "  </thead>\n",
       "  <tbody>\n",
       "    <tr>\n",
       "      <th>count</th>\n",
       "      <td>654.000000</td>\n",
       "      <td>654.000000</td>\n",
       "      <td>654.000000</td>\n",
       "      <td>654.000000</td>\n",
       "      <td>654.000000</td>\n",
       "      <td>654.000000</td>\n",
       "    </tr>\n",
       "    <tr>\n",
       "      <th>mean</th>\n",
       "      <td>27.108563</td>\n",
       "      <td>18.940367</td>\n",
       "      <td>32.619266</td>\n",
       "      <td>25.403670</td>\n",
       "      <td>72.192722</td>\n",
       "      <td>42.947691</td>\n",
       "    </tr>\n",
       "    <tr>\n",
       "      <th>std</th>\n",
       "      <td>7.482424</td>\n",
       "      <td>11.788896</td>\n",
       "      <td>6.254946</td>\n",
       "      <td>7.169724</td>\n",
       "      <td>21.354962</td>\n",
       "      <td>23.231503</td>\n",
       "    </tr>\n",
       "    <tr>\n",
       "      <th>min</th>\n",
       "      <td>8.000000</td>\n",
       "      <td>0.000000</td>\n",
       "      <td>8.000000</td>\n",
       "      <td>1.000000</td>\n",
       "      <td>11.820000</td>\n",
       "      <td>-17.250000</td>\n",
       "    </tr>\n",
       "    <tr>\n",
       "      <th>25%</th>\n",
       "      <td>22.000000</td>\n",
       "      <td>10.000000</td>\n",
       "      <td>29.000000</td>\n",
       "      <td>21.000000</td>\n",
       "      <td>57.495000</td>\n",
       "      <td>27.375000</td>\n",
       "    </tr>\n",
       "    <tr>\n",
       "      <th>50%</th>\n",
       "      <td>26.000000</td>\n",
       "      <td>18.000000</td>\n",
       "      <td>33.000000</td>\n",
       "      <td>26.000000</td>\n",
       "      <td>71.860000</td>\n",
       "      <td>42.565000</td>\n",
       "    </tr>\n",
       "    <tr>\n",
       "      <th>75%</th>\n",
       "      <td>31.000000</td>\n",
       "      <td>26.000000</td>\n",
       "      <td>37.000000</td>\n",
       "      <td>30.000000</td>\n",
       "      <td>86.485000</td>\n",
       "      <td>58.767500</td>\n",
       "    </tr>\n",
       "    <tr>\n",
       "      <th>max</th>\n",
       "      <td>60.000000</td>\n",
       "      <td>60.000000</td>\n",
       "      <td>52.000000</td>\n",
       "      <td>48.000000</td>\n",
       "      <td>137.720000</td>\n",
       "      <td>122.390000</td>\n",
       "    </tr>\n",
       "  </tbody>\n",
       "</table>\n",
       "</div>"
      ],
      "text/plain": [
       "       days_since_purch  days_since_sitevisit  total_visits_yr  \\\n",
       "count        654.000000            654.000000       654.000000   \n",
       "mean          27.108563             18.940367        32.619266   \n",
       "std            7.482424             11.788896         6.254946   \n",
       "min            8.000000              0.000000         8.000000   \n",
       "25%           22.000000             10.000000        29.000000   \n",
       "50%           26.000000             18.000000        33.000000   \n",
       "75%           31.000000             26.000000        37.000000   \n",
       "max           60.000000             60.000000        52.000000   \n",
       "\n",
       "       total_purch_yr  total_dollars_yr  total_dollars_other  \n",
       "count      654.000000        654.000000           654.000000  \n",
       "mean        25.403670         72.192722            42.947691  \n",
       "std          7.169724         21.354962            23.231503  \n",
       "min          1.000000         11.820000           -17.250000  \n",
       "25%         21.000000         57.495000            27.375000  \n",
       "50%         26.000000         71.860000            42.565000  \n",
       "75%         30.000000         86.485000            58.767500  \n",
       "max         48.000000        137.720000           122.390000  "
      ]
     },
     "execution_count": 3,
     "metadata": {},
     "output_type": "execute_result"
    }
   ],
   "source": [
    "# B. Call the describe() function on your dataset:\n",
    "\n",
    "lc2.describe()"
   ]
  },
  {
   "cell_type": "markdown",
   "id": "20a6e29b",
   "metadata": {},
   "source": [
    "a. How does this function help you to gain an overall sense of the columns and values in this (or any other) dataset? Why is this valuable for any analyst who will use a dataset to build a model?\n",
    "\n",
    "By running this function, I learned the overall count, mean, standard deviation, and min and max value of each variable. I had a better understanding of what to expect from this data set. \n",
    "\n",
    "This is valuable for the analyst because it will calculate all the numerical values, so the analyst can find the data type. Plus, the analyst can find if there are any impossible values such as the min of total_dollars_other is -17. It is impossible to have -17 dollars on an estimate of the amount of gift spending at the online merch store made by a person in the past 365 days. "
   ]
  },
  {
   "cell_type": "code",
   "execution_count": 4,
   "id": "97ac35b6",
   "metadata": {},
   "outputs": [
    {
     "data": {
      "text/plain": [
       "0"
      ]
     },
     "execution_count": 4,
     "metadata": {},
     "output_type": "execute_result"
    }
   ],
   "source": [
    "# C. Missing values/impossible values\n",
    "\n",
    "# a. Does this dataset contain any missing values? If so, how many? Which columns have \n",
    "# missing values?\n",
    "\n",
    "lc2.isnull().sum().sum()"
   ]
  },
  {
   "cell_type": "markdown",
   "id": "4e64efa2",
   "metadata": {},
   "source": [
    "There is no missing values in the data set. "
   ]
  },
  {
   "cell_type": "code",
   "execution_count": 5,
   "id": "3223e176",
   "metadata": {
    "scrolled": true
   },
   "outputs": [
    {
     "data": {
      "text/plain": [
       "0      True\n",
       "1      True\n",
       "2      True\n",
       "3      True\n",
       "4      True\n",
       "       ... \n",
       "649    True\n",
       "650    True\n",
       "651    True\n",
       "652    True\n",
       "653    True\n",
       "Length: 654, dtype: bool"
      ]
     },
     "execution_count": 5,
     "metadata": {},
     "output_type": "execute_result"
    }
   ],
   "source": [
    "# b. What about impossible values? \n",
    "\n",
    "# pd.set_option('display.max_rows', None)\n",
    "# I hided above code for better printing view. I looked up all values. \n",
    "(lc2 >= 0).all(1)"
   ]
  },
  {
   "cell_type": "markdown",
   "id": "a98a5af4",
   "metadata": {},
   "source": [
    "Do you see any impossible values here?\n",
    "\n",
    "I do see some impossible values in the data set. There are 26 negative numbers in the total_dollars_other column. They are row 71, 96, 103, 105, 164, 182, 184, 218, 240, 256, 264, 278, 279, 322, 372, 382, 426, 438, 510, 517, 520, 538, 544, 571, 617, 629. It is impossible to have negative dollars on an estimate of the amount of gift spending at the online merch store made by a person in the past 365 days."
   ]
  },
  {
   "cell_type": "code",
   "execution_count": 6,
   "id": "1cce7535",
   "metadata": {},
   "outputs": [
    {
     "data": {
      "text/plain": [
       "0      True\n",
       "1      True\n",
       "2      True\n",
       "3      True\n",
       "4      True\n",
       "       ... \n",
       "649    True\n",
       "650    True\n",
       "651    True\n",
       "652    True\n",
       "653    True\n",
       "Length: 654, dtype: bool"
      ]
     },
     "execution_count": 6,
     "metadata": {},
     "output_type": "execute_result"
    }
   ],
   "source": [
    "# If so, handle them in any way that you see fit:\n",
    "\n",
    "lc3 = abs(lc2)\n",
    "# pd.set_option('display.max_rows', None)\n",
    "# I hide above code for better printing view. I looked up all values.\n",
    "(lc3 >= 0).all(1)"
   ]
  },
  {
   "cell_type": "markdown",
   "id": "0a38fdcf",
   "metadata": {},
   "source": [
    "Why did you take this approach?\n",
    "\n",
    "I think it was a typo, so I took the absolute value of the data set. Now, there are no negative values. "
   ]
  },
  {
   "cell_type": "markdown",
   "id": "0914462c",
   "metadata": {},
   "source": [
    "D. Data scaling.\n",
    "\n",
    "a. Do your variables need to be standardized? Why or why not?\n",
    "\n",
    "Variables need to be standardized, because I need to make sure all variables contribute evenly to a scale when items are added together, or to make it easier to interpret results of a regression or other analysis. The data set are not like the outdoor activity survey example for the lecture where all of the values reflect survey responses from 1 to 10.\n",
    "\n",
    "Reference\n",
    "\n",
    "Bruin, J. 2006. newtest: command to compute new test. UCLA: Statistical Consulting Group.\n",
    "\n",
    "https://stats.oarc.ucla.edu/stata/faq/how-do-i-standardize-variables-in-stata/"
   ]
  },
  {
   "cell_type": "code",
   "execution_count": 7,
   "id": "11b12c43",
   "metadata": {},
   "outputs": [
    {
     "data": {
      "text/html": [
       "<div>\n",
       "<style scoped>\n",
       "    .dataframe tbody tr th:only-of-type {\n",
       "        vertical-align: middle;\n",
       "    }\n",
       "\n",
       "    .dataframe tbody tr th {\n",
       "        vertical-align: top;\n",
       "    }\n",
       "\n",
       "    .dataframe thead th {\n",
       "        text-align: right;\n",
       "    }\n",
       "</style>\n",
       "<table border=\"1\" class=\"dataframe\">\n",
       "  <thead>\n",
       "    <tr style=\"text-align: right;\">\n",
       "      <th></th>\n",
       "      <th>days_since_purch</th>\n",
       "      <th>days_since_sitevisit</th>\n",
       "      <th>total_visits_yr</th>\n",
       "      <th>total_purch_yr</th>\n",
       "      <th>total_dollars_yr</th>\n",
       "      <th>total_dollars_other</th>\n",
       "    </tr>\n",
       "  </thead>\n",
       "  <tbody>\n",
       "    <tr>\n",
       "      <th>count</th>\n",
       "      <td>654.00</td>\n",
       "      <td>654.00</td>\n",
       "      <td>654.00</td>\n",
       "      <td>654.00</td>\n",
       "      <td>654.00</td>\n",
       "      <td>654.00</td>\n",
       "    </tr>\n",
       "    <tr>\n",
       "      <th>mean</th>\n",
       "      <td>-0.00</td>\n",
       "      <td>-0.00</td>\n",
       "      <td>0.00</td>\n",
       "      <td>0.00</td>\n",
       "      <td>-0.00</td>\n",
       "      <td>-0.00</td>\n",
       "    </tr>\n",
       "    <tr>\n",
       "      <th>std</th>\n",
       "      <td>1.00</td>\n",
       "      <td>1.00</td>\n",
       "      <td>1.00</td>\n",
       "      <td>1.00</td>\n",
       "      <td>1.00</td>\n",
       "      <td>1.00</td>\n",
       "    </tr>\n",
       "    <tr>\n",
       "      <th>min</th>\n",
       "      <td>-2.56</td>\n",
       "      <td>-1.61</td>\n",
       "      <td>-3.94</td>\n",
       "      <td>-3.41</td>\n",
       "      <td>-2.83</td>\n",
       "      <td>-1.95</td>\n",
       "    </tr>\n",
       "    <tr>\n",
       "      <th>25%</th>\n",
       "      <td>-0.68</td>\n",
       "      <td>-0.76</td>\n",
       "      <td>-0.58</td>\n",
       "      <td>-0.61</td>\n",
       "      <td>-0.69</td>\n",
       "      <td>-0.72</td>\n",
       "    </tr>\n",
       "    <tr>\n",
       "      <th>50%</th>\n",
       "      <td>-0.15</td>\n",
       "      <td>-0.08</td>\n",
       "      <td>0.06</td>\n",
       "      <td>0.08</td>\n",
       "      <td>-0.02</td>\n",
       "      <td>-0.04</td>\n",
       "    </tr>\n",
       "    <tr>\n",
       "      <th>75%</th>\n",
       "      <td>0.52</td>\n",
       "      <td>0.60</td>\n",
       "      <td>0.70</td>\n",
       "      <td>0.64</td>\n",
       "      <td>0.67</td>\n",
       "      <td>0.69</td>\n",
       "    </tr>\n",
       "    <tr>\n",
       "      <th>max</th>\n",
       "      <td>4.40</td>\n",
       "      <td>3.49</td>\n",
       "      <td>3.10</td>\n",
       "      <td>3.15</td>\n",
       "      <td>3.07</td>\n",
       "      <td>3.55</td>\n",
       "    </tr>\n",
       "  </tbody>\n",
       "</table>\n",
       "</div>"
      ],
      "text/plain": [
       "       days_since_purch  days_since_sitevisit  total_visits_yr  \\\n",
       "count            654.00                654.00           654.00   \n",
       "mean              -0.00                 -0.00             0.00   \n",
       "std                1.00                  1.00             1.00   \n",
       "min               -2.56                 -1.61            -3.94   \n",
       "25%               -0.68                 -0.76            -0.58   \n",
       "50%               -0.15                 -0.08             0.06   \n",
       "75%                0.52                  0.60             0.70   \n",
       "max                4.40                  3.49             3.10   \n",
       "\n",
       "       total_purch_yr  total_dollars_yr  total_dollars_other  \n",
       "count          654.00            654.00               654.00  \n",
       "mean             0.00             -0.00                -0.00  \n",
       "std              1.00              1.00                 1.00  \n",
       "min             -3.41             -2.83                -1.95  \n",
       "25%             -0.61             -0.69                -0.72  \n",
       "50%              0.08             -0.02                -0.04  \n",
       "75%              0.64              0.67                 0.69  \n",
       "max              3.15              3.07                 3.55  "
      ]
     },
     "execution_count": 7,
     "metadata": {},
     "output_type": "execute_result"
    }
   ],
   "source": [
    "# b. If your data requires standardization, use Python to convert your values into z-scores, \n",
    "# and store the normalized data in a new dataframe. If not, proceed to the next step without \n",
    "# changing the variables:\n",
    "\n",
    "from sklearn.cluster import KMeans\n",
    "from sklearn import preprocessing\n",
    "\n",
    "zscore = preprocessing.StandardScaler()\n",
    "lc_standard = zscore.fit_transform(lc3)\n",
    "lc_standard = pd.DataFrame(lc_standard)\n",
    "lc_standard.columns = lc3.columns\n",
    "\n",
    "round(lc_standard.describe(), 2)\n",
    "\n",
    "# All the means have become 0, and all the standard deviations have become 1."
   ]
  },
  {
   "cell_type": "code",
   "execution_count": 8,
   "id": "f30301c8",
   "metadata": {},
   "outputs": [
    {
     "data": {
      "text/html": [
       "<div>\n",
       "<style scoped>\n",
       "    .dataframe tbody tr th:only-of-type {\n",
       "        vertical-align: middle;\n",
       "    }\n",
       "\n",
       "    .dataframe tbody tr th {\n",
       "        vertical-align: top;\n",
       "    }\n",
       "\n",
       "    .dataframe thead th {\n",
       "        text-align: right;\n",
       "    }\n",
       "</style>\n",
       "<table border=\"1\" class=\"dataframe\">\n",
       "  <thead>\n",
       "    <tr style=\"text-align: right;\">\n",
       "      <th></th>\n",
       "      <th>days_since_purch</th>\n",
       "      <th>days_since_sitevisit</th>\n",
       "      <th>total_visits_yr</th>\n",
       "      <th>total_purch_yr</th>\n",
       "      <th>total_dollars_yr</th>\n",
       "      <th>total_dollars_other</th>\n",
       "    </tr>\n",
       "  </thead>\n",
       "  <tbody>\n",
       "    <tr>\n",
       "      <th>0</th>\n",
       "      <td>-0.014520</td>\n",
       "      <td>0.174843</td>\n",
       "      <td>0.380908</td>\n",
       "      <td>-0.056345</td>\n",
       "      <td>0.868719</td>\n",
       "      <td>0.513492</td>\n",
       "    </tr>\n",
       "    <tr>\n",
       "      <th>1</th>\n",
       "      <td>0.252978</td>\n",
       "      <td>-0.589171</td>\n",
       "      <td>-1.219051</td>\n",
       "      <td>-1.731331</td>\n",
       "      <td>1.880968</td>\n",
       "      <td>1.482171</td>\n",
       "    </tr>\n",
       "    <tr>\n",
       "      <th>2</th>\n",
       "      <td>-1.218260</td>\n",
       "      <td>-1.183405</td>\n",
       "      <td>1.980866</td>\n",
       "      <td>2.316551</td>\n",
       "      <td>-0.203515</td>\n",
       "      <td>0.254249</td>\n",
       "    </tr>\n",
       "    <tr>\n",
       "      <th>3</th>\n",
       "      <td>0.520475</td>\n",
       "      <td>-0.079828</td>\n",
       "      <td>0.060916</td>\n",
       "      <td>1.199894</td>\n",
       "      <td>1.655087</td>\n",
       "      <td>1.922928</td>\n",
       "    </tr>\n",
       "    <tr>\n",
       "      <th>4</th>\n",
       "      <td>-0.950762</td>\n",
       "      <td>0.089953</td>\n",
       "      <td>-0.899059</td>\n",
       "      <td>-0.614674</td>\n",
       "      <td>1.770839</td>\n",
       "      <td>1.680759</td>\n",
       "    </tr>\n",
       "  </tbody>\n",
       "</table>\n",
       "</div>"
      ],
      "text/plain": [
       "   days_since_purch  days_since_sitevisit  total_visits_yr  total_purch_yr  \\\n",
       "0         -0.014520              0.174843         0.380908       -0.056345   \n",
       "1          0.252978             -0.589171        -1.219051       -1.731331   \n",
       "2         -1.218260             -1.183405         1.980866        2.316551   \n",
       "3          0.520475             -0.079828         0.060916        1.199894   \n",
       "4         -0.950762              0.089953        -0.899059       -0.614674   \n",
       "\n",
       "   total_dollars_yr  total_dollars_other  \n",
       "0          0.868719             0.513492  \n",
       "1          1.880968             1.482171  \n",
       "2         -0.203515             0.254249  \n",
       "3          1.655087             1.922928  \n",
       "4          1.770839             1.680759  "
      ]
     },
     "execution_count": 8,
     "metadata": {},
     "output_type": "execute_result"
    }
   ],
   "source": [
    "lc_standard.head()\n",
    "\n",
    "# Looking at the first five rows of the standardized data, we can see a blend of positive \n",
    "# and negative numbers. This is expected, as any values below their column mean become \n",
    "# negative as a result of the transformation to z-scores.\n",
    "\n",
    "# Reference\n",
    "# Lobster Land text book"
   ]
  },
  {
   "cell_type": "code",
   "execution_count": 9,
   "id": "a43c1bd7",
   "metadata": {},
   "outputs": [
    {
     "data": {
      "image/png": "[encoded data removed]",
      "text/plain": [
       "<Figure size 432x288 with 1 Axes>"
      ]
     },
     "metadata": {
      "needs_background": "light"
     },
     "output_type": "display_data"
    }
   ],
   "source": [
    "# E. Elbow chart.\n",
    "# a. Build an elbow chart to help give you a sense of how you might build your model.\n",
    "\n",
    "sse = {}\n",
    "for k in range(1, 10):\n",
    "    kmeans = KMeans(n_clusters = k, random_state = 0)\n",
    "    kmeans.fit(lc_standard)\n",
    "    sse[k] = kmeans.inertia_\n",
    "plt.title('The Elbow Method')\n",
    "plt.xlabel('k')\n",
    "plt.ylabel('SSE')\n",
    "sns.pointplot(x = list(sse.keys()), y = list(sse.values()));"
   ]
  },
  {
   "cell_type": "code",
   "execution_count": 10,
   "id": "55f6ea39",
   "metadata": {},
   "outputs": [
    {
     "data": {
      "text/html": [
       "<div>\n",
       "<style scoped>\n",
       "    .dataframe tbody tr th:only-of-type {\n",
       "        vertical-align: middle;\n",
       "    }\n",
       "\n",
       "    .dataframe tbody tr th {\n",
       "        vertical-align: top;\n",
       "    }\n",
       "\n",
       "    .dataframe thead th {\n",
       "        text-align: right;\n",
       "    }\n",
       "</style>\n",
       "<table border=\"1\" class=\"dataframe\">\n",
       "  <thead>\n",
       "    <tr style=\"text-align: right;\">\n",
       "      <th></th>\n",
       "      <th>days_since_purch</th>\n",
       "      <th>days_since_sitevisit</th>\n",
       "      <th>total_visits_yr</th>\n",
       "      <th>total_purch_yr</th>\n",
       "      <th>total_dollars_yr</th>\n",
       "      <th>total_dollars_other</th>\n",
       "    </tr>\n",
       "    <tr>\n",
       "      <th>Cluster</th>\n",
       "      <th></th>\n",
       "      <th></th>\n",
       "      <th></th>\n",
       "      <th></th>\n",
       "      <th></th>\n",
       "      <th></th>\n",
       "    </tr>\n",
       "  </thead>\n",
       "  <tbody>\n",
       "    <tr>\n",
       "      <th>0</th>\n",
       "      <td>-0.36</td>\n",
       "      <td>-0.36</td>\n",
       "      <td>-0.88</td>\n",
       "      <td>-0.96</td>\n",
       "      <td>-0.28</td>\n",
       "      <td>-0.30</td>\n",
       "    </tr>\n",
       "    <tr>\n",
       "      <th>1</th>\n",
       "      <td>-0.28</td>\n",
       "      <td>-0.25</td>\n",
       "      <td>0.32</td>\n",
       "      <td>0.34</td>\n",
       "      <td>1.07</td>\n",
       "      <td>1.09</td>\n",
       "    </tr>\n",
       "    <tr>\n",
       "      <th>2</th>\n",
       "      <td>1.47</td>\n",
       "      <td>1.50</td>\n",
       "      <td>-0.15</td>\n",
       "      <td>-0.12</td>\n",
       "      <td>-0.06</td>\n",
       "      <td>-0.08</td>\n",
       "    </tr>\n",
       "    <tr>\n",
       "      <th>3</th>\n",
       "      <td>-0.32</td>\n",
       "      <td>-0.36</td>\n",
       "      <td>0.79</td>\n",
       "      <td>0.83</td>\n",
       "      <td>-0.70</td>\n",
       "      <td>-0.69</td>\n",
       "    </tr>\n",
       "  </tbody>\n",
       "</table>\n",
       "</div>"
      ],
      "text/plain": [
       "         days_since_purch  days_since_sitevisit  total_visits_yr  \\\n",
       "Cluster                                                            \n",
       "0                   -0.36                 -0.36            -0.88   \n",
       "1                   -0.28                 -0.25             0.32   \n",
       "2                    1.47                  1.50            -0.15   \n",
       "3                   -0.32                 -0.36             0.79   \n",
       "\n",
       "         total_purch_yr  total_dollars_yr  total_dollars_other  \n",
       "Cluster                                                         \n",
       "0                 -0.96             -0.28                -0.30  \n",
       "1                  0.34              1.07                 1.09  \n",
       "2                 -0.12             -0.06                -0.08  \n",
       "3                  0.83             -0.70                -0.69  "
      ]
     },
     "execution_count": 10,
     "metadata": {},
     "output_type": "execute_result"
    }
   ],
   "source": [
    "# F. How many clusters will you use for your k-means model? (Remember, as noted in several \n",
    "# places throughout the course material, there is no “right” answer to this question. You \n",
    "# may wish to answer this immediately after seeing your elbow plot, or after doing some more \n",
    "# experimentation):  \n",
    "\n",
    "kmeans = KMeans(n_clusters = 4, random_state = 0)\n",
    "kmeans.fit(lc_standard)\n",
    "cluster_labels = kmeans.labels_\n",
    "\n",
    "lc_standard2 = lc_standard.assign(Cluster = cluster_labels)\n",
    "lc_standard2.groupby(['Cluster']).agg({\n",
    "    'days_since_purch': 'mean', \n",
    "    'days_since_sitevisit': 'mean',\n",
    "    'total_visits_yr': 'mean', \n",
    "    'total_purch_yr': 'mean', \n",
    "    'total_dollars_yr': 'mean',\n",
    "    'total_dollars_other': 'mean'\n",
    "}).round(2)"
   ]
  },
  {
   "cell_type": "code",
   "execution_count": 11,
   "id": "4736fe08",
   "metadata": {},
   "outputs": [
    {
     "data": {
      "text/html": [
       "<div>\n",
       "<style scoped>\n",
       "    .dataframe tbody tr th:only-of-type {\n",
       "        vertical-align: middle;\n",
       "    }\n",
       "\n",
       "    .dataframe tbody tr th {\n",
       "        vertical-align: top;\n",
       "    }\n",
       "\n",
       "    .dataframe thead th {\n",
       "        text-align: right;\n",
       "    }\n",
       "</style>\n",
       "<table border=\"1\" class=\"dataframe\">\n",
       "  <thead>\n",
       "    <tr style=\"text-align: right;\">\n",
       "      <th></th>\n",
       "      <th>days_since_purch</th>\n",
       "      <th>days_since_sitevisit</th>\n",
       "      <th>total_visits_yr</th>\n",
       "      <th>total_purch_yr</th>\n",
       "      <th>total_dollars_yr</th>\n",
       "      <th>total_dollars_other</th>\n",
       "    </tr>\n",
       "    <tr>\n",
       "      <th>Cluster</th>\n",
       "      <th></th>\n",
       "      <th></th>\n",
       "      <th></th>\n",
       "      <th></th>\n",
       "      <th></th>\n",
       "      <th></th>\n",
       "    </tr>\n",
       "  </thead>\n",
       "  <tbody>\n",
       "    <tr>\n",
       "      <th>0</th>\n",
       "      <td>-0.41</td>\n",
       "      <td>-0.34</td>\n",
       "      <td>-1.19</td>\n",
       "      <td>-1.20</td>\n",
       "      <td>0.55</td>\n",
       "      <td>0.54</td>\n",
       "    </tr>\n",
       "    <tr>\n",
       "      <th>1</th>\n",
       "      <td>-0.45</td>\n",
       "      <td>-0.46</td>\n",
       "      <td>0.89</td>\n",
       "      <td>0.93</td>\n",
       "      <td>-0.59</td>\n",
       "      <td>-0.58</td>\n",
       "    </tr>\n",
       "    <tr>\n",
       "      <th>2</th>\n",
       "      <td>1.63</td>\n",
       "      <td>1.63</td>\n",
       "      <td>0.01</td>\n",
       "      <td>0.04</td>\n",
       "      <td>0.14</td>\n",
       "      <td>0.13</td>\n",
       "    </tr>\n",
       "    <tr>\n",
       "      <th>3</th>\n",
       "      <td>0.05</td>\n",
       "      <td>-0.02</td>\n",
       "      <td>-0.50</td>\n",
       "      <td>-0.56</td>\n",
       "      <td>-0.91</td>\n",
       "      <td>-0.92</td>\n",
       "    </tr>\n",
       "    <tr>\n",
       "      <th>4</th>\n",
       "      <td>-0.31</td>\n",
       "      <td>-0.29</td>\n",
       "      <td>0.49</td>\n",
       "      <td>0.49</td>\n",
       "      <td>0.96</td>\n",
       "      <td>0.96</td>\n",
       "    </tr>\n",
       "  </tbody>\n",
       "</table>\n",
       "</div>"
      ],
      "text/plain": [
       "         days_since_purch  days_since_sitevisit  total_visits_yr  \\\n",
       "Cluster                                                            \n",
       "0                   -0.41                 -0.34            -1.19   \n",
       "1                   -0.45                 -0.46             0.89   \n",
       "2                    1.63                  1.63             0.01   \n",
       "3                    0.05                 -0.02            -0.50   \n",
       "4                   -0.31                 -0.29             0.49   \n",
       "\n",
       "         total_purch_yr  total_dollars_yr  total_dollars_other  \n",
       "Cluster                                                         \n",
       "0                 -1.20              0.55                 0.54  \n",
       "1                  0.93             -0.59                -0.58  \n",
       "2                  0.04              0.14                 0.13  \n",
       "3                 -0.56             -0.91                -0.92  \n",
       "4                  0.49              0.96                 0.96  "
      ]
     },
     "execution_count": 11,
     "metadata": {},
     "output_type": "execute_result"
    }
   ],
   "source": [
    "kmeans = KMeans(n_clusters = 5, random_state = 0)\n",
    "kmeans.fit(lc_standard)\n",
    "cluster_labels = kmeans.labels_\n",
    "\n",
    "lc_standard2 = lc_standard.assign(Cluster = cluster_labels)\n",
    "lc_standard2.groupby(['Cluster']).agg({\n",
    "    'days_since_purch': 'mean', \n",
    "    'days_since_sitevisit': 'mean',\n",
    "    'total_visits_yr': 'mean', \n",
    "    'total_purch_yr': 'mean', \n",
    "    'total_dollars_yr': 'mean',\n",
    "    'total_dollars_other': 'mean'\n",
    "}).round(2)"
   ]
  },
  {
   "cell_type": "markdown",
   "id": "817928f4",
   "metadata": {},
   "source": [
    "From the elbow chart, 4 seems a good number of clusters. After two experiments, I still decided to use 4 clusters for my model. "
   ]
  },
  {
   "cell_type": "code",
   "execution_count": 12,
   "id": "ec368f04",
   "metadata": {},
   "outputs": [
    {
     "data": {
      "text/html": [
       "<div>\n",
       "<style scoped>\n",
       "    .dataframe tbody tr th:only-of-type {\n",
       "        vertical-align: middle;\n",
       "    }\n",
       "\n",
       "    .dataframe tbody tr th {\n",
       "        vertical-align: top;\n",
       "    }\n",
       "\n",
       "    .dataframe thead th {\n",
       "        text-align: right;\n",
       "    }\n",
       "</style>\n",
       "<table border=\"1\" class=\"dataframe\">\n",
       "  <thead>\n",
       "    <tr style=\"text-align: right;\">\n",
       "      <th></th>\n",
       "      <th>days_since_purch</th>\n",
       "      <th>days_since_sitevisit</th>\n",
       "      <th>total_visits_yr</th>\n",
       "      <th>total_purch_yr</th>\n",
       "      <th>total_dollars_yr</th>\n",
       "      <th>total_dollars_other</th>\n",
       "    </tr>\n",
       "    <tr>\n",
       "      <th>Cluster</th>\n",
       "      <th></th>\n",
       "      <th></th>\n",
       "      <th></th>\n",
       "      <th></th>\n",
       "      <th></th>\n",
       "      <th></th>\n",
       "    </tr>\n",
       "  </thead>\n",
       "  <tbody>\n",
       "    <tr>\n",
       "      <th>0</th>\n",
       "      <td>-0.36</td>\n",
       "      <td>-0.36</td>\n",
       "      <td>-0.88</td>\n",
       "      <td>-0.96</td>\n",
       "      <td>-0.28</td>\n",
       "      <td>-0.30</td>\n",
       "    </tr>\n",
       "    <tr>\n",
       "      <th>1</th>\n",
       "      <td>-0.28</td>\n",
       "      <td>-0.25</td>\n",
       "      <td>0.32</td>\n",
       "      <td>0.34</td>\n",
       "      <td>1.07</td>\n",
       "      <td>1.09</td>\n",
       "    </tr>\n",
       "    <tr>\n",
       "      <th>2</th>\n",
       "      <td>1.47</td>\n",
       "      <td>1.50</td>\n",
       "      <td>-0.15</td>\n",
       "      <td>-0.12</td>\n",
       "      <td>-0.06</td>\n",
       "      <td>-0.08</td>\n",
       "    </tr>\n",
       "    <tr>\n",
       "      <th>3</th>\n",
       "      <td>-0.32</td>\n",
       "      <td>-0.36</td>\n",
       "      <td>0.79</td>\n",
       "      <td>0.83</td>\n",
       "      <td>-0.70</td>\n",
       "      <td>-0.69</td>\n",
       "    </tr>\n",
       "  </tbody>\n",
       "</table>\n",
       "</div>"
      ],
      "text/plain": [
       "         days_since_purch  days_since_sitevisit  total_visits_yr  \\\n",
       "Cluster                                                            \n",
       "0                   -0.36                 -0.36            -0.88   \n",
       "1                   -0.28                 -0.25             0.32   \n",
       "2                    1.47                  1.50            -0.15   \n",
       "3                   -0.32                 -0.36             0.79   \n",
       "\n",
       "         total_purch_yr  total_dollars_yr  total_dollars_other  \n",
       "Cluster                                                         \n",
       "0                 -0.96             -0.28                -0.30  \n",
       "1                  0.34              1.07                 1.09  \n",
       "2                 -0.12             -0.06                -0.08  \n",
       "3                  0.83             -0.70                -0.69  "
      ]
     },
     "execution_count": 12,
     "metadata": {},
     "output_type": "execute_result"
    }
   ],
   "source": [
    "# G. Build a k-means model with your desired number of clusters:\n",
    "\n",
    "kmeans = KMeans(n_clusters = 4, random_state = 0)\n",
    "kmeans.fit(lc_standard)\n",
    "cluster_labels = kmeans.labels_\n",
    "\n",
    "lc_standard2 = lc_standard.assign(Cluster = cluster_labels)\n",
    "lc_standard2.groupby(['Cluster']).agg({\n",
    "    'days_since_purch': 'mean', \n",
    "    'days_since_sitevisit': 'mean',\n",
    "    'total_visits_yr': 'mean', \n",
    "    'total_purch_yr': 'mean', \n",
    "    'total_dollars_yr': 'mean',\n",
    "    'total_dollars_other': 'mean'\n",
    "}).round(2)"
   ]
  },
  {
   "cell_type": "code",
   "execution_count": 13,
   "id": "a87761b4",
   "metadata": {},
   "outputs": [
    {
     "data": {
      "text/plain": [
       "<AxesSubplot:xlabel='total_visits_yr', ylabel='total_purch_yr'>"
      ]
     },
     "execution_count": 13,
     "metadata": {},
     "output_type": "execute_result"
    },
    {
     "data": {
      "image/png": "[encoded data removed]",
      "text/plain": [
       "<Figure size 432x288 with 1 Axes>"
      ]
     },
     "metadata": {
      "needs_background": "light"
     },
     "output_type": "display_data"
    }
   ],
   "source": [
    "# H. Generate and show summary statistics about each of your clusters:\n",
    "\n",
    "sns.scatterplot(x = 'total_visits_yr', y = 'total_purch_yr', \n",
    "                hue = 'Cluster', data = lc_standard2 )"
   ]
  },
  {
   "cell_type": "code",
   "execution_count": 14,
   "id": "c6f48a5b",
   "metadata": {},
   "outputs": [
    {
     "data": {
      "text/plain": [
       "<AxesSubplot:xlabel='total_dollars_yr', ylabel='total_dollars_other'>"
      ]
     },
     "execution_count": 14,
     "metadata": {},
     "output_type": "execute_result"
    },
    {
     "data": {
      "image/png": "[encoded data removed]",
      "text/plain": [
       "<Figure size 432x288 with 1 Axes>"
      ]
     },
     "metadata": {
      "needs_background": "light"
     },
     "output_type": "display_data"
    }
   ],
   "source": [
    "sns.scatterplot(x = 'total_dollars_yr', y = 'total_dollars_other', \n",
    "                hue = 'Cluster', data = lc_standard2 )"
   ]
  },
  {
   "cell_type": "code",
   "execution_count": 15,
   "id": "b2bb94b7",
   "metadata": {},
   "outputs": [
    {
     "data": {
      "text/plain": [
       "<AxesSubplot:xlabel='days_since_purch', ylabel='days_since_sitevisit'>"
      ]
     },
     "execution_count": 15,
     "metadata": {},
     "output_type": "execute_result"
    },
    {
     "data": {
      "image/png": "[encoded data removed]",
      "text/plain": [
       "<Figure size 432x288 with 1 Axes>"
      ]
     },
     "metadata": {
      "needs_background": "light"
     },
     "output_type": "display_data"
    }
   ],
   "source": [
    "sns.scatterplot(x = 'days_since_purch', y = 'days_since_sitevisit', \n",
    "                hue = 'Cluster', data = lc_standard2 )"
   ]
  },
  {
   "cell_type": "code",
   "execution_count": 16,
   "id": "1eba7ebc",
   "metadata": {},
   "outputs": [
    {
     "data": {
      "text/plain": [
       "<AxesSubplot:ylabel='Cluster'>"
      ]
     },
     "execution_count": 16,
     "metadata": {},
     "output_type": "execute_result"
    },
    {
     "data": {
      "image/png": "[encoded data removed]",
      "text/plain": [
       "<Figure size 792x360 with 2 Axes>"
      ]
     },
     "metadata": {
      "needs_background": "light"
     },
     "output_type": "display_data"
    }
   ],
   "source": [
    "summary = lc_standard2.groupby(['Cluster']).agg({\n",
    "    'days_since_purch': 'mean', \n",
    "    'days_since_sitevisit': 'mean',\n",
    "    'total_visits_yr': 'mean', \n",
    "    'total_purch_yr': 'mean', \n",
    "    'total_dollars_yr': 'mean',\n",
    "    'total_dollars_other': 'mean'\n",
    "}). round(2)\n",
    "\n",
    "plt.figure(figsize = (11, 5))\n",
    "sns.heatmap(summary, annot = True, cmap = 'BuPu', fmt = 'g')"
   ]
  },
  {
   "cell_type": "code",
   "execution_count": 17,
   "id": "7db9f2e4",
   "metadata": {},
   "outputs": [
    {
     "data": {
      "text/plain": [
       "days_since_purch        float64\n",
       "days_since_sitevisit    float64\n",
       "total_visits_yr         float64\n",
       "total_purch_yr          float64\n",
       "total_dollars_yr        float64\n",
       "total_dollars_other     float64\n",
       "Cluster                   int32\n",
       "dtype: object"
      ]
     },
     "execution_count": 17,
     "metadata": {},
     "output_type": "execute_result"
    }
   ],
   "source": [
    "# I. Build any four simple visualizations to help management better understand your \n",
    "# clusters (a simple visualization could be a histogram, a barplot, a scatterplot, etc. \n",
    "# – it should show original variables from the dataset) You may wish to facet your\n",
    "# visualizations by cluster. For each one of your visualizations, include 2-3 sentences \n",
    "# of description/ explanation. What does it show about your model?\n",
    "\n",
    "lc_standard2 = lc_standard.assign(Cluster = cluster_labels)\n",
    "lc_standard2.dtypes"
   ]
  },
  {
   "cell_type": "code",
   "execution_count": 18,
   "id": "b26af29c",
   "metadata": {},
   "outputs": [
    {
     "data": {
      "text/plain": [
       "days_since_purch         float64\n",
       "days_since_sitevisit     float64\n",
       "total_visits_yr          float64\n",
       "total_purch_yr           float64\n",
       "total_dollars_yr         float64\n",
       "total_dollars_other      float64\n",
       "Cluster                 category\n",
       "dtype: object"
      ]
     },
     "execution_count": 18,
     "metadata": {},
     "output_type": "execute_result"
    }
   ],
   "source": [
    "lc_standard2['Cluster'] = lc_standard2['Cluster'].astype('category')\n",
    "lc_standard2['Cluster'] = lc_standard2['Cluster'].cat.rename_categories({\n",
    "    0: 'Low visit & purchase', 1: 'High spend', 2: 'Inactived', 3: 'Window shopper'})\n",
    "lc_standard2.dtypes"
   ]
  },
  {
   "cell_type": "code",
   "execution_count": 19,
   "id": "bbc0f2c1",
   "metadata": {},
   "outputs": [
    {
     "data": {
      "text/plain": [
       "<AxesSubplot:title={'center':'Average total dollars per year'}, xlabel='total_dollars_yr', ylabel='Cluster'>"
      ]
     },
     "execution_count": 19,
     "metadata": {},
     "output_type": "execute_result"
    },
    {
     "data": {
      "image/png": "[encoded data removed]",
      "text/plain": [
       "<Figure size 432x288 with 1 Axes>"
      ]
     },
     "metadata": {
      "needs_background": "light"
     },
     "output_type": "display_data"
    }
   ],
   "source": [
    "# Barplot\n",
    "\n",
    "order = lc_standard2.groupby(['Cluster'])['total_dollars_yr'].mean().sort_values().index\n",
    "plt.title('Average total dollars per year')\n",
    "sns.barplot(y = 'Cluster', x = 'total_dollars_yr', ci = None, order = order, \n",
    "            color = 'firebrick', data = lc_standard2)"
   ]
  },
  {
   "cell_type": "markdown",
   "id": "6f892baf",
   "metadata": {},
   "source": [
    "This plot showed that the high spend cluster has the highest total number of dollars spent at the online merch store in the past 365 days. Window shopper cluster has the lowest total number of dollars spent at the online merch store in the past 365 days. "
   ]
  },
  {
   "cell_type": "code",
   "execution_count": 20,
   "id": "c876bc75",
   "metadata": {},
   "outputs": [
    {
     "data": {
      "image/png": "[encoded data removed]",
      "text/plain": [
       "<Figure size 1296x720 with 1 Axes>"
      ]
     },
     "metadata": {
      "needs_background": "light"
     },
     "output_type": "display_data"
    }
   ],
   "source": [
    "# Scatterplot\n",
    "\n",
    "discretionary = lc_standard2.groupby('Cluster')[['total_visits_yr', 'total_dollars_yr']].mean()\n",
    "\n",
    "plt.figure(figsize = (18, 10))\n",
    "plt.xlabel('Average visits per year')\n",
    "plt.ylabel('Average total dollars per year')\n",
    "sns.despine()\n",
    "\n",
    "p1 = sns.scatterplot(x = 'total_visits_yr', y = 'total_dollars_yr', \n",
    "                     s = 1000, hue = 'Cluster', palette = 'twilight', data = discretionary)\n",
    "\n",
    "for line in range(0, discretionary.shape[0]):\n",
    "    p1.text(discretionary.total_visits_yr[line], \n",
    "            discretionary.total_dollars_yr[line], \n",
    "            discretionary.index[line], horizontalalignment = 'center', \n",
    "            size = 'large', color = 'orange', weight = 'semibold')"
   ]
  },
  {
   "cell_type": "markdown",
   "id": "d5ef51d1",
   "metadata": {},
   "source": [
    "The previous plot only has the total dollars spent in the past 365 days. Now I added the number of times that the person visited the Lobster Land online merch store in the past 365 days. The window shopper cluster has the highest number of visits but the lowest total spent. The high spend cluster has the second highest visits and the highest total dollars spent."
   ]
  },
  {
   "cell_type": "code",
   "execution_count": 21,
   "id": "60b4b2d4",
   "metadata": {},
   "outputs": [
    {
     "data": {
      "text/plain": [
       "<AxesSubplot:ylabel='Cluster'>"
      ]
     },
     "execution_count": 21,
     "metadata": {},
     "output_type": "execute_result"
    },
    {
     "data": {
      "image/png": "[encoded data removed]",
      "text/plain": [
       "<Figure size 792x360 with 2 Axes>"
      ]
     },
     "metadata": {
      "needs_background": "light"
     },
     "output_type": "display_data"
    }
   ],
   "source": [
    "# Heatmap\n",
    "\n",
    "summary = lc_standard2.groupby(['Cluster']).agg({\n",
    "    'days_since_purch': 'mean', \n",
    "    'days_since_sitevisit': 'mean',\n",
    "    'total_visits_yr': 'mean', \n",
    "    'total_purch_yr': 'mean', \n",
    "    'total_dollars_yr': 'mean',\n",
    "    'total_dollars_other': 'mean'\n",
    "}). round(2)\n",
    "\n",
    "plt.figure(figsize = (11, 5))\n",
    "sns.heatmap(summary, annot = True, cmap = 'BuPu', fmt = 'g')"
   ]
  },
  {
   "cell_type": "markdown",
   "id": "0bbd6c6c",
   "metadata": {},
   "source": [
    "This is an overall view of four clusters. The low visit & purchase cluster has the lowest visits and purchases. The high spend cluster has the highest dollars spent and the highest dollars others spent. The inactivated cluster is the most people that did not visit the store and did not purchase anything in the past 365 days. The window shopper cluster has the highest visits to the store and the highest total number of purchases but their total money spent was the lowest. "
   ]
  },
  {
   "cell_type": "code",
   "execution_count": 22,
   "id": "a0b964e6",
   "metadata": {},
   "outputs": [
    {
     "data": {
      "text/plain": [
       "Low visit & purchase    195\n",
       "High spend              171\n",
       "Window shopper          171\n",
       "Inactived               117\n",
       "Name: Cluster, dtype: int64"
      ]
     },
     "execution_count": 22,
     "metadata": {},
     "output_type": "execute_result"
    }
   ],
   "source": [
    "# Boxplot\n",
    "\n",
    "totalpurchase = lc_standard2[(lc_standard2['Cluster'] == 'Low visit & purchase')|\n",
    "                             (lc_standard2['Cluster'] == 'High spend')|\n",
    "                             (lc_standard2['Cluster'] == 'Inactived')|\n",
    "                             (lc_standard2['Cluster'] == 'Window shopper')]\n",
    "\n",
    "totalpurchase.Cluster.value_counts()"
   ]
  },
  {
   "cell_type": "code",
   "execution_count": 23,
   "id": "bef11c0e",
   "metadata": {},
   "outputs": [
    {
     "data": {
      "text/plain": [
       "<AxesSubplot:xlabel='days_since_sitevisit', ylabel='Cluster'>"
      ]
     },
     "execution_count": 23,
     "metadata": {},
     "output_type": "execute_result"
    },
    {
     "data": {
      "image/png": "[encoded data removed]",
      "text/plain": [
       "<Figure size 792x360 with 1 Axes>"
      ]
     },
     "metadata": {
      "needs_background": "light"
     },
     "output_type": "display_data"
    }
   ],
   "source": [
    "plt.figure(figsize = (11, 5))\n",
    "order = ['Low visit & purchase', 'High spend', 'Inactived', 'Window shopper']\n",
    "sns.boxplot (y = 'Cluster', x = 'days_since_sitevisit', order = order, data = lc_standard2)"
   ]
  },
  {
   "cell_type": "markdown",
   "id": "1e5821d9",
   "metadata": {},
   "source": [
    "I used box plot to show the clusters with the number of days that have elapsed since the customer last visited the Lobster Land online merch store. We can tell the inactived cluster has the most days. The other three has about the same days. "
   ]
  },
  {
   "cell_type": "markdown",
   "id": "b09ecad9",
   "metadata": {},
   "source": [
    "J. Give a descriptive name to each one of your clusters, along with a few sentences of explanation for the name that you chose. As you describe each segment, think about the types of customers likely to belong to each group. For each cluster, also include a couple sentences about targeting. How can Lobster Land reach this group, specifically? (Note: You can exercise some ‘creative freedom’ here with this answer. Do not just say “send them a coupon” as your answer for each segment).\n",
    "\n",
    "I already named them in the previous step. \n",
    "\n",
    "The low visit & purchase cluster has the lowest visits and purchases. To reach this cluster, we can send them notifications such as email along with a coupon. My friend interned at Taobao, she said it will increase by 30% to 50% of the sales with a 1% to 5% off coupon. But the most accurate way is to use the AB test based on different types of products. \n",
    "\n",
    "The high spend cluster has the highest dollars spent and the highest dollars others spent. To reach this cluster, we can create a loyalty program. For example, every dollar the person spent can receive 1 reward point. Every 100 points are equal to 10 dollars.   \n",
    "\n",
    "The inactivated cluster is the most people that did not visit the store and did not purchase anything in the past 365 days. To reach this cluster, we can expand our advertising. Even if they forgot us, we will find a way to remind you!\n",
    "\n",
    "The window shopper cluster has the highest visits to the store and the highest total number of purchases but their total money spent was the lowest. To reach this cluster, we can offer them some free items if they make a purchase. Also, we can give them time-limited offers."
   ]
  },
  {
   "cell_type": "code",
   "execution_count": 24,
   "id": "111a3f92",
   "metadata": {},
   "outputs": [
    {
     "data": {
      "text/html": [
       "<div>\n",
       "<style scoped>\n",
       "    .dataframe tbody tr th:only-of-type {\n",
       "        vertical-align: middle;\n",
       "    }\n",
       "\n",
       "    .dataframe tbody tr th {\n",
       "        vertical-align: top;\n",
       "    }\n",
       "\n",
       "    .dataframe thead th {\n",
       "        text-align: right;\n",
       "    }\n",
       "</style>\n",
       "<table border=\"1\" class=\"dataframe\">\n",
       "  <thead>\n",
       "    <tr style=\"text-align: right;\">\n",
       "      <th></th>\n",
       "      <th>bundleID</th>\n",
       "      <th>paxpercar</th>\n",
       "      <th>total_dark_time</th>\n",
       "      <th>flashing_lights</th>\n",
       "      <th>theme</th>\n",
       "      <th>total_time</th>\n",
       "      <th>ghost_touch</th>\n",
       "      <th>no_phone_zone</th>\n",
       "      <th>avg_rating</th>\n",
       "    </tr>\n",
       "  </thead>\n",
       "  <tbody>\n",
       "    <tr>\n",
       "      <th>0</th>\n",
       "      <td>0</td>\n",
       "      <td>4</td>\n",
       "      <td>0</td>\n",
       "      <td>Yes</td>\n",
       "      <td>Pumpkin_Terror</td>\n",
       "      <td>120</td>\n",
       "      <td>Yes</td>\n",
       "      <td>Yes</td>\n",
       "      <td>5.455046</td>\n",
       "    </tr>\n",
       "    <tr>\n",
       "      <th>1</th>\n",
       "      <td>1</td>\n",
       "      <td>4</td>\n",
       "      <td>0</td>\n",
       "      <td>Yes</td>\n",
       "      <td>Pumpkin_Terror</td>\n",
       "      <td>120</td>\n",
       "      <td>Yes</td>\n",
       "      <td>No</td>\n",
       "      <td>4.354482</td>\n",
       "    </tr>\n",
       "    <tr>\n",
       "      <th>2</th>\n",
       "      <td>2</td>\n",
       "      <td>4</td>\n",
       "      <td>0</td>\n",
       "      <td>Yes</td>\n",
       "      <td>Pumpkin_Terror</td>\n",
       "      <td>120</td>\n",
       "      <td>No</td>\n",
       "      <td>Yes</td>\n",
       "      <td>5.186594</td>\n",
       "    </tr>\n",
       "    <tr>\n",
       "      <th>3</th>\n",
       "      <td>3</td>\n",
       "      <td>4</td>\n",
       "      <td>0</td>\n",
       "      <td>Yes</td>\n",
       "      <td>Pumpkin_Terror</td>\n",
       "      <td>120</td>\n",
       "      <td>No</td>\n",
       "      <td>No</td>\n",
       "      <td>9.282721</td>\n",
       "    </tr>\n",
       "    <tr>\n",
       "      <th>4</th>\n",
       "      <td>4</td>\n",
       "      <td>4</td>\n",
       "      <td>0</td>\n",
       "      <td>Yes</td>\n",
       "      <td>Pumpkin_Terror</td>\n",
       "      <td>240</td>\n",
       "      <td>Yes</td>\n",
       "      <td>Yes</td>\n",
       "      <td>5.205072</td>\n",
       "    </tr>\n",
       "  </tbody>\n",
       "</table>\n",
       "</div>"
      ],
      "text/plain": [
       "   bundleID  paxpercar  total_dark_time flashing_lights           theme  \\\n",
       "0         0          4                0             Yes  Pumpkin_Terror   \n",
       "1         1          4                0             Yes  Pumpkin_Terror   \n",
       "2         2          4                0             Yes  Pumpkin_Terror   \n",
       "3         3          4                0             Yes  Pumpkin_Terror   \n",
       "4         4          4                0             Yes  Pumpkin_Terror   \n",
       "\n",
       "   total_time ghost_touch no_phone_zone  avg_rating  \n",
       "0         120         Yes           Yes    5.455046  \n",
       "1         120         Yes            No    4.354482  \n",
       "2         120          No           Yes    5.186594  \n",
       "3         120          No            No    9.282721  \n",
       "4         240         Yes           Yes    5.205072  "
      ]
     },
     "execution_count": 24,
     "metadata": {},
     "output_type": "execute_result"
    }
   ],
   "source": [
    "# Part II: Conjoint Analysis with a Linear Model\n",
    "# A. Read the dataset haunted_hayride.csv into your local environment in Jupyter Notebook:\n",
    "\n",
    "hh = pd.read_csv(\"haunted_hayride.csv\")\n",
    "hh.head()"
   ]
  },
  {
   "cell_type": "code",
   "execution_count": 25,
   "id": "23eda950",
   "metadata": {},
   "outputs": [
    {
     "data": {
      "text/plain": [
       "bundleID             int64\n",
       "paxpercar            int64\n",
       "total_dark_time      int64\n",
       "flashing_lights     object\n",
       "theme               object\n",
       "total_time           int64\n",
       "ghost_touch         object\n",
       "no_phone_zone       object\n",
       "avg_rating         float64\n",
       "dtype: object"
      ]
     },
     "execution_count": 25,
     "metadata": {},
     "output_type": "execute_result"
    }
   ],
   "source": [
    "hh.dtypes"
   ]
  },
  {
   "cell_type": "markdown",
   "id": "c5ad0114",
   "metadata": {},
   "source": [
    "B. Based on the descriptions shown above, which of your variables are numeric, and which are categorical? (The standard you should use when answering this is that something that is both represented by a number, and for which that number has valid mathematical meaning, is numeric).\n",
    "\n",
    "Numeric: paxpercar, total_dark_time, total_time, avg_rating\n",
    "\n",
    "Categorical: bundleID(it is categorical because it is a unique ID), flashing_lights, theme, ghost_touch, no_phone_zone"
   ]
  },
  {
   "cell_type": "code",
   "execution_count": 26,
   "id": "fd532bb0",
   "metadata": {},
   "outputs": [
    {
     "data": {
      "text/html": [
       "<div>\n",
       "<style scoped>\n",
       "    .dataframe tbody tr th:only-of-type {\n",
       "        vertical-align: middle;\n",
       "    }\n",
       "\n",
       "    .dataframe tbody tr th {\n",
       "        vertical-align: top;\n",
       "    }\n",
       "\n",
       "    .dataframe thead th {\n",
       "        text-align: right;\n",
       "    }\n",
       "</style>\n",
       "<table border=\"1\" class=\"dataframe\">\n",
       "  <thead>\n",
       "    <tr style=\"text-align: right;\">\n",
       "      <th></th>\n",
       "      <th>paxpercar</th>\n",
       "      <th>total_dark_time</th>\n",
       "      <th>flashing_lights</th>\n",
       "      <th>theme</th>\n",
       "      <th>total_time</th>\n",
       "      <th>ghost_touch</th>\n",
       "      <th>no_phone_zone</th>\n",
       "      <th>avg_rating</th>\n",
       "    </tr>\n",
       "  </thead>\n",
       "  <tbody>\n",
       "    <tr>\n",
       "      <th>0</th>\n",
       "      <td>4</td>\n",
       "      <td>0</td>\n",
       "      <td>Yes</td>\n",
       "      <td>Pumpkin_Terror</td>\n",
       "      <td>120</td>\n",
       "      <td>Yes</td>\n",
       "      <td>Yes</td>\n",
       "      <td>5.455046</td>\n",
       "    </tr>\n",
       "    <tr>\n",
       "      <th>1</th>\n",
       "      <td>4</td>\n",
       "      <td>0</td>\n",
       "      <td>Yes</td>\n",
       "      <td>Pumpkin_Terror</td>\n",
       "      <td>120</td>\n",
       "      <td>Yes</td>\n",
       "      <td>No</td>\n",
       "      <td>4.354482</td>\n",
       "    </tr>\n",
       "    <tr>\n",
       "      <th>2</th>\n",
       "      <td>4</td>\n",
       "      <td>0</td>\n",
       "      <td>Yes</td>\n",
       "      <td>Pumpkin_Terror</td>\n",
       "      <td>120</td>\n",
       "      <td>No</td>\n",
       "      <td>Yes</td>\n",
       "      <td>5.186594</td>\n",
       "    </tr>\n",
       "    <tr>\n",
       "      <th>3</th>\n",
       "      <td>4</td>\n",
       "      <td>0</td>\n",
       "      <td>Yes</td>\n",
       "      <td>Pumpkin_Terror</td>\n",
       "      <td>120</td>\n",
       "      <td>No</td>\n",
       "      <td>No</td>\n",
       "      <td>9.282721</td>\n",
       "    </tr>\n",
       "    <tr>\n",
       "      <th>4</th>\n",
       "      <td>4</td>\n",
       "      <td>0</td>\n",
       "      <td>Yes</td>\n",
       "      <td>Pumpkin_Terror</td>\n",
       "      <td>240</td>\n",
       "      <td>Yes</td>\n",
       "      <td>Yes</td>\n",
       "      <td>5.205072</td>\n",
       "    </tr>\n",
       "    <tr>\n",
       "      <th>...</th>\n",
       "      <td>...</td>\n",
       "      <td>...</td>\n",
       "      <td>...</td>\n",
       "      <td>...</td>\n",
       "      <td>...</td>\n",
       "      <td>...</td>\n",
       "      <td>...</td>\n",
       "      <td>...</td>\n",
       "    </tr>\n",
       "    <tr>\n",
       "      <th>859</th>\n",
       "      <td>12</td>\n",
       "      <td>12</td>\n",
       "      <td>No</td>\n",
       "      <td>Vampire</td>\n",
       "      <td>240</td>\n",
       "      <td>No</td>\n",
       "      <td>No</td>\n",
       "      <td>7.131886</td>\n",
       "    </tr>\n",
       "    <tr>\n",
       "      <th>860</th>\n",
       "      <td>12</td>\n",
       "      <td>12</td>\n",
       "      <td>No</td>\n",
       "      <td>Vampire</td>\n",
       "      <td>420</td>\n",
       "      <td>Yes</td>\n",
       "      <td>Yes</td>\n",
       "      <td>3.416271</td>\n",
       "    </tr>\n",
       "    <tr>\n",
       "      <th>861</th>\n",
       "      <td>12</td>\n",
       "      <td>12</td>\n",
       "      <td>No</td>\n",
       "      <td>Vampire</td>\n",
       "      <td>420</td>\n",
       "      <td>Yes</td>\n",
       "      <td>No</td>\n",
       "      <td>1.861245</td>\n",
       "    </tr>\n",
       "    <tr>\n",
       "      <th>862</th>\n",
       "      <td>12</td>\n",
       "      <td>12</td>\n",
       "      <td>No</td>\n",
       "      <td>Vampire</td>\n",
       "      <td>420</td>\n",
       "      <td>No</td>\n",
       "      <td>Yes</td>\n",
       "      <td>3.886112</td>\n",
       "    </tr>\n",
       "    <tr>\n",
       "      <th>863</th>\n",
       "      <td>12</td>\n",
       "      <td>12</td>\n",
       "      <td>No</td>\n",
       "      <td>Vampire</td>\n",
       "      <td>420</td>\n",
       "      <td>No</td>\n",
       "      <td>No</td>\n",
       "      <td>6.727120</td>\n",
       "    </tr>\n",
       "  </tbody>\n",
       "</table>\n",
       "<p>864 rows × 8 columns</p>\n",
       "</div>"
      ],
      "text/plain": [
       "     paxpercar  total_dark_time flashing_lights           theme  total_time  \\\n",
       "0            4                0             Yes  Pumpkin_Terror         120   \n",
       "1            4                0             Yes  Pumpkin_Terror         120   \n",
       "2            4                0             Yes  Pumpkin_Terror         120   \n",
       "3            4                0             Yes  Pumpkin_Terror         120   \n",
       "4            4                0             Yes  Pumpkin_Terror         240   \n",
       "..         ...              ...             ...             ...         ...   \n",
       "859         12               12              No         Vampire         240   \n",
       "860         12               12              No         Vampire         420   \n",
       "861         12               12              No         Vampire         420   \n",
       "862         12               12              No         Vampire         420   \n",
       "863         12               12              No         Vampire         420   \n",
       "\n",
       "    ghost_touch no_phone_zone  avg_rating  \n",
       "0           Yes           Yes    5.455046  \n",
       "1           Yes            No    4.354482  \n",
       "2            No           Yes    5.186594  \n",
       "3            No            No    9.282721  \n",
       "4           Yes           Yes    5.205072  \n",
       "..          ...           ...         ...  \n",
       "859          No            No    7.131886  \n",
       "860         Yes           Yes    3.416271  \n",
       "861         Yes            No    1.861245  \n",
       "862          No           Yes    3.886112  \n",
       "863          No            No    6.727120  \n",
       "\n",
       "[864 rows x 8 columns]"
      ]
     },
     "execution_count": 26,
     "metadata": {},
     "output_type": "execute_result"
    }
   ],
   "source": [
    "# C. After first removing the bundleID variable, use the pandas get_dummies() function in\n",
    "# order to prepare the remaining variables for use in a linear model. Inside this function, \n",
    "# include this argument: drop_first = True. Doing this will save us from the multicollinearity \n",
    "# problem that would make our model unreliable. Be sure to dummify ALL of your input \n",
    "# variables, even the numeric ones: \n",
    "\n",
    "hh2 = hh.drop(columns = 'bundleID')\n",
    "hh2"
   ]
  },
  {
   "cell_type": "code",
   "execution_count": 27,
   "id": "8e25cbd8",
   "metadata": {},
   "outputs": [
    {
     "data": {
      "text/plain": [
       "False"
      ]
     },
     "execution_count": 27,
     "metadata": {},
     "output_type": "execute_result"
    }
   ],
   "source": [
    "hh2.isnull().values.any()"
   ]
  },
  {
   "cell_type": "code",
   "execution_count": 28,
   "id": "3d8cad2b",
   "metadata": {},
   "outputs": [
    {
     "data": {
      "text/html": [
       "<div>\n",
       "<style scoped>\n",
       "    .dataframe tbody tr th:only-of-type {\n",
       "        vertical-align: middle;\n",
       "    }\n",
       "\n",
       "    .dataframe tbody tr th {\n",
       "        vertical-align: top;\n",
       "    }\n",
       "\n",
       "    .dataframe thead th {\n",
       "        text-align: right;\n",
       "    }\n",
       "</style>\n",
       "<table border=\"1\" class=\"dataframe\">\n",
       "  <thead>\n",
       "    <tr style=\"text-align: right;\">\n",
       "      <th></th>\n",
       "      <th>paxpercar</th>\n",
       "      <th>total_dark_time</th>\n",
       "      <th>flashing_lights</th>\n",
       "      <th>theme</th>\n",
       "      <th>total_time</th>\n",
       "      <th>ghost_touch</th>\n",
       "      <th>no_phone_zone</th>\n",
       "      <th>avg_rating</th>\n",
       "    </tr>\n",
       "  </thead>\n",
       "  <tbody>\n",
       "    <tr>\n",
       "      <th>43</th>\n",
       "      <td>4</td>\n",
       "      <td>0</td>\n",
       "      <td>Yes</td>\n",
       "      <td>Vampire</td>\n",
       "      <td>240</td>\n",
       "      <td>No</td>\n",
       "      <td>No</td>\n",
       "      <td>9.972176</td>\n",
       "    </tr>\n",
       "    <tr>\n",
       "      <th>667</th>\n",
       "      <td>12</td>\n",
       "      <td>0</td>\n",
       "      <td>No</td>\n",
       "      <td>Vampire</td>\n",
       "      <td>240</td>\n",
       "      <td>No</td>\n",
       "      <td>No</td>\n",
       "      <td>9.960121</td>\n",
       "    </tr>\n",
       "    <tr>\n",
       "      <th>38</th>\n",
       "      <td>4</td>\n",
       "      <td>0</td>\n",
       "      <td>Yes</td>\n",
       "      <td>Vampire</td>\n",
       "      <td>120</td>\n",
       "      <td>No</td>\n",
       "      <td>Yes</td>\n",
       "      <td>9.958073</td>\n",
       "    </tr>\n",
       "    <tr>\n",
       "      <th>22</th>\n",
       "      <td>4</td>\n",
       "      <td>0</td>\n",
       "      <td>Yes</td>\n",
       "      <td>Prison</td>\n",
       "      <td>420</td>\n",
       "      <td>No</td>\n",
       "      <td>Yes</td>\n",
       "      <td>9.937104</td>\n",
       "    </tr>\n",
       "    <tr>\n",
       "      <th>587</th>\n",
       "      <td>12</td>\n",
       "      <td>0</td>\n",
       "      <td>Yes</td>\n",
       "      <td>Pumpkin_Terror</td>\n",
       "      <td>420</td>\n",
       "      <td>No</td>\n",
       "      <td>No</td>\n",
       "      <td>9.890697</td>\n",
       "    </tr>\n",
       "    <tr>\n",
       "      <th>...</th>\n",
       "      <td>...</td>\n",
       "      <td>...</td>\n",
       "      <td>...</td>\n",
       "      <td>...</td>\n",
       "      <td>...</td>\n",
       "      <td>...</td>\n",
       "      <td>...</td>\n",
       "      <td>...</td>\n",
       "    </tr>\n",
       "    <tr>\n",
       "      <th>68</th>\n",
       "      <td>4</td>\n",
       "      <td>0</td>\n",
       "      <td>No</td>\n",
       "      <td>Prison</td>\n",
       "      <td>420</td>\n",
       "      <td>Yes</td>\n",
       "      <td>Yes</td>\n",
       "      <td>1.861245</td>\n",
       "    </tr>\n",
       "    <tr>\n",
       "      <th>212</th>\n",
       "      <td>4</td>\n",
       "      <td>12</td>\n",
       "      <td>Yes</td>\n",
       "      <td>Prison</td>\n",
       "      <td>420</td>\n",
       "      <td>Yes</td>\n",
       "      <td>Yes</td>\n",
       "      <td>1.861245</td>\n",
       "    </tr>\n",
       "    <tr>\n",
       "      <th>345</th>\n",
       "      <td>8</td>\n",
       "      <td>0</td>\n",
       "      <td>No</td>\n",
       "      <td>Pumpkin_Terror</td>\n",
       "      <td>420</td>\n",
       "      <td>Yes</td>\n",
       "      <td>No</td>\n",
       "      <td>1.861245</td>\n",
       "    </tr>\n",
       "    <tr>\n",
       "      <th>200</th>\n",
       "      <td>4</td>\n",
       "      <td>12</td>\n",
       "      <td>Yes</td>\n",
       "      <td>Pumpkin_Terror</td>\n",
       "      <td>420</td>\n",
       "      <td>Yes</td>\n",
       "      <td>Yes</td>\n",
       "      <td>1.861245</td>\n",
       "    </tr>\n",
       "    <tr>\n",
       "      <th>793</th>\n",
       "      <td>12</td>\n",
       "      <td>12</td>\n",
       "      <td>Yes</td>\n",
       "      <td>Zombie Apocalypse</td>\n",
       "      <td>120</td>\n",
       "      <td>Yes</td>\n",
       "      <td>No</td>\n",
       "      <td>1.861245</td>\n",
       "    </tr>\n",
       "  </tbody>\n",
       "</table>\n",
       "<p>864 rows × 8 columns</p>\n",
       "</div>"
      ],
      "text/plain": [
       "     paxpercar  total_dark_time flashing_lights              theme  \\\n",
       "43           4                0             Yes            Vampire   \n",
       "667         12                0              No            Vampire   \n",
       "38           4                0             Yes            Vampire   \n",
       "22           4                0             Yes             Prison   \n",
       "587         12                0             Yes     Pumpkin_Terror   \n",
       "..         ...              ...             ...                ...   \n",
       "68           4                0              No             Prison   \n",
       "212          4               12             Yes             Prison   \n",
       "345          8                0              No     Pumpkin_Terror   \n",
       "200          4               12             Yes     Pumpkin_Terror   \n",
       "793         12               12             Yes  Zombie Apocalypse   \n",
       "\n",
       "     total_time ghost_touch no_phone_zone  avg_rating  \n",
       "43          240          No            No    9.972176  \n",
       "667         240          No            No    9.960121  \n",
       "38          120          No           Yes    9.958073  \n",
       "22          420          No           Yes    9.937104  \n",
       "587         420          No            No    9.890697  \n",
       "..          ...         ...           ...         ...  \n",
       "68          420         Yes           Yes    1.861245  \n",
       "212         420         Yes           Yes    1.861245  \n",
       "345         420         Yes            No    1.861245  \n",
       "200         420         Yes           Yes    1.861245  \n",
       "793         120         Yes            No    1.861245  \n",
       "\n",
       "[864 rows x 8 columns]"
      ]
     },
     "execution_count": 28,
     "metadata": {},
     "output_type": "execute_result"
    }
   ],
   "source": [
    "hh2.sort_values(by = 'avg_rating', ascending = False)"
   ]
  },
  {
   "cell_type": "code",
   "execution_count": 29,
   "id": "e3792a57",
   "metadata": {},
   "outputs": [],
   "source": [
    "hh3 = pd.get_dummies(hh2, drop_first = True, \n",
    "                     columns = ['paxpercar', 'total_dark_time', 'flashing_lights', 'theme', \n",
    "                                'total_time', 'ghost_touch', 'no_phone_zone'])"
   ]
  },
  {
   "cell_type": "code",
   "execution_count": 30,
   "id": "4adcefb1",
   "metadata": {},
   "outputs": [
    {
     "data": {
      "text/html": [
       "<div>\n",
       "<style scoped>\n",
       "    .dataframe tbody tr th:only-of-type {\n",
       "        vertical-align: middle;\n",
       "    }\n",
       "\n",
       "    .dataframe tbody tr th {\n",
       "        vertical-align: top;\n",
       "    }\n",
       "\n",
       "    .dataframe thead th {\n",
       "        text-align: right;\n",
       "    }\n",
       "</style>\n",
       "<table border=\"1\" class=\"dataframe\">\n",
       "  <thead>\n",
       "    <tr style=\"text-align: right;\">\n",
       "      <th></th>\n",
       "      <th>avg_rating</th>\n",
       "      <th>paxpercar_8</th>\n",
       "      <th>paxpercar_12</th>\n",
       "      <th>total_dark_time_7</th>\n",
       "      <th>total_dark_time_12</th>\n",
       "      <th>flashing_lights_Yes</th>\n",
       "      <th>theme_Pumpkin_Terror</th>\n",
       "      <th>theme_Vampire</th>\n",
       "      <th>theme_Zombie Apocalypse</th>\n",
       "      <th>total_time_240</th>\n",
       "      <th>total_time_420</th>\n",
       "      <th>ghost_touch_Yes</th>\n",
       "      <th>no_phone_zone_Yes</th>\n",
       "    </tr>\n",
       "  </thead>\n",
       "  <tbody>\n",
       "    <tr>\n",
       "      <th>0</th>\n",
       "      <td>5.455046</td>\n",
       "      <td>0</td>\n",
       "      <td>0</td>\n",
       "      <td>0</td>\n",
       "      <td>0</td>\n",
       "      <td>1</td>\n",
       "      <td>1</td>\n",
       "      <td>0</td>\n",
       "      <td>0</td>\n",
       "      <td>0</td>\n",
       "      <td>0</td>\n",
       "      <td>1</td>\n",
       "      <td>1</td>\n",
       "    </tr>\n",
       "    <tr>\n",
       "      <th>1</th>\n",
       "      <td>4.354482</td>\n",
       "      <td>0</td>\n",
       "      <td>0</td>\n",
       "      <td>0</td>\n",
       "      <td>0</td>\n",
       "      <td>1</td>\n",
       "      <td>1</td>\n",
       "      <td>0</td>\n",
       "      <td>0</td>\n",
       "      <td>0</td>\n",
       "      <td>0</td>\n",
       "      <td>1</td>\n",
       "      <td>0</td>\n",
       "    </tr>\n",
       "    <tr>\n",
       "      <th>2</th>\n",
       "      <td>5.186594</td>\n",
       "      <td>0</td>\n",
       "      <td>0</td>\n",
       "      <td>0</td>\n",
       "      <td>0</td>\n",
       "      <td>1</td>\n",
       "      <td>1</td>\n",
       "      <td>0</td>\n",
       "      <td>0</td>\n",
       "      <td>0</td>\n",
       "      <td>0</td>\n",
       "      <td>0</td>\n",
       "      <td>1</td>\n",
       "    </tr>\n",
       "    <tr>\n",
       "      <th>3</th>\n",
       "      <td>9.282721</td>\n",
       "      <td>0</td>\n",
       "      <td>0</td>\n",
       "      <td>0</td>\n",
       "      <td>0</td>\n",
       "      <td>1</td>\n",
       "      <td>1</td>\n",
       "      <td>0</td>\n",
       "      <td>0</td>\n",
       "      <td>0</td>\n",
       "      <td>0</td>\n",
       "      <td>0</td>\n",
       "      <td>0</td>\n",
       "    </tr>\n",
       "    <tr>\n",
       "      <th>4</th>\n",
       "      <td>5.205072</td>\n",
       "      <td>0</td>\n",
       "      <td>0</td>\n",
       "      <td>0</td>\n",
       "      <td>0</td>\n",
       "      <td>1</td>\n",
       "      <td>1</td>\n",
       "      <td>0</td>\n",
       "      <td>0</td>\n",
       "      <td>1</td>\n",
       "      <td>0</td>\n",
       "      <td>1</td>\n",
       "      <td>1</td>\n",
       "    </tr>\n",
       "  </tbody>\n",
       "</table>\n",
       "</div>"
      ],
      "text/plain": [
       "   avg_rating  paxpercar_8  paxpercar_12  total_dark_time_7  \\\n",
       "0    5.455046            0             0                  0   \n",
       "1    4.354482            0             0                  0   \n",
       "2    5.186594            0             0                  0   \n",
       "3    9.282721            0             0                  0   \n",
       "4    5.205072            0             0                  0   \n",
       "\n",
       "   total_dark_time_12  flashing_lights_Yes  theme_Pumpkin_Terror  \\\n",
       "0                   0                    1                     1   \n",
       "1                   0                    1                     1   \n",
       "2                   0                    1                     1   \n",
       "3                   0                    1                     1   \n",
       "4                   0                    1                     1   \n",
       "\n",
       "   theme_Vampire  theme_Zombie Apocalypse  total_time_240  total_time_420  \\\n",
       "0              0                        0               0               0   \n",
       "1              0                        0               0               0   \n",
       "2              0                        0               0               0   \n",
       "3              0                        0               0               0   \n",
       "4              0                        0               1               0   \n",
       "\n",
       "   ghost_touch_Yes  no_phone_zone_Yes  \n",
       "0                1                  1  \n",
       "1                1                  0  \n",
       "2                0                  1  \n",
       "3                0                  0  \n",
       "4                1                  1  "
      ]
     },
     "execution_count": 30,
     "metadata": {},
     "output_type": "execute_result"
    }
   ],
   "source": [
    "hh3.head()"
   ]
  },
  {
   "cell_type": "markdown",
   "id": "9952462a",
   "metadata": {},
   "source": [
    "a. Why should the numeric input variables based on this survey data be dummified?\n",
    "\n",
    "This way, the model will treat the values for these variables as a series of specific discrete options, rather than as a continuous range.\n",
    "\n",
    "Reference\n",
    "\n",
    "Gómez, G. P. (2021, May 29). Metric-based (ratings-based) conjoint analysis. Medium. Retrieved October 9, 2022, from https://towardsdatascience.com/metric-based-ratings-based-conjoint-analysis-844655f4e269 "
   ]
  },
  {
   "cell_type": "code",
   "execution_count": 31,
   "id": "458025a3",
   "metadata": {},
   "outputs": [
    {
     "data": {
      "text/plain": [
       "Index(['avg_rating', 'paxpercar_8', 'paxpercar_12', 'total_dark_time_7',\n",
       "       'total_dark_time_12', 'flashing_lights_Yes', 'theme_Pumpkin_Terror',\n",
       "       'theme_Vampire', 'theme_Zombie Apocalypse', 'total_time_240',\n",
       "       'total_time_420', 'ghost_touch_Yes', 'no_phone_zone_Yes'],\n",
       "      dtype='object')"
      ]
     },
     "execution_count": 31,
     "metadata": {},
     "output_type": "execute_result"
    }
   ],
   "source": [
    "# D. Build a linear model with your data, using the average rating as the outcome variable, \n",
    "# and with all of your other variables as inputs:\n",
    "\n",
    "hh3.columns"
   ]
  },
  {
   "cell_type": "code",
   "execution_count": 32,
   "id": "cbda53d1",
   "metadata": {},
   "outputs": [],
   "source": [
    "X = hh3[['paxpercar_8', 'paxpercar_12', 'total_dark_time_7',\n",
    "         'total_dark_time_12', 'flashing_lights_Yes', 'theme_Pumpkin_Terror',\n",
    "         'theme_Vampire', 'theme_Zombie Apocalypse', 'total_time_240',\n",
    "         'total_time_420', 'ghost_touch_Yes', 'no_phone_zone_Yes']]\n",
    "y = hh3['avg_rating']"
   ]
  },
  {
   "cell_type": "code",
   "execution_count": 33,
   "id": "a65791c5",
   "metadata": {},
   "outputs": [
    {
     "data": {
      "text/plain": [
       "LinearRegression()"
      ]
     },
     "execution_count": 33,
     "metadata": {},
     "output_type": "execute_result"
    }
   ],
   "source": [
    "from sklearn.linear_model import LinearRegression\n",
    "from sklearn import metrics\n",
    "\n",
    "regressor = LinearRegression()\n",
    "regressor.fit(X, y)"
   ]
  },
  {
   "cell_type": "code",
   "execution_count": 34,
   "id": "243426ba",
   "metadata": {},
   "outputs": [
    {
     "data": {
      "text/plain": [
       "5.896481750848409"
      ]
     },
     "execution_count": 34,
     "metadata": {},
     "output_type": "execute_result"
    }
   ],
   "source": [
    "regressor.intercept_"
   ]
  },
  {
   "cell_type": "code",
   "execution_count": 35,
   "id": "af96f9c8",
   "metadata": {},
   "outputs": [
    {
     "data": {
      "text/html": [
       "<div>\n",
       "<style scoped>\n",
       "    .dataframe tbody tr th:only-of-type {\n",
       "        vertical-align: middle;\n",
       "    }\n",
       "\n",
       "    .dataframe tbody tr th {\n",
       "        vertical-align: top;\n",
       "    }\n",
       "\n",
       "    .dataframe thead th {\n",
       "        text-align: right;\n",
       "    }\n",
       "</style>\n",
       "<table border=\"1\" class=\"dataframe\">\n",
       "  <thead>\n",
       "    <tr style=\"text-align: right;\">\n",
       "      <th></th>\n",
       "      <th>Coefficient</th>\n",
       "    </tr>\n",
       "  </thead>\n",
       "  <tbody>\n",
       "    <tr>\n",
       "      <th>paxpercar_8</th>\n",
       "      <td>-0.670634</td>\n",
       "    </tr>\n",
       "    <tr>\n",
       "      <th>paxpercar_12</th>\n",
       "      <td>-0.254146</td>\n",
       "    </tr>\n",
       "    <tr>\n",
       "      <th>total_dark_time_7</th>\n",
       "      <td>-0.135522</td>\n",
       "    </tr>\n",
       "    <tr>\n",
       "      <th>total_dark_time_12</th>\n",
       "      <td>-0.704311</td>\n",
       "    </tr>\n",
       "    <tr>\n",
       "      <th>flashing_lights_Yes</th>\n",
       "      <td>0.765746</td>\n",
       "    </tr>\n",
       "    <tr>\n",
       "      <th>theme_Pumpkin_Terror</th>\n",
       "      <td>0.281009</td>\n",
       "    </tr>\n",
       "    <tr>\n",
       "      <th>theme_Vampire</th>\n",
       "      <td>1.065442</td>\n",
       "    </tr>\n",
       "    <tr>\n",
       "      <th>theme_Zombie Apocalypse</th>\n",
       "      <td>0.370184</td>\n",
       "    </tr>\n",
       "    <tr>\n",
       "      <th>total_time_240</th>\n",
       "      <td>0.723643</td>\n",
       "    </tr>\n",
       "    <tr>\n",
       "      <th>total_time_420</th>\n",
       "      <td>0.116849</td>\n",
       "    </tr>\n",
       "    <tr>\n",
       "      <th>ghost_touch_Yes</th>\n",
       "      <td>-2.562132</td>\n",
       "    </tr>\n",
       "    <tr>\n",
       "      <th>no_phone_zone_Yes</th>\n",
       "      <td>-0.260497</td>\n",
       "    </tr>\n",
       "  </tbody>\n",
       "</table>\n",
       "</div>"
      ],
      "text/plain": [
       "                         Coefficient\n",
       "paxpercar_8                -0.670634\n",
       "paxpercar_12               -0.254146\n",
       "total_dark_time_7          -0.135522\n",
       "total_dark_time_12         -0.704311\n",
       "flashing_lights_Yes         0.765746\n",
       "theme_Pumpkin_Terror        0.281009\n",
       "theme_Vampire               1.065442\n",
       "theme_Zombie Apocalypse     0.370184\n",
       "total_time_240              0.723643\n",
       "total_time_420              0.116849\n",
       "ghost_touch_Yes            -2.562132\n",
       "no_phone_zone_Yes          -0.260497"
      ]
     },
     "execution_count": 35,
     "metadata": {},
     "output_type": "execute_result"
    }
   ],
   "source": [
    "# E. Display the coefficient values of your model inputs:\n",
    "\n",
    "coef_df = pd.DataFrame(regressor.coef_, X.columns, columns = ['Coefficient'])\n",
    "coef_df"
   ]
  },
  {
   "cell_type": "code",
   "execution_count": 36,
   "id": "763890e8",
   "metadata": {},
   "outputs": [
    {
     "data": {
      "text/plain": [
       "array([-0.67063362, -0.25414571, -0.13552227, -0.70431051,  0.7657463 ,\n",
       "        0.28100855,  1.06544152,  0.3701841 ,  0.723643  ,  0.11684914,\n",
       "       -2.56213199, -0.26049661])"
      ]
     },
     "execution_count": 36,
     "metadata": {},
     "output_type": "execute_result"
    }
   ],
   "source": [
    "regressor.coef_"
   ]
  },
  {
   "cell_type": "markdown",
   "id": "cef1b311",
   "metadata": {},
   "source": [
    "F. Now, deliver some paragraphs of analysis for Lobster Land management about\n",
    "what your model is showing you.\n",
    "It would be good here to include some detail about which features seemed to be most popular, or least popular, among respondents. However, a truly thoughtful answer to this question will go beyond simply listing the coefficients in order of popularity. What other insights can you draw from this? Is there anything else you would want to consider before simply recommending that Lobster Land implement the ‘most popular’ options? Remember, Lobster Land hired you as a consultant -- don’t be afraid to show some creativity here.\n",
    "\n",
    "From the analysis, we can tell the most unpopular option is the no-phone zone, so we might want to avoid that. One reason we think people hate the no-phone zone is that we can use the phone as a flashlight, so we can provide our customers with a small flashlight with very low brightness. We can also sell two types of tickets: one with the flashlight for a higher price; one without the flashlight for the regular price. The most popular option of the number of people who can go on the ride at once is 8. The most popular total time in the dark is 12 seconds. Survey also showed more people are sensitive to flashing lights so we may also want to cancel this part. The Vampire theme is the most popular and the Pumpkin Terror theme is the least popular. A total time of 420 seconds is a good length since it was the most popular. People do not like ghost touch but I suggest keeping it. If we avoided all the scary stuff, the haunted hayride will become less attractive."
   ]
  }
 ],
 "metadata": {
  "kernelspec": {
   "display_name": "Python 3 (ipykernel)",
   "language": "python",
   "name": "python3"
  },
  "language_info": {
   "codemirror_mode": {
    "name": "ipython",
    "version": 3
   },
   "file_extension": ".py",
   "mimetype": "text/x-python",
   "name": "python",
   "nbconvert_exporter": "python",
   "pygments_lexer": "ipython3",
   "version": "3.9.12"
  }
 },
 "nbformat": 4,
 "nbformat_minor": 5
}
