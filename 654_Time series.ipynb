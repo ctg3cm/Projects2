{
 "cells": [
  {
   "attachments": {},
   "cell_type": "markdown",
   "id": "bc2da990",
   "metadata": {},
   "source": [
    "Tiange Chang\n",
    "\n",
    "Handling Time Series Data & Modeling with an Interaction Term\n",
    "\n",
    "Part I: Working with Time Series Data"
   ]
  },
  {
   "cell_type": "markdown",
   "id": "46cf112b",
   "metadata": {},
   "source": [
    "A. Pick any publicly-traded company that trades on the Nasdaq or the NYSE. \n",
    "\n",
    "a. What company did you select, and what is its ticker symbol?"
   ]
  },
  {
   "cell_type": "markdown",
   "id": "e852ef1a",
   "metadata": {},
   "source": [
    "I picked Apple. The ticker symbol is AAPL."
   ]
  },
  {
   "cell_type": "markdown",
   "id": "b5d564cc",
   "metadata": {},
   "source": [
    "B. Go to Yahoo! Finance: finance.yahoo.com. Enter your company’s ticker symbol in the search bar near the top of your screen. Next, click on “Historical Data” and then “Download.” This will automatically download a .csv with one year’s worth of the company’s data onto your computer."
   ]
  },
  {
   "cell_type": "markdown",
   "id": "bf23be48",
   "metadata": {},
   "source": [
    "AAPL.csv downloaded"
   ]
  },
  {
   "cell_type": "markdown",
   "id": "4015cd78",
   "metadata": {},
   "source": [
    "C. Bring the dataset into your environment. For this step, bring the dataset into your environment using read_csv() from pandas -- but now, add some extra parameters to that function: index_col=’Date’ and parse_dates=True."
   ]
  },
  {
   "cell_type": "code",
   "execution_count": 1,
   "id": "3ae58f03",
   "metadata": {},
   "outputs": [],
   "source": [
    "import numpy as np\n",
    "import pandas as pd\n",
    "import seaborn as sns\n",
    "\n",
    "AAPL = pd.read_csv('AAPL.csv', index_col = 'Date', parse_dates = True)"
   ]
  },
  {
   "cell_type": "markdown",
   "id": "ce36d3a5",
   "metadata": {},
   "source": [
    "a. Use the head() function to explore the variables, and show your results."
   ]
  },
  {
   "cell_type": "code",
   "execution_count": 2,
   "id": "a942441c",
   "metadata": {},
   "outputs": [
    {
     "data": {
      "text/html": [
       "<div>\n",
       "<style scoped>\n",
       "    .dataframe tbody tr th:only-of-type {\n",
       "        vertical-align: middle;\n",
       "    }\n",
       "\n",
       "    .dataframe tbody tr th {\n",
       "        vertical-align: top;\n",
       "    }\n",
       "\n",
       "    .dataframe thead th {\n",
       "        text-align: right;\n",
       "    }\n",
       "</style>\n",
       "<table border=\"1\" class=\"dataframe\">\n",
       "  <thead>\n",
       "    <tr style=\"text-align: right;\">\n",
       "      <th></th>\n",
       "      <th>Open</th>\n",
       "      <th>High</th>\n",
       "      <th>Low</th>\n",
       "      <th>Close</th>\n",
       "      <th>Adj Close</th>\n",
       "      <th>Volume</th>\n",
       "    </tr>\n",
       "    <tr>\n",
       "      <th>Date</th>\n",
       "      <th></th>\n",
       "      <th></th>\n",
       "      <th></th>\n",
       "      <th></th>\n",
       "      <th></th>\n",
       "      <th></th>\n",
       "    </tr>\n",
       "  </thead>\n",
       "  <tbody>\n",
       "    <tr>\n",
       "      <th>2021-11-26</th>\n",
       "      <td>159.570007</td>\n",
       "      <td>160.449997</td>\n",
       "      <td>156.360001</td>\n",
       "      <td>156.809998</td>\n",
       "      <td>155.905151</td>\n",
       "      <td>76959800</td>\n",
       "    </tr>\n",
       "    <tr>\n",
       "      <th>2021-11-29</th>\n",
       "      <td>159.369995</td>\n",
       "      <td>161.190002</td>\n",
       "      <td>158.789993</td>\n",
       "      <td>160.240005</td>\n",
       "      <td>159.315384</td>\n",
       "      <td>88748200</td>\n",
       "    </tr>\n",
       "    <tr>\n",
       "      <th>2021-11-30</th>\n",
       "      <td>159.990005</td>\n",
       "      <td>165.520004</td>\n",
       "      <td>159.919998</td>\n",
       "      <td>165.300003</td>\n",
       "      <td>164.346176</td>\n",
       "      <td>174048100</td>\n",
       "    </tr>\n",
       "    <tr>\n",
       "      <th>2021-12-01</th>\n",
       "      <td>167.479996</td>\n",
       "      <td>170.300003</td>\n",
       "      <td>164.529999</td>\n",
       "      <td>164.770004</td>\n",
       "      <td>163.819244</td>\n",
       "      <td>152052500</td>\n",
       "    </tr>\n",
       "    <tr>\n",
       "      <th>2021-12-02</th>\n",
       "      <td>158.740005</td>\n",
       "      <td>164.199997</td>\n",
       "      <td>157.800003</td>\n",
       "      <td>163.759995</td>\n",
       "      <td>162.815048</td>\n",
       "      <td>136739200</td>\n",
       "    </tr>\n",
       "  </tbody>\n",
       "</table>\n",
       "</div>"
      ],
      "text/plain": [
       "                  Open        High         Low       Close   Adj Close  \\\n",
       "Date                                                                     \n",
       "2021-11-26  159.570007  160.449997  156.360001  156.809998  155.905151   \n",
       "2021-11-29  159.369995  161.190002  158.789993  160.240005  159.315384   \n",
       "2021-11-30  159.990005  165.520004  159.919998  165.300003  164.346176   \n",
       "2021-12-01  167.479996  170.300003  164.529999  164.770004  163.819244   \n",
       "2021-12-02  158.740005  164.199997  157.800003  163.759995  162.815048   \n",
       "\n",
       "               Volume  \n",
       "Date                   \n",
       "2021-11-26   76959800  \n",
       "2021-11-29   88748200  \n",
       "2021-11-30  174048100  \n",
       "2021-12-01  152052500  \n",
       "2021-12-02  136739200  "
      ]
     },
     "execution_count": 2,
     "metadata": {},
     "output_type": "execute_result"
    }
   ],
   "source": [
    "AAPL.head()"
   ]
  },
  {
   "cell_type": "markdown",
   "id": "192ce663",
   "metadata": {},
   "source": [
    "b. Next, call the info() function on your dataset, and show your results."
   ]
  },
  {
   "cell_type": "code",
   "execution_count": 3,
   "id": "70181994",
   "metadata": {},
   "outputs": [
    {
     "name": "stdout",
     "output_type": "stream",
     "text": [
      "<class 'pandas.core.frame.DataFrame'>\n",
      "DatetimeIndex: 252 entries, 2021-11-26 to 2022-11-25\n",
      "Data columns (total 6 columns):\n",
      " #   Column     Non-Null Count  Dtype  \n",
      "---  ------     --------------  -----  \n",
      " 0   Open       252 non-null    float64\n",
      " 1   High       252 non-null    float64\n",
      " 2   Low        252 non-null    float64\n",
      " 3   Close      252 non-null    float64\n",
      " 4   Adj Close  252 non-null    float64\n",
      " 5   Volume     252 non-null    int64  \n",
      "dtypes: float64(5), int64(1)\n",
      "memory usage: 13.8 KB\n"
     ]
    }
   ],
   "source": [
    "AAPL.info()"
   ]
  },
  {
   "cell_type": "markdown",
   "id": "375031b6",
   "metadata": {},
   "source": [
    "D. Is this dataframe indexed by time values? How do you know this?"
   ]
  },
  {
   "cell_type": "markdown",
   "id": "0dc2bfac",
   "metadata": {},
   "source": [
    "Yes, the dataframe is indexed by time values because the data involves measurements that contain both numeric values and a meaningful timestamp associated with each of those values."
   ]
  },
  {
   "cell_type": "markdown",
   "id": "3b36005a",
   "metadata": {},
   "source": [
    "E. In your Jupyter Notebook, view the index attribute of your time series.\n",
    "\n",
    "a. Now, view the max and min value of your index attribute."
   ]
  },
  {
   "cell_type": "code",
   "execution_count": 4,
   "id": "4aed6603",
   "metadata": {},
   "outputs": [
    {
     "data": {
      "text/html": [
       "<div>\n",
       "<style scoped>\n",
       "    .dataframe tbody tr th:only-of-type {\n",
       "        vertical-align: middle;\n",
       "    }\n",
       "\n",
       "    .dataframe tbody tr th {\n",
       "        vertical-align: top;\n",
       "    }\n",
       "\n",
       "    .dataframe thead th {\n",
       "        text-align: right;\n",
       "    }\n",
       "</style>\n",
       "<table border=\"1\" class=\"dataframe\">\n",
       "  <thead>\n",
       "    <tr style=\"text-align: right;\">\n",
       "      <th></th>\n",
       "      <th>Open</th>\n",
       "      <th>High</th>\n",
       "      <th>Low</th>\n",
       "      <th>Close</th>\n",
       "      <th>Adj Close</th>\n",
       "      <th>Volume</th>\n",
       "    </tr>\n",
       "  </thead>\n",
       "  <tbody>\n",
       "    <tr>\n",
       "      <th>count</th>\n",
       "      <td>252.000000</td>\n",
       "      <td>252.000000</td>\n",
       "      <td>252.000000</td>\n",
       "      <td>252.000000</td>\n",
       "      <td>252.000000</td>\n",
       "      <td>2.520000e+02</td>\n",
       "    </tr>\n",
       "    <tr>\n",
       "      <th>mean</th>\n",
       "      <td>157.934702</td>\n",
       "      <td>160.124048</td>\n",
       "      <td>155.881151</td>\n",
       "      <td>158.076746</td>\n",
       "      <td>157.526930</td>\n",
       "      <td>9.087565e+07</td>\n",
       "    </tr>\n",
       "    <tr>\n",
       "      <th>std</th>\n",
       "      <td>12.867185</td>\n",
       "      <td>12.687927</td>\n",
       "      <td>12.900898</td>\n",
       "      <td>12.797039</td>\n",
       "      <td>12.588204</td>\n",
       "      <td>2.628940e+07</td>\n",
       "    </tr>\n",
       "    <tr>\n",
       "      <th>min</th>\n",
       "      <td>130.070007</td>\n",
       "      <td>132.389999</td>\n",
       "      <td>129.039993</td>\n",
       "      <td>130.059998</td>\n",
       "      <td>129.664490</td>\n",
       "      <td>2.622796e+07</td>\n",
       "    </tr>\n",
       "    <tr>\n",
       "      <th>25%</th>\n",
       "      <td>147.162502</td>\n",
       "      <td>149.747501</td>\n",
       "      <td>145.177502</td>\n",
       "      <td>147.997498</td>\n",
       "      <td>147.885014</td>\n",
       "      <td>7.340735e+07</td>\n",
       "    </tr>\n",
       "    <tr>\n",
       "      <th>50%</th>\n",
       "      <td>159.114998</td>\n",
       "      <td>160.855004</td>\n",
       "      <td>155.889999</td>\n",
       "      <td>157.960007</td>\n",
       "      <td>157.473519</td>\n",
       "      <td>8.638125e+07</td>\n",
       "    </tr>\n",
       "    <tr>\n",
       "      <th>75%</th>\n",
       "      <td>169.232502</td>\n",
       "      <td>171.057503</td>\n",
       "      <td>167.220001</td>\n",
       "      <td>168.970005</td>\n",
       "      <td>168.350849</td>\n",
       "      <td>1.024875e+08</td>\n",
       "    </tr>\n",
       "    <tr>\n",
       "      <th>max</th>\n",
       "      <td>182.630005</td>\n",
       "      <td>182.940002</td>\n",
       "      <td>179.119995</td>\n",
       "      <td>182.009995</td>\n",
       "      <td>180.959747</td>\n",
       "      <td>1.954327e+08</td>\n",
       "    </tr>\n",
       "  </tbody>\n",
       "</table>\n",
       "</div>"
      ],
      "text/plain": [
       "             Open        High         Low       Close   Adj Close  \\\n",
       "count  252.000000  252.000000  252.000000  252.000000  252.000000   \n",
       "mean   157.934702  160.124048  155.881151  158.076746  157.526930   \n",
       "std     12.867185   12.687927   12.900898   12.797039   12.588204   \n",
       "min    130.070007  132.389999  129.039993  130.059998  129.664490   \n",
       "25%    147.162502  149.747501  145.177502  147.997498  147.885014   \n",
       "50%    159.114998  160.855004  155.889999  157.960007  157.473519   \n",
       "75%    169.232502  171.057503  167.220001  168.970005  168.350849   \n",
       "max    182.630005  182.940002  179.119995  182.009995  180.959747   \n",
       "\n",
       "             Volume  \n",
       "count  2.520000e+02  \n",
       "mean   9.087565e+07  \n",
       "std    2.628940e+07  \n",
       "min    2.622796e+07  \n",
       "25%    7.340735e+07  \n",
       "50%    8.638125e+07  \n",
       "75%    1.024875e+08  \n",
       "max    1.954327e+08  "
      ]
     },
     "execution_count": 4,
     "metadata": {},
     "output_type": "execute_result"
    }
   ],
   "source": [
    "AAPL.describe()"
   ]
  },
  {
   "cell_type": "code",
   "execution_count": 5,
   "id": "9b422aa7",
   "metadata": {},
   "outputs": [
    {
     "data": {
      "text/html": [
       "<div>\n",
       "<style scoped>\n",
       "    .dataframe tbody tr th:only-of-type {\n",
       "        vertical-align: middle;\n",
       "    }\n",
       "\n",
       "    .dataframe tbody tr th {\n",
       "        vertical-align: top;\n",
       "    }\n",
       "\n",
       "    .dataframe thead th {\n",
       "        text-align: right;\n",
       "    }\n",
       "</style>\n",
       "<table border=\"1\" class=\"dataframe\">\n",
       "  <thead>\n",
       "    <tr style=\"text-align: right;\">\n",
       "      <th></th>\n",
       "      <th>Open</th>\n",
       "      <th>High</th>\n",
       "      <th>Low</th>\n",
       "      <th>Close</th>\n",
       "      <th>Adj Close</th>\n",
       "      <th>Volume</th>\n",
       "    </tr>\n",
       "    <tr>\n",
       "      <th>Date</th>\n",
       "      <th></th>\n",
       "      <th></th>\n",
       "      <th></th>\n",
       "      <th></th>\n",
       "      <th></th>\n",
       "      <th></th>\n",
       "    </tr>\n",
       "  </thead>\n",
       "  <tbody>\n",
       "    <tr>\n",
       "      <th>2022-01-03</th>\n",
       "      <td>177.830002</td>\n",
       "      <td>182.880005</td>\n",
       "      <td>177.710007</td>\n",
       "      <td>182.009995</td>\n",
       "      <td>180.959747</td>\n",
       "      <td>104487900</td>\n",
       "    </tr>\n",
       "  </tbody>\n",
       "</table>\n",
       "</div>"
      ],
      "text/plain": [
       "                  Open        High         Low       Close   Adj Close  \\\n",
       "Date                                                                     \n",
       "2022-01-03  177.830002  182.880005  177.710007  182.009995  180.959747   \n",
       "\n",
       "               Volume  \n",
       "Date                   \n",
       "2022-01-03  104487900  "
      ]
     },
     "execution_count": 5,
     "metadata": {},
     "output_type": "execute_result"
    }
   ],
   "source": [
    "AAPL.loc[AAPL['Close'] == 182.009995]"
   ]
  },
  {
   "cell_type": "code",
   "execution_count": 6,
   "id": "19ab92e2",
   "metadata": {},
   "outputs": [
    {
     "data": {
      "text/plain": [
       "Open        2022-01-04\n",
       "High        2022-01-04\n",
       "Low         2022-01-04\n",
       "Close       2022-01-03\n",
       "Adj Close   2022-01-03\n",
       "Volume      2021-12-17\n",
       "dtype: datetime64[ns]"
      ]
     },
     "execution_count": 6,
     "metadata": {},
     "output_type": "execute_result"
    }
   ],
   "source": [
    "AAPL.idxmax()"
   ]
  },
  {
   "cell_type": "code",
   "execution_count": 7,
   "id": "aa88c23f",
   "metadata": {},
   "outputs": [
    {
     "data": {
      "text/html": [
       "<div>\n",
       "<style scoped>\n",
       "    .dataframe tbody tr th:only-of-type {\n",
       "        vertical-align: middle;\n",
       "    }\n",
       "\n",
       "    .dataframe tbody tr th {\n",
       "        vertical-align: top;\n",
       "    }\n",
       "\n",
       "    .dataframe thead th {\n",
       "        text-align: right;\n",
       "    }\n",
       "</style>\n",
       "<table border=\"1\" class=\"dataframe\">\n",
       "  <thead>\n",
       "    <tr style=\"text-align: right;\">\n",
       "      <th></th>\n",
       "      <th>Open</th>\n",
       "      <th>High</th>\n",
       "      <th>Low</th>\n",
       "      <th>Close</th>\n",
       "      <th>Adj Close</th>\n",
       "      <th>Volume</th>\n",
       "    </tr>\n",
       "    <tr>\n",
       "      <th>Date</th>\n",
       "      <th></th>\n",
       "      <th></th>\n",
       "      <th></th>\n",
       "      <th></th>\n",
       "      <th></th>\n",
       "      <th></th>\n",
       "    </tr>\n",
       "  </thead>\n",
       "  <tbody>\n",
       "    <tr>\n",
       "      <th>2022-06-16</th>\n",
       "      <td>132.080002</td>\n",
       "      <td>132.389999</td>\n",
       "      <td>129.039993</td>\n",
       "      <td>130.059998</td>\n",
       "      <td>129.66449</td>\n",
       "      <td>108123900</td>\n",
       "    </tr>\n",
       "  </tbody>\n",
       "</table>\n",
       "</div>"
      ],
      "text/plain": [
       "                  Open        High         Low       Close  Adj Close  \\\n",
       "Date                                                                    \n",
       "2022-06-16  132.080002  132.389999  129.039993  130.059998  129.66449   \n",
       "\n",
       "               Volume  \n",
       "Date                   \n",
       "2022-06-16  108123900  "
      ]
     },
     "execution_count": 7,
     "metadata": {},
     "output_type": "execute_result"
    }
   ],
   "source": [
    "AAPL.loc[AAPL['Close'] == 130.059998]"
   ]
  },
  {
   "cell_type": "code",
   "execution_count": 8,
   "id": "a568fe92",
   "metadata": {},
   "outputs": [
    {
     "data": {
      "text/plain": [
       "Open        2022-06-17\n",
       "High        2022-06-16\n",
       "Low         2022-06-16\n",
       "Close       2022-06-16\n",
       "Adj Close   2022-06-16\n",
       "Volume      2022-11-25\n",
       "dtype: datetime64[ns]"
      ]
     },
     "execution_count": 8,
     "metadata": {},
     "output_type": "execute_result"
    }
   ],
   "source": [
    "AAPL.idxmin()"
   ]
  },
  {
   "cell_type": "markdown",
   "id": "4d3bb2b1",
   "metadata": {},
   "source": [
    "b. Now, view the argmax and argmin values of your index attribute."
   ]
  },
  {
   "cell_type": "code",
   "execution_count": 9,
   "id": "1ae48b2c",
   "metadata": {},
   "outputs": [
    {
     "data": {
      "text/plain": [
       "95"
      ]
     },
     "execution_count": 9,
     "metadata": {},
     "output_type": "execute_result"
    }
   ],
   "source": [
    "np.argmax(AAPL)"
   ]
  },
  {
   "cell_type": "code",
   "execution_count": 10,
   "id": "94292915",
   "metadata": {},
   "outputs": [
    {
     "data": {
      "text/plain": [
       "836"
      ]
     },
     "execution_count": 10,
     "metadata": {},
     "output_type": "execute_result"
    }
   ],
   "source": [
    "np.argmin(AAPL)"
   ]
  },
  {
   "cell_type": "markdown",
   "id": "2d3eb0c8",
   "metadata": {},
   "source": [
    "c. What do the results of max, min, argmax, and argmin represent?"
   ]
  },
  {
   "cell_type": "markdown",
   "id": "009036a1",
   "metadata": {},
   "source": [
    "The max & min showed the date of the max & min value. \n",
    "\n",
    "The argmax & argmin showed the position of the index of the max & min value. "
   ]
  },
  {
   "cell_type": "markdown",
   "id": "ad428490",
   "metadata": {},
   "source": [
    "F. Let’s visualize the entire time series.\n",
    "\n",
    "a. First, just call .plot() on your dataframe object."
   ]
  },
  {
   "cell_type": "code",
   "execution_count": 11,
   "id": "29b83ab4",
   "metadata": {},
   "outputs": [
    {
     "data": {
      "text/plain": [
       "<AxesSubplot:xlabel='Date'>"
      ]
     },
     "execution_count": 11,
     "metadata": {},
     "output_type": "execute_result"
    },
    {
     "data": {
      "image/png": "[encoded data removed]",
      "text/plain": [
       "<Figure size 1152x648 with 1 Axes>"
      ]
     },
     "metadata": {
      "needs_background": "light"
     },
     "output_type": "display_data"
    }
   ],
   "source": [
    "AAPL.plot(figsize = (16, 9))"
   ]
  },
  {
   "cell_type": "markdown",
   "id": "cbcb14e6",
   "metadata": {},
   "source": [
    "i. Describe what you see here. Why is this a challenging graph to interpret? What would make it easier to understand?"
   ]
  },
  {
   "cell_type": "markdown",
   "id": "efea79b1",
   "metadata": {},
   "source": [
    "Only Volume has a clear look in the plot. Other variables are overlapped, and showed a straight line. The value of other variables is too small compared to Volume. One way to solve it is to delete Volume and re-plot it. "
   ]
  },
  {
   "cell_type": "markdown",
   "id": "6077daed",
   "metadata": {},
   "source": [
    "b. Now, re-run the .plot() function, but this time, call that function on the ‘Close’ variable only."
   ]
  },
  {
   "cell_type": "code",
   "execution_count": 12,
   "id": "666a90a0",
   "metadata": {},
   "outputs": [
    {
     "data": {
      "text/plain": [
       "<AxesSubplot:xlabel='Date'>"
      ]
     },
     "execution_count": 12,
     "metadata": {},
     "output_type": "execute_result"
    },
    {
     "data": {
      "image/png": "[encoded data removed]",
      "text/plain": [
       "<Figure size 1152x648 with 1 Axes>"
      ]
     },
     "metadata": {
      "needs_background": "light"
     },
     "output_type": "display_data"
    }
   ],
   "source": [
    "AAPL['Close'].plot(figsize = (16, 9))"
   ]
  },
  {
   "cell_type": "markdown",
   "id": "2079c11d",
   "metadata": {},
   "source": [
    "i. Now, in a couple of sentences, describe what you see. Why is this graph more easily interpretable than the one you plotted in the previous step?"
   ]
  },
  {
   "cell_type": "markdown",
   "id": "6592eef6",
   "metadata": {},
   "source": [
    "I see a plot of Apple stock close price from 2021-11 to 2022-11. The lowest price was 130 on 2022-06-16, and the highest price was 182 on 2022-01-03. \n",
    "\n",
    "It is more easily interpretable than the previous one because it only has one variable and the plot is clear, with no overlaps. "
   ]
  },
  {
   "cell_type": "markdown",
   "id": "6a18f471",
   "metadata": {},
   "source": [
    "c. Plotting a subset of your data "
   ]
  },
  {
   "cell_type": "markdown",
   "id": "d7c0e754",
   "metadata": {},
   "source": [
    "i. Using a slice operation, plot the daily ‘Close’ variable from your dataset for any one-month period of your choice."
   ]
  },
  {
   "cell_type": "code",
   "execution_count": 13,
   "id": "5a9e852e",
   "metadata": {},
   "outputs": [
    {
     "data": {
      "text/html": [
       "<div>\n",
       "<style scoped>\n",
       "    .dataframe tbody tr th:only-of-type {\n",
       "        vertical-align: middle;\n",
       "    }\n",
       "\n",
       "    .dataframe tbody tr th {\n",
       "        vertical-align: top;\n",
       "    }\n",
       "\n",
       "    .dataframe thead th {\n",
       "        text-align: right;\n",
       "    }\n",
       "</style>\n",
       "<table border=\"1\" class=\"dataframe\">\n",
       "  <thead>\n",
       "    <tr style=\"text-align: right;\">\n",
       "      <th></th>\n",
       "      <th>Open</th>\n",
       "      <th>High</th>\n",
       "      <th>Low</th>\n",
       "      <th>Close</th>\n",
       "      <th>Adj Close</th>\n",
       "      <th>Volume</th>\n",
       "    </tr>\n",
       "    <tr>\n",
       "      <th>Date</th>\n",
       "      <th></th>\n",
       "      <th></th>\n",
       "      <th></th>\n",
       "      <th></th>\n",
       "      <th></th>\n",
       "      <th></th>\n",
       "    </tr>\n",
       "  </thead>\n",
       "  <tbody>\n",
       "    <tr>\n",
       "      <th>2021-12-01</th>\n",
       "      <td>167.479996</td>\n",
       "      <td>170.300003</td>\n",
       "      <td>164.529999</td>\n",
       "      <td>164.770004</td>\n",
       "      <td>163.819244</td>\n",
       "      <td>152052500</td>\n",
       "    </tr>\n",
       "    <tr>\n",
       "      <th>2021-12-02</th>\n",
       "      <td>158.740005</td>\n",
       "      <td>164.199997</td>\n",
       "      <td>157.800003</td>\n",
       "      <td>163.759995</td>\n",
       "      <td>162.815048</td>\n",
       "      <td>136739200</td>\n",
       "    </tr>\n",
       "    <tr>\n",
       "      <th>2021-12-03</th>\n",
       "      <td>164.020004</td>\n",
       "      <td>164.960007</td>\n",
       "      <td>159.720001</td>\n",
       "      <td>161.839996</td>\n",
       "      <td>160.906143</td>\n",
       "      <td>118023100</td>\n",
       "    </tr>\n",
       "    <tr>\n",
       "      <th>2021-12-06</th>\n",
       "      <td>164.289993</td>\n",
       "      <td>167.880005</td>\n",
       "      <td>164.279999</td>\n",
       "      <td>165.320007</td>\n",
       "      <td>164.366058</td>\n",
       "      <td>107497000</td>\n",
       "    </tr>\n",
       "    <tr>\n",
       "      <th>2021-12-07</th>\n",
       "      <td>169.080002</td>\n",
       "      <td>171.580002</td>\n",
       "      <td>168.339996</td>\n",
       "      <td>171.179993</td>\n",
       "      <td>170.192230</td>\n",
       "      <td>120405400</td>\n",
       "    </tr>\n",
       "    <tr>\n",
       "      <th>2021-12-08</th>\n",
       "      <td>172.130005</td>\n",
       "      <td>175.960007</td>\n",
       "      <td>170.699997</td>\n",
       "      <td>175.080002</td>\n",
       "      <td>174.069748</td>\n",
       "      <td>116998900</td>\n",
       "    </tr>\n",
       "    <tr>\n",
       "      <th>2021-12-09</th>\n",
       "      <td>174.910004</td>\n",
       "      <td>176.750000</td>\n",
       "      <td>173.919998</td>\n",
       "      <td>174.559998</td>\n",
       "      <td>173.552734</td>\n",
       "      <td>108923700</td>\n",
       "    </tr>\n",
       "    <tr>\n",
       "      <th>2021-12-10</th>\n",
       "      <td>175.210007</td>\n",
       "      <td>179.630005</td>\n",
       "      <td>174.690002</td>\n",
       "      <td>179.449997</td>\n",
       "      <td>178.414520</td>\n",
       "      <td>115402700</td>\n",
       "    </tr>\n",
       "    <tr>\n",
       "      <th>2021-12-13</th>\n",
       "      <td>181.119995</td>\n",
       "      <td>182.130005</td>\n",
       "      <td>175.529999</td>\n",
       "      <td>175.740005</td>\n",
       "      <td>174.725937</td>\n",
       "      <td>153237000</td>\n",
       "    </tr>\n",
       "    <tr>\n",
       "      <th>2021-12-14</th>\n",
       "      <td>175.250000</td>\n",
       "      <td>177.740005</td>\n",
       "      <td>172.210007</td>\n",
       "      <td>174.330002</td>\n",
       "      <td>173.324066</td>\n",
       "      <td>139380400</td>\n",
       "    </tr>\n",
       "    <tr>\n",
       "      <th>2021-12-15</th>\n",
       "      <td>175.110001</td>\n",
       "      <td>179.500000</td>\n",
       "      <td>172.309998</td>\n",
       "      <td>179.300003</td>\n",
       "      <td>178.265381</td>\n",
       "      <td>131063300</td>\n",
       "    </tr>\n",
       "    <tr>\n",
       "      <th>2021-12-16</th>\n",
       "      <td>179.279999</td>\n",
       "      <td>181.139999</td>\n",
       "      <td>170.750000</td>\n",
       "      <td>172.259995</td>\n",
       "      <td>171.266006</td>\n",
       "      <td>150185800</td>\n",
       "    </tr>\n",
       "    <tr>\n",
       "      <th>2021-12-17</th>\n",
       "      <td>169.929993</td>\n",
       "      <td>173.470001</td>\n",
       "      <td>169.690002</td>\n",
       "      <td>171.139999</td>\n",
       "      <td>170.152466</td>\n",
       "      <td>195432700</td>\n",
       "    </tr>\n",
       "    <tr>\n",
       "      <th>2021-12-20</th>\n",
       "      <td>168.279999</td>\n",
       "      <td>170.580002</td>\n",
       "      <td>167.460007</td>\n",
       "      <td>169.750000</td>\n",
       "      <td>168.770493</td>\n",
       "      <td>107499100</td>\n",
       "    </tr>\n",
       "    <tr>\n",
       "      <th>2021-12-21</th>\n",
       "      <td>171.559998</td>\n",
       "      <td>173.199997</td>\n",
       "      <td>169.119995</td>\n",
       "      <td>172.990005</td>\n",
       "      <td>171.991806</td>\n",
       "      <td>91185900</td>\n",
       "    </tr>\n",
       "    <tr>\n",
       "      <th>2021-12-22</th>\n",
       "      <td>173.039993</td>\n",
       "      <td>175.860001</td>\n",
       "      <td>172.149994</td>\n",
       "      <td>175.639999</td>\n",
       "      <td>174.626495</td>\n",
       "      <td>92135300</td>\n",
       "    </tr>\n",
       "    <tr>\n",
       "      <th>2021-12-23</th>\n",
       "      <td>175.850006</td>\n",
       "      <td>176.850006</td>\n",
       "      <td>175.270004</td>\n",
       "      <td>176.279999</td>\n",
       "      <td>175.262802</td>\n",
       "      <td>68356600</td>\n",
       "    </tr>\n",
       "    <tr>\n",
       "      <th>2021-12-27</th>\n",
       "      <td>177.089996</td>\n",
       "      <td>180.419998</td>\n",
       "      <td>177.070007</td>\n",
       "      <td>180.330002</td>\n",
       "      <td>179.289444</td>\n",
       "      <td>74919600</td>\n",
       "    </tr>\n",
       "    <tr>\n",
       "      <th>2021-12-28</th>\n",
       "      <td>180.160004</td>\n",
       "      <td>181.330002</td>\n",
       "      <td>178.529999</td>\n",
       "      <td>179.289993</td>\n",
       "      <td>178.255432</td>\n",
       "      <td>79144300</td>\n",
       "    </tr>\n",
       "    <tr>\n",
       "      <th>2021-12-29</th>\n",
       "      <td>179.330002</td>\n",
       "      <td>180.630005</td>\n",
       "      <td>178.139999</td>\n",
       "      <td>179.380005</td>\n",
       "      <td>178.344925</td>\n",
       "      <td>62348900</td>\n",
       "    </tr>\n",
       "    <tr>\n",
       "      <th>2021-12-30</th>\n",
       "      <td>179.470001</td>\n",
       "      <td>180.570007</td>\n",
       "      <td>178.089996</td>\n",
       "      <td>178.199997</td>\n",
       "      <td>177.171738</td>\n",
       "      <td>59773000</td>\n",
       "    </tr>\n",
       "    <tr>\n",
       "      <th>2021-12-31</th>\n",
       "      <td>178.089996</td>\n",
       "      <td>179.229996</td>\n",
       "      <td>177.259995</td>\n",
       "      <td>177.570007</td>\n",
       "      <td>176.545364</td>\n",
       "      <td>64062300</td>\n",
       "    </tr>\n",
       "  </tbody>\n",
       "</table>\n",
       "</div>"
      ],
      "text/plain": [
       "                  Open        High         Low       Close   Adj Close  \\\n",
       "Date                                                                     \n",
       "2021-12-01  167.479996  170.300003  164.529999  164.770004  163.819244   \n",
       "2021-12-02  158.740005  164.199997  157.800003  163.759995  162.815048   \n",
       "2021-12-03  164.020004  164.960007  159.720001  161.839996  160.906143   \n",
       "2021-12-06  164.289993  167.880005  164.279999  165.320007  164.366058   \n",
       "2021-12-07  169.080002  171.580002  168.339996  171.179993  170.192230   \n",
       "2021-12-08  172.130005  175.960007  170.699997  175.080002  174.069748   \n",
       "2021-12-09  174.910004  176.750000  173.919998  174.559998  173.552734   \n",
       "2021-12-10  175.210007  179.630005  174.690002  179.449997  178.414520   \n",
       "2021-12-13  181.119995  182.130005  175.529999  175.740005  174.725937   \n",
       "2021-12-14  175.250000  177.740005  172.210007  174.330002  173.324066   \n",
       "2021-12-15  175.110001  179.500000  172.309998  179.300003  178.265381   \n",
       "2021-12-16  179.279999  181.139999  170.750000  172.259995  171.266006   \n",
       "2021-12-17  169.929993  173.470001  169.690002  171.139999  170.152466   \n",
       "2021-12-20  168.279999  170.580002  167.460007  169.750000  168.770493   \n",
       "2021-12-21  171.559998  173.199997  169.119995  172.990005  171.991806   \n",
       "2021-12-22  173.039993  175.860001  172.149994  175.639999  174.626495   \n",
       "2021-12-23  175.850006  176.850006  175.270004  176.279999  175.262802   \n",
       "2021-12-27  177.089996  180.419998  177.070007  180.330002  179.289444   \n",
       "2021-12-28  180.160004  181.330002  178.529999  179.289993  178.255432   \n",
       "2021-12-29  179.330002  180.630005  178.139999  179.380005  178.344925   \n",
       "2021-12-30  179.470001  180.570007  178.089996  178.199997  177.171738   \n",
       "2021-12-31  178.089996  179.229996  177.259995  177.570007  176.545364   \n",
       "\n",
       "               Volume  \n",
       "Date                   \n",
       "2021-12-01  152052500  \n",
       "2021-12-02  136739200  \n",
       "2021-12-03  118023100  \n",
       "2021-12-06  107497000  \n",
       "2021-12-07  120405400  \n",
       "2021-12-08  116998900  \n",
       "2021-12-09  108923700  \n",
       "2021-12-10  115402700  \n",
       "2021-12-13  153237000  \n",
       "2021-12-14  139380400  \n",
       "2021-12-15  131063300  \n",
       "2021-12-16  150185800  \n",
       "2021-12-17  195432700  \n",
       "2021-12-20  107499100  \n",
       "2021-12-21   91185900  \n",
       "2021-12-22   92135300  \n",
       "2021-12-23   68356600  \n",
       "2021-12-27   74919600  \n",
       "2021-12-28   79144300  \n",
       "2021-12-29   62348900  \n",
       "2021-12-30   59773000  \n",
       "2021-12-31   64062300  "
      ]
     },
     "execution_count": 13,
     "metadata": {},
     "output_type": "execute_result"
    }
   ],
   "source": [
    "AAPL2 = AAPL.iloc[3:25]\n",
    "AAPL2.head(22) # data from 2021-12-01 to 2021-12-31"
   ]
  },
  {
   "cell_type": "code",
   "execution_count": 14,
   "id": "4c6bd4c0",
   "metadata": {},
   "outputs": [
    {
     "data": {
      "text/plain": [
       "<AxesSubplot:xlabel='Date'>"
      ]
     },
     "execution_count": 14,
     "metadata": {},
     "output_type": "execute_result"
    },
    {
     "data": {
      "image/png": "[encoded data removed]",
      "text/plain": [
       "<Figure size 1152x648 with 1 Axes>"
      ]
     },
     "metadata": {
      "needs_background": "light"
     },
     "output_type": "display_data"
    }
   ],
   "source": [
    "AAPL2['Close'].plot(figsize = (16, 9))"
   ]
  },
  {
   "cell_type": "markdown",
   "id": "bfa9d305",
   "metadata": {},
   "source": [
    "ii. Now, show the plot you drew with the previous step, but with a new figsize, line color, and style"
   ]
  },
  {
   "cell_type": "code",
   "execution_count": 15,
   "id": "8e85fc3d",
   "metadata": {},
   "outputs": [
    {
     "data": {
      "text/plain": [
       "<AxesSubplot:xlabel='Date'>"
      ]
     },
     "execution_count": 15,
     "metadata": {},
     "output_type": "execute_result"
    },
    {
     "data": {
      "image/png": "[encoded data removed]",
      "text/plain": [
       "<Figure size 576x324 with 1 Axes>"
      ]
     },
     "metadata": {
      "needs_background": "light"
     },
     "output_type": "display_data"
    }
   ],
   "source": [
    "AAPL2['Close'].plot(figsize = (8, 4.5), color = 'green', linestyle = 'dashed')"
   ]
  },
  {
   "cell_type": "markdown",
   "id": "c3e9200d",
   "metadata": {},
   "source": [
    "G. Rolling windows\n",
    "\n",
    "a. Generate a 3-period moving average for your ‘Close’ variable, and create a plot that overlays this 3-period average atop the actual daily closingprices."
   ]
  },
  {
   "cell_type": "code",
   "execution_count": 16,
   "id": "f177e4e9",
   "metadata": {},
   "outputs": [
    {
     "data": {
      "text/html": [
       "<div>\n",
       "<style scoped>\n",
       "    .dataframe tbody tr th:only-of-type {\n",
       "        vertical-align: middle;\n",
       "    }\n",
       "\n",
       "    .dataframe tbody tr th {\n",
       "        vertical-align: top;\n",
       "    }\n",
       "\n",
       "    .dataframe thead th {\n",
       "        text-align: right;\n",
       "    }\n",
       "</style>\n",
       "<table border=\"1\" class=\"dataframe\">\n",
       "  <thead>\n",
       "    <tr style=\"text-align: right;\">\n",
       "      <th></th>\n",
       "      <th>Open</th>\n",
       "      <th>High</th>\n",
       "      <th>Low</th>\n",
       "      <th>Close</th>\n",
       "      <th>Adj Close</th>\n",
       "      <th>Volume</th>\n",
       "    </tr>\n",
       "    <tr>\n",
       "      <th>Date</th>\n",
       "      <th></th>\n",
       "      <th></th>\n",
       "      <th></th>\n",
       "      <th></th>\n",
       "      <th></th>\n",
       "      <th></th>\n",
       "    </tr>\n",
       "  </thead>\n",
       "  <tbody>\n",
       "    <tr>\n",
       "      <th>2021-11-26</th>\n",
       "      <td>NaN</td>\n",
       "      <td>NaN</td>\n",
       "      <td>NaN</td>\n",
       "      <td>NaN</td>\n",
       "      <td>NaN</td>\n",
       "      <td>NaN</td>\n",
       "    </tr>\n",
       "    <tr>\n",
       "      <th>2021-11-29</th>\n",
       "      <td>NaN</td>\n",
       "      <td>NaN</td>\n",
       "      <td>NaN</td>\n",
       "      <td>NaN</td>\n",
       "      <td>NaN</td>\n",
       "      <td>NaN</td>\n",
       "    </tr>\n",
       "    <tr>\n",
       "      <th>2021-11-30</th>\n",
       "      <td>159.643336</td>\n",
       "      <td>162.386668</td>\n",
       "      <td>158.356664</td>\n",
       "      <td>160.783335</td>\n",
       "      <td>159.855570</td>\n",
       "      <td>1.132520e+08</td>\n",
       "    </tr>\n",
       "    <tr>\n",
       "      <th>2021-12-01</th>\n",
       "      <td>162.279999</td>\n",
       "      <td>165.670003</td>\n",
       "      <td>161.079997</td>\n",
       "      <td>163.436671</td>\n",
       "      <td>162.493601</td>\n",
       "      <td>1.382829e+08</td>\n",
       "    </tr>\n",
       "    <tr>\n",
       "      <th>2021-12-02</th>\n",
       "      <td>162.070002</td>\n",
       "      <td>166.673335</td>\n",
       "      <td>160.750000</td>\n",
       "      <td>164.610001</td>\n",
       "      <td>163.660156</td>\n",
       "      <td>1.542799e+08</td>\n",
       "    </tr>\n",
       "    <tr>\n",
       "      <th>...</th>\n",
       "      <td>...</td>\n",
       "      <td>...</td>\n",
       "      <td>...</td>\n",
       "      <td>...</td>\n",
       "      <td>...</td>\n",
       "      <td>...</td>\n",
       "    </tr>\n",
       "    <tr>\n",
       "      <th>2022-11-18</th>\n",
       "      <td>149.289999</td>\n",
       "      <td>151.349996</td>\n",
       "      <td>147.803329</td>\n",
       "      <td>150.266662</td>\n",
       "      <td>150.266662</td>\n",
       "      <td>7.313410e+07</td>\n",
       "    </tr>\n",
       "    <tr>\n",
       "      <th>2022-11-21</th>\n",
       "      <td>149.633332</td>\n",
       "      <td>151.516663</td>\n",
       "      <td>147.946665</td>\n",
       "      <td>150.006663</td>\n",
       "      <td>150.006663</td>\n",
       "      <td>7.130270e+07</td>\n",
       "    </tr>\n",
       "    <tr>\n",
       "      <th>2022-11-22</th>\n",
       "      <td>150.200002</td>\n",
       "      <td>151.163330</td>\n",
       "      <td>148.206665</td>\n",
       "      <td>149.826660</td>\n",
       "      <td>149.826660</td>\n",
       "      <td>6.177427e+07</td>\n",
       "    </tr>\n",
       "    <tr>\n",
       "      <th>2022-11-23</th>\n",
       "      <td>149.246669</td>\n",
       "      <td>150.873332</td>\n",
       "      <td>147.996663</td>\n",
       "      <td>149.753332</td>\n",
       "      <td>149.753332</td>\n",
       "      <td>5.625507e+07</td>\n",
       "    </tr>\n",
       "    <tr>\n",
       "      <th>2022-11-25</th>\n",
       "      <td>148.628332</td>\n",
       "      <td>150.376668</td>\n",
       "      <td>147.796661</td>\n",
       "      <td>149.806636</td>\n",
       "      <td>149.806636</td>\n",
       "      <td>4.542302e+07</td>\n",
       "    </tr>\n",
       "  </tbody>\n",
       "</table>\n",
       "<p>252 rows × 6 columns</p>\n",
       "</div>"
      ],
      "text/plain": [
       "                  Open        High         Low       Close   Adj Close  \\\n",
       "Date                                                                     \n",
       "2021-11-26         NaN         NaN         NaN         NaN         NaN   \n",
       "2021-11-29         NaN         NaN         NaN         NaN         NaN   \n",
       "2021-11-30  159.643336  162.386668  158.356664  160.783335  159.855570   \n",
       "2021-12-01  162.279999  165.670003  161.079997  163.436671  162.493601   \n",
       "2021-12-02  162.070002  166.673335  160.750000  164.610001  163.660156   \n",
       "...                ...         ...         ...         ...         ...   \n",
       "2022-11-18  149.289999  151.349996  147.803329  150.266662  150.266662   \n",
       "2022-11-21  149.633332  151.516663  147.946665  150.006663  150.006663   \n",
       "2022-11-22  150.200002  151.163330  148.206665  149.826660  149.826660   \n",
       "2022-11-23  149.246669  150.873332  147.996663  149.753332  149.753332   \n",
       "2022-11-25  148.628332  150.376668  147.796661  149.806636  149.806636   \n",
       "\n",
       "                  Volume  \n",
       "Date                      \n",
       "2021-11-26           NaN  \n",
       "2021-11-29           NaN  \n",
       "2021-11-30  1.132520e+08  \n",
       "2021-12-01  1.382829e+08  \n",
       "2021-12-02  1.542799e+08  \n",
       "...                  ...  \n",
       "2022-11-18  7.313410e+07  \n",
       "2022-11-21  7.130270e+07  \n",
       "2022-11-22  6.177427e+07  \n",
       "2022-11-23  5.625507e+07  \n",
       "2022-11-25  4.542302e+07  \n",
       "\n",
       "[252 rows x 6 columns]"
      ]
     },
     "execution_count": 16,
     "metadata": {},
     "output_type": "execute_result"
    }
   ],
   "source": [
    "AAPL.rolling(window = 3).mean()"
   ]
  },
  {
   "cell_type": "code",
   "execution_count": 17,
   "id": "1984dad4",
   "metadata": {},
   "outputs": [
    {
     "data": {
      "text/plain": [
       "<AxesSubplot:title={'center':'3-period moving average'}, xlabel='Date'>"
      ]
     },
     "execution_count": 17,
     "metadata": {},
     "output_type": "execute_result"
    },
    {
     "data": {
      "image/png": "[encoded data removed]",
      "text/plain": [
       "<Figure size 1152x648 with 1 Axes>"
      ]
     },
     "metadata": {
      "needs_background": "light"
     },
     "output_type": "display_data"
    }
   ],
   "source": [
    "AAPL['Close'].plot(figsize = (16, 9), title = '3-period moving average')\n",
    "AAPL.rolling(window = 3).mean()['Close'].plot()"
   ]
  },
  {
   "cell_type": "markdown",
   "id": "f6930c00",
   "metadata": {},
   "source": [
    "b. Next, generate a 30-period moving average for your ‘Close’ variable, and create a plot that overlays this 30-period average atop the actual daily closing prices."
   ]
  },
  {
   "cell_type": "code",
   "execution_count": 18,
   "id": "5b522c42",
   "metadata": {},
   "outputs": [
    {
     "data": {
      "text/html": [
       "<div>\n",
       "<style scoped>\n",
       "    .dataframe tbody tr th:only-of-type {\n",
       "        vertical-align: middle;\n",
       "    }\n",
       "\n",
       "    .dataframe tbody tr th {\n",
       "        vertical-align: top;\n",
       "    }\n",
       "\n",
       "    .dataframe thead th {\n",
       "        text-align: right;\n",
       "    }\n",
       "</style>\n",
       "<table border=\"1\" class=\"dataframe\">\n",
       "  <thead>\n",
       "    <tr style=\"text-align: right;\">\n",
       "      <th></th>\n",
       "      <th>Open</th>\n",
       "      <th>High</th>\n",
       "      <th>Low</th>\n",
       "      <th>Close</th>\n",
       "      <th>Adj Close</th>\n",
       "      <th>Volume</th>\n",
       "    </tr>\n",
       "    <tr>\n",
       "      <th>Date</th>\n",
       "      <th></th>\n",
       "      <th></th>\n",
       "      <th></th>\n",
       "      <th></th>\n",
       "      <th></th>\n",
       "      <th></th>\n",
       "    </tr>\n",
       "  </thead>\n",
       "  <tbody>\n",
       "    <tr>\n",
       "      <th>2021-11-26</th>\n",
       "      <td>NaN</td>\n",
       "      <td>NaN</td>\n",
       "      <td>NaN</td>\n",
       "      <td>NaN</td>\n",
       "      <td>NaN</td>\n",
       "      <td>NaN</td>\n",
       "    </tr>\n",
       "    <tr>\n",
       "      <th>2021-11-29</th>\n",
       "      <td>NaN</td>\n",
       "      <td>NaN</td>\n",
       "      <td>NaN</td>\n",
       "      <td>NaN</td>\n",
       "      <td>NaN</td>\n",
       "      <td>NaN</td>\n",
       "    </tr>\n",
       "    <tr>\n",
       "      <th>2021-11-30</th>\n",
       "      <td>NaN</td>\n",
       "      <td>NaN</td>\n",
       "      <td>NaN</td>\n",
       "      <td>NaN</td>\n",
       "      <td>NaN</td>\n",
       "      <td>NaN</td>\n",
       "    </tr>\n",
       "    <tr>\n",
       "      <th>2021-12-01</th>\n",
       "      <td>NaN</td>\n",
       "      <td>NaN</td>\n",
       "      <td>NaN</td>\n",
       "      <td>NaN</td>\n",
       "      <td>NaN</td>\n",
       "      <td>NaN</td>\n",
       "    </tr>\n",
       "    <tr>\n",
       "      <th>2021-12-02</th>\n",
       "      <td>NaN</td>\n",
       "      <td>NaN</td>\n",
       "      <td>NaN</td>\n",
       "      <td>NaN</td>\n",
       "      <td>NaN</td>\n",
       "      <td>NaN</td>\n",
       "    </tr>\n",
       "    <tr>\n",
       "      <th>...</th>\n",
       "      <td>...</td>\n",
       "      <td>...</td>\n",
       "      <td>...</td>\n",
       "      <td>...</td>\n",
       "      <td>...</td>\n",
       "      <td>...</td>\n",
       "    </tr>\n",
       "    <tr>\n",
       "      <th>2022-11-18</th>\n",
       "      <td>145.029334</td>\n",
       "      <td>147.417332</td>\n",
       "      <td>142.691333</td>\n",
       "      <td>145.224333</td>\n",
       "      <td>145.072005</td>\n",
       "      <td>8.961405e+07</td>\n",
       "    </tr>\n",
       "    <tr>\n",
       "      <th>2022-11-21</th>\n",
       "      <td>145.354001</td>\n",
       "      <td>147.699999</td>\n",
       "      <td>142.996333</td>\n",
       "      <td>145.477333</td>\n",
       "      <td>145.332757</td>\n",
       "      <td>8.907489e+07</td>\n",
       "    </tr>\n",
       "    <tr>\n",
       "      <th>2022-11-22</th>\n",
       "      <td>145.628335</td>\n",
       "      <td>148.002332</td>\n",
       "      <td>143.286666</td>\n",
       "      <td>145.850666</td>\n",
       "      <td>145.713762</td>\n",
       "      <td>8.823390e+07</td>\n",
       "    </tr>\n",
       "    <tr>\n",
       "      <th>2022-11-23</th>\n",
       "      <td>145.972335</td>\n",
       "      <td>148.384665</td>\n",
       "      <td>143.659332</td>\n",
       "      <td>146.274999</td>\n",
       "      <td>146.145733</td>\n",
       "      <td>8.782735e+07</td>\n",
       "    </tr>\n",
       "    <tr>\n",
       "      <th>2022-11-25</th>\n",
       "      <td>146.416168</td>\n",
       "      <td>148.560999</td>\n",
       "      <td>144.084332</td>\n",
       "      <td>146.447663</td>\n",
       "      <td>146.326289</td>\n",
       "      <td>8.492748e+07</td>\n",
       "    </tr>\n",
       "  </tbody>\n",
       "</table>\n",
       "<p>252 rows × 6 columns</p>\n",
       "</div>"
      ],
      "text/plain": [
       "                  Open        High         Low       Close   Adj Close  \\\n",
       "Date                                                                     \n",
       "2021-11-26         NaN         NaN         NaN         NaN         NaN   \n",
       "2021-11-29         NaN         NaN         NaN         NaN         NaN   \n",
       "2021-11-30         NaN         NaN         NaN         NaN         NaN   \n",
       "2021-12-01         NaN         NaN         NaN         NaN         NaN   \n",
       "2021-12-02         NaN         NaN         NaN         NaN         NaN   \n",
       "...                ...         ...         ...         ...         ...   \n",
       "2022-11-18  145.029334  147.417332  142.691333  145.224333  145.072005   \n",
       "2022-11-21  145.354001  147.699999  142.996333  145.477333  145.332757   \n",
       "2022-11-22  145.628335  148.002332  143.286666  145.850666  145.713762   \n",
       "2022-11-23  145.972335  148.384665  143.659332  146.274999  146.145733   \n",
       "2022-11-25  146.416168  148.560999  144.084332  146.447663  146.326289   \n",
       "\n",
       "                  Volume  \n",
       "Date                      \n",
       "2021-11-26           NaN  \n",
       "2021-11-29           NaN  \n",
       "2021-11-30           NaN  \n",
       "2021-12-01           NaN  \n",
       "2021-12-02           NaN  \n",
       "...                  ...  \n",
       "2022-11-18  8.961405e+07  \n",
       "2022-11-21  8.907489e+07  \n",
       "2022-11-22  8.823390e+07  \n",
       "2022-11-23  8.782735e+07  \n",
       "2022-11-25  8.492748e+07  \n",
       "\n",
       "[252 rows x 6 columns]"
      ]
     },
     "execution_count": 18,
     "metadata": {},
     "output_type": "execute_result"
    }
   ],
   "source": [
    "AAPL.rolling(window = 30).mean()"
   ]
  },
  {
   "cell_type": "markdown",
   "id": "6cc2722b",
   "metadata": {},
   "source": [
    "AAPL['Close'].plot(figsize = (16, 9), title = '30-period moving average')\n",
    "AAPL.rolling(window = 30).mean()['Close'].plot()"
   ]
  },
  {
   "cell_type": "markdown",
   "id": "e6bd4c7c",
   "metadata": {},
   "source": [
    "c. How are your two moving average plots different from one another? What are some pros and cons of shorter and longer moving average windows?"
   ]
  },
  {
   "cell_type": "markdown",
   "id": "92655b7c",
   "metadata": {},
   "source": [
    "When we view the results of the 3-day/30-day rolling average function, we will not see results for any of the first two/twenty-nine rows, because there have not yet been enough data points gathered for a three/thirty-day moving average calculation.\n",
    "\n",
    "The orange line for the three-day moving average, and the blue line for the actual close, show very similar movement in the graph above. \n",
    "\n",
    "The thirty-day moving average is showing us a more generalized look.\n",
    "\n",
    "The pro of longer MA windows is it smooths the data. Day-to-day price swings can be confusing to track and make it difficult to determine a stock’s direction. A moving average smooths out volatility, giving you a better look at how a stock is trending.\n",
    "\n",
    "The con of longer MA windows is the lag. For example, A 10-day exponential moving average, for instance, will react quickly to price turns, while a 200-day moving average is more sluggish and slower to react to changes. \n",
    "\n",
    "The pro of shorter MA windows is the lag is shorter as well. \n",
    "\n",
    "The con of shorter MA windows is it is too close to the actual value, and it will not help much. \n",
    "\n",
    "Reference:\n",
    "\n",
    "Ashford, K. (2022, January 19). Pros &amp; Cons of using a moving average to buy stocks. SoFi. Retrieved November 25, 2022, from https://www.sofi.com/learn/content/using-a-moving-average/ "
   ]
  },
  {
   "cell_type": "markdown",
   "id": "9e3da2d0",
   "metadata": {},
   "source": [
    "H. Next, we will try something called resampling.\n",
    "\n",
    "a. Resample your time series so that its values are based on one-month time periods’ mean values for ‘Close’, rather than daily periods."
   ]
  },
  {
   "cell_type": "code",
   "execution_count": 19,
   "id": "92d2a8d8",
   "metadata": {},
   "outputs": [
    {
     "data": {
      "text/plain": [
       "Date\n",
       "2021-11-30    160.783335\n",
       "2021-12-31    173.552727\n",
       "2022-01-31    169.861500\n",
       "2022-02-28    169.830001\n",
       "2022-03-31    165.310435\n",
       "Freq: M, Name: Close, dtype: float64"
      ]
     },
     "execution_count": 19,
     "metadata": {},
     "output_type": "execute_result"
    }
   ],
   "source": [
    "AAPL3 = AAPL['Close'].resample('M').mean()\n",
    "AAPL3.head()"
   ]
  },
  {
   "cell_type": "markdown",
   "id": "ba6cecf9",
   "metadata": {},
   "source": [
    "i. Plot this newly-resampled time series."
   ]
  },
  {
   "cell_type": "code",
   "execution_count": 20,
   "id": "ede9d4b0",
   "metadata": {},
   "outputs": [
    {
     "data": {
      "text/plain": [
       "<AxesSubplot:xlabel='Date'>"
      ]
     },
     "execution_count": 20,
     "metadata": {},
     "output_type": "execute_result"
    },
    {
     "data": {
      "image/png": "[encoded data removed]",
      "text/plain": [
       "<Figure size 1152x648 with 1 Axes>"
      ]
     },
     "metadata": {
      "needs_background": "light"
     },
     "output_type": "display_data"
    }
   ],
   "source": [
    "AAPL3.plot(figsize = (16, 9))"
   ]
  },
  {
   "cell_type": "markdown",
   "id": "5a2fdad4",
   "metadata": {},
   "source": [
    "ii. Provide an example that explains why someone might care about resampling a time series. To answer this, you may use ANY example that you can think of, or discover, from any field that uses time series data (health, weather, market forecasting, etc.) You don’t need to perform any outside research or go too deeply into domain knowledge here -- 3-4 thoughtful sentences are all you need."
   ]
  },
  {
   "cell_type": "markdown",
   "id": "417bf0d3",
   "metadata": {},
   "source": [
    "Resample is one way to flexibly define the resolution of the data. My dataset only has one year of the stock price. When plotting a stock price of 5 or 10 years, we might want to reduce the data points, so we can have a more clearer plot. It will be much easier to read and get the information we need."
   ]
  },
  {
   "cell_type": "markdown",
   "id": "3b597d59",
   "metadata": {},
   "source": [
    "Part II: Marketing Mix Modeling with an Interaction Term"
   ]
  },
  {
   "cell_type": "markdown",
   "id": "7c3dfeb5",
   "metadata": {},
   "source": [
    "I. After reading the file into your environment, the first question that you will explore here is whether there is any relationship between marketing spending and revenue. "
   ]
  },
  {
   "cell_type": "code",
   "execution_count": 21,
   "id": "e741bb45",
   "metadata": {},
   "outputs": [
    {
     "data": {
      "text/html": [
       "<div>\n",
       "<style scoped>\n",
       "    .dataframe tbody tr th:only-of-type {\n",
       "        vertical-align: middle;\n",
       "    }\n",
       "\n",
       "    .dataframe tbody tr th {\n",
       "        vertical-align: top;\n",
       "    }\n",
       "\n",
       "    .dataframe thead th {\n",
       "        text-align: right;\n",
       "    }\n",
       "</style>\n",
       "<table border=\"1\" class=\"dataframe\">\n",
       "  <thead>\n",
       "    <tr style=\"text-align: right;\">\n",
       "      <th></th>\n",
       "      <th>period_id</th>\n",
       "      <th>subwayad_spend</th>\n",
       "      <th>instagram_ad_regional_spend</th>\n",
       "      <th>greater_nyc_sales</th>\n",
       "    </tr>\n",
       "  </thead>\n",
       "  <tbody>\n",
       "    <tr>\n",
       "      <th>0</th>\n",
       "      <td>1</td>\n",
       "      <td>0.35</td>\n",
       "      <td>0.61</td>\n",
       "      <td>20.49</td>\n",
       "    </tr>\n",
       "    <tr>\n",
       "      <th>1</th>\n",
       "      <td>2</td>\n",
       "      <td>0.34</td>\n",
       "      <td>0.17</td>\n",
       "      <td>16.41</td>\n",
       "    </tr>\n",
       "    <tr>\n",
       "      <th>2</th>\n",
       "      <td>3</td>\n",
       "      <td>0.41</td>\n",
       "      <td>0.39</td>\n",
       "      <td>16.39</td>\n",
       "    </tr>\n",
       "    <tr>\n",
       "      <th>3</th>\n",
       "      <td>4</td>\n",
       "      <td>0.30</td>\n",
       "      <td>0.38</td>\n",
       "      <td>10.54</td>\n",
       "    </tr>\n",
       "    <tr>\n",
       "      <th>4</th>\n",
       "      <td>5</td>\n",
       "      <td>0.31</td>\n",
       "      <td>0.26</td>\n",
       "      <td>9.08</td>\n",
       "    </tr>\n",
       "  </tbody>\n",
       "</table>\n",
       "</div>"
      ],
      "text/plain": [
       "   period_id  subwayad_spend  instagram_ad_regional_spend  greater_nyc_sales\n",
       "0          1            0.35                         0.61              20.49\n",
       "1          2            0.34                         0.17              16.41\n",
       "2          3            0.41                         0.39              16.39\n",
       "3          4            0.30                         0.38              10.54\n",
       "4          5            0.31                         0.26               9.08"
      ]
     },
     "execution_count": 21,
     "metadata": {},
     "output_type": "execute_result"
    }
   ],
   "source": [
    "sd = pd.read_csv('supreme_data.csv')\n",
    "sd.head()"
   ]
  },
  {
   "cell_type": "markdown",
   "id": "f7b80031",
   "metadata": {},
   "source": [
    "a. To explore this, first create a new variable that shows the total spending. This variable’s value should be the sum of the subway ad spending and the instagram ad spending among Instagram users based in Greater NYC."
   ]
  },
  {
   "cell_type": "code",
   "execution_count": 22,
   "id": "070d60b6",
   "metadata": {},
   "outputs": [
    {
     "data": {
      "text/html": [
       "<div>\n",
       "<style scoped>\n",
       "    .dataframe tbody tr th:only-of-type {\n",
       "        vertical-align: middle;\n",
       "    }\n",
       "\n",
       "    .dataframe tbody tr th {\n",
       "        vertical-align: top;\n",
       "    }\n",
       "\n",
       "    .dataframe thead th {\n",
       "        text-align: right;\n",
       "    }\n",
       "</style>\n",
       "<table border=\"1\" class=\"dataframe\">\n",
       "  <thead>\n",
       "    <tr style=\"text-align: right;\">\n",
       "      <th></th>\n",
       "      <th>period_id</th>\n",
       "      <th>subwayad_spend</th>\n",
       "      <th>instagram_ad_regional_spend</th>\n",
       "      <th>greater_nyc_sales</th>\n",
       "      <th>Sum</th>\n",
       "    </tr>\n",
       "  </thead>\n",
       "  <tbody>\n",
       "    <tr>\n",
       "      <th>0</th>\n",
       "      <td>1</td>\n",
       "      <td>0.35</td>\n",
       "      <td>0.61</td>\n",
       "      <td>20.49</td>\n",
       "      <td>0.96</td>\n",
       "    </tr>\n",
       "    <tr>\n",
       "      <th>1</th>\n",
       "      <td>2</td>\n",
       "      <td>0.34</td>\n",
       "      <td>0.17</td>\n",
       "      <td>16.41</td>\n",
       "      <td>0.51</td>\n",
       "    </tr>\n",
       "    <tr>\n",
       "      <th>2</th>\n",
       "      <td>3</td>\n",
       "      <td>0.41</td>\n",
       "      <td>0.39</td>\n",
       "      <td>16.39</td>\n",
       "      <td>0.80</td>\n",
       "    </tr>\n",
       "    <tr>\n",
       "      <th>3</th>\n",
       "      <td>4</td>\n",
       "      <td>0.30</td>\n",
       "      <td>0.38</td>\n",
       "      <td>10.54</td>\n",
       "      <td>0.68</td>\n",
       "    </tr>\n",
       "    <tr>\n",
       "      <th>4</th>\n",
       "      <td>5</td>\n",
       "      <td>0.31</td>\n",
       "      <td>0.26</td>\n",
       "      <td>9.08</td>\n",
       "      <td>0.57</td>\n",
       "    </tr>\n",
       "  </tbody>\n",
       "</table>\n",
       "</div>"
      ],
      "text/plain": [
       "   period_id  subwayad_spend  instagram_ad_regional_spend  greater_nyc_sales  \\\n",
       "0          1            0.35                         0.61              20.49   \n",
       "1          2            0.34                         0.17              16.41   \n",
       "2          3            0.41                         0.39              16.39   \n",
       "3          4            0.30                         0.38              10.54   \n",
       "4          5            0.31                         0.26               9.08   \n",
       "\n",
       "    Sum  \n",
       "0  0.96  \n",
       "1  0.51  \n",
       "2  0.80  \n",
       "3  0.68  \n",
       "4  0.57  "
      ]
     },
     "execution_count": 22,
     "metadata": {},
     "output_type": "execute_result"
    }
   ],
   "source": [
    "SUM = sd['subwayad_spend'] + sd['instagram_ad_regional_spend']\n",
    "sd.insert(4, 'Sum', SUM)\n",
    "sd.head()"
   ]
  },
  {
   "cell_type": "markdown",
   "id": "60830eca",
   "metadata": {},
   "source": [
    "b. Now, find the correlation between this new total spending variable and Sales."
   ]
  },
  {
   "cell_type": "code",
   "execution_count": 23,
   "id": "ef886369",
   "metadata": {},
   "outputs": [
    {
     "data": {
      "text/html": [
       "<div>\n",
       "<style scoped>\n",
       "    .dataframe tbody tr th:only-of-type {\n",
       "        vertical-align: middle;\n",
       "    }\n",
       "\n",
       "    .dataframe tbody tr th {\n",
       "        vertical-align: top;\n",
       "    }\n",
       "\n",
       "    .dataframe thead th {\n",
       "        text-align: right;\n",
       "    }\n",
       "</style>\n",
       "<table border=\"1\" class=\"dataframe\">\n",
       "  <thead>\n",
       "    <tr style=\"text-align: right;\">\n",
       "      <th></th>\n",
       "      <th>period_id</th>\n",
       "      <th>subwayad_spend</th>\n",
       "      <th>instagram_ad_regional_spend</th>\n",
       "      <th>greater_nyc_sales</th>\n",
       "      <th>Sum</th>\n",
       "    </tr>\n",
       "  </thead>\n",
       "  <tbody>\n",
       "    <tr>\n",
       "      <th>period_id</th>\n",
       "      <td>1.000000</td>\n",
       "      <td>-0.037791</td>\n",
       "      <td>0.048573</td>\n",
       "      <td>0.036329</td>\n",
       "      <td>0.038315</td>\n",
       "    </tr>\n",
       "    <tr>\n",
       "      <th>subwayad_spend</th>\n",
       "      <td>-0.037791</td>\n",
       "      <td>1.000000</td>\n",
       "      <td>0.023749</td>\n",
       "      <td>0.472231</td>\n",
       "      <td>0.252971</td>\n",
       "    </tr>\n",
       "    <tr>\n",
       "      <th>instagram_ad_regional_spend</th>\n",
       "      <td>0.048573</td>\n",
       "      <td>0.023749</td>\n",
       "      <td>1.000000</td>\n",
       "      <td>0.759715</td>\n",
       "      <td>0.973209</td>\n",
       "    </tr>\n",
       "    <tr>\n",
       "      <th>greater_nyc_sales</th>\n",
       "      <td>0.036329</td>\n",
       "      <td>0.472231</td>\n",
       "      <td>0.759715</td>\n",
       "      <td>1.000000</td>\n",
       "      <td>0.843819</td>\n",
       "    </tr>\n",
       "    <tr>\n",
       "      <th>Sum</th>\n",
       "      <td>0.038315</td>\n",
       "      <td>0.252971</td>\n",
       "      <td>0.973209</td>\n",
       "      <td>0.843819</td>\n",
       "      <td>1.000000</td>\n",
       "    </tr>\n",
       "  </tbody>\n",
       "</table>\n",
       "</div>"
      ],
      "text/plain": [
       "                             period_id  subwayad_spend  \\\n",
       "period_id                     1.000000       -0.037791   \n",
       "subwayad_spend               -0.037791        1.000000   \n",
       "instagram_ad_regional_spend   0.048573        0.023749   \n",
       "greater_nyc_sales             0.036329        0.472231   \n",
       "Sum                           0.038315        0.252971   \n",
       "\n",
       "                             instagram_ad_regional_spend  greater_nyc_sales  \\\n",
       "period_id                                       0.048573           0.036329   \n",
       "subwayad_spend                                  0.023749           0.472231   \n",
       "instagram_ad_regional_spend                     1.000000           0.759715   \n",
       "greater_nyc_sales                               0.759715           1.000000   \n",
       "Sum                                             0.973209           0.843819   \n",
       "\n",
       "                                  Sum  \n",
       "period_id                    0.038315  \n",
       "subwayad_spend               0.252971  \n",
       "instagram_ad_regional_spend  0.973209  \n",
       "greater_nyc_sales            0.843819  \n",
       "Sum                          1.000000  "
      ]
     },
     "execution_count": 23,
     "metadata": {},
     "output_type": "execute_result"
    }
   ],
   "source": [
    "sd.corr()"
   ]
  },
  {
   "cell_type": "markdown",
   "id": "e51fdbd0",
   "metadata": {},
   "source": [
    "i. What is the correlation between these variables?"
   ]
  },
  {
   "cell_type": "markdown",
   "id": "e60934f6",
   "metadata": {},
   "source": [
    "The correlation between total spending and sales is 0.843819."
   ]
  },
  {
   "cell_type": "markdown",
   "id": "e5a489b4",
   "metadata": {},
   "source": [
    "ii. What does this correlation suggest about the relationship between total marketing spending and sales?"
   ]
  },
  {
   "cell_type": "markdown",
   "id": "b85c9a8a",
   "metadata": {},
   "source": [
    "It suggested that there is a strong correlation between total spending and sales. "
   ]
  },
  {
   "cell_type": "markdown",
   "id": "664af53d",
   "metadata": {},
   "source": [
    "c. Next, let’s explore the relationship among the subway ad spending & the instagram ad spending. Examine the correlation among these two variables."
   ]
  },
  {
   "cell_type": "code",
   "execution_count": 24,
   "id": "001c0c70",
   "metadata": {},
   "outputs": [
    {
     "data": {
      "image/png": "[encoded data removed]",
      "text/plain": [
       "<Figure size 864x648 with 2 Axes>"
      ]
     },
     "metadata": {},
     "output_type": "display_data"
    }
   ],
   "source": [
    "import matplotlib.pyplot as plt\n",
    "\n",
    "corr_matrix = sd.corr()\n",
    "sns.set(rc = {'figure.figsize':(12, 9)}) \n",
    "sns.heatmap(corr_matrix, annot = True) \n",
    "plt.show()"
   ]
  },
  {
   "cell_type": "markdown",
   "id": "ac59d22a",
   "metadata": {},
   "source": [
    "i. Is this correlation so high that we might not be able to use them together in a linear model?"
   ]
  },
  {
   "cell_type": "markdown",
   "id": "a499a635",
   "metadata": {},
   "source": [
    "No, the correlation is low: 0.024. "
   ]
  },
  {
   "cell_type": "markdown",
   "id": "7b3f5863",
   "metadata": {},
   "source": [
    "d. Now, build a model that uses sales as the outcome variable, with subway ad spending and regional instagram ad spending as the input variables. Use the statsmodels library for this step, and all of the remaining steps here. "
   ]
  },
  {
   "cell_type": "code",
   "execution_count": 25,
   "id": "6892cbf0",
   "metadata": {},
   "outputs": [
    {
     "data": {
      "text/plain": [
       "<seaborn.axisgrid.FacetGrid at 0x7ff160ab12b0>"
      ]
     },
     "execution_count": 25,
     "metadata": {},
     "output_type": "execute_result"
    },
    {
     "data": {
      "image/png": "[encoded data removed]",
      "text/plain": [
       "<Figure size 360x360 with 1 Axes>"
      ]
     },
     "metadata": {},
     "output_type": "display_data"
    }
   ],
   "source": [
    "sns.relplot(x = 'Sum', y = 'greater_nyc_sales', data = sd)"
   ]
  },
  {
   "cell_type": "code",
   "execution_count": 26,
   "id": "6209a248",
   "metadata": {},
   "outputs": [
    {
     "name": "stdout",
     "output_type": "stream",
     "text": [
      "                            OLS Regression Results                            \n",
      "==============================================================================\n",
      "Dep. Variable:      greater_nyc_sales   R-squared:                       0.784\n",
      "Model:                            OLS   Adj. R-squared:                  0.782\n",
      "Method:                 Least Squares   F-statistic:                     447.1\n",
      "Date:                Thu, 01 Dec 2022   Prob (F-statistic):           8.16e-83\n",
      "Time:                        01:13:44   Log-Likelihood:                -672.09\n",
      "No. Observations:                 250   AIC:                             1350.\n",
      "Df Residuals:                     247   BIC:                             1361.\n",
      "Df Model:                           2                                         \n",
      "Covariance Type:            nonrobust                                         \n",
      "===============================================================================================\n",
      "                                  coef    std err          t      P>|t|      [0.025      0.975]\n",
      "-----------------------------------------------------------------------------------------------\n",
      "const                         -17.1013      1.642    -10.412      0.000     -20.336     -13.866\n",
      "subwayad_spend                 67.5877      4.404     15.348      0.000      58.914      76.261\n",
      "instagram_ad_regional_spend    26.4707      1.047     25.293      0.000      24.409      28.532\n",
      "==============================================================================\n",
      "Omnibus:                        8.697   Durbin-Watson:                   2.058\n",
      "Prob(Omnibus):                  0.013   Jarque-Bera (JB):               13.043\n",
      "Skew:                           0.204   Prob(JB):                      0.00147\n",
      "Kurtosis:                       4.042   Cond. No.                         23.9\n",
      "==============================================================================\n",
      "\n",
      "Notes:\n",
      "[1] Standard Errors assume that the covariance matrix of the errors is correctly specified.\n"
     ]
    }
   ],
   "source": [
    "# Method 1\n",
    "\n",
    "import statsmodels.api as sm\n",
    "\n",
    "X = sd[['subwayad_spend', 'instagram_ad_regional_spend']]\n",
    "y = sd['greater_nyc_sales']\n",
    "\n",
    "X = sm.add_constant(X)\n",
    "\n",
    "model = sm.OLS(y, X).fit()\n",
    "predictions = model.predict(X) \n",
    "\n",
    "print(model.summary())"
   ]
  },
  {
   "cell_type": "code",
   "execution_count": 27,
   "id": "d8142297",
   "metadata": {},
   "outputs": [
    {
     "data": {
      "text/html": [
       "<table class=\"simpletable\">\n",
       "<caption>OLS Regression Results</caption>\n",
       "<tr>\n",
       "  <th>Dep. Variable:</th>    <td>greater_nyc_sales</td> <th>  R-squared:         </th> <td>   0.784</td>\n",
       "</tr>\n",
       "<tr>\n",
       "  <th>Model:</th>                   <td>OLS</td>        <th>  Adj. R-squared:    </th> <td>   0.782</td>\n",
       "</tr>\n",
       "<tr>\n",
       "  <th>Method:</th>             <td>Least Squares</td>   <th>  F-statistic:       </th> <td>   447.1</td>\n",
       "</tr>\n",
       "<tr>\n",
       "  <th>Date:</th>             <td>Thu, 01 Dec 2022</td>  <th>  Prob (F-statistic):</th> <td>8.16e-83</td>\n",
       "</tr>\n",
       "<tr>\n",
       "  <th>Time:</th>                 <td>01:13:44</td>      <th>  Log-Likelihood:    </th> <td> -672.09</td>\n",
       "</tr>\n",
       "<tr>\n",
       "  <th>No. Observations:</th>      <td>   250</td>       <th>  AIC:               </th> <td>   1350.</td>\n",
       "</tr>\n",
       "<tr>\n",
       "  <th>Df Residuals:</th>          <td>   247</td>       <th>  BIC:               </th> <td>   1361.</td>\n",
       "</tr>\n",
       "<tr>\n",
       "  <th>Df Model:</th>              <td>     2</td>       <th>                     </th>     <td> </td>   \n",
       "</tr>\n",
       "<tr>\n",
       "  <th>Covariance Type:</th>      <td>nonrobust</td>     <th>                     </th>     <td> </td>   \n",
       "</tr>\n",
       "</table>\n",
       "<table class=\"simpletable\">\n",
       "<tr>\n",
       "               <td></td>                  <th>coef</th>     <th>std err</th>      <th>t</th>      <th>P>|t|</th>  <th>[0.025</th>    <th>0.975]</th>  \n",
       "</tr>\n",
       "<tr>\n",
       "  <th>Intercept</th>                   <td>  -17.1013</td> <td>    1.642</td> <td>  -10.412</td> <td> 0.000</td> <td>  -20.336</td> <td>  -13.866</td>\n",
       "</tr>\n",
       "<tr>\n",
       "  <th>subwayad_spend</th>              <td>   67.5877</td> <td>    4.404</td> <td>   15.348</td> <td> 0.000</td> <td>   58.914</td> <td>   76.261</td>\n",
       "</tr>\n",
       "<tr>\n",
       "  <th>instagram_ad_regional_spend</th> <td>   26.4707</td> <td>    1.047</td> <td>   25.293</td> <td> 0.000</td> <td>   24.409</td> <td>   28.532</td>\n",
       "</tr>\n",
       "</table>\n",
       "<table class=\"simpletable\">\n",
       "<tr>\n",
       "  <th>Omnibus:</th>       <td> 8.697</td> <th>  Durbin-Watson:     </th> <td>   2.058</td>\n",
       "</tr>\n",
       "<tr>\n",
       "  <th>Prob(Omnibus):</th> <td> 0.013</td> <th>  Jarque-Bera (JB):  </th> <td>  13.043</td>\n",
       "</tr>\n",
       "<tr>\n",
       "  <th>Skew:</th>          <td> 0.204</td> <th>  Prob(JB):          </th> <td> 0.00147</td>\n",
       "</tr>\n",
       "<tr>\n",
       "  <th>Kurtosis:</th>      <td> 4.042</td> <th>  Cond. No.          </th> <td>    23.9</td>\n",
       "</tr>\n",
       "</table><br/><br/>Notes:<br/>[1] Standard Errors assume that the covariance matrix of the errors is correctly specified."
      ],
      "text/plain": [
       "<class 'statsmodels.iolib.summary.Summary'>\n",
       "\"\"\"\n",
       "                            OLS Regression Results                            \n",
       "==============================================================================\n",
       "Dep. Variable:      greater_nyc_sales   R-squared:                       0.784\n",
       "Model:                            OLS   Adj. R-squared:                  0.782\n",
       "Method:                 Least Squares   F-statistic:                     447.1\n",
       "Date:                Thu, 01 Dec 2022   Prob (F-statistic):           8.16e-83\n",
       "Time:                        01:13:44   Log-Likelihood:                -672.09\n",
       "No. Observations:                 250   AIC:                             1350.\n",
       "Df Residuals:                     247   BIC:                             1361.\n",
       "Df Model:                           2                                         \n",
       "Covariance Type:            nonrobust                                         \n",
       "===============================================================================================\n",
       "                                  coef    std err          t      P>|t|      [0.025      0.975]\n",
       "-----------------------------------------------------------------------------------------------\n",
       "Intercept                     -17.1013      1.642    -10.412      0.000     -20.336     -13.866\n",
       "subwayad_spend                 67.5877      4.404     15.348      0.000      58.914      76.261\n",
       "instagram_ad_regional_spend    26.4707      1.047     25.293      0.000      24.409      28.532\n",
       "==============================================================================\n",
       "Omnibus:                        8.697   Durbin-Watson:                   2.058\n",
       "Prob(Omnibus):                  0.013   Jarque-Bera (JB):               13.043\n",
       "Skew:                           0.204   Prob(JB):                      0.00147\n",
       "Kurtosis:                       4.042   Cond. No.                         23.9\n",
       "==============================================================================\n",
       "\n",
       "Notes:\n",
       "[1] Standard Errors assume that the covariance matrix of the errors is correctly specified.\n",
       "\"\"\""
      ]
     },
     "execution_count": 27,
     "metadata": {},
     "output_type": "execute_result"
    }
   ],
   "source": [
    "# Method 2\n",
    "\n",
    "import statsmodels.formula.api as smf\n",
    "\n",
    "model1 = smf.ols('greater_nyc_sales ~ subwayad_spend + instagram_ad_regional_spend', \n",
    "        data = sd).fit()\n",
    "model1.summary()"
   ]
  },
  {
   "cell_type": "markdown",
   "id": "836711cc",
   "metadata": {},
   "source": [
    "i. What is the p-value of the F-Statistic for this model? What does this suggest about the model?"
   ]
  },
  {
   "cell_type": "markdown",
   "id": "8d86befc",
   "metadata": {},
   "source": [
    "p-value: 0, F-statistic: 447.1\n",
    "\n",
    "\"F statistic also known as F value is used in ANOVA and regression analysis to identify the means between two populations are significantly different or not.\"\n",
    "\n",
    "The model’s F-statistic tells us that there is a meaningful relationship here between the response variable and our inputs as a group.  The very low p-values for subwayad_spend and instagram_ad_regional_spend indicate a high significance level for these independent variables.\n",
    "\n",
    "Reference\n",
    "\n",
    "Hessing, T. (2021, June 23). F distribution, F statistic, F Test. Six Sigma Study Guide. Retrieved November 26, 2022, from https://sixsigmastudyguide.com/f-distributionf-statistic-f-test/ "
   ]
  },
  {
   "cell_type": "markdown",
   "id": "0b35794b",
   "metadata": {},
   "source": [
    "ii. What are the p-values for each of the individual predictors used in this model? What does this suggest about these predictors?"
   ]
  },
  {
   "cell_type": "markdown",
   "id": "30924e21",
   "metadata": {},
   "source": [
    "The p-values for each of the individual predictors are 0. \n",
    " \n",
    "The very low p-values for subwayad_spend and instagram_ad_regional_spend indicate a high significance level for these independent variables. It suggest our model is good, so we do not need to build a new model without variable's p-value greater than 0.05. "
   ]
  },
  {
   "cell_type": "markdown",
   "id": "e1525cc3",
   "metadata": {},
   "source": [
    "e. Build yet another model -- this time, you will again use Sales as the outcome variable. Your inputs will be subway ad spending, regional instagram ad spending, and an interaction term based on the relationship between subway ad spending and regional instagram ad spending."
   ]
  },
  {
   "cell_type": "code",
   "execution_count": 28,
   "id": "630d2a21",
   "metadata": {},
   "outputs": [
    {
     "data": {
      "text/html": [
       "<table class=\"simpletable\">\n",
       "<caption>OLS Regression Results</caption>\n",
       "<tr>\n",
       "  <th>Dep. Variable:</th>    <td>greater_nyc_sales</td> <th>  R-squared:         </th> <td>   0.793</td>\n",
       "</tr>\n",
       "<tr>\n",
       "  <th>Model:</th>                   <td>OLS</td>        <th>  Adj. R-squared:    </th> <td>   0.791</td>\n",
       "</tr>\n",
       "<tr>\n",
       "  <th>Method:</th>             <td>Least Squares</td>   <th>  F-statistic:       </th> <td>   314.2</td>\n",
       "</tr>\n",
       "<tr>\n",
       "  <th>Date:</th>             <td>Thu, 01 Dec 2022</td>  <th>  Prob (F-statistic):</th> <td>7.97e-84</td>\n",
       "</tr>\n",
       "<tr>\n",
       "  <th>Time:</th>                 <td>01:13:44</td>      <th>  Log-Likelihood:    </th> <td> -666.49</td>\n",
       "</tr>\n",
       "<tr>\n",
       "  <th>No. Observations:</th>      <td>   250</td>       <th>  AIC:               </th> <td>   1341.</td>\n",
       "</tr>\n",
       "<tr>\n",
       "  <th>Df Residuals:</th>          <td>   246</td>       <th>  BIC:               </th> <td>   1355.</td>\n",
       "</tr>\n",
       "<tr>\n",
       "  <th>Df Model:</th>              <td>     3</td>       <th>                     </th>     <td> </td>   \n",
       "</tr>\n",
       "<tr>\n",
       "  <th>Covariance Type:</th>      <td>nonrobust</td>     <th>                     </th>     <td> </td>   \n",
       "</tr>\n",
       "</table>\n",
       "<table class=\"simpletable\">\n",
       "<tr>\n",
       "                       <td></td>                         <th>coef</th>     <th>std err</th>      <th>t</th>      <th>P>|t|</th>  <th>[0.025</th>    <th>0.975]</th>  \n",
       "</tr>\n",
       "<tr>\n",
       "  <th>Intercept</th>                                  <td>   -6.1062</td> <td>    3.650</td> <td>   -1.673</td> <td> 0.096</td> <td>  -13.296</td> <td>    1.084</td>\n",
       "</tr>\n",
       "<tr>\n",
       "  <th>subwayad_spend</th>                             <td>   36.5748</td> <td>   10.199</td> <td>    3.586</td> <td> 0.000</td> <td>   16.486</td> <td>   56.664</td>\n",
       "</tr>\n",
       "<tr>\n",
       "  <th>instagram_ad_regional_spend</th>                <td>    2.3102</td> <td>    7.272</td> <td>    0.318</td> <td> 0.751</td> <td>  -12.013</td> <td>   16.634</td>\n",
       "</tr>\n",
       "<tr>\n",
       "  <th>subwayad_spend:instagram_ad_regional_spend</th> <td>   68.0357</td> <td>   20.274</td> <td>    3.356</td> <td> 0.001</td> <td>   28.104</td> <td>  107.968</td>\n",
       "</tr>\n",
       "</table>\n",
       "<table class=\"simpletable\">\n",
       "<tr>\n",
       "  <th>Omnibus:</th>       <td> 4.362</td> <th>  Durbin-Watson:     </th> <td>   2.007</td>\n",
       "</tr>\n",
       "<tr>\n",
       "  <th>Prob(Omnibus):</th> <td> 0.113</td> <th>  Jarque-Bera (JB):  </th> <td>   5.693</td>\n",
       "</tr>\n",
       "<tr>\n",
       "  <th>Skew:</th>          <td>-0.010</td> <th>  Prob(JB):          </th> <td>  0.0581</td>\n",
       "</tr>\n",
       "<tr>\n",
       "  <th>Kurtosis:</th>      <td> 3.739</td> <th>  Cond. No.          </th> <td>    125.</td>\n",
       "</tr>\n",
       "</table><br/><br/>Notes:<br/>[1] Standard Errors assume that the covariance matrix of the errors is correctly specified."
      ],
      "text/plain": [
       "<class 'statsmodels.iolib.summary.Summary'>\n",
       "\"\"\"\n",
       "                            OLS Regression Results                            \n",
       "==============================================================================\n",
       "Dep. Variable:      greater_nyc_sales   R-squared:                       0.793\n",
       "Model:                            OLS   Adj. R-squared:                  0.791\n",
       "Method:                 Least Squares   F-statistic:                     314.2\n",
       "Date:                Thu, 01 Dec 2022   Prob (F-statistic):           7.97e-84\n",
       "Time:                        01:13:44   Log-Likelihood:                -666.49\n",
       "No. Observations:                 250   AIC:                             1341.\n",
       "Df Residuals:                     246   BIC:                             1355.\n",
       "Df Model:                           3                                         \n",
       "Covariance Type:            nonrobust                                         \n",
       "==============================================================================================================\n",
       "                                                 coef    std err          t      P>|t|      [0.025      0.975]\n",
       "--------------------------------------------------------------------------------------------------------------\n",
       "Intercept                                     -6.1062      3.650     -1.673      0.096     -13.296       1.084\n",
       "subwayad_spend                                36.5748     10.199      3.586      0.000      16.486      56.664\n",
       "instagram_ad_regional_spend                    2.3102      7.272      0.318      0.751     -12.013      16.634\n",
       "subwayad_spend:instagram_ad_regional_spend    68.0357     20.274      3.356      0.001      28.104     107.968\n",
       "==============================================================================\n",
       "Omnibus:                        4.362   Durbin-Watson:                   2.007\n",
       "Prob(Omnibus):                  0.113   Jarque-Bera (JB):                5.693\n",
       "Skew:                          -0.010   Prob(JB):                       0.0581\n",
       "Kurtosis:                       3.739   Cond. No.                         125.\n",
       "==============================================================================\n",
       "\n",
       "Notes:\n",
       "[1] Standard Errors assume that the covariance matrix of the errors is correctly specified.\n",
       "\"\"\""
      ]
     },
     "execution_count": 28,
     "metadata": {},
     "output_type": "execute_result"
    }
   ],
   "source": [
    "model2 = smf.ols('greater_nyc_sales ~ subwayad_spend + instagram_ad_regional_spend + subwayad_spend : instagram_ad_regional_spend', \n",
    "                data = sd).fit()\n",
    "model2.summary()"
   ]
  },
  {
   "cell_type": "markdown",
   "id": "28228efe",
   "metadata": {},
   "source": [
    "i. What do you notice about the p-values for each of these predictors? Should you keep all these terms together in one model?"
   ]
  },
  {
   "cell_type": "markdown",
   "id": "46f39208",
   "metadata": {},
   "source": [
    "The p-value for Intercept is: 0.096\n",
    "\n",
    "The p-value for subwayad_spend is: 0.000\n",
    "\n",
    "The p-value for instagram_ad_regional_spend is: 0.751\n",
    "\n",
    "The p-value for the interaction term is: 0.001\n",
    "\n",
    "The interaction term is significant. We will keep the main effects of subwayad_spend and instagram_ad_regional_spend in the model becasue of the hierarchical principle.  "
   ]
  },
  {
   "cell_type": "markdown",
   "id": "25267325",
   "metadata": {},
   "source": [
    "ii. Demonstrate what your model would predict for a marketer using 100 units of subway ad spending and 100 units of regional instagram ad spending. What sales outcome should this marketer expect to see? How does this number compare to the one that the previous model (with no interaction term) would have predicted?"
   ]
  },
  {
   "cell_type": "code",
   "execution_count": 29,
   "id": "de2222c7",
   "metadata": {},
   "outputs": [
    {
     "data": {
      "text/plain": [
       "Intercept                                     -6.106214\n",
       "subwayad_spend                                36.574831\n",
       "instagram_ad_regional_spend                    2.310175\n",
       "subwayad_spend:instagram_ad_regional_spend    68.035688\n",
       "dtype: float64"
      ]
     },
     "execution_count": 29,
     "metadata": {},
     "output_type": "execute_result"
    }
   ],
   "source": [
    "model2.params"
   ]
  },
  {
   "cell_type": "code",
   "execution_count": 30,
   "id": "b20e7a71",
   "metadata": {},
   "outputs": [
    {
     "data": {
      "text/plain": [
       "684239.2743859999"
      ]
     },
     "execution_count": 30,
     "metadata": {},
     "output_type": "execute_result"
    }
   ],
   "source": [
    "-6.106214 + 100 * 36.574831 + 100 * 2.310175 + 68.035688 * 100 * 100"
   ]
  },
  {
   "cell_type": "code",
   "execution_count": 31,
   "id": "e2b60bf8",
   "metadata": {},
   "outputs": [
    {
     "data": {
      "text/plain": [
       "Intercept                     -17.101285\n",
       "subwayad_spend                 67.587693\n",
       "instagram_ad_regional_spend    26.470711\n",
       "dtype: float64"
      ]
     },
     "execution_count": 31,
     "metadata": {},
     "output_type": "execute_result"
    }
   ],
   "source": [
    "model1.params"
   ]
  },
  {
   "cell_type": "code",
   "execution_count": 32,
   "id": "4fa01ea9",
   "metadata": {},
   "outputs": [
    {
     "data": {
      "text/plain": [
       "9388.739115"
      ]
     },
     "execution_count": 32,
     "metadata": {},
     "output_type": "execute_result"
    }
   ],
   "source": [
    "-17.101285 + 100 * 67.587693 + 100 * 26.470711"
   ]
  },
  {
   "cell_type": "markdown",
   "id": "498f9185",
   "metadata": {},
   "source": [
    "For 100 units of subway ad spending and regional instagram ad spending: The model with interaction term will predict greater_nyc_sales of 684239.2743859999. The model without interation term will predict greater_nyc_sales of 9388.739115. The number with interaction term is way larger than the one without it."
   ]
  },
  {
   "cell_type": "markdown",
   "id": "2e00288d",
   "metadata": {},
   "source": [
    "iii. In a few sentences, how do you interpret this interaction effect? What is this effect showing us? (no statistical jargon is required here, but this should make sense to someone who knows about marketing, but not about how to interpret a linear model)."
   ]
  },
  {
   "cell_type": "markdown",
   "id": "2ccbc930",
   "metadata": {},
   "source": [
    "This interaction effect is a good example of underestimation of prediction. Combining both subwayad_spend and instagram_ad_regional_spend together we could have a much better greater_nyc_sales. Our first model prediction used these two variables as individuals. However, they are interacting with each other."
   ]
  },
  {
   "cell_type": "markdown",
   "id": "230c5544",
   "metadata": {},
   "source": [
    "f. Find an example, or make up an example, of an interaction term in a model (this can be from the world of marketing, or from anywhere else). A very good answer to the last part of this question will include some genuine reaction from you -- finding an example of an interaction effect is only a ‘half-credit’ answer here."
   ]
  },
  {
   "cell_type": "markdown",
   "id": "68df863f",
   "metadata": {},
   "source": [
    "I will use playing basketball as an example. If you want to become a better basketball player, you need both skill training and lifting. These two together are an interaction term that will help you to become a better basketball player. If you only train for skill, you will lose muscle, and your skill will be better but the ability to take contact and finish after contact will decrease. Your shooting accuracy will also decrease becasue you gained more muscle. If you only do weight training, you will get stronger but your agility and skill will decrease. "
   ]
  },
  {
   "cell_type": "markdown",
   "id": "77705234",
   "metadata": {},
   "source": [
    "i. In a 3-5 sentence paragraph describe what you found (or invented). What are the variables that make up this interaction? Is the effect of their interaction on the outcome positive, or negative? How do you feel about the interaction? Does it make sense to you? Or does it surprise you?"
   ]
  },
  {
   "cell_type": "markdown",
   "id": "da976138",
   "metadata": {},
   "source": [
    "The variables are skill training and weight training. These two together will have a positive effect on our outcome variable -- becoming a better basketball player. I feel this interaction every day because I play basketball and want to become a better basketball player. It makes sense to me but does not surprise me, because I have been doing this for a very long time. One interesting thing is these two variables individually will have a negative impact on the outcome variable, but their interaction will have a positive impact on the outcome variable of becoming a better basketball. "
   ]
  }
 ],
 "metadata": {
  "kernelspec": {
   "display_name": "Python 3",
   "language": "python",
   "name": "python3"
  },
  "language_info": {
   "codemirror_mode": {
    "name": "ipython",
    "version": 3
   },
   "file_extension": ".py",
   "mimetype": "text/x-python",
   "name": "python",
   "nbconvert_exporter": "python",
   "pygments_lexer": "ipython3",
   "version": "3.8.8"
  }
 },
 "nbformat": 4,
 "nbformat_minor": 5
}
