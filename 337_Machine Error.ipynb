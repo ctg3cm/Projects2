{
 "cells": [
  {
   "cell_type": "markdown",
   "metadata": {},
   "source": [
    "## Project 2 - Machine Error - Tiange Chang\n",
    "    MTH337 - Fall 2018 \n",
    "    Instructor - Rahul Kashyap"
   ]
  },
  {
   "cell_type": "markdown",
   "metadata": {},
   "source": [
    "### The Definition of Machine Error\n",
    "By definition \"A machine error is an error caused by a physical defect issue instead of an error caused by a human in the software code or by the user of the hardware device. (Computer Hope)\". \n",
    "\n",
    "In this project, I will focus on the error that caused by floating point representation. This type of error are also called floating point error. The reason cause this error is because computers can only store fixed number of digits. In order to deal with larger numbers, the computer repredent data in sets of binary digits. However, in the real world, we use decimal numbers, when machines doing the calculations, if the number is too larger or it is a recurrent number which computers do not understand, it will run out of digits and there will be a loss of precision. \n",
    "\n",
    "P.S. the citation is at the end of the page. \n"
   ]
  },
  {
   "cell_type": "markdown",
   "metadata": {},
   "source": [
    "### Basic concept and example of floating point error\n",
    "We expect that computers should be very accurate at numbers, a very simple example will be we expect that 0.1 + 0.2 = 0.3. However, when we do that in computer programming language we will have a different number( see example below). "
   ]
  },
  {
   "cell_type": "code",
   "execution_count": 1,
   "metadata": {},
   "outputs": [
    {
     "data": {
      "text/plain": [
       "0.30000000000000004"
      ]
     },
     "execution_count": 1,
     "metadata": {},
     "output_type": "execute_result"
    }
   ],
   "source": [
    "0.1 + 0.2"
   ]
  },
  {
   "cell_type": "markdown",
   "metadata": {},
   "source": [
    "This is the error we called machine error. In order to deal with very larger number and make the calculation fast, the computer stores number in either 32 bits, 64 bits or 80 bits. \n",
    "\n",
    "In order to standard the computation, there is a way to calculate called IEEE 754. The definition is \"The IEEE Standard for Floating-Point Arithmetic (IEEE 754) is a technical standard for floating-point computation established in 1985 by the Institute of Electrical and Electronics Engineers (IEEE). The standard addressed many problems found in the diverse floating point implementations that made them difficult to use reliably and portably. Many hardware floating point units now use the IEEE 754 standard.(Wiki)\".\n",
    "\n",
    "The normalized number have this form: [$\\pm$] 1. [mantissa] $\\times$ $2^{[exponent]}$. For example, 200 in decimal is 11001000 in binary. \n",
    "\n",
    "We can write it in the format above: [0]1.[1001000] $\\times$ $2^7$. \n",
    "\n",
    "The IEEE754 format is in below:\n",
    "\n",
    "   | Precision | sign | exponent | mantissa | total |\n",
    "   |-----------|------|----------|----------|-------|\n",
    "   |single     |  1   |     8    |   23     |  32   |\n",
    "   |double     |  1   |    11    |   52     |  64   |\n",
    "   |long double|  1   |    15    |   64     |  80   |\n",
    "\n",
    "I will take 64 bits as an example because this is the most common one. \n",
    "\n",
    "   |sign   |   exponent  |   mantissa  |   total  |\n",
    "   |-------|-------------|-------------|----------|\n",
    "   |1 bit  |    11bits   |    52bits   |  64 bits |\n",
    "\n",
    "The sign bit shows the positive and negative sign of the number, if the number is positive the sign bit is 0, and 1 for negative numbers. \"The IEEE 754-2008 standard specification defines a 64 bit floating-point format with: an 11-bit binary exponent, using \"excess-1023\" format. Excess-1023 means the exponent appears as an unsigned binary integer from 0 to 2047; subtracting 1023 gives the actual signed value.(Wiki)\" For the exponent number,  we use 1023 plus or minus the exponent we get and then change to binary. The exponent for 200 will be 1023 + 7 = 1030, and 10000000110 in binary. \n",
    "\n",
    "As a result, we can wrote 200 in decimal to IEEE754 like this:\n",
    "\n",
    "   |    0    |      10000000110    |     1001000000000000000000000000000000000000000000000000   |\n",
    "   |---------|---------------------|------------------------------------------------------------|\n",
    "   |sign     |     exponent        |               mantissa                                     |\n",
    "\n",
    "From the above we can tell that computers cannot store recurrent or infinite many numbers, here is another example:\n",
    "\n",
    "In base 10, we calculate $(\\frac{1}{3})$ + $(\\frac{1}{3})$ + $(\\frac{1}{3})$, we will have 0.$\\overline{333}$ + 0.$\\overline{333}$ + 0.$\\overline{333}$ = 0.$\\overline{999}$ = 1. Because we understand recurrent numbers. However, in base 2, when we doing the same calculation, the computer does not undestand recurrent number, the calculation stop when we are running out of digits.  \n",
    "\n",
    "It is simple to prof, in base 10, $(\\frac{1}{10})$ + $(\\frac{2}{10})$ = $(\\frac{3}{10})$ = 0.3. However, in base 2, $(\\frac{1}{10})$ =  0.0$\\overline{0011}$ which is a recurrent number, we can see the result(error) in below. \n"
   ]
  },
  {
   "cell_type": "code",
   "execution_count": 2,
   "metadata": {},
   "outputs": [
    {
     "data": {
      "text/plain": [
       "0.30000000000000004"
      ]
     },
     "execution_count": 2,
     "metadata": {},
     "output_type": "execute_result"
    }
   ],
   "source": [
    "(1/10)+(2/10)"
   ]
  },
  {
   "cell_type": "markdown",
   "metadata": {},
   "source": [
    "### Machine epsilon\n",
    "\"Machine epsilon gives an upper bound on the relative error due to rounding in floating point arithmetic. This value characterizes computer arithmetic in the field of numerical analysis, and by extension in the subject of computational science. The quantity is also called macheps or unit roundoff, and it has the symbols Greek epsilon \n",
    "ϵ or bold Roman u, respectively.(Wiki)\""
   ]
  },
  {
   "cell_type": "markdown",
   "metadata": {},
   "source": [
    "In the first step of part 1, I am going to write a function called findEpsilon which finds the machine epsilon by determining the smallest floating point number larger than 1 that can be stored in the machine."
   ]
  },
  {
   "cell_type": "code",
   "execution_count": 3,
   "metadata": {},
   "outputs": [],
   "source": [
    "# write a function to calculate the smallest floating point number larger than 1 that can be stored in the machine.\n",
    "\n",
    "def findEpsilon():\n",
    "    \n",
    "    \"\"\"\n",
    "    \n",
    "    function returns the value of the smallest floating point \n",
    "    number larger than 1 that can be stored in the machine.\n",
    "    \n",
    "    keywords: returns the exponent bryond which machine does not \n",
    "    see difference between numbers and the value of machine epsilon \n",
    "    in decimal as a pair of numbers. \n",
    "    \n",
    "    \"\"\"\n",
    "    \n",
    "    # set exponent equal to 1\n",
    "    \n",
    "    x = 1\n",
    "    y = 2 ** (-x)  \n",
    "    \n",
    "    # divide the exponent by 2 in a while loop until the machine cannot tell the difference\n",
    "    \n",
    "    while (1 + y != 1):\n",
    "        x = y\n",
    "        y = y/2\n",
    "        \n",
    "    MachineEpsilon = y*2\n",
    "    \n",
    "\n",
    "    return MachineEpsilon"
   ]
  },
  {
   "cell_type": "code",
   "execution_count": 4,
   "metadata": {},
   "outputs": [
    {
     "data": {
      "text/plain": [
       "2.220446049250313e-16"
      ]
     },
     "execution_count": 4,
     "metadata": {},
     "output_type": "execute_result"
    }
   ],
   "source": [
    "# check the answer\n",
    "findEpsilon()"
   ]
  },
  {
   "cell_type": "code",
   "execution_count": 5,
   "metadata": {},
   "outputs": [
    {
     "data": {
      "text/plain": [
       "'1.7976931348623157e+308'"
      ]
     },
     "execution_count": 5,
     "metadata": {},
     "output_type": "execute_result"
    }
   ],
   "source": [
    "# write a function to find the largest floating point number that can be stored in the machine.\n",
    "\n",
    "def findLargest():\n",
    "\n",
    "    \"\"\"\n",
    "    \n",
    "    function returns the largest floating point number that can be stored in the machine.\n",
    "    \n",
    "    keywords: Use system-specific parameters and functions --- \"sys\" to print out the max \n",
    "    floating point. \n",
    "    \n",
    "    \"\"\"\n",
    "    \n",
    "    # import system-specific parameters and functions\n",
    "    import sys\n",
    "    \n",
    "    # return the max value of floating point    \n",
    "       \n",
    "    return (\"{}\".format(sys.float_info.max))\n",
    "\n",
    "# check the answer\n",
    "findLargest()"
   ]
  },
  {
   "cell_type": "code",
   "execution_count": 6,
   "metadata": {},
   "outputs": [
    {
     "name": "stdout",
     "output_type": "stream",
     "text": [
      "-0b10000\n",
      "16\n",
      "0b100110100\n",
      "308\n"
     ]
    }
   ],
   "source": [
    "# print out the exponent\n",
    "print(bin(-16))\n",
    "print(int('16', base = 10))\n",
    "print(bin(308))\n",
    "print(int('308', base = 10))"
   ]
  },
  {
   "cell_type": "markdown",
   "metadata": {},
   "source": [
    "| Decimal |    Binary   | Scientific notation    | Sign bit | Exponent | Mantissa | \n",
    "|---------|-------------|------------------------|----------|----------|----------|\n",
    "|    9    |  1001       | $1.001 \\times 2^3$     |    0      |10000000010|0010000000000000000000000000000000000000000000000000|\n",
    "|    45   | 101101      | $1.01101 \\times 2^5$   |    0      |10000000100|0110100000000000000000000000000000000000000000000000|\n",
    "|   25    | 11001       | $1.1001 \\times 2^4$    |    0      |10000000011|1001000000000000000000000000000000000000000000000000|\n",
    "| 11.105  |             |$1.011000110101110000101 \\times 2^3$|    0      |10000000010|0110001101011100001010000000000000000000000000000000|\n",
    "| 19.40625| 10011.01101 |$1.001101101 \\times 2^4$|    0      |10000000011|0011011010000000000000000000000000000000000000000000|\n",
    "|   12    |  1100       | $1.100 \\times 2^3$     |    0      |10000000010|1000000000000000000000000000000000000000000000000000|\n",
    "|   51    | 110011      | $1.10011 \\times 2^5$   |    0      |10000000100|1001100000000000000000000000000000000000000000000000|"
   ]
  },
  {
   "cell_type": "markdown",
   "metadata": {},
   "source": [
    "    1.  9/2 = 4...1\n",
    "        4/2 = 2...0\n",
    "        2/2 = 1...0\n",
    "        1/2 = 0...1\n",
    "       \n",
    "       Decimal 9 in binary is the reveres order of the remainder: 1001.\n",
    "   \n",
    "The scientific notation is $1.001 \\times 2^3$ .\n",
    "      \n",
    "       The sign bit is 0 becuase the number is positive. \n",
    "       \n",
    "       The exponent is 10000000010 becuase the exponent bias for 64 bit is 1023. The finial exponent is 1023 + 3 = 1026, and then transfrom to binary: \n",
    "   \n",
    "       1026/2 = 513...0\n",
    "       513/2 = 256...1\n",
    "       256/2 = 128...0\n",
    "       ...\n",
    "       1/2 = 0...1\n",
    "\n",
    "The mantissa is 0010000000000000000000000000000000000000000000000000 because the binary is $1.001 \\times 2^3$ and 1 is defult, so it starts 001 and fill out by 0. "
   ]
  },
  {
   "cell_type": "markdown",
   "metadata": {},
   "source": [
    "-----"
   ]
  },
  {
   "cell_type": "markdown",
   "metadata": {},
   "source": [
    "   2.  101101 = $1.01101 \\times 2^5$ = 45\n",
    "   \n",
    "The scientific notation is $1.01101 \\times 2^5$ .\n",
    "      \n",
    "       The sign bit is 0 becuase the number is positive. \n",
    "       \n",
    "       The exponent is 10000000100 becuase the exponent bias for 64 bit is 1023. The finial exponent is 1023 + 5 = 1028, and then transfrom to binary: \n",
    "   \n",
    "       1028/2 = 514...0\n",
    "       514/2 = 257...0\n",
    "       257/2 = 128...1\n",
    "       ...\n",
    "       1/2 = 0...1\n",
    "\n",
    "The mantissa is 0110100000000000000000000000000000000000000000000000 because the binary is $1.001 \\times 2^3$ and 1 is defult, so it starts 001 and fill out by 0. "
   ]
  },
  {
   "cell_type": "markdown",
   "metadata": {},
   "source": [
    "---"
   ]
  },
  {
   "cell_type": "markdown",
   "metadata": {},
   "source": [
    "    3.  25/2 = 12...1\n",
    "        12/2 = 6...0\n",
    "        6/2 = 3...0\n",
    "        3/2 = 1...1\n",
    "        1/2 = 0...1\n",
    "       \n",
    "       Decimal 25 in binary is the reveres order of the remainder: 11001.\n",
    "   \n",
    "The scientific notation is $1.1001 \\times 2^4$ .\n",
    "      \n",
    "       The sign bit is 0 becuase the number is positive. \n",
    "       \n",
    "       The exponent is 10000000011 becuase the exponent bias for 64 bit is 1023. The finial exponent is 1023 + 4 = 1027, and then transfrom to binary: \n",
    "   \n",
    "       1027/2 = 513...1\n",
    "       513/2 = 256...1\n",
    "       256/2 = 128...0\n",
    "       ...\n",
    "       1/2 = 0...1\n",
    "\n",
    "The mantissa is 1001000000000000000000000000000000000000000000000000 because the binary is $1.1001 \\times 2^4$ and 1 is defult, so it starts 1001 and fill out by 0. "
   ]
  },
  {
   "cell_type": "markdown",
   "metadata": {},
   "source": [
    "----"
   ]
  },
  {
   "cell_type": "markdown",
   "metadata": {},
   "source": [
    "     4. for number 11.105, I will calulate 11 first and then 0.105 \n",
    "     \n",
    "         11/2 = 5...1\n",
    "         5/2 = 2...1\n",
    "         2/2 = 1...0\n",
    "         1/2 = 0...1\n",
    "\n",
    "   Decimal 11 in binary is the reveres order of the remainder: 1011\n",
    "   \n",
    "         0.105 * 2 = 0.21...0\n",
    "         0.21 * 2 = 0.42...0\n",
    "         0.42 * 2 = 0.84...0\n",
    "         0.84 * 2 = 1.68...1\n",
    "         0.68 * 2 = 1.36...1\n",
    "         0.36 * 2 = 0.72...0\n",
    "         0.72 * 2 = 1.44...1\n",
    "         0.44 * 2 = 0.88...0\n",
    "         0.88 * 2 = 1.76...1\n",
    "         0.76 * 2 = 1.52...1\n",
    "         0.52 * 2 = 1.04...1\n",
    "         0.04 * 2 = 0.08...0\n",
    "         0.08 * 2 = 0.16...0\n",
    "         0.16 * 2 = 0.32...0\n",
    "         0.32 * 2 = 0.64...0\n",
    "         0.64 * 2 = 1.28...1\n",
    "         0.28 * 2 = 0.56...0\n",
    "         0.56 * 2 = 1.12...1\n",
    "                 ...\n",
    "                 \n",
    "\n",
    "11.105 = 1011.000110101110000101\n",
    "\n",
    "The scientific notation is $1.011000110101110000101 \\times 2^3$ .\n",
    "   \n",
    "   The sign bit is 0 becuase the number is positive. \n",
    "\n",
    "   The exponent is 10000000010 becuase the exponent bias for 64 bit is 1023. The finial exponent is 1023 + 3 = 1026, and then transfrom to binary: \n",
    "   \n",
    "       1026/2 = 513...0\n",
    "       513/2 = 256...1\n",
    "       256/2 = 128...0\n",
    "       ...\n",
    "       1/2 = 0...1\n",
    "\n",
    "The mantissa is 0110001101011100001010000000000000000000000000000000 "
   ]
  },
  {
   "cell_type": "markdown",
   "metadata": {},
   "source": [
    "----"
   ]
  },
  {
   "cell_type": "markdown",
   "metadata": {},
   "source": [
    "   5.  10011.01101 = $1.001101101 \\times 2^4$ = 19.40625\n",
    "   \n",
    "The scientific notation is $1.001101101 \\times 2^4$ .\n",
    "      \n",
    "       The sign bit is 0 becuase the number is positive. \n",
    "       \n",
    "       The exponent is 10000000011 becuase the exponent bias for 64 bit is 1023. The finial exponent is 1023 + 4 = 1027, and then transfrom to binary: \n",
    "   \n",
    "       1027/2 = 513...1\n",
    "       513/2 = 256...1\n",
    "       256/2 = 128...0\n",
    "       ...\n",
    "       1/2 = 0...1\n",
    "\n",
    "The mantissa is 0011011010000000000000000000000000000000000000000000 because the binary is $1.001101101 \\times 2^4$ and 1 is defult, so it starts 001101101 and fill out by 0. "
   ]
  },
  {
   "cell_type": "markdown",
   "metadata": {},
   "source": [
    "----"
   ]
  },
  {
   "cell_type": "markdown",
   "metadata": {},
   "source": [
    "    6.  12/2 = 6...0\n",
    "        6/2 = 3...0\n",
    "        3/2 = 1...1\n",
    "        1/2 = 0...1\n",
    "       \n",
    "       Decimal 25 in binary is the reveres order of the remainder: 11001.\n",
    "   \n",
    "The scientific notation is $1.100 \\times 2^3$ .\n",
    "      \n",
    "       The sign bit is 0 becuase the number is positive. \n",
    "       \n",
    "       The exponent is 10000000010 becuase the exponent bias for 64 bit is 1023. The finial exponent is 1023 + 3 = 1026, and then transfrom to binary, which is the same as the first number in the table: \n",
    "   \n",
    "       1026/2 = 513...0\n",
    "       513/2 = 256...1\n",
    "       256/2 = 128...0\n",
    "       ...\n",
    "       1/2 = 0...1\n",
    "\n",
    "The mantissa is 1000000000000000000000000000000000000000000000000000 because the binary is $1.100 \\times 2^3$ and 1 is defult, so it starts 1001 and fill out by 0. "
   ]
  },
  {
   "cell_type": "markdown",
   "metadata": {},
   "source": [
    "----"
   ]
  },
  {
   "cell_type": "markdown",
   "metadata": {},
   "source": [
    "7.  110011 = $1.10011 \\times 2^5$ = 51\n",
    "   \n",
    "The scientific notation is $1.10011 \\times 2^5$ .\n",
    "      \n",
    "       The sign bit is 0 becuase the number is positive. \n",
    "       \n",
    "       The exponent is 10000000100 becuase the exponent bias for 64 bit is 1023. The finial exponent is 1023 + 5 = 1028, and then transfrom to binary: \n",
    "   \n",
    "       1028/2 = 514...0\n",
    "       514/2 = 257...0\n",
    "       257/2 = 128...1\n",
    "       ...\n",
    "       1/2 = 0...1\n",
    "\n",
    "The mantissa is 1001100000000000000000000000000000000000000000000000 because the binary is $1.001 \\times 2^3$ and 1 is defult, so it starts 001 and fill out by 0. "
   ]
  },
  {
   "cell_type": "markdown",
   "metadata": {},
   "source": [
    "----"
   ]
  },
  {
   "cell_type": "code",
   "execution_count": 7,
   "metadata": {},
   "outputs": [
    {
     "name": "stdout",
     "output_type": "stream",
     "text": [
      "51\n",
      "0b110011\n"
     ]
    }
   ],
   "source": [
    "# check the answer for the last case\n",
    "print(int('110011', base = 2))\n",
    "print(bin(51))"
   ]
  },
  {
   "cell_type": "markdown",
   "metadata": {},
   "source": [
    "Now I will go try to quantify the error in calculating values of functions which are error prone due to the limits of machine precision. The example will be plotting the function below. "
   ]
  },
  {
   "cell_type": "code",
   "execution_count": 8,
   "metadata": {},
   "outputs": [
    {
     "name": "stderr",
     "output_type": "stream",
     "text": [
      "UsageError: Line magic function `%` not found.\n"
     ]
    }
   ],
   "source": [
    "# plot the function g(x) = log(1+x)/x\n",
    "import numpy as np\n",
    "import matplotlib.pyplot as plt\n",
    "% matplotlib inline \n",
    "\n",
    "ends = 10\n",
    "\n",
    "x = np.linspace(-ends, ends, 1000)\n",
    "y = np.log(1+x)/x\n",
    "\n",
    "plt.plot(x, y)\n",
    "plt.xlabel('$x$')\n",
    "plt.ylabel('$log(1+x)/x$')"
   ]
  },
  {
   "cell_type": "code",
   "execution_count": 9,
   "metadata": {},
   "outputs": [
    {
     "name": "stderr",
     "output_type": "stream",
     "text": [
      "<ipython-input-9-660fd5ea18af>:5: RuntimeWarning: divide by zero encountered in log\n",
      "  y = np.log(1+x)/x\n"
     ]
    },
    {
     "data": {
      "text/plain": [
       "Text(0, 0.5, '$log(1+x)/x$')"
      ]
     },
     "execution_count": 9,
     "metadata": {},
     "output_type": "execute_result"
    },
    {
     "data": {
      "image/png": "[encoded data removed]",
      "text/plain": [
       "<Figure size 432x288 with 1 Axes>"
      ]
     },
     "metadata": {
      "needs_background": "light"
     },
     "output_type": "display_data"
    }
   ],
   "source": [
    "# decrease the value of x \n",
    "ends = 1\n",
    "\n",
    "x = np.linspace(-ends, ends, 100)\n",
    "y = np.log(1+x)/x\n",
    "\n",
    "plt.plot(x, y)\n",
    "plt.xlabel('$x$')\n",
    "plt.ylabel('$log(1+x)/x$')"
   ]
  },
  {
   "cell_type": "code",
   "execution_count": 10,
   "metadata": {},
   "outputs": [
    {
     "data": {
      "text/plain": [
       "Text(0, 0.5, '$log(1+x)/x$')"
      ]
     },
     "execution_count": 10,
     "metadata": {},
     "output_type": "execute_result"
    },
    {
     "data": {
      "image/png": "[encoded data removed]",
      "text/plain": [
       "<Figure size 432x288 with 1 Axes>"
      ]
     },
     "metadata": {
      "needs_background": "light"
     },
     "output_type": "display_data"
    }
   ],
   "source": [
    "# set x to magnitudes comparable to machine epsilon\n",
    "ends = 2.220446049250313e-7\n",
    "\n",
    "x = np.linspace(-ends, ends, 100)\n",
    "y = np.log(1+x)/x\n",
    "\n",
    "plt.plot(x, y)\n",
    "plt.xlabel('$x$')\n",
    "plt.ylabel('$log(1+x)/x$')"
   ]
  },
  {
   "cell_type": "code",
   "execution_count": 11,
   "metadata": {},
   "outputs": [
    {
     "data": {
      "text/plain": [
       "Text(0, 0.5, '$log(1+x)/x$')"
      ]
     },
     "execution_count": 11,
     "metadata": {},
     "output_type": "execute_result"
    },
    {
     "data": {
      "image/png": "[encoded data removed]",
      "text/plain": [
       "<Figure size 432x288 with 1 Axes>"
      ]
     },
     "metadata": {
      "needs_background": "light"
     },
     "output_type": "display_data"
    }
   ],
   "source": [
    "ends = 2.220446049250313e-8\n",
    "\n",
    "x = np.linspace(-ends, ends, 100)\n",
    "y = np.log(1+x)/x\n",
    "\n",
    "plt.plot(x, y)\n",
    "plt.xlabel('$x$')\n",
    "plt.ylabel('$log(1+x)/x$')"
   ]
  },
  {
   "cell_type": "code",
   "execution_count": 12,
   "metadata": {},
   "outputs": [
    {
     "data": {
      "text/plain": [
       "Text(0, 0.5, '$log(1+x)/x$')"
      ]
     },
     "execution_count": 12,
     "metadata": {},
     "output_type": "execute_result"
    },
    {
     "data": {
      "image/png": "[encoded data removed]",
      "text/plain": [
       "<Figure size 432x288 with 1 Axes>"
      ]
     },
     "metadata": {
      "needs_background": "light"
     },
     "output_type": "display_data"
    }
   ],
   "source": [
    "ends = 2.220446049250313e-9\n",
    "\n",
    "x = np.linspace(-ends, ends, 100)\n",
    "y = np.log(1+x)/x\n",
    "\n",
    "plt.plot(x, y)\n",
    "plt.xlabel('$x$')\n",
    "plt.ylabel('$log(1+x)/x$')"
   ]
  },
  {
   "cell_type": "code",
   "execution_count": 13,
   "metadata": {},
   "outputs": [
    {
     "data": {
      "text/plain": [
       "Text(0, 0.5, '$log(1+x)/x$')"
      ]
     },
     "execution_count": 13,
     "metadata": {},
     "output_type": "execute_result"
    },
    {
     "data": {
      "image/png": "[encoded data removed]",
      "text/plain": [
       "<Figure size 432x288 with 1 Axes>"
      ]
     },
     "metadata": {
      "needs_background": "light"
     },
     "output_type": "display_data"
    }
   ],
   "source": [
    "ends = 2.220446049250313e-10\n",
    "\n",
    "x = np.linspace(-ends, ends, 100)\n",
    "y = np.log(1+x)/x\n",
    "\n",
    "plt.plot(x, y)\n",
    "plt.xlabel('$x$')\n",
    "plt.ylabel('$log(1+x)/x$')"
   ]
  },
  {
   "cell_type": "markdown",
   "metadata": {},
   "source": [
    "As we can see, when we decrease x to magnitudes comparable to machine epsilon, the figure changed from a smooth curve to a irregular figure.  "
   ]
  },
  {
   "cell_type": "code",
   "execution_count": 14,
   "metadata": {},
   "outputs": [
    {
     "data": {
      "text/plain": [
       "<matplotlib.legend.Legend at 0x7fa1d3e49880>"
      ]
     },
     "execution_count": 14,
     "metadata": {},
     "output_type": "execute_result"
    },
    {
     "data": {
      "image/png": "[encoded data removed]",
      "text/plain": [
       "<Figure size 432x288 with 1 Axes>"
      ]
     },
     "metadata": {
      "needs_background": "light"
     },
     "output_type": "display_data"
    }
   ],
   "source": [
    "# the Taylor expansion\n",
    "\n",
    "end = 1e-7\n",
    "\n",
    "x = np.linspace(-end, end, 500)\n",
    "y = np.log(1+x)/x\n",
    "\n",
    "yApprox = 1 - x/2 + x*x/3 - x*x*x/4\n",
    "\n",
    "plt.xlabel('$x$')\n",
    "plt.ylabel('$log(1+x)/x$')\n",
    "plt.plot(x, y, label = 'naive plotting')\n",
    "plt.plot(x, yApprox, label = 'Taylor approximation')\n",
    "plt.legend()"
   ]
  },
  {
   "cell_type": "markdown",
   "metadata": {},
   "source": [
    "### Conclusion\n",
    "By study the machine error, I learned how computers store numbers and how it works. Also how to transform between decimal and binary. The machine error is not an error due to the calculation. It is because of the limit of the way the computer store numbers. There are 32 bits, 64 bits, and 80 bits total three ways to store numbers, and it is true that the higher the bits the higher the precision. It is enough for most of the use, for example, the game design. However, if we go up to the limit, it will become an error, one example is the plot I did in this project. When we decrease the value of x very close to the machine epsilon, the figure became inaccurate. The more close to the machine epsilon the more inaccuracy.  \n"
   ]
  },
  {
   "cell_type": "markdown",
   "metadata": {},
   "source": [
    "### Citation Page\n",
    "\n",
    "Machine error, Computer Hope\n",
    "\n",
    "https://www.computerhope.com/jargon/m/macherro.htm\n",
    "\n",
    "Machine epsilon, Wikipedia\n",
    "\n",
    "https://en.wikipedia.org/wiki/Machine_epsilon\n",
    "\n",
    "Computer number format, Wikipedia\n",
    "\n",
    "https://en.wikipedia.org/wiki/Computer_number_format\n",
    "\n",
    "Floating Point Numbers, Computerphile\n",
    "\n",
    "https://www.youtube.com/watch?v=PZRI1IfStY0\n",
    "\n",
    "IEEE 754, Wikipedia\n",
    "\n",
    "https://en.wikipedia.org/wiki/IEEE_754\n",
    "\n",
    "What is the maximum float in Python? Martin Thoma\n",
    "\n",
    "https://stackoverflow.com/questions/3477283/what-is-the-maximum-float-in-python\n",
    "\n",
    "What is the maximum value of float in Python? Pythonic\n",
    "\n",
    "https://www.tutorialspoint.com/What-is-the-maximum-value-of-float-in-Python\n",
    "\n"
   ]
  }
 ],
 "metadata": {
  "kernelspec": {
   "display_name": "base",
   "language": "python",
   "name": "python3"
  },
  "language_info": {
   "codemirror_mode": {
    "name": "ipython",
    "version": 3
   },
   "file_extension": ".py",
   "mimetype": "text/x-python",
   "name": "python",
   "nbconvert_exporter": "python",
   "pygments_lexer": "ipython3",
   "version": "3.8.8"
  },
  "vscode": {
   "interpreter": {
    "hash": "40d3a090f54c6569ab1632332b64b2c03c39dcf918b08424e98f38b5ae0af88f"
   }
  }
 },
 "nbformat": 4,
 "nbformat_minor": 2
}
