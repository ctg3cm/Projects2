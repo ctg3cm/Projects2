{
 "cells": [
  {
   "cell_type": "markdown",
   "metadata": {},
   "source": [
    "## Project 3 - Model Building - Tiange Chang\n",
    "    MTH337 - Fall 2018 \n",
    "    Instructor - Rahul Kashyap"
   ]
  },
  {
   "cell_type": "markdown",
   "metadata": {},
   "source": [
    "### The Definition of Model Building\n",
    "\n",
    "Model Building is a descripton fo a system using mathematical concepts and lanugage. The process of developing a mathematical model is termed mathematical model building. Mathematical models are used in the natural sciences such as physics, biology and chemistry and engineering discilpines such as computer science, as well as in the social science such as economics and psychology.(Wiki)\n",
    "\n",
    "When we analyzing data, use mathematical model has some benefits such as the ability to predict system behavior, a clear idea of the important inputs and outputs and the ability to analyze anomalous behavior by comparing it to the model-predicted behavior. (Marc)\n",
    "\n",
    "However, it also has some disadvantages such as the model may eliminate important predictive power by being too simple and the model may be capable in certain circumstances, but not in others and the assumed conditions may not be obvious or understood by later users. (Marc)\n",
    "\n",
    "In this project, I will build a free fall model using file reading and build a simple population dynamics model using mayfly. "
   ]
  },
  {
   "cell_type": "markdown",
   "metadata": {},
   "source": [
    "### Free Fall\n",
    "\n",
    "In Newtonian physics, free fall is any motion of a body where gravity is the only force acting upon it. In the context of general relativity, where gravitation is reduced to a space-time curvature, a body in free fall has no force acting on it. (Wiki)\n",
    "\n",
    "The free fall equation for an object starting from rest is $$y = \\frac{1}{2} gt^2$$\n",
    "\n",
    "The value of g from experiments is $$9.8 m/s^2$$"
   ]
  },
  {
   "cell_type": "markdown",
   "metadata": {},
   "source": [
    "### File Reading\n",
    "\n",
    "A file is some information or data which stays in the computer storage devices. Python gives you easy ways to manipulate these files. Generally we divide files in two categories, text file and binary file. Text files are simple text where as the binary files contain binary data which is only readable by computer. (Kushal)\n",
    "\n",
    "In this part, I am going to use NumPy file I/O commands (np.loadtxt) to import both plastic ball and steel ball's data. "
   ]
  },
  {
   "cell_type": "code",
   "execution_count": 1,
   "metadata": {},
   "outputs": [],
   "source": [
    "import numpy as np\n",
    "import matplotlib.pyplot as plt\n",
    "%matplotlib inline"
   ]
  },
  {
   "cell_type": "code",
   "execution_count": 2,
   "metadata": {},
   "outputs": [],
   "source": [
    "# Import the plastic ball's data\n",
    "# Use delimiter to tab spacing\n",
    "# Use skiprows to skip the first four rows which can't be converted\n",
    "PlasticBall = np.loadtxt(\"freefallPlastic.txt\", delimiter = '\\t', skiprows = 4)"
   ]
  },
  {
   "cell_type": "code",
   "execution_count": 3,
   "metadata": {},
   "outputs": [
    {
     "name": "stdout",
     "output_type": "stream",
     "text": [
      "[[19.6     0.2025]\n",
      " [19.6     0.2031]\n",
      " [19.6     0.2036]\n",
      " [19.6     0.2033]\n",
      " [19.6     0.203 ]\n",
      " [25.7     0.2301]\n",
      " [25.7     0.2307]\n",
      " [25.7     0.2301]\n",
      " [25.7     0.2306]\n",
      " [25.7     0.2304]\n",
      " [30.2     0.2508]\n",
      " [30.2     0.2509]\n",
      " [30.2     0.251 ]\n",
      " [30.2     0.2508]\n",
      " [30.2     0.2509]\n",
      " [35.1     0.2707]\n",
      " [35.1     0.2713]\n",
      " [35.1     0.2716]\n",
      " [35.1     0.2716]\n",
      " [35.1     0.2714]\n",
      " [40.4     0.2895]\n",
      " [40.4     0.2898]\n",
      " [40.4     0.29  ]\n",
      " [40.4     0.2902]\n",
      " [40.4     0.2901]\n",
      " [46.2     0.3096]\n",
      " [46.2     0.3101]\n",
      " [46.2     0.3102]\n",
      " [46.2     0.31  ]\n",
      " [46.2     0.3097]]\n"
     ]
    }
   ],
   "source": [
    "print(PlasticBall)"
   ]
  },
  {
   "cell_type": "code",
   "execution_count": 4,
   "metadata": {},
   "outputs": [
    {
     "name": "stdout",
     "output_type": "stream",
     "text": [
      "[[19.8     0.2028]\n",
      " [19.8     0.2034]\n",
      " [19.8     0.2034]\n",
      " [19.8     0.2039]\n",
      " [19.8     0.2038]\n",
      " [25.8     0.2305]\n",
      " [25.8     0.2306]\n",
      " [25.8     0.2307]\n",
      " [25.8     0.2307]\n",
      " [25.8     0.2304]\n",
      " [30.4     0.2508]\n",
      " [30.4     0.2509]\n",
      " [30.4     0.2508]\n",
      " [30.4     0.2507]\n",
      " [30.4     0.2507]\n",
      " [35.6     0.2707]\n",
      " [35.6     0.2707]\n",
      " [35.6     0.2713]\n",
      " [35.6     0.271 ]\n",
      " [35.6     0.2711]\n",
      " [40.6     0.2897]\n",
      " [40.6     0.2896]\n",
      " [40.6     0.2897]\n",
      " [40.6     0.2896]\n",
      " [40.6     0.2894]\n",
      " [46.4     0.3094]\n",
      " [46.4     0.3095]\n",
      " [46.4     0.3097]\n",
      " [46.4     0.3095]\n",
      " [46.4     0.3097]]\n"
     ]
    }
   ],
   "source": [
    "# Import the stell ball's data\n",
    "# Use delimiter to tab spacing\n",
    "# Use skiprows to skip the first four rows which can't be converted\n",
    "SteelBall = np.loadtxt(\"freefallSteel.txt\", delimiter = '\\t', skiprows = 4)\n",
    "print(SteelBall)"
   ]
  },
  {
   "cell_type": "code",
   "execution_count": 5,
   "metadata": {},
   "outputs": [
    {
     "name": "stdout",
     "output_type": "stream",
     "text": [
      "[[19.6     0.2025]\n",
      " [19.6     0.2031]\n",
      " [19.6     0.2036]\n",
      " [19.6     0.2033]\n",
      " [19.6     0.203 ]\n",
      " [25.7     0.2301]\n",
      " [25.7     0.2307]\n",
      " [25.7     0.2301]\n",
      " [25.7     0.2306]\n",
      " [25.7     0.2304]\n",
      " [30.2     0.2508]\n",
      " [30.2     0.2509]\n",
      " [30.2     0.251 ]\n",
      " [30.2     0.2508]\n",
      " [30.2     0.2509]\n",
      " [35.1     0.2707]\n",
      " [35.1     0.2713]\n",
      " [35.1     0.2716]\n",
      " [35.1     0.2716]\n",
      " [35.1     0.2714]\n",
      " [40.4     0.2895]\n",
      " [40.4     0.2898]\n",
      " [40.4     0.29  ]\n",
      " [40.4     0.2902]\n",
      " [40.4     0.2901]\n",
      " [46.2     0.3096]\n",
      " [46.2     0.3101]\n",
      " [46.2     0.3102]\n",
      " [46.2     0.31  ]\n",
      " [46.2     0.3097]]\n"
     ]
    }
   ],
   "source": [
    "PlasticData = np.array([[19.6, 0.2025],\n",
    " [19.6, 0.2031],\n",
    " [19.6, 0.2036],\n",
    " [19.6, 0.2033],\n",
    " [19.6, 0.203 ],\n",
    " [25.7, 0.2301],\n",
    " [25.7, 0.2307],\n",
    " [25.7, 0.2301],\n",
    " [25.7, 0.2306],\n",
    " [25.7, 0.2304],\n",
    " [30.2, 0.2508],\n",
    " [30.2, 0.2509],\n",
    " [30.2, 0.251 ],\n",
    " [30.2, 0.2508],\n",
    " [30.2, 0.2509],\n",
    " [35.1, 0.2707],\n",
    " [35.1, 0.2713],\n",
    " [35.1, 0.2716],\n",
    " [35.1, 0.2716],\n",
    " [35.1, 0.2714],\n",
    " [40.4, 0.2895],\n",
    " [40.4, 0.2898],\n",
    " [40.4, 0.29  ],\n",
    " [40.4, 0.2902],\n",
    " [40.4, 0.2901],\n",
    " [46.2, 0.3096],\n",
    " [46.2, 0.3101],\n",
    " [46.2, 0.3102],\n",
    " [46.2, 0.31  ],\n",
    " [46.2, 0.3097]])\n",
    "\n",
    "print(PlasticData)"
   ]
  },
  {
   "cell_type": "code",
   "execution_count": 6,
   "metadata": {},
   "outputs": [
    {
     "name": "stdout",
     "output_type": "stream",
     "text": [
      "[[19.8     0.2028]\n",
      " [19.8     0.2034]\n",
      " [19.8     0.2034]\n",
      " [19.8     0.2039]\n",
      " [19.8     0.2038]\n",
      " [25.8     0.2305]\n",
      " [25.8     0.2306]\n",
      " [25.8     0.2307]\n",
      " [25.8     0.2307]\n",
      " [25.8     0.2304]\n",
      " [30.4     0.2508]\n",
      " [30.4     0.2509]\n",
      " [30.4     0.2508]\n",
      " [30.4     0.2507]\n",
      " [30.4     0.2507]\n",
      " [35.6     0.2707]\n",
      " [35.6     0.2707]\n",
      " [35.6     0.2713]\n",
      " [35.6     0.271 ]\n",
      " [35.6     0.2711]\n",
      " [40.6     0.2897]\n",
      " [40.6     0.2896]\n",
      " [40.6     0.2897]\n",
      " [40.6     0.2896]\n",
      " [40.6     0.2894]\n",
      " [46.4     0.3094]\n",
      " [46.4     0.3095]\n",
      " [46.4     0.3097]\n",
      " [46.4     0.3095]\n",
      " [46.4     0.3097]]\n"
     ]
    }
   ],
   "source": [
    "SteelData = np.array([[19.8    , 0.2028],\n",
    " [19.8,     0.2034],\n",
    " [19.8 ,    0.2034],\n",
    " [19.8  ,   0.2039],\n",
    " [19.8   ,  0.2038],\n",
    " [25.8    , 0.2305],\n",
    " [25.8,     0.2306],\n",
    " [25.8 ,    0.2307],\n",
    " [25.8  ,   0.2307],\n",
    " [25.8   ,  0.2304],\n",
    " [30.4    , 0.2508],\n",
    " [30.4,     0.2509],\n",
    " [30.4 ,    0.2508],\n",
    " [30.4  ,   0.2507],\n",
    " [30.4   ,  0.2507],\n",
    " [35.6    , 0.2707],\n",
    " [35.6,     0.2707],\n",
    " [35.6 ,    0.2713],\n",
    " [35.6  ,   0.271 ],\n",
    " [35.6   ,  0.2711],\n",
    " [40.6    , 0.2897],\n",
    " [40.6,     0.2896],\n",
    " [40.6 ,    0.2897],\n",
    " [40.6  ,   0.2896],\n",
    " [40.6   ,  0.2894],\n",
    " [46.4    , 0.3094],\n",
    " [46.4,     0.3095],\n",
    " [46.4 ,    0.3097],\n",
    " [46.4  ,   0.3095],\n",
    " [46.4   ,  0.3097]])\n",
    "\n",
    "print(SteelData)"
   ]
  },
  {
   "cell_type": "code",
   "execution_count": 7,
   "metadata": {},
   "outputs": [
    {
     "data": {
      "text/plain": [
       "Text(0.5,1,'y vs t')"
      ]
     },
     "execution_count": 7,
     "metadata": {},
     "output_type": "execute_result"
    },
    {
     "data": {
      "image/png": "[encoded data removed]",
      "text/plain": [
       "<Figure size 432x288 with 1 Axes>"
      ]
     },
     "metadata": {},
     "output_type": "display_data"
    }
   ],
   "source": [
    "plt. plot(PlasticData[:, 0], PlasticData[:, 1], 'b^', \n",
    "          SteelData[:, 0], SteelData[:,1], 'ro')\n",
    "# Plot both plastic ball's data and steel ball's data. Set figure size. \n",
    "# Using 'b^-' and 'ro-' to set the type. b menas blue, r menas red, o means circl, \n",
    "# ^ menas triangle, s means square and - menas line.  \n",
    "plt. xlabel('$y / cm$')\n",
    "# Plot the x axes label to y / cm, $ means the mathematic format. \n",
    "plt. ylabel('$t / s$')\n",
    "plt.text(22, 0.3, 'Plastic: blue' )\n",
    "plt.text(22, 0.29, 'Steel: red' )\n",
    "# Plot the text, 22 and 0.3 is the position. \n",
    "plt. title('y vs t')\n",
    "# Plot the title. "
   ]
  },
  {
   "cell_type": "code",
   "execution_count": 8,
   "metadata": {},
   "outputs": [
    {
     "name": "stdout",
     "output_type": "stream",
     "text": [
      "[[1.960000e+01 4.100625e-02]\n",
      " [1.960000e+01 4.124961e-02]\n",
      " [1.960000e+01 4.145296e-02]\n",
      " [1.960000e+01 4.133089e-02]\n",
      " [1.960000e+01 4.120900e-02]\n",
      " [2.570000e+01 5.294601e-02]\n",
      " [2.570000e+01 5.322249e-02]\n",
      " [2.570000e+01 5.294601e-02]\n",
      " [2.570000e+01 5.317636e-02]\n",
      " [2.570000e+01 5.308416e-02]\n",
      " [3.020000e+01 6.290064e-02]\n",
      " [3.020000e+01 6.295081e-02]\n",
      " [3.020000e+01 6.300100e-02]\n",
      " [3.020000e+01 6.290064e-02]\n",
      " [3.020000e+01 6.295081e-02]\n",
      " [3.510000e+01 7.327849e-02]\n",
      " [3.510000e+01 7.360369e-02]\n",
      " [3.510000e+01 7.376656e-02]\n",
      " [3.510000e+01 7.376656e-02]\n",
      " [3.510000e+01 7.365796e-02]\n",
      " [4.040000e+01 8.381025e-02]\n",
      " [4.040000e+01 8.398404e-02]\n",
      " [4.040000e+01 8.410000e-02]\n",
      " [4.040000e+01 8.421604e-02]\n",
      " [4.040000e+01 8.415801e-02]\n",
      " [4.620000e+01 9.585216e-02]\n",
      " [4.620000e+01 9.616201e-02]\n",
      " [4.620000e+01 9.622404e-02]\n",
      " [4.620000e+01 9.610000e-02]\n",
      " [4.620000e+01 9.591409e-02]]\n"
     ]
    }
   ],
   "source": [
    "PlasticData2 = np.array([[19.6, 0.2025**2], # Creating the data set of t^2\n",
    " [19.6, 0.2031**2],\n",
    " [19.6, 0.2036**2],\n",
    " [19.6, 0.2033**2],\n",
    " [19.6, 0.203**2 ],\n",
    " [25.7, 0.2301**2],\n",
    " [25.7, 0.2307**2],\n",
    " [25.7, 0.2301**2],\n",
    " [25.7, 0.2306**2],\n",
    " [25.7, 0.2304**2],\n",
    " [30.2, 0.2508**2],\n",
    " [30.2, 0.2509**2],\n",
    " [30.2, 0.251**2 ],\n",
    " [30.2, 0.2508**2],\n",
    " [30.2, 0.2509**2],\n",
    " [35.1, 0.2707**2],\n",
    " [35.1, 0.2713**2],\n",
    " [35.1, 0.2716**2],\n",
    " [35.1, 0.2716**2],\n",
    " [35.1, 0.2714**2],\n",
    " [40.4, 0.2895**2],\n",
    " [40.4, 0.2898**2],\n",
    " [40.4, 0.29**2  ],\n",
    " [40.4, 0.2902**2],\n",
    " [40.4, 0.2901**2],\n",
    " [46.2, 0.3096**2],\n",
    " [46.2, 0.3101**2],\n",
    " [46.2, 0.3102**2],\n",
    " [46.2, 0.31**2  ],\n",
    " [46.2, 0.3097**2]])\n",
    "\n",
    "print(PlasticData2)"
   ]
  },
  {
   "cell_type": "code",
   "execution_count": 9,
   "metadata": {},
   "outputs": [
    {
     "name": "stdout",
     "output_type": "stream",
     "text": [
      "[[1.980000e+01 4.112784e-02]\n",
      " [1.980000e+01 4.137156e-02]\n",
      " [1.980000e+01 4.137156e-02]\n",
      " [1.980000e+01 4.157521e-02]\n",
      " [1.980000e+01 4.153444e-02]\n",
      " [2.580000e+01 5.313025e-02]\n",
      " [2.580000e+01 5.317636e-02]\n",
      " [2.580000e+01 5.322249e-02]\n",
      " [2.580000e+01 5.322249e-02]\n",
      " [2.580000e+01 5.308416e-02]\n",
      " [3.040000e+01 6.290064e-02]\n",
      " [3.040000e+01 6.295081e-02]\n",
      " [3.040000e+01 6.290064e-02]\n",
      " [3.040000e+01 6.285049e-02]\n",
      " [3.040000e+01 6.285049e-02]\n",
      " [3.560000e+01 7.327849e-02]\n",
      " [3.560000e+01 7.327849e-02]\n",
      " [3.560000e+01 7.360369e-02]\n",
      " [3.560000e+01 7.344100e-02]\n",
      " [3.560000e+01 7.349521e-02]\n",
      " [4.060000e+01 8.392609e-02]\n",
      " [4.060000e+01 8.386816e-02]\n",
      " [4.060000e+01 8.392609e-02]\n",
      " [4.060000e+01 8.386816e-02]\n",
      " [4.060000e+01 8.375236e-02]\n",
      " [4.640000e+01 9.572836e-02]\n",
      " [4.640000e+01 9.579025e-02]\n",
      " [4.640000e+01 9.591409e-02]\n",
      " [4.640000e+01 9.579025e-02]\n",
      " [4.640000e+01 9.591409e-02]]\n"
     ]
    }
   ],
   "source": [
    "SteelData2 = np.array([[19.8    , 0.2028**2],\n",
    " [19.8,     0.2034**2],\n",
    " [19.8 ,    0.2034**2],\n",
    " [19.8  ,   0.2039**2],\n",
    " [19.8   ,  0.2038**2],\n",
    " [25.8    , 0.2305**2],\n",
    " [25.8,     0.2306**2],\n",
    " [25.8 ,    0.2307**2],\n",
    " [25.8  ,   0.2307**2],\n",
    " [25.8   ,  0.2304**2],\n",
    " [30.4    , 0.2508**2],\n",
    " [30.4,     0.2509**2],\n",
    " [30.4 ,    0.2508**2],\n",
    " [30.4  ,   0.2507**2],\n",
    " [30.4   ,  0.2507**2],\n",
    " [35.6    , 0.2707**2],\n",
    " [35.6,     0.2707**2],\n",
    " [35.6 ,    0.2713**2],\n",
    " [35.6  ,   0.271**2 ],\n",
    " [35.6   ,  0.2711**2],\n",
    " [40.6    , 0.2897**2],\n",
    " [40.6,     0.2896**2],\n",
    " [40.6 ,    0.2897**2],\n",
    " [40.6  ,   0.2896**2],\n",
    " [40.6   ,  0.2894**2],\n",
    " [46.4    , 0.3094**2],\n",
    " [46.4,     0.3095**2],\n",
    " [46.4 ,    0.3097**2],\n",
    " [46.4  ,   0.3095**2],\n",
    " [46.4   ,  0.3097**2]])\n",
    "\n",
    "print(SteelData2)"
   ]
  },
  {
   "cell_type": "code",
   "execution_count": 10,
   "metadata": {},
   "outputs": [
    {
     "data": {
      "text/plain": [
       "Text(0.5,1,'y vs $t^2$')"
      ]
     },
     "execution_count": 10,
     "metadata": {},
     "output_type": "execute_result"
    },
    {
     "data": {
      "image/png": "[encoded data removed]",
      "text/plain": [
       "<Figure size 432x288 with 1 Axes>"
      ]
     },
     "metadata": {},
     "output_type": "display_data"
    }
   ],
   "source": [
    "plt. plot(PlasticData2[:, 0], PlasticData2[:, 1], 'b^-', \n",
    "          SteelData2[:, 0], SteelData2[:,1], 'ro-') \n",
    "plt. xlabel('$y / cm$')\n",
    "plt. ylabel('$t^2 / s^2$')\n",
    "plt. title('y vs $t^2$')"
   ]
  },
  {
   "cell_type": "markdown",
   "metadata": {},
   "source": [
    "The value of y stays the same, but the value of t decreased. The shape is linear and looks the same of y vs t but value of the y axes decreased. "
   ]
  },
  {
   "cell_type": "markdown",
   "metadata": {},
   "source": [
    "Data for PlasticData$^2$"
   ]
  },
  {
   "cell_type": "code",
   "execution_count": 11,
   "metadata": {},
   "outputs": [],
   "source": [
    "n = len(PlasticData2)\n",
    "x = np.array([PlasticData2[:, 0]]).reshape(n,1)\n",
    "#print (x)\n",
    "\n",
    "X = np.array([np.ones(n), PlasticData2[:,0]]).T\n",
    "#print (X)\n",
    "\n",
    "y = np.array([PlasticData2[:,1]]).reshape(n,1)\n",
    "#print(y)"
   ]
  },
  {
   "cell_type": "code",
   "execution_count": 12,
   "metadata": {},
   "outputs": [
    {
     "name": "stdout",
     "output_type": "stream",
     "text": [
      "[[0.00034846]\n",
      " [0.0020735 ]]\n"
     ]
    }
   ],
   "source": [
    "beta = np.linalg.solve(X.T.dot(X), X.T.dot(y))\n",
    "print(beta)"
   ]
  },
  {
   "cell_type": "code",
   "execution_count": 13,
   "metadata": {},
   "outputs": [
    {
     "data": {
      "text/plain": [
       "<matplotlib.legend.Legend at 0x10f0a6048>"
      ]
     },
     "execution_count": 13,
     "metadata": {},
     "output_type": "execute_result"
    },
    {
     "data": {
      "image/png": "[encoded data removed]",
      "text/plain": [
       "<Figure size 360x216 with 2 Axes>"
      ]
     },
     "metadata": {},
     "output_type": "display_data"
    }
   ],
   "source": [
    "# plot the line to check that we get something reasonable\n",
    "\n",
    "fig, ax = plt.subplots(figsize=(5,3))\n",
    "\n",
    "ax = fig.add_axes([0,0,1,1])\n",
    "\n",
    "ax.scatter(x, y, label=\"PlasticData2\")\n",
    "\n",
    "# Plot the fit\n",
    "\n",
    "xx = np.linspace(0,50,50)\n",
    "yy = beta[0] + beta[1]*xx\n",
    "\n",
    "fitLabel = \"linear fit, $y = \\\\beta_0 + \\\\beta_1 t$\\n beta_0={}, beta_1={}\".format(beta[0],\n",
    "                                                                                   beta[1])\n",
    "\n",
    "ax.plot(xx, yy,  'r', label = fitLabel)\n",
    "ax.legend()"
   ]
  },
  {
   "cell_type": "markdown",
   "metadata": {},
   "source": [
    "Data for SteelData$^2$"
   ]
  },
  {
   "cell_type": "code",
   "execution_count": 14,
   "metadata": {},
   "outputs": [],
   "source": [
    "n = len(SteelData2)\n",
    "x = np.array([SteelData2[:, 0]]).reshape(n,1)\n",
    "#print (x)\n",
    "\n",
    "X = np.array([np.ones(n), SteelData2[:,0]]).T\n",
    "#print (X)\n",
    "\n",
    "y = np.array([SteelData2[:,1]]).reshape(n,1)\n",
    "#print(y)"
   ]
  },
  {
   "cell_type": "code",
   "execution_count": 15,
   "metadata": {},
   "outputs": [
    {
     "name": "stdout",
     "output_type": "stream",
     "text": [
      "[[0.00050317]\n",
      " [0.00205211]]\n"
     ]
    }
   ],
   "source": [
    "beta = np.linalg.solve(X.T.dot(X), X.T.dot(y))\n",
    "print(beta)"
   ]
  },
  {
   "cell_type": "code",
   "execution_count": 16,
   "metadata": {},
   "outputs": [
    {
     "data": {
      "text/plain": [
       "<matplotlib.legend.Legend at 0x10f220358>"
      ]
     },
     "execution_count": 16,
     "metadata": {},
     "output_type": "execute_result"
    },
    {
     "data": {
      "image/png": "[encoded data removed]",
      "text/plain": [
       "<Figure size 360x216 with 2 Axes>"
      ]
     },
     "metadata": {},
     "output_type": "display_data"
    }
   ],
   "source": [
    "# plot the line to check that we get something reasonable\n",
    "\n",
    "fig, ax = plt.subplots(figsize=(5,3))\n",
    "\n",
    "ax = fig.add_axes([0,0,1,1])\n",
    "\n",
    "ax.scatter(x, y, label=\"SteelData2\")\n",
    "\n",
    "# Plot the fit\n",
    "\n",
    "xx = np.linspace(0,50,50)\n",
    "yy = beta[0] + beta[1]*xx\n",
    "\n",
    "fitLabel = \"linear fit, $y = \\\\beta_0 + \\\\beta_1 t$\\n beta_0={}, beta_1={}\".format(beta[0],\n",
    "                                                                                   beta[1])\n",
    "ax.plot(xx, yy,  'r', label = fitLabel)\n",
    "ax.legend()"
   ]
  },
  {
   "cell_type": "code",
   "execution_count": 17,
   "metadata": {},
   "outputs": [],
   "source": [
    "\"\"\"\n",
    "Normal equations for curve fitting.\n",
    "\n",
    "\n",
    "File contains a function to solve the normal equations for\n",
    "linear regression using least squares\n",
    "\n",
    "Author: Rahul Kashyap\n",
    "Copyright (c) Rahul Kashyap 2017\n",
    "\"\"\"\n",
    "\n",
    "def normalEquationSolver(X, y):\n",
    "    \"\"\"\n",
    "    This function solves the normal equations for linear regression using\n",
    "    least squares method by taking in the values of X and y. Here, y is the \n",
    "    target and X is constructed using the model as X_ij = phi_j(x_i). \n",
    "    The output is an array containing the best fit parameters for the model\n",
    "    using the data.\n",
    "    \n",
    "    Keywords:\n",
    "    X: this is the matrix containing the values (phi_j(x_i))\n",
    "    y: this matrix contains the values of y which the model tries to predict\n",
    "    beta: this is the output of the function. It contains the parameters\n",
    "          of the fitting model in an array.\n",
    "    \n",
    "    \"\"\"\n",
    "    import numpy as np\n",
    "    \n",
    "    # Solve the matrix equation (X'X)beta = X'y for beta \n",
    "    # where ' means transpose\n",
    "    \n",
    "    beta = np.linalg.solve(X.T.dot(X), X.T.dot(y))\n",
    "    \n",
    "    return beta"
   ]
  },
  {
   "cell_type": "code",
   "execution_count": 18,
   "metadata": {},
   "outputs": [
    {
     "data": {
      "text/plain": [
       "<function __main__.normalEquationSolver(X, y)>"
      ]
     },
     "execution_count": 18,
     "metadata": {},
     "output_type": "execute_result"
    }
   ],
   "source": [
    "normalEquationSolver"
   ]
  },
  {
   "cell_type": "code",
   "execution_count": 19,
   "metadata": {},
   "outputs": [
    {
     "ename": "TypeError",
     "evalue": "normalEquationSolver() missing 2 required positional arguments: 'X' and 'y'",
     "output_type": "error",
     "traceback": [
      "\u001b[0;31m---------------------------------------------------------------------------\u001b[0m",
      "\u001b[0;31mTypeError\u001b[0m                                 Traceback (most recent call last)",
      "\u001b[0;32m<ipython-input-19-aa64c85653b3>\u001b[0m in \u001b[0;36m<module>\u001b[0;34m()\u001b[0m\n\u001b[0;32m----> 1\u001b[0;31m \u001b[0mnormalEquationSolver\u001b[0m\u001b[0;34m(\u001b[0m\u001b[0;34m)\u001b[0m\u001b[0;34m\u001b[0m\u001b[0m\n\u001b[0m",
      "\u001b[0;31mTypeError\u001b[0m: normalEquationSolver() missing 2 required positional arguments: 'X' and 'y'"
     ]
    }
   ],
   "source": [
    "normalEquationSolver()"
   ]
  },
  {
   "cell_type": "markdown",
   "metadata": {},
   "source": [
    "Data for PlasticData$^2$"
   ]
  },
  {
   "cell_type": "code",
   "execution_count": 20,
   "metadata": {},
   "outputs": [
    {
     "data": {
      "text/plain": [
       "<matplotlib.legend.Legend at 0x10f427978>"
      ]
     },
     "execution_count": 20,
     "metadata": {},
     "output_type": "execute_result"
    },
    {
     "data": {
      "image/png": "[encoded data removed]",
      "text/plain": [
       "<Figure size 360x216 with 2 Axes>"
      ]
     },
     "metadata": {},
     "output_type": "display_data"
    },
    {
     "data": {
      "image/png": "[encoded data removed]",
      "text/plain": [
       "<Figure size 360x216 with 2 Axes>"
      ]
     },
     "metadata": {},
     "output_type": "display_data"
    }
   ],
   "source": [
    "n = len(PlasticData2)\n",
    "x = np.array([PlasticData2[:, 0]]).reshape(n,1)\n",
    "#print (x)\n",
    "\n",
    "X = np.array([np.ones(n), PlasticData2[:,0]]).T\n",
    "#print (X)\n",
    "\n",
    "y = np.array([PlasticData2[:,1]]).reshape(n,1)\n",
    "#print(y)\n",
    "\n",
    "beta = np.linalg.solve(X.T.dot(X), X.T.dot(y))\n",
    "#print(beta)\n",
    "\n",
    "\n",
    "\n",
    "# plot the line to check that we get something reasonable\n",
    "\n",
    "fig, ax = plt.subplots(figsize=(5,3))\n",
    "\n",
    "ax = fig.add_axes([0,0,1,1])\n",
    "\n",
    "ax.scatter(x, y, label=\"PlasticData2\")\n",
    "\n",
    "# Plot the fit\n",
    "\n",
    "xx = np.linspace(0,50,50)\n",
    "yy = beta[0] + beta[1]*xx*xx\n",
    "\n",
    "fitLabel = \"fit, $y = \\\\beta_0 + \\\\beta_1 t^2$\\n beta_0={}, beta_1={}\".format(beta[0], beta[1])\n",
    "ax.plot(xx, yy,  'r', label = fitLabel)\n",
    "ax.legend()\n",
    "\n",
    "\n",
    "\n",
    "# plot $y = \\\\beta_0 +\\\\beta_1 t+ \\\\beta_2 t^2$\n",
    "\n",
    "fig, ax = plt.subplots(figsize=(5,3))\n",
    "\n",
    "ax = fig.add_axes([0,0,1,1])\n",
    "\n",
    "ax.scatter(x, y, label=\"PlasticData2\")\n",
    "\n",
    "# Plot the fit\n",
    "\n",
    "xx = np.linspace(0,50,50)\n",
    "yy = beta[0] + beta[1]*xx + beta[1]*xx*xx\n",
    "\n",
    "fitLabel = \"fit, $y = \\\\beta_0 +\\\\beta_1 t+ \\\\beta_2 t^2$\\n beta_0={}, beta_1={}\".format\n",
    "(beta[0], beta[1])\n",
    "ax.plot(xx, yy,  'r', label = fitLabel)\n",
    "ax.legend()"
   ]
  },
  {
   "cell_type": "markdown",
   "metadata": {},
   "source": [
    "Data for SteelData$^2$"
   ]
  },
  {
   "cell_type": "code",
   "execution_count": 21,
   "metadata": {},
   "outputs": [
    {
     "data": {
      "text/plain": [
       "<matplotlib.legend.Legend at 0x10f4dd0b8>"
      ]
     },
     "execution_count": 21,
     "metadata": {},
     "output_type": "execute_result"
    },
    {
     "data": {
      "image/png": "[encoded data removed]",
      "text/plain": [
       "<Figure size 360x216 with 2 Axes>"
      ]
     },
     "metadata": {},
     "output_type": "display_data"
    },
    {
     "data": {
      "image/png": "[encoded data removed]",
      "text/plain": [
       "<Figure size 360x216 with 2 Axes>"
      ]
     },
     "metadata": {},
     "output_type": "display_data"
    }
   ],
   "source": [
    "n = len(SteelData2)\n",
    "x = np.array([SteelData2[:, 0]]).reshape(n,1)\n",
    "#print (x)\n",
    "\n",
    "X = np.array([np.ones(n), SteelData2[:,0]]).T\n",
    "#print (X)\n",
    "\n",
    "y = np.array([SteelData2[:,1]]).reshape(n,1)\n",
    "#print(y)\n",
    "\n",
    "beta = np.linalg.solve(X.T.dot(X), X.T.dot(y))\n",
    "#print(beta)\n",
    "\n",
    "\n",
    "\n",
    "# plot the line to check that we get something reasonable\n",
    "\n",
    "fig, ax = plt.subplots(figsize=(5,3))\n",
    "\n",
    "ax = fig.add_axes([0,0,1,1])\n",
    "\n",
    "ax.scatter(x, y, label=\"SteelData2\")\n",
    "\n",
    "# Plot the fit\n",
    "\n",
    "xx = np.linspace(0,50,50)\n",
    "yy = beta[0] + beta[1]*xx*xx\n",
    "\n",
    "fitLabel = \"fit, $y = \\\\beta_0 + \\\\beta_1 t^2$\\n beta_0={}, beta_1={}\".format(beta[0], beta[1])\n",
    "ax.plot(xx, yy,  'r', label = fitLabel)\n",
    "ax.legend()\n",
    "\n",
    "\n",
    "\n",
    "# plot $y = \\\\beta_0 +\\\\beta_1 t+ \\\\beta_2 t^2$\n",
    "\n",
    "fig, ax = plt.subplots(figsize=(5,3))\n",
    "\n",
    "ax = fig.add_axes([0,0,1,1])\n",
    "\n",
    "ax.scatter(x, y, label=\"SteelData2\")\n",
    "\n",
    "# Plot the fit\n",
    "\n",
    "xx = np.linspace(0,50,50)\n",
    "yy = beta[0] + beta[1]*xx*xx\n",
    "\n",
    "fitLabel = \"fit, $y = \\\\beta_0 +\\\\beta_1 t+ \\\\beta_2 t^2$\\n beta_0={}, beta_1={}\".format\n",
    "(beta[0], beta[1])\n",
    "ax.plot(xx, yy,  'r', label = fitLabel)\n",
    "ax.legend()"
   ]
  },
  {
   "cell_type": "markdown",
   "metadata": {},
   "source": [
    "### Mayfly Model\n",
    "Mayflies are aquatic insects belonging to the order Ephemeroptera.(Wiki) In mathematic, we use this model to predict changes in populations of people. In the following part, I am going to investigate a simple population dynamics model here which shows un- expectedly rich and complex behavior. The equation of this model is: $$y_{n+1} = by_n(1-y_n)$$ and $$0 ≤ b ≤ 4$$ and $$0 ≤ y ≤ 1$$"
   ]
  },
  {
   "cell_type": "code",
   "execution_count": 22,
   "metadata": {},
   "outputs": [],
   "source": [
    "def mayfly(b = 2, yInit = 0.2, n = 10):\n",
    "    \"\"\"\n",
    "    Function returns an array with the time series of the population for\n",
    "    n iteration using the mayfly model.\n",
    "    \n",
    "    Keywords:\n",
    "    \n",
    "    b: parameter in the model\n",
    "    yInit: starting population\n",
    "    n: number of iterations to be performed\n",
    "    \n",
    "    out: array that contains all the populations after n iterations\n",
    "    \n",
    "    \"\"\"\n",
    "    \n",
    "    # Initialize varibles\n",
    "    \n",
    "    out = np.zeros((n,1))\n",
    "    y = yInit\n",
    "    \n",
    "    # Set up a loop for the iterations\n",
    "    \n",
    "    for i in range(n):\n",
    "        out[i] = y\n",
    "        y = b*(1-y)*y\n",
    "        \n",
    "    # Return the populations\n",
    "    \n",
    "    return out"
   ]
  },
  {
   "cell_type": "code",
   "execution_count": 23,
   "metadata": {},
   "outputs": [
    {
     "data": {
      "text/plain": [
       "[<matplotlib.lines.Line2D at 0x10f3c9be0>]"
      ]
     },
     "execution_count": 23,
     "metadata": {},
     "output_type": "execute_result"
    },
    {
     "data": {
      "image/png": "[encoded data removed]",
      "text/plain": [
       "<Figure size 432x288 with 1 Axes>"
      ]
     },
     "metadata": {},
     "output_type": "display_data"
    }
   ],
   "source": [
    "b = 0.9 # 0 ≤ b < 1\n",
    "yi = 0.01\n",
    "nIter = 50\n",
    "\n",
    "pop = mayfly(b, yi, nIter)\n",
    "\n",
    "plt.plot(np.arange(1,51), pop)"
   ]
  },
  {
   "cell_type": "code",
   "execution_count": 24,
   "metadata": {},
   "outputs": [
    {
     "data": {
      "text/plain": [
       "[<matplotlib.lines.Line2D at 0x10f2509b0>]"
      ]
     },
     "execution_count": 24,
     "metadata": {},
     "output_type": "execute_result"
    },
    {
     "data": {
      "image/png": "[encoded data removed]",
      "text/plain": [
       "<Figure size 432x288 with 1 Axes>"
      ]
     },
     "metadata": {},
     "output_type": "display_data"
    }
   ],
   "source": [
    "b = 1.5 # 1 < b < 3\n",
    "yi = 0.01\n",
    "nIter = 50\n",
    "\n",
    "pop = mayfly(b, yi, nIter)\n",
    "\n",
    "plt.plot(np.arange(1,51), pop)"
   ]
  },
  {
   "cell_type": "code",
   "execution_count": 25,
   "metadata": {},
   "outputs": [
    {
     "data": {
      "text/plain": [
       "[<matplotlib.lines.Line2D at 0x10f4a04e0>]"
      ]
     },
     "execution_count": 25,
     "metadata": {},
     "output_type": "execute_result"
    },
    {
     "data": {
      "image/png": "[encoded data removed]",
      "text/plain": [
       "<Figure size 432x288 with 1 Axes>"
      ]
     },
     "metadata": {},
     "output_type": "display_data"
    }
   ],
   "source": [
    "b = 3.8 # 3 < b ≤ 4\n",
    "yi = 0.01\n",
    "nIter = 50\n",
    "\n",
    "pop = mayfly(b, yi, nIter)\n",
    "\n",
    "plt.plot(np.arange(1,51), pop)"
   ]
  },
  {
   "cell_type": "markdown",
   "metadata": {},
   "source": [
    "### Self-similarity\n",
    "A self-similarity is an object that is exactly same to a part of itself. A famous exapmle for that is the Koch curve. It starts with an equilateral triangle, and then divide each side to three parts. Use the middle part as the base and then create a new equilateral triangle. Repeat this step for each side. In this case, the curve is exactly same to a part of itself. Just like the curve that I plot in the previous figure. "
   ]
  },
  {
   "cell_type": "code",
   "execution_count": 27,
   "metadata": {},
   "outputs": [
    {
     "data": {
      "text/plain": [
       "'\\nAuthor: Gribouillis, daniweb.com\\n'"
      ]
     },
     "execution_count": 27,
     "metadata": {},
     "output_type": "execute_result"
    }
   ],
   "source": [
    "# Draw a Koch snowflake\n",
    "from turtle import *\n",
    "\n",
    "def snowflake(lengthSide, levels):\n",
    "    if levels == 0:\n",
    "        forward(lengthSide)\n",
    "        return\n",
    "    lengthSide /= 3.0\n",
    "    snowflake(lengthSide, levels-1)\n",
    "    left(60)\n",
    "    snowflake(lengthSide, levels-1)\n",
    "    right(120)\n",
    "    snowflake(lengthSide, levels-1)\n",
    "    left(60)\n",
    "    snowflake(lengthSide, levels-1)\n",
    "if __name__ == \"__main__\":\n",
    "    speed(0)\n",
    "    length = 300.0\n",
    "    penup()\n",
    "    backward(length/2.0)\n",
    "    pendown()\n",
    "    snowflake(length, 4)\n",
    "    \n",
    "\"\"\"\n",
    "Author: Gribouillis, daniweb.com\n",
    "\"\"\""
   ]
  },
  {
   "cell_type": "markdown",
   "metadata": {},
   "source": [
    "### Conclusion\n",
    "By study the model building, I learned how to read files in python and use the information inside to create an array that helps me to plot figure. Then I can do my observation. I also learned the subplot and mayfly model. It helps me better understand the maththic model when the number is significant. Through the process when I was studying the mayfly model, I also found an interesting phenomenon in the curve ---- the Self-similarity. By reading more information on the internet, I learned the Koch curve which is impressive. \n",
    "\n",
    "The whole project raised my self-study ability to a new level, and I had a metter understanding of mathematical modeling. "
   ]
  },
  {
   "cell_type": "markdown",
   "metadata": {},
   "source": [
    "### Citation Page\n",
    "\n",
    "Mathematical model, Wikipedia\n",
    "\n",
    "https://en.wikipedia.org/wiki/Mathematical_model\n",
    "\n",
    "What are the benefits of using mathematical models? Marc Donner\n",
    "\n",
    "https://www.quora.com/What-are-the-benefits-of-using-mathematical-models\n",
    "\n",
    "Free fall, Wikipedia\n",
    "\n",
    "https://en.wikipedia.org/wiki/Free_fall\n",
    "\n",
    "File handling, Kushal Das\n",
    "\n",
    "https://pymbook.readthedocs.io/en/latest/file.html\n",
    "\n",
    "Mayfly, Wikipedia\n",
    "\n",
    "https://en.wikipedia.org/wiki/Mayfly\n",
    "\n",
    "Self-similarity, Wikipedia\n",
    "\n",
    "https://en.wikipedia.org/wiki/Self-similarity\n",
    "\n"
   ]
  }
 ],
 "metadata": {
  "kernelspec": {
   "display_name": "Python 3",
   "language": "python",
   "name": "python3"
  },
  "language_info": {
   "codemirror_mode": {
    "name": "ipython",
    "version": 3
   },
   "file_extension": ".py",
   "mimetype": "text/x-python",
   "name": "python",
   "nbconvert_exporter": "python",
   "pygments_lexer": "ipython3",
   "version": "3.6.5"
  }
 },
 "nbformat": 4,
 "nbformat_minor": 2
}
