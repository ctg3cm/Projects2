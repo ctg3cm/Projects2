{
 "cells": [
  {
   "cell_type": "markdown",
   "id": "e4edcf81",
   "metadata": {},
   "source": [
    "### Part 1"
   ]
  },
  {
   "cell_type": "markdown",
   "id": "849b0888",
   "metadata": {},
   "source": [
    "#### 1. Download the csv"
   ]
  },
  {
   "cell_type": "markdown",
   "id": "fd113538",
   "metadata": {},
   "source": [
    "#### 2. Replace NANs"
   ]
  },
  {
   "cell_type": "code",
   "execution_count": 1,
   "id": "8b109a8c",
   "metadata": {},
   "outputs": [
    {
     "name": "stdout",
     "output_type": "stream",
     "text": [
      "<class 'pandas.core.frame.DataFrame'>\n",
      "RangeIndex: 418 entries, 0 to 417\n",
      "Data columns (total 12 columns):\n",
      " #   Column       Non-Null Count  Dtype  \n",
      "---  ------       --------------  -----  \n",
      " 0   PassengerId  418 non-null    int64  \n",
      " 1   Survived     418 non-null    int64  \n",
      " 2   Pclass       418 non-null    int64  \n",
      " 3   Name         418 non-null    object \n",
      " 4   Sex          418 non-null    object \n",
      " 5   Age          418 non-null    float64\n",
      " 6   SibSp        418 non-null    int64  \n",
      " 7   Parch        418 non-null    int64  \n",
      " 8   Ticket       418 non-null    object \n",
      " 9   Fare         417 non-null    float64\n",
      " 10  Cabin        91 non-null     object \n",
      " 11  Embarked     418 non-null    object \n",
      "dtypes: float64(2), int64(5), object(5)\n",
      "memory usage: 39.3+ KB\n"
     ]
    }
   ],
   "source": [
    "import pandas as pd\n",
    "import numpy as np\n",
    "\n",
    "tested = pd.read_csv(\"tested.csv\")\n",
    "\n",
    "tested['Age'].fillna(tested['Age'].median(), inplace = True)\n",
    "\n",
    "# tested\n",
    "# tested.dtypes\n",
    "tested.info()"
   ]
  },
  {
   "cell_type": "markdown",
   "id": "5590e968",
   "metadata": {},
   "source": [
    "#### 3. Do you think Gender/Sex matters on whether a passenger will survive in Titanic Incident? And why is that? Do you have evidence, or have you heard some stories?"
   ]
  },
  {
   "cell_type": "markdown",
   "id": "9ab965bc",
   "metadata": {},
   "source": [
    "I think gender/sex matters on whetheer a passenger will survive in Titanic Incident. Because most of the female survived. The evidence is this data set. One story I heard is \"woman and children first\" to go to the lifeboat when the accident happened. "
   ]
  },
  {
   "cell_type": "markdown",
   "id": "3af62191",
   "metadata": {},
   "source": [
    "#### 4. Which model will you use on this dataset? And why did you choose them?"
   ]
  },
  {
   "cell_type": "markdown",
   "id": "bf20e12b",
   "metadata": {},
   "source": [
    "I will use logistic regression model on this dataset. From the lecture, we learned that the logistic regression model arises from the desire to model the posterior probabilities of the K classes via linear functions in x, while at the same time ensuring that they sum to one and remain in [0, 1]."
   ]
  },
  {
   "cell_type": "markdown",
   "id": "f8e06d66",
   "metadata": {},
   "source": [
    "#### 5. Convert the “Sex” column from “object” to “numeric"
   ]
  },
  {
   "cell_type": "code",
   "execution_count": 2,
   "id": "93b3fd45",
   "metadata": {},
   "outputs": [
    {
     "data": {
      "text/plain": [
       "PassengerId      int64\n",
       "Survived         int64\n",
       "Pclass           int64\n",
       "Name            object\n",
       "Sex              int64\n",
       "Age            float64\n",
       "SibSp            int64\n",
       "Parch            int64\n",
       "Ticket          object\n",
       "Fare           float64\n",
       "Cabin           object\n",
       "Embarked        object\n",
       "dtype: object"
      ]
     },
     "execution_count": 2,
     "metadata": {},
     "output_type": "execute_result"
    }
   ],
   "source": [
    "tested['Sex'] = tested['Sex'].replace(['female', 'male'], [0, 1])\n",
    "tested.dtypes"
   ]
  },
  {
   "cell_type": "markdown",
   "id": "b840bc6d",
   "metadata": {},
   "source": [
    "#### 6. Which variables will you choose as inputs to build the model? Why?"
   ]
  },
  {
   "cell_type": "markdown",
   "id": "43bfc9dc",
   "metadata": {},
   "source": [
    "To build this model, I would like to use 'Pclass', 'Sex', 'Age', 'SibSp', 'Parch', 'Fare' as input variabels. Because their data types are int64 and float64. Did not use 'PassengerId' becuase it is not meaningful. "
   ]
  },
  {
   "cell_type": "markdown",
   "id": "d9faa624",
   "metadata": {},
   "source": [
    "#### 7. Replace NANs"
   ]
  },
  {
   "cell_type": "code",
   "execution_count": 3,
   "id": "7889d847",
   "metadata": {},
   "outputs": [
    {
     "name": "stdout",
     "output_type": "stream",
     "text": [
      "<class 'pandas.core.frame.DataFrame'>\n",
      "RangeIndex: 418 entries, 0 to 417\n",
      "Data columns (total 12 columns):\n",
      " #   Column       Non-Null Count  Dtype  \n",
      "---  ------       --------------  -----  \n",
      " 0   PassengerId  418 non-null    int64  \n",
      " 1   Survived     418 non-null    int64  \n",
      " 2   Pclass       418 non-null    int64  \n",
      " 3   Name         418 non-null    object \n",
      " 4   Sex          418 non-null    int64  \n",
      " 5   Age          418 non-null    float64\n",
      " 6   SibSp        418 non-null    int64  \n",
      " 7   Parch        418 non-null    int64  \n",
      " 8   Ticket       418 non-null    object \n",
      " 9   Fare         418 non-null    float64\n",
      " 10  Cabin        91 non-null     object \n",
      " 11  Embarked     418 non-null    object \n",
      "dtypes: float64(2), int64(6), object(4)\n",
      "memory usage: 39.3+ KB\n"
     ]
    }
   ],
   "source": [
    "# tested.info()\n",
    "# Fare column has one NAN, replace with average\n",
    "tested['Fare'].fillna(tested['Fare'].mean(), inplace = True)\n",
    "tested.info()"
   ]
  },
  {
   "cell_type": "markdown",
   "id": "cb54b979",
   "metadata": {},
   "source": [
    "#### 8. Build the model"
   ]
  },
  {
   "cell_type": "code",
   "execution_count": 4,
   "id": "c9fd18e4",
   "metadata": {},
   "outputs": [
    {
     "data": {
      "text/plain": [
       "array([[-3.85713541e-02, -6.30464028e+00, -6.26347668e-03,\n",
       "         4.77925144e-02,  1.02030635e-01,  2.49346810e-03]])"
      ]
     },
     "execution_count": 4,
     "metadata": {},
     "output_type": "execute_result"
    }
   ],
   "source": [
    "from sklearn.model_selection import train_test_split\n",
    "from sklearn.linear_model import LogisticRegression\n",
    "\n",
    "y = tested.Survived\n",
    "X = tested[['Pclass', 'Sex', 'Age', 'SibSp', 'Parch', 'Fare']]\n",
    "X_train, X_valid, y_train, y_valid = train_test_split(X, \n",
    "                                                      y, \n",
    "                                                      train_size = 0.8, \n",
    "                                                      test_size = 0.2, \n",
    "                                                      random_state = 0)\n",
    "\n",
    "regressor = LogisticRegression()\n",
    "regressor.fit(X_train, y_train)\n",
    "regressor.coef_"
   ]
  },
  {
   "cell_type": "code",
   "execution_count": 5,
   "id": "d29c3817",
   "metadata": {},
   "outputs": [
    {
     "data": {
      "text/plain": [
       "array([2.91281388])"
      ]
     },
     "execution_count": 5,
     "metadata": {},
     "output_type": "execute_result"
    }
   ],
   "source": [
    "regressor.intercept_"
   ]
  },
  {
   "cell_type": "markdown",
   "id": "eb42ec29",
   "metadata": {},
   "source": [
    "#### 9. Does this model have an “accuracy rate”? Explain why. "
   ]
  },
  {
   "cell_type": "markdown",
   "id": "4abdb3a9",
   "metadata": {},
   "source": [
    "Logistic regression model has an accuracy rate. However, all the female in this dataset survived, and all male did not survived, so we could have an accuracy rate of 1.0. "
   ]
  },
  {
   "cell_type": "markdown",
   "id": "69e68ee7",
   "metadata": {},
   "source": [
    "#### 10. What is the accuracy rate of the model on valid set? Is it good? "
   ]
  },
  {
   "cell_type": "code",
   "execution_count": 6,
   "id": "4d39a25e",
   "metadata": {},
   "outputs": [
    {
     "data": {
      "text/plain": [
       "1.0"
      ]
     },
     "execution_count": 6,
     "metadata": {},
     "output_type": "execute_result"
    }
   ],
   "source": [
    "from sklearn.metrics import accuracy_score\n",
    "accuracy_score(y_valid, regressor.predict(X_valid))"
   ]
  },
  {
   "cell_type": "markdown",
   "id": "c86a407c",
   "metadata": {},
   "source": [
    "A 1.0 accuracy score means the model is overfitting. (all female survived, all male did not)"
   ]
  },
  {
   "cell_type": "markdown",
   "id": "edb38e5f",
   "metadata": {},
   "source": [
    "#### 11. Make up an imaginary individual, and use markdown cells to give a brief introduction of this individual (such as Sex, Age, Fare, etc.). Will this individual survive? "
   ]
  },
  {
   "cell_type": "code",
   "execution_count": 7,
   "id": "73d01d44",
   "metadata": {},
   "outputs": [
    {
     "data": {
      "text/plain": [
       "array([0])"
      ]
     },
     "execution_count": 7,
     "metadata": {},
     "output_type": "execute_result"
    }
   ],
   "source": [
    "imaginary_individual = pd.DataFrame([{'Pclass': 3, 'Sex': 1, \n",
    "                                      'Age': 25.0, 'SibSp': 2, \n",
    "                                      'Parch': 0, 'Fare': 9.33}])\n",
    "regressor.predict(imaginary_individual)"
   ]
  },
  {
   "cell_type": "markdown",
   "id": "ffd4bb37",
   "metadata": {},
   "source": [
    "Our imaginary individual is in the 3 pclass, male, 25 years old, with sibsp 2, parch 0, and fare 9.33. He will not survive. "
   ]
  },
  {
   "cell_type": "markdown",
   "id": "918b2ef5",
   "metadata": {},
   "source": [
    "### Part 2"
   ]
  },
  {
   "cell_type": "markdown",
   "id": "4cc3437f",
   "metadata": {},
   "source": [
    "#### 1. Download the csv"
   ]
  },
  {
   "cell_type": "markdown",
   "id": "8fd41af8",
   "metadata": {},
   "source": [
    "#### 2. This dataset is plain and simple, the output should be “Price”, and input should be “Area”, “Room”, “Lon”, and “Lat”. Check if there are any NANs in these variables, if there is, then replace the NANs with Mean"
   ]
  },
  {
   "cell_type": "code",
   "execution_count": 8,
   "id": "ad8d112d",
   "metadata": {},
   "outputs": [
    {
     "name": "stdout",
     "output_type": "stream",
     "text": [
      "<class 'pandas.core.frame.DataFrame'>\n",
      "RangeIndex: 924 entries, 0 to 923\n",
      "Data columns (total 8 columns):\n",
      " #   Column      Non-Null Count  Dtype  \n",
      "---  ------      --------------  -----  \n",
      " 0   Unnamed: 0  924 non-null    int64  \n",
      " 1   Address     924 non-null    object \n",
      " 2   Zip         924 non-null    object \n",
      " 3   Price       924 non-null    float64\n",
      " 4   Area        924 non-null    int64  \n",
      " 5   Room        924 non-null    int64  \n",
      " 6   Lon         924 non-null    float64\n",
      " 7   Lat         924 non-null    float64\n",
      "dtypes: float64(3), int64(3), object(2)\n",
      "memory usage: 57.9+ KB\n"
     ]
    }
   ],
   "source": [
    "price = pd.read_csv(\"HousingPrices-Amsterdam-August-2021.csv\")\n",
    "\n",
    "# price.info()\n",
    "# 920 Non-Null for 'Price'\n",
    "\n",
    "price['Price'].fillna(price['Price'].mean(), inplace = True)\n",
    "price.info()\n",
    "# no NANs"
   ]
  },
  {
   "cell_type": "markdown",
   "id": "626ab68f",
   "metadata": {},
   "source": [
    "#### 3. Split the dataset into Train and Valid sets. Calculate the CV score of the Train sets for Linear Regression, Polynomial Regression (degree 1 to 4), Lasso Regression, Ridge Regression, KN Regression, Decision Tree Regression, and Random Forest Regression. "
   ]
  },
  {
   "cell_type": "code",
   "execution_count": 9,
   "id": "ac1c5815",
   "metadata": {},
   "outputs": [
    {
     "data": {
      "text/plain": [
       "0.6425900393664007"
      ]
     },
     "execution_count": 9,
     "metadata": {},
     "output_type": "execute_result"
    }
   ],
   "source": [
    "# Split the dataset\n",
    "y = price.Price\n",
    "X = price[['Area', 'Room', 'Lon', 'Lat']]\n",
    "X_train, X_valid, y_train, y_valid = train_test_split(X, \n",
    "                                                      y, \n",
    "                                                      train_size = 0.8, \n",
    "                                                      test_size = 0.2, \n",
    "                                                      random_state = 0)\n",
    "# Linear Regression\n",
    "from sklearn.linear_model import LinearRegression\n",
    "from sklearn.model_selection import cross_val_score\n",
    "from sklearn.preprocessing import PolynomialFeatures\n",
    "\n",
    "lr = LinearRegression()\n",
    "np.mean(cross_val_score(lr, X_train, y_train, cv = 5))"
   ]
  },
  {
   "cell_type": "code",
   "execution_count": 10,
   "id": "00f84394",
   "metadata": {},
   "outputs": [
    {
     "data": {
      "text/plain": [
       "(<matplotlib.collections.PathCollection at 0x7f93808d2490>, 0.4165034731193647)"
      ]
     },
     "execution_count": 10,
     "metadata": {},
     "output_type": "execute_result"
    },
    {
     "data": {
      "image/png": "[encoded data removed]",
      "text/plain": [
       "<Figure size 432x288 with 1 Axes>"
      ]
     },
     "metadata": {
      "needs_background": "light"
     },
     "output_type": "display_data"
    }
   ],
   "source": [
    "# Polynomial Regression (degree 1 to 4)\n",
    "%matplotlib inline\n",
    "import matplotlib.pyplot as plt\n",
    "import seaborn as sns\n",
    "\n",
    "def create_polynomial_regression_model(degree):\n",
    "    poly_features = PolynomialFeatures(degree = degree)\n",
    "    X_poly = poly_features.fit_transform(X_train)\n",
    "    poly = LinearRegression()\n",
    "    return np.mean(cross_val_score(poly, X_poly, y_train, cv = 5))\n",
    "\n",
    "poly_cv = []\n",
    "\n",
    "for i in range(1, 4):\n",
    "    poly_cv.append(create_polynomial_regression_model(i))   \n",
    "plt.scatter(range(1, 4), poly_cv), np.mean(poly_cv)"
   ]
  },
  {
   "cell_type": "code",
   "execution_count": 11,
   "id": "faac37ea",
   "metadata": {},
   "outputs": [
    {
     "data": {
      "text/plain": [
       "0.6675758860985703"
      ]
     },
     "execution_count": 11,
     "metadata": {},
     "output_type": "execute_result"
    }
   ],
   "source": [
    "# Lasso Regression\n",
    "from sklearn.linear_model import LassoCV\n",
    "\n",
    "lasso = LassoCV(cv = 5).fit(X_train, y_train)\n",
    "lasso.score(X_train, y_train)"
   ]
  },
  {
   "cell_type": "code",
   "execution_count": 12,
   "id": "c7e59105",
   "metadata": {},
   "outputs": [
    {
     "data": {
      "text/plain": [
       "0.6723645426378053"
      ]
     },
     "execution_count": 12,
     "metadata": {},
     "output_type": "execute_result"
    }
   ],
   "source": [
    "# Ridge Regression\n",
    "from sklearn.linear_model import RidgeCV\n",
    "\n",
    "ridge = RidgeCV(cv = 5).fit(X_train, y_train)\n",
    "ridge.score(X_train, y_train)"
   ]
  },
  {
   "cell_type": "code",
   "execution_count": 13,
   "id": "e3215848",
   "metadata": {},
   "outputs": [
    {
     "data": {
      "text/plain": [
       "(<matplotlib.collections.PathCollection at 0x7f9373785c40>, 0.5956118601477818)"
      ]
     },
     "execution_count": 13,
     "metadata": {},
     "output_type": "execute_result"
    },
    {
     "data": {
      "image/png": "[encoded data removed]",
      "text/plain": [
       "<Figure size 432x288 with 1 Axes>"
      ]
     },
     "metadata": {
      "needs_background": "light"
     },
     "output_type": "display_data"
    }
   ],
   "source": [
    "# KN Regression\n",
    "from sklearn.neighbors import KNeighborsRegressor\n",
    "\n",
    "cv_score=[]\n",
    "\n",
    "for i in range(1, 10):\n",
    " knn = KNeighborsRegressor(n_neighbors= i)\n",
    " cv_score.append(np.mean(cross_val_score(knn, X_train, \n",
    "                                         y_train, cv = 5)))\n",
    "x = range(1, 10)\n",
    "plt.scatter(x, cv_score), np.mean(cv_score)"
   ]
  },
  {
   "cell_type": "code",
   "execution_count": 14,
   "id": "e342ab36",
   "metadata": {},
   "outputs": [
    {
     "data": {
      "text/plain": [
       "0.471392870550018"
      ]
     },
     "execution_count": 14,
     "metadata": {},
     "output_type": "execute_result"
    }
   ],
   "source": [
    "# Decision Tree Regression\n",
    "from sklearn.tree import DecisionTreeRegressor\n",
    "\n",
    "dt = DecisionTreeRegressor()\n",
    "np.mean(cross_val_score(dt, X_train, y_train, cv=5))"
   ]
  },
  {
   "cell_type": "code",
   "execution_count": 15,
   "id": "e1dfd242",
   "metadata": {},
   "outputs": [
    {
     "data": {
      "text/plain": [
       "0.7002526228962572"
      ]
     },
     "execution_count": 15,
     "metadata": {},
     "output_type": "execute_result"
    }
   ],
   "source": [
    "# Random Forest Regression\n",
    "from sklearn.ensemble import RandomForestRegressor\n",
    "\n",
    "rf = RandomForestRegressor()\n",
    "np.mean(cross_val_score(rf, X_train, y_train, cv = 5))"
   ]
  },
  {
   "cell_type": "markdown",
   "id": "0f891c23",
   "metadata": {},
   "source": [
    "#### 4. Which model will you choose and why? "
   ]
  },
  {
   "cell_type": "markdown",
   "id": "f5ecd36d",
   "metadata": {},
   "source": [
    "Highest score is Random Forest, we use it as our model and make prediction"
   ]
  },
  {
   "cell_type": "markdown",
   "id": "1e5a59a4",
   "metadata": {},
   "source": [
    "#### 5. Make up an imaginary house, and use the .predict function to predict the price of it with the model you choose. "
   ]
  },
  {
   "cell_type": "code",
   "execution_count": 16,
   "id": "ad609539",
   "metadata": {},
   "outputs": [
    {
     "data": {
      "text/plain": [
       "array([348690.01])"
      ]
     },
     "execution_count": 16,
     "metadata": {},
     "output_type": "execute_result"
    }
   ],
   "source": [
    "# np.mean(price['Area'])\n",
    "# np.mean(price['Room'])\n",
    "# np.mean(price['Lon'])\n",
    "# np.mean(price['Lat'])\n",
    "\n",
    "imaginary_house = pd.DataFrame([{'Area': 96, 'Room': 4, \n",
    "                                 'Lon': 5,  'Lat': 52}])\n",
    "rf.fit(X_train, y_train)\n",
    "rf.predict(imaginary_house)"
   ]
  }
 ],
 "metadata": {
  "kernelspec": {
   "display_name": "Python 3",
   "language": "python",
   "name": "python3"
  },
  "language_info": {
   "codemirror_mode": {
    "name": "ipython",
    "version": 3
   },
   "file_extension": ".py",
   "mimetype": "text/x-python",
   "name": "python",
   "nbconvert_exporter": "python",
   "pygments_lexer": "ipython3",
   "version": "3.8.8"
  }
 },
 "nbformat": 4,
 "nbformat_minor": 5
}
