{
 "cells": [
  {
   "cell_type": "code",
   "execution_count": 8,
   "id": "1b3bbea8",
   "metadata": {},
   "outputs": [],
   "source": [
    "# Team Bravo\n",
    "\n",
    "# Tiange Chang, Chen Liu, Zihao Li, Qingluo Xu, Haoxuan Zhang"
   ]
  },
  {
   "cell_type": "code",
   "execution_count": null,
   "id": "a23083d1",
   "metadata": {},
   "outputs": [],
   "source": [
    "import numpy as np\n",
    "import pandas as pd\n",
    "import matplotlib.pyplot as plt\n",
    "import scipy.stats as stats\n",
    "import seaborn as sns\n",
    "from sklearn.cluster import KMeans \n",
    "from sklearn import preprocessing\n",
    "from sklearn.linear_model import LinearRegression\n",
    "from arch.unitroot import ADF\n",
    "from statsmodels.tsa import stattools\n",
    "from statsmodels.tsa import arima_model\n",
    "import math\n",
    "from statsmodels.graphics.tsaplots import *\n",
    "import warnings\n",
    "warnings.filterwarnings(\"ignore\")\n",
    "from sklearn.model_selection import train_test_split\n",
    "from sklearn.ensemble import RandomForestClassifier\n",
    "from sklearn.model_selection import GridSearchCV\n",
    "from sklearn.metrics import accuracy_score\n",
    "from sklearn.metrics import confusion_matrix\n",
    "from sklearn import metrics\n",
    "from scipy import stats"
   ]
  },
  {
   "cell_type": "code",
   "execution_count": null,
   "id": "acad5b01",
   "metadata": {},
   "outputs": [],
   "source": [
    "import pandas as pd\n",
    "import matplotlib.pyplot as plt\n",
    "import scipy.stats as stats\n",
    "import seaborn as sns\n",
    "from sklearn.cluster import KMeans \n",
    "from sklearn import preprocessing\n",
    "from sklearn.linear_model import LinearRegression\n",
    "from arch.unitroot import ADF\n",
    "from statsmodels.tsa import stattools\n",
    "from statsmodels.tsa import arima_model\n",
    "import math\n",
    "from statsmodels.graphics.tsaplots import *\n",
    "import warnings\n",
    "warnings.filterwarnings(\"ignore\")\n",
    "from sklearn.model_selection import train_test_split\n",
    "from sklearn.ensemble import RandomForestClassifier\n",
    "from sklearn.model_selection import GridSearchCV\n",
    "from sklearn.metrics import accuracy_score\n",
    "from sklearn.metrics import confusion_matrix\n",
    "from sklearn import metrics\n",
    "from scipy import stats"
   ]
  },
  {
   "cell_type": "markdown",
   "id": "255b6de0",
   "metadata": {},
   "source": [
    "# Summary Stats"
   ]
  },
  {
   "cell_type": "code",
   "execution_count": 75,
   "id": "b8b17dae",
   "metadata": {},
   "outputs": [],
   "source": [
    "data = pd.read_csv('angels_market.csv')"
   ]
  },
  {
   "cell_type": "code",
   "execution_count": 76,
   "id": "bc3f49e9",
   "metadata": {},
   "outputs": [
    {
     "data": {
      "text/html": [
       "<div>\n",
       "<style scoped>\n",
       "    .dataframe tbody tr th:only-of-type {\n",
       "        vertical-align: middle;\n",
       "    }\n",
       "\n",
       "    .dataframe tbody tr th {\n",
       "        vertical-align: top;\n",
       "    }\n",
       "\n",
       "    .dataframe thead th {\n",
       "        text-align: right;\n",
       "    }\n",
       "</style>\n",
       "<table border=\"1\" class=\"dataframe\">\n",
       "  <thead>\n",
       "    <tr style=\"text-align: right;\">\n",
       "      <th></th>\n",
       "      <th>vendorID</th>\n",
       "      <th>theme</th>\n",
       "      <th>homeState</th>\n",
       "      <th>carnivals</th>\n",
       "      <th>complaints</th>\n",
       "      <th>est_energy</th>\n",
       "      <th>est_hourly_vol</th>\n",
       "      <th>LL_passholder</th>\n",
       "      <th>est_hourly_gross</th>\n",
       "    </tr>\n",
       "  </thead>\n",
       "  <tbody>\n",
       "    <tr>\n",
       "      <th>0</th>\n",
       "      <td>1</td>\n",
       "      <td>Hot Chocolate/Warm Treats</td>\n",
       "      <td>Maine</td>\n",
       "      <td>3</td>\n",
       "      <td>9</td>\n",
       "      <td>57.291961</td>\n",
       "      <td>118</td>\n",
       "      <td>0</td>\n",
       "      <td>217.93</td>\n",
       "    </tr>\n",
       "    <tr>\n",
       "      <th>1</th>\n",
       "      <td>2</td>\n",
       "      <td>Local Artists</td>\n",
       "      <td>Vermont</td>\n",
       "      <td>1</td>\n",
       "      <td>2</td>\n",
       "      <td>39.404898</td>\n",
       "      <td>105</td>\n",
       "      <td>1</td>\n",
       "      <td>209.51</td>\n",
       "    </tr>\n",
       "    <tr>\n",
       "      <th>2</th>\n",
       "      <td>3</td>\n",
       "      <td>Fortune Teller</td>\n",
       "      <td>New Hampshire</td>\n",
       "      <td>5</td>\n",
       "      <td>4</td>\n",
       "      <td>47.175958</td>\n",
       "      <td>94</td>\n",
       "      <td>0</td>\n",
       "      <td>200.68</td>\n",
       "    </tr>\n",
       "    <tr>\n",
       "      <th>3</th>\n",
       "      <td>4</td>\n",
       "      <td>Fried Dough and Pizza</td>\n",
       "      <td>Maine</td>\n",
       "      <td>8</td>\n",
       "      <td>0</td>\n",
       "      <td>58.192568</td>\n",
       "      <td>118</td>\n",
       "      <td>0</td>\n",
       "      <td>251.40</td>\n",
       "    </tr>\n",
       "    <tr>\n",
       "      <th>4</th>\n",
       "      <td>5</td>\n",
       "      <td>craft beer</td>\n",
       "      <td>New Hampshire</td>\n",
       "      <td>7</td>\n",
       "      <td>6</td>\n",
       "      <td>56.657908</td>\n",
       "      <td>102</td>\n",
       "      <td>0</td>\n",
       "      <td>168.76</td>\n",
       "    </tr>\n",
       "  </tbody>\n",
       "</table>\n",
       "</div>"
      ],
      "text/plain": [
       "   vendorID                      theme      homeState  carnivals  complaints  \\\n",
       "0         1  Hot Chocolate/Warm Treats          Maine          3           9   \n",
       "1         2              Local Artists        Vermont          1           2   \n",
       "2         3             Fortune Teller  New Hampshire          5           4   \n",
       "3         4      Fried Dough and Pizza          Maine          8           0   \n",
       "4         5                 craft beer  New Hampshire          7           6   \n",
       "\n",
       "   est_energy  est_hourly_vol  LL_passholder  est_hourly_gross  \n",
       "0   57.291961             118              0            217.93  \n",
       "1   39.404898             105              1            209.51  \n",
       "2   47.175958              94              0            200.68  \n",
       "3   58.192568             118              0            251.40  \n",
       "4   56.657908             102              0            168.76  "
      ]
     },
     "execution_count": 76,
     "metadata": {},
     "output_type": "execute_result"
    }
   ],
   "source": [
    "data.head()"
   ]
  },
  {
   "cell_type": "markdown",
   "id": "25ef03ab",
   "metadata": {},
   "source": [
    "From data.head we noticed a colomn called complaints. This conponent illustrates \"the number of complaints received against that vendor during previous appearances either at carnivals or at carnival-type events\"."
   ]
  },
  {
   "cell_type": "code",
   "execution_count": 77,
   "id": "158d6b40",
   "metadata": {},
   "outputs": [
    {
     "data": {
      "text/html": [
       "<div>\n",
       "<style scoped>\n",
       "    .dataframe tbody tr th:only-of-type {\n",
       "        vertical-align: middle;\n",
       "    }\n",
       "\n",
       "    .dataframe tbody tr th {\n",
       "        vertical-align: top;\n",
       "    }\n",
       "\n",
       "    .dataframe thead th {\n",
       "        text-align: right;\n",
       "    }\n",
       "</style>\n",
       "<table border=\"1\" class=\"dataframe\">\n",
       "  <thead>\n",
       "    <tr style=\"text-align: right;\">\n",
       "      <th></th>\n",
       "      <th>Total Complaints</th>\n",
       "    </tr>\n",
       "    <tr>\n",
       "      <th>homeState</th>\n",
       "      <th></th>\n",
       "    </tr>\n",
       "  </thead>\n",
       "  <tbody>\n",
       "    <tr>\n",
       "      <th>2</th>\n",
       "      <td>8</td>\n",
       "    </tr>\n",
       "    <tr>\n",
       "      <th>4</th>\n",
       "      <td>2</td>\n",
       "    </tr>\n",
       "    <tr>\n",
       "      <th>5</th>\n",
       "      <td>20</td>\n",
       "    </tr>\n",
       "    <tr>\n",
       "      <th>6</th>\n",
       "      <td>6</td>\n",
       "    </tr>\n",
       "    <tr>\n",
       "      <th>7</th>\n",
       "      <td>12</td>\n",
       "    </tr>\n",
       "    <tr>\n",
       "      <th>Connecticut</th>\n",
       "      <td>267</td>\n",
       "    </tr>\n",
       "    <tr>\n",
       "      <th>Maine</th>\n",
       "      <td>2060</td>\n",
       "    </tr>\n",
       "    <tr>\n",
       "      <th>Massachusetts</th>\n",
       "      <td>197</td>\n",
       "    </tr>\n",
       "    <tr>\n",
       "      <th>New Hampshire</th>\n",
       "      <td>314</td>\n",
       "    </tr>\n",
       "    <tr>\n",
       "      <th>Ontario</th>\n",
       "      <td>99</td>\n",
       "    </tr>\n",
       "    <tr>\n",
       "      <th>Quebec</th>\n",
       "      <td>322</td>\n",
       "    </tr>\n",
       "    <tr>\n",
       "      <th>Vermont</th>\n",
       "      <td>359</td>\n",
       "    </tr>\n",
       "  </tbody>\n",
       "</table>\n",
       "</div>"
      ],
      "text/plain": [
       "               Total Complaints\n",
       "homeState                      \n",
       "2                             8\n",
       "4                             2\n",
       "5                            20\n",
       "6                             6\n",
       "7                            12\n",
       "Connecticut                 267\n",
       "Maine                      2060\n",
       "Massachusetts               197\n",
       "New Hampshire               314\n",
       "Ontario                      99\n",
       "Quebec                      322\n",
       "Vermont                     359"
      ]
     },
     "execution_count": 77,
     "metadata": {},
     "output_type": "execute_result"
    }
   ],
   "source": [
    "hs_g = data.groupby('homeState').sum(numeric_only=True)[['complaints']]\n",
    "hs_g['Total Complaints'] = hs_g['complaints']\n",
    "hs_g.pop('complaints')\n",
    "hs_g"
   ]
  },
  {
   "cell_type": "markdown",
   "id": "8d472956",
   "metadata": {},
   "source": [
    "So I chose \"complaints\" as the starting point to learn the number of complaints in different \"homestates\". \n",
    "Among them, Maine is nearly ten times higher than other states."
   ]
  },
  {
   "cell_type": "code",
   "execution_count": 78,
   "id": "ea806a68",
   "metadata": {},
   "outputs": [
    {
     "data": {
      "text/html": [
       "<div>\n",
       "<style scoped>\n",
       "    .dataframe tbody tr th:only-of-type {\n",
       "        vertical-align: middle;\n",
       "    }\n",
       "\n",
       "    .dataframe tbody tr th {\n",
       "        vertical-align: top;\n",
       "    }\n",
       "\n",
       "    .dataframe thead th {\n",
       "        text-align: right;\n",
       "    }\n",
       "</style>\n",
       "<table border=\"1\" class=\"dataframe\">\n",
       "  <thead>\n",
       "    <tr style=\"text-align: right;\">\n",
       "      <th></th>\n",
       "      <th>Total Complaints</th>\n",
       "      <th>Theme Counts</th>\n",
       "      <th>Average Complaints</th>\n",
       "    </tr>\n",
       "    <tr>\n",
       "      <th>homeState</th>\n",
       "      <th></th>\n",
       "      <th></th>\n",
       "      <th></th>\n",
       "    </tr>\n",
       "  </thead>\n",
       "  <tbody>\n",
       "    <tr>\n",
       "      <th>2</th>\n",
       "      <td>8</td>\n",
       "      <td>1</td>\n",
       "      <td>8.000000</td>\n",
       "    </tr>\n",
       "    <tr>\n",
       "      <th>4</th>\n",
       "      <td>2</td>\n",
       "      <td>1</td>\n",
       "      <td>2.000000</td>\n",
       "    </tr>\n",
       "    <tr>\n",
       "      <th>5</th>\n",
       "      <td>20</td>\n",
       "      <td>3</td>\n",
       "      <td>6.666667</td>\n",
       "    </tr>\n",
       "    <tr>\n",
       "      <th>6</th>\n",
       "      <td>6</td>\n",
       "      <td>1</td>\n",
       "      <td>6.000000</td>\n",
       "    </tr>\n",
       "    <tr>\n",
       "      <th>7</th>\n",
       "      <td>12</td>\n",
       "      <td>2</td>\n",
       "      <td>6.000000</td>\n",
       "    </tr>\n",
       "    <tr>\n",
       "      <th>Connecticut</th>\n",
       "      <td>267</td>\n",
       "      <td>48</td>\n",
       "      <td>5.562500</td>\n",
       "    </tr>\n",
       "    <tr>\n",
       "      <th>Maine</th>\n",
       "      <td>2060</td>\n",
       "      <td>417</td>\n",
       "      <td>4.940048</td>\n",
       "    </tr>\n",
       "    <tr>\n",
       "      <th>Massachusetts</th>\n",
       "      <td>197</td>\n",
       "      <td>27</td>\n",
       "      <td>7.296296</td>\n",
       "    </tr>\n",
       "    <tr>\n",
       "      <th>New Hampshire</th>\n",
       "      <td>314</td>\n",
       "      <td>70</td>\n",
       "      <td>4.485714</td>\n",
       "    </tr>\n",
       "    <tr>\n",
       "      <th>Ontario</th>\n",
       "      <td>99</td>\n",
       "      <td>16</td>\n",
       "      <td>6.187500</td>\n",
       "    </tr>\n",
       "    <tr>\n",
       "      <th>Quebec</th>\n",
       "      <td>322</td>\n",
       "      <td>54</td>\n",
       "      <td>5.962963</td>\n",
       "    </tr>\n",
       "    <tr>\n",
       "      <th>Vermont</th>\n",
       "      <td>359</td>\n",
       "      <td>60</td>\n",
       "      <td>5.983333</td>\n",
       "    </tr>\n",
       "  </tbody>\n",
       "</table>\n",
       "</div>"
      ],
      "text/plain": [
       "               Total Complaints  Theme Counts  Average Complaints\n",
       "homeState                                                        \n",
       "2                             8             1            8.000000\n",
       "4                             2             1            2.000000\n",
       "5                            20             3            6.666667\n",
       "6                             6             1            6.000000\n",
       "7                            12             2            6.000000\n",
       "Connecticut                 267            48            5.562500\n",
       "Maine                      2060           417            4.940048\n",
       "Massachusetts               197            27            7.296296\n",
       "New Hampshire               314            70            4.485714\n",
       "Ontario                      99            16            6.187500\n",
       "Quebec                      322            54            5.962963\n",
       "Vermont                     359            60            5.983333"
      ]
     },
     "execution_count": 78,
     "metadata": {},
     "output_type": "execute_result"
    }
   ],
   "source": [
    "hs_g['Theme Counts'] = data.groupby('homeState').count()[['vendorID']]\n",
    "hs_g['Average Complaints'] = hs_g['Total Complaints'] / hs_g['Theme Counts']\n",
    "hs_g"
   ]
  },
  {
   "cell_type": "code",
   "execution_count": 79,
   "id": "4eddcaaa",
   "metadata": {},
   "outputs": [],
   "source": [
    "hs_g['Gross'] = data.groupby('homeState').sum(numeric_only=True)['est_hourly_gross']\n",
    "hs_g['Average Gross'] = hs_g['Gross'] / hs_g['Theme Counts']"
   ]
  },
  {
   "cell_type": "markdown",
   "id": "369165aa",
   "metadata": {},
   "source": [
    "According to above table, we can clearly see a higer number of complaints does not indicate a lower gross. This is actually counter-intuitive."
   ]
  },
  {
   "cell_type": "code",
   "execution_count": 80,
   "id": "a983ff34",
   "metadata": {},
   "outputs": [
    {
     "data": {
      "text/html": [
       "<div>\n",
       "<style scoped>\n",
       "    .dataframe tbody tr th:only-of-type {\n",
       "        vertical-align: middle;\n",
       "    }\n",
       "\n",
       "    .dataframe tbody tr th {\n",
       "        vertical-align: top;\n",
       "    }\n",
       "\n",
       "    .dataframe thead th {\n",
       "        text-align: right;\n",
       "    }\n",
       "</style>\n",
       "<table border=\"1\" class=\"dataframe\">\n",
       "  <thead>\n",
       "    <tr style=\"text-align: right;\">\n",
       "      <th></th>\n",
       "      <th>vendorID</th>\n",
       "      <th>carnivals</th>\n",
       "      <th>complaints</th>\n",
       "      <th>est_energy</th>\n",
       "      <th>est_hourly_vol</th>\n",
       "      <th>LL_passholder</th>\n",
       "      <th>est_hourly_gross</th>\n",
       "    </tr>\n",
       "  </thead>\n",
       "  <tbody>\n",
       "    <tr>\n",
       "      <th>vendorID</th>\n",
       "      <td>1.000000</td>\n",
       "      <td>0.000841</td>\n",
       "      <td>-0.031996</td>\n",
       "      <td>0.104100</td>\n",
       "      <td>0.102822</td>\n",
       "      <td>-0.001489</td>\n",
       "      <td>0.122673</td>\n",
       "    </tr>\n",
       "    <tr>\n",
       "      <th>carnivals</th>\n",
       "      <td>0.000841</td>\n",
       "      <td>1.000000</td>\n",
       "      <td>-0.010116</td>\n",
       "      <td>-0.017299</td>\n",
       "      <td>-0.056430</td>\n",
       "      <td>0.007395</td>\n",
       "      <td>-0.063846</td>\n",
       "    </tr>\n",
       "    <tr>\n",
       "      <th>complaints</th>\n",
       "      <td>-0.031996</td>\n",
       "      <td>-0.010116</td>\n",
       "      <td>1.000000</td>\n",
       "      <td>-0.041120</td>\n",
       "      <td>0.018022</td>\n",
       "      <td>0.001507</td>\n",
       "      <td>-0.058058</td>\n",
       "    </tr>\n",
       "    <tr>\n",
       "      <th>est_energy</th>\n",
       "      <td>0.104100</td>\n",
       "      <td>-0.017299</td>\n",
       "      <td>-0.041120</td>\n",
       "      <td>1.000000</td>\n",
       "      <td>0.212523</td>\n",
       "      <td>-0.086355</td>\n",
       "      <td>0.171829</td>\n",
       "    </tr>\n",
       "    <tr>\n",
       "      <th>est_hourly_vol</th>\n",
       "      <td>0.102822</td>\n",
       "      <td>-0.056430</td>\n",
       "      <td>0.018022</td>\n",
       "      <td>0.212523</td>\n",
       "      <td>1.000000</td>\n",
       "      <td>-0.133518</td>\n",
       "      <td>0.587368</td>\n",
       "    </tr>\n",
       "    <tr>\n",
       "      <th>LL_passholder</th>\n",
       "      <td>-0.001489</td>\n",
       "      <td>0.007395</td>\n",
       "      <td>0.001507</td>\n",
       "      <td>-0.086355</td>\n",
       "      <td>-0.133518</td>\n",
       "      <td>1.000000</td>\n",
       "      <td>-0.080736</td>\n",
       "    </tr>\n",
       "    <tr>\n",
       "      <th>est_hourly_gross</th>\n",
       "      <td>0.122673</td>\n",
       "      <td>-0.063846</td>\n",
       "      <td>-0.058058</td>\n",
       "      <td>0.171829</td>\n",
       "      <td>0.587368</td>\n",
       "      <td>-0.080736</td>\n",
       "      <td>1.000000</td>\n",
       "    </tr>\n",
       "  </tbody>\n",
       "</table>\n",
       "</div>"
      ],
      "text/plain": [
       "                  vendorID  carnivals  complaints  est_energy  est_hourly_vol  \\\n",
       "vendorID          1.000000   0.000841   -0.031996    0.104100        0.102822   \n",
       "carnivals         0.000841   1.000000   -0.010116   -0.017299       -0.056430   \n",
       "complaints       -0.031996  -0.010116    1.000000   -0.041120        0.018022   \n",
       "est_energy        0.104100  -0.017299   -0.041120    1.000000        0.212523   \n",
       "est_hourly_vol    0.102822  -0.056430    0.018022    0.212523        1.000000   \n",
       "LL_passholder    -0.001489   0.007395    0.001507   -0.086355       -0.133518   \n",
       "est_hourly_gross  0.122673  -0.063846   -0.058058    0.171829        0.587368   \n",
       "\n",
       "                  LL_passholder  est_hourly_gross  \n",
       "vendorID              -0.001489          0.122673  \n",
       "carnivals              0.007395         -0.063846  \n",
       "complaints             0.001507         -0.058058  \n",
       "est_energy            -0.086355          0.171829  \n",
       "est_hourly_vol        -0.133518          0.587368  \n",
       "LL_passholder          1.000000         -0.080736  \n",
       "est_hourly_gross      -0.080736          1.000000  "
      ]
     },
     "execution_count": 80,
     "metadata": {},
     "output_type": "execute_result"
    }
   ],
   "source": [
    "data.corr()"
   ]
  },
  {
   "cell_type": "markdown",
   "id": "dc8c1d29",
   "metadata": {},
   "source": [
    "According to above table, we can found correlation between est_energy and est_hourly_gross is relatively high. And I think this is intutive that a park with more vistors will take more energy."
   ]
  },
  {
   "cell_type": "code",
   "execution_count": 15,
   "id": "be32af1d",
   "metadata": {},
   "outputs": [
    {
     "data": {
      "text/html": [
       "<div>\n",
       "<style scoped>\n",
       "    .dataframe tbody tr th:only-of-type {\n",
       "        vertical-align: middle;\n",
       "    }\n",
       "\n",
       "    .dataframe tbody tr th {\n",
       "        vertical-align: top;\n",
       "    }\n",
       "\n",
       "    .dataframe thead th {\n",
       "        text-align: right;\n",
       "    }\n",
       "</style>\n",
       "<table border=\"1\" class=\"dataframe\">\n",
       "  <thead>\n",
       "    <tr style=\"text-align: right;\">\n",
       "      <th></th>\n",
       "      <th>householdID</th>\n",
       "      <th>total_ppl</th>\n",
       "      <th>own_rent</th>\n",
       "      <th>square_foot</th>\n",
       "      <th>household_income</th>\n",
       "      <th>number_pets</th>\n",
       "      <th>region</th>\n",
       "      <th>entertainment_spend_est</th>\n",
       "      <th>travel_spend_est</th>\n",
       "      <th>LL_passholder</th>\n",
       "    </tr>\n",
       "  </thead>\n",
       "  <tbody>\n",
       "    <tr>\n",
       "      <th>0</th>\n",
       "      <td>1</td>\n",
       "      <td>1.0</td>\n",
       "      <td>own</td>\n",
       "      <td>3309</td>\n",
       "      <td>82050.03</td>\n",
       "      <td>1</td>\n",
       "      <td>Aroostook</td>\n",
       "      <td>3189.11</td>\n",
       "      <td>2028.559211</td>\n",
       "      <td>Yes</td>\n",
       "    </tr>\n",
       "    <tr>\n",
       "      <th>1</th>\n",
       "      <td>2</td>\n",
       "      <td>1.0</td>\n",
       "      <td>own</td>\n",
       "      <td>3814</td>\n",
       "      <td>83077.81</td>\n",
       "      <td>2</td>\n",
       "      <td>Midcoast</td>\n",
       "      <td>4175.35</td>\n",
       "      <td>4713.280000</td>\n",
       "      <td>Yes</td>\n",
       "    </tr>\n",
       "    <tr>\n",
       "      <th>2</th>\n",
       "      <td>3</td>\n",
       "      <td>2.0</td>\n",
       "      <td>rent</td>\n",
       "      <td>2592</td>\n",
       "      <td>91401.41</td>\n",
       "      <td>2</td>\n",
       "      <td>Downeast_Acadia</td>\n",
       "      <td>1814.98</td>\n",
       "      <td>3479.070000</td>\n",
       "      <td>No</td>\n",
       "    </tr>\n",
       "    <tr>\n",
       "      <th>3</th>\n",
       "      <td>4</td>\n",
       "      <td>1.0</td>\n",
       "      <td>own</td>\n",
       "      <td>2628</td>\n",
       "      <td>73048.55</td>\n",
       "      <td>1</td>\n",
       "      <td>Greater Portland</td>\n",
       "      <td>1945.14</td>\n",
       "      <td>3842.420000</td>\n",
       "      <td>No</td>\n",
       "    </tr>\n",
       "    <tr>\n",
       "      <th>4</th>\n",
       "      <td>5</td>\n",
       "      <td>1.0</td>\n",
       "      <td>rent</td>\n",
       "      <td>2442</td>\n",
       "      <td>89145.36</td>\n",
       "      <td>2</td>\n",
       "      <td>Kennebec Valley</td>\n",
       "      <td>4410.86</td>\n",
       "      <td>1913.280000</td>\n",
       "      <td>Yes</td>\n",
       "    </tr>\n",
       "  </tbody>\n",
       "</table>\n",
       "</div>"
      ],
      "text/plain": [
       "   householdID  total_ppl own_rent  square_foot  household_income  \\\n",
       "0            1        1.0      own         3309          82050.03   \n",
       "1            2        1.0      own         3814          83077.81   \n",
       "2            3        2.0     rent         2592          91401.41   \n",
       "3            4        1.0      own         2628          73048.55   \n",
       "4            5        1.0     rent         2442          89145.36   \n",
       "\n",
       "   number_pets            region  entertainment_spend_est  travel_spend_est  \\\n",
       "0            1         Aroostook                  3189.11       2028.559211   \n",
       "1            2          Midcoast                  4175.35       4713.280000   \n",
       "2            2   Downeast_Acadia                  1814.98       3479.070000   \n",
       "3            1  Greater Portland                  1945.14       3842.420000   \n",
       "4            2   Kennebec Valley                  4410.86       1913.280000   \n",
       "\n",
       "  LL_passholder  \n",
       "0           Yes  \n",
       "1           Yes  \n",
       "2            No  \n",
       "3            No  \n",
       "4           Yes  "
      ]
     },
     "execution_count": 15,
     "metadata": {},
     "output_type": "execute_result"
    }
   ],
   "source": [
    "# Segmantation & Targeting\n",
    "mf = pd.read_csv('maine_families.csv')\n",
    "mf.head()"
   ]
  },
  {
   "cell_type": "code",
   "execution_count": 16,
   "id": "1f7d6dac",
   "metadata": {},
   "outputs": [
    {
     "data": {
      "text/html": [
       "<div>\n",
       "<style scoped>\n",
       "    .dataframe tbody tr th:only-of-type {\n",
       "        vertical-align: middle;\n",
       "    }\n",
       "\n",
       "    .dataframe tbody tr th {\n",
       "        vertical-align: top;\n",
       "    }\n",
       "\n",
       "    .dataframe thead th {\n",
       "        text-align: right;\n",
       "    }\n",
       "</style>\n",
       "<table border=\"1\" class=\"dataframe\">\n",
       "  <thead>\n",
       "    <tr style=\"text-align: right;\">\n",
       "      <th></th>\n",
       "      <th>householdID</th>\n",
       "      <th>total_ppl</th>\n",
       "      <th>square_foot</th>\n",
       "      <th>household_income</th>\n",
       "      <th>number_pets</th>\n",
       "      <th>entertainment_spend_est</th>\n",
       "      <th>travel_spend_est</th>\n",
       "    </tr>\n",
       "  </thead>\n",
       "  <tbody>\n",
       "    <tr>\n",
       "      <th>count</th>\n",
       "      <td>15000.000000</td>\n",
       "      <td>14925.000000</td>\n",
       "      <td>15000.000000</td>\n",
       "      <td>15000.000000</td>\n",
       "      <td>15000.000000</td>\n",
       "      <td>15000.000000</td>\n",
       "      <td>15000.000000</td>\n",
       "    </tr>\n",
       "    <tr>\n",
       "      <th>mean</th>\n",
       "      <td>7500.500000</td>\n",
       "      <td>1.580570</td>\n",
       "      <td>3118.928600</td>\n",
       "      <td>84660.356712</td>\n",
       "      <td>1.509200</td>\n",
       "      <td>3451.933114</td>\n",
       "      <td>3682.613712</td>\n",
       "    </tr>\n",
       "    <tr>\n",
       "      <th>std</th>\n",
       "      <td>4330.271354</td>\n",
       "      <td>0.815143</td>\n",
       "      <td>815.925967</td>\n",
       "      <td>25754.657878</td>\n",
       "      <td>0.790163</td>\n",
       "      <td>1228.454404</td>\n",
       "      <td>908.453505</td>\n",
       "    </tr>\n",
       "    <tr>\n",
       "      <th>min</th>\n",
       "      <td>1.000000</td>\n",
       "      <td>0.000000</td>\n",
       "      <td>370.000000</td>\n",
       "      <td>1081.330000</td>\n",
       "      <td>0.000000</td>\n",
       "      <td>9.430000</td>\n",
       "      <td>1002.085526</td>\n",
       "    </tr>\n",
       "    <tr>\n",
       "      <th>25%</th>\n",
       "      <td>3750.750000</td>\n",
       "      <td>1.000000</td>\n",
       "      <td>2506.000000</td>\n",
       "      <td>66787.702500</td>\n",
       "      <td>1.000000</td>\n",
       "      <td>2593.902500</td>\n",
       "      <td>2972.521908</td>\n",
       "    </tr>\n",
       "    <tr>\n",
       "      <th>50%</th>\n",
       "      <td>7500.500000</td>\n",
       "      <td>2.000000</td>\n",
       "      <td>3042.000000</td>\n",
       "      <td>84303.245000</td>\n",
       "      <td>2.000000</td>\n",
       "      <td>3390.650000</td>\n",
       "      <td>3728.575000</td>\n",
       "    </tr>\n",
       "    <tr>\n",
       "      <th>75%</th>\n",
       "      <td>11250.250000</td>\n",
       "      <td>2.000000</td>\n",
       "      <td>3738.000000</td>\n",
       "      <td>102643.917500</td>\n",
       "      <td>2.000000</td>\n",
       "      <td>4279.240000</td>\n",
       "      <td>4356.152500</td>\n",
       "    </tr>\n",
       "    <tr>\n",
       "      <th>max</th>\n",
       "      <td>15000.000000</td>\n",
       "      <td>4.000000</td>\n",
       "      <td>6081.000000</td>\n",
       "      <td>171989.560000</td>\n",
       "      <td>4.000000</td>\n",
       "      <td>7942.620000</td>\n",
       "      <td>7014.070000</td>\n",
       "    </tr>\n",
       "  </tbody>\n",
       "</table>\n",
       "</div>"
      ],
      "text/plain": [
       "        householdID     total_ppl   square_foot  household_income  \\\n",
       "count  15000.000000  14925.000000  15000.000000      15000.000000   \n",
       "mean    7500.500000      1.580570   3118.928600      84660.356712   \n",
       "std     4330.271354      0.815143    815.925967      25754.657878   \n",
       "min        1.000000      0.000000    370.000000       1081.330000   \n",
       "25%     3750.750000      1.000000   2506.000000      66787.702500   \n",
       "50%     7500.500000      2.000000   3042.000000      84303.245000   \n",
       "75%    11250.250000      2.000000   3738.000000     102643.917500   \n",
       "max    15000.000000      4.000000   6081.000000     171989.560000   \n",
       "\n",
       "        number_pets  entertainment_spend_est  travel_spend_est  \n",
       "count  15000.000000             15000.000000      15000.000000  \n",
       "mean       1.509200              3451.933114       3682.613712  \n",
       "std        0.790163              1228.454404        908.453505  \n",
       "min        0.000000                 9.430000       1002.085526  \n",
       "25%        1.000000              2593.902500       2972.521908  \n",
       "50%        2.000000              3390.650000       3728.575000  \n",
       "75%        2.000000              4279.240000       4356.152500  \n",
       "max        4.000000              7942.620000       7014.070000  "
      ]
     },
     "execution_count": 16,
     "metadata": {},
     "output_type": "execute_result"
    }
   ],
   "source": [
    "mf.describe()"
   ]
  },
  {
   "cell_type": "code",
   "execution_count": 17,
   "id": "d6d9a677",
   "metadata": {},
   "outputs": [
    {
     "data": {
      "text/plain": [
       "householdID                 0\n",
       "total_ppl                  75\n",
       "own_rent                    0\n",
       "square_foot                 0\n",
       "household_income            0\n",
       "number_pets                 0\n",
       "region                      0\n",
       "entertainment_spend_est     0\n",
       "travel_spend_est            0\n",
       "LL_passholder               0\n",
       "dtype: int64"
      ]
     },
     "execution_count": 17,
     "metadata": {},
     "output_type": "execute_result"
    }
   ],
   "source": [
    "mf.isnull().sum()"
   ]
  },
  {
   "cell_type": "code",
   "execution_count": 18,
   "id": "6744e489",
   "metadata": {},
   "outputs": [
    {
     "data": {
      "text/plain": [
       "householdID                0\n",
       "total_ppl                  0\n",
       "own_rent                   0\n",
       "square_foot                0\n",
       "household_income           0\n",
       "number_pets                0\n",
       "region                     0\n",
       "entertainment_spend_est    0\n",
       "travel_spend_est           0\n",
       "LL_passholder              0\n",
       "dtype: int64"
      ]
     },
     "execution_count": 18,
     "metadata": {},
     "output_type": "execute_result"
    }
   ],
   "source": [
    "mf2 = mf.fillna(0) # Replace NA with 0, we assume NA menas 0 people live in the building. \n",
    "mf2.isnull().sum()"
   ]
  },
  {
   "cell_type": "code",
   "execution_count": 19,
   "id": "1844d43b",
   "metadata": {},
   "outputs": [],
   "source": [
    "# Converting categorical variables to 1 and 0\n",
    "# mf3 = mf2\n",
    "# mf3['own_rent'] = mf3['own_rent'].map({'own': 1, 'rent': 0}) # change own to 1, rent to 0\n",
    "# mf3.head()\n",
    "\n",
    "# mf4 = mf3 # change yes to 1, no to 0; Lobsterland pass\n",
    "# mf4['LL_passholder'] = mf4['LL_passholder'].map({'Yes': 1, 'No': 0})\n",
    "# mf4.head()"
   ]
  },
  {
   "cell_type": "code",
   "execution_count": 20,
   "id": "431c8cbe",
   "metadata": {},
   "outputs": [
    {
     "data": {
      "text/html": [
       "<div>\n",
       "<style scoped>\n",
       "    .dataframe tbody tr th:only-of-type {\n",
       "        vertical-align: middle;\n",
       "    }\n",
       "\n",
       "    .dataframe tbody tr th {\n",
       "        vertical-align: top;\n",
       "    }\n",
       "\n",
       "    .dataframe thead th {\n",
       "        text-align: right;\n",
       "    }\n",
       "</style>\n",
       "<table border=\"1\" class=\"dataframe\">\n",
       "  <thead>\n",
       "    <tr style=\"text-align: right;\">\n",
       "      <th></th>\n",
       "      <th>householdID</th>\n",
       "      <th>total_ppl</th>\n",
       "      <th>own_rent</th>\n",
       "      <th>square_foot</th>\n",
       "      <th>household_income</th>\n",
       "      <th>number_pets</th>\n",
       "      <th>region</th>\n",
       "      <th>entertainment_spend_est</th>\n",
       "      <th>travel_spend_est</th>\n",
       "      <th>LL_passholder</th>\n",
       "    </tr>\n",
       "  </thead>\n",
       "  <tbody>\n",
       "    <tr>\n",
       "      <th>0</th>\n",
       "      <td>1</td>\n",
       "      <td>1.0</td>\n",
       "      <td>own</td>\n",
       "      <td>3309</td>\n",
       "      <td>82050.03</td>\n",
       "      <td>1</td>\n",
       "      <td>Aroostook</td>\n",
       "      <td>3189.11</td>\n",
       "      <td>2028.559211</td>\n",
       "      <td>Yes</td>\n",
       "    </tr>\n",
       "    <tr>\n",
       "      <th>1</th>\n",
       "      <td>2</td>\n",
       "      <td>1.0</td>\n",
       "      <td>own</td>\n",
       "      <td>3814</td>\n",
       "      <td>83077.81</td>\n",
       "      <td>2</td>\n",
       "      <td>Midcoast</td>\n",
       "      <td>4175.35</td>\n",
       "      <td>4713.280000</td>\n",
       "      <td>Yes</td>\n",
       "    </tr>\n",
       "    <tr>\n",
       "      <th>2</th>\n",
       "      <td>3</td>\n",
       "      <td>2.0</td>\n",
       "      <td>rent</td>\n",
       "      <td>2592</td>\n",
       "      <td>91401.41</td>\n",
       "      <td>2</td>\n",
       "      <td>Downeast_Acadia</td>\n",
       "      <td>1814.98</td>\n",
       "      <td>3479.070000</td>\n",
       "      <td>No</td>\n",
       "    </tr>\n",
       "    <tr>\n",
       "      <th>3</th>\n",
       "      <td>4</td>\n",
       "      <td>1.0</td>\n",
       "      <td>own</td>\n",
       "      <td>2628</td>\n",
       "      <td>73048.55</td>\n",
       "      <td>1</td>\n",
       "      <td>Greater Portland</td>\n",
       "      <td>1945.14</td>\n",
       "      <td>3842.420000</td>\n",
       "      <td>No</td>\n",
       "    </tr>\n",
       "    <tr>\n",
       "      <th>4</th>\n",
       "      <td>5</td>\n",
       "      <td>1.0</td>\n",
       "      <td>rent</td>\n",
       "      <td>2442</td>\n",
       "      <td>89145.36</td>\n",
       "      <td>2</td>\n",
       "      <td>Kennebec Valley</td>\n",
       "      <td>4410.86</td>\n",
       "      <td>1913.280000</td>\n",
       "      <td>Yes</td>\n",
       "    </tr>\n",
       "  </tbody>\n",
       "</table>\n",
       "</div>"
      ],
      "text/plain": [
       "   householdID  total_ppl own_rent  square_foot  household_income  \\\n",
       "0            1        1.0      own         3309          82050.03   \n",
       "1            2        1.0      own         3814          83077.81   \n",
       "2            3        2.0     rent         2592          91401.41   \n",
       "3            4        1.0      own         2628          73048.55   \n",
       "4            5        1.0     rent         2442          89145.36   \n",
       "\n",
       "   number_pets            region  entertainment_spend_est  travel_spend_est  \\\n",
       "0            1         Aroostook                  3189.11       2028.559211   \n",
       "1            2          Midcoast                  4175.35       4713.280000   \n",
       "2            2   Downeast_Acadia                  1814.98       3479.070000   \n",
       "3            1  Greater Portland                  1945.14       3842.420000   \n",
       "4            2   Kennebec Valley                  4410.86       1913.280000   \n",
       "\n",
       "  LL_passholder  \n",
       "0           Yes  \n",
       "1           Yes  \n",
       "2            No  \n",
       "3            No  \n",
       "4           Yes  "
      ]
     },
     "execution_count": 20,
     "metadata": {},
     "output_type": "execute_result"
    }
   ],
   "source": [
    "mf2.head()"
   ]
  },
  {
   "cell_type": "code",
   "execution_count": 21,
   "id": "af75c3bb",
   "metadata": {},
   "outputs": [
    {
     "data": {
      "text/html": [
       "<div>\n",
       "<style scoped>\n",
       "    .dataframe tbody tr th:only-of-type {\n",
       "        vertical-align: middle;\n",
       "    }\n",
       "\n",
       "    .dataframe tbody tr th {\n",
       "        vertical-align: top;\n",
       "    }\n",
       "\n",
       "    .dataframe thead th {\n",
       "        text-align: right;\n",
       "    }\n",
       "</style>\n",
       "<table border=\"1\" class=\"dataframe\">\n",
       "  <thead>\n",
       "    <tr style=\"text-align: right;\">\n",
       "      <th></th>\n",
       "      <th>householdID</th>\n",
       "      <th>total_ppl</th>\n",
       "      <th>square_foot</th>\n",
       "      <th>household_income</th>\n",
       "      <th>number_pets</th>\n",
       "      <th>entertainment_spend_est</th>\n",
       "      <th>travel_spend_est</th>\n",
       "    </tr>\n",
       "  </thead>\n",
       "  <tbody>\n",
       "    <tr>\n",
       "      <th>count</th>\n",
       "      <td>15000.000000</td>\n",
       "      <td>15000.000000</td>\n",
       "      <td>15000.000000</td>\n",
       "      <td>15000.000000</td>\n",
       "      <td>15000.000000</td>\n",
       "      <td>15000.000000</td>\n",
       "      <td>15000.000000</td>\n",
       "    </tr>\n",
       "    <tr>\n",
       "      <th>mean</th>\n",
       "      <td>7500.500000</td>\n",
       "      <td>1.572667</td>\n",
       "      <td>3118.928600</td>\n",
       "      <td>84660.356712</td>\n",
       "      <td>1.509200</td>\n",
       "      <td>3451.933114</td>\n",
       "      <td>3682.613712</td>\n",
       "    </tr>\n",
       "    <tr>\n",
       "      <th>std</th>\n",
       "      <td>4330.271354</td>\n",
       "      <td>0.820710</td>\n",
       "      <td>815.925967</td>\n",
       "      <td>25754.657878</td>\n",
       "      <td>0.790163</td>\n",
       "      <td>1228.454404</td>\n",
       "      <td>908.453505</td>\n",
       "    </tr>\n",
       "    <tr>\n",
       "      <th>min</th>\n",
       "      <td>1.000000</td>\n",
       "      <td>0.000000</td>\n",
       "      <td>370.000000</td>\n",
       "      <td>1081.330000</td>\n",
       "      <td>0.000000</td>\n",
       "      <td>9.430000</td>\n",
       "      <td>1002.085526</td>\n",
       "    </tr>\n",
       "    <tr>\n",
       "      <th>25%</th>\n",
       "      <td>3750.750000</td>\n",
       "      <td>1.000000</td>\n",
       "      <td>2506.000000</td>\n",
       "      <td>66787.702500</td>\n",
       "      <td>1.000000</td>\n",
       "      <td>2593.902500</td>\n",
       "      <td>2972.521908</td>\n",
       "    </tr>\n",
       "    <tr>\n",
       "      <th>50%</th>\n",
       "      <td>7500.500000</td>\n",
       "      <td>2.000000</td>\n",
       "      <td>3042.000000</td>\n",
       "      <td>84303.245000</td>\n",
       "      <td>2.000000</td>\n",
       "      <td>3390.650000</td>\n",
       "      <td>3728.575000</td>\n",
       "    </tr>\n",
       "    <tr>\n",
       "      <th>75%</th>\n",
       "      <td>11250.250000</td>\n",
       "      <td>2.000000</td>\n",
       "      <td>3738.000000</td>\n",
       "      <td>102643.917500</td>\n",
       "      <td>2.000000</td>\n",
       "      <td>4279.240000</td>\n",
       "      <td>4356.152500</td>\n",
       "    </tr>\n",
       "    <tr>\n",
       "      <th>max</th>\n",
       "      <td>15000.000000</td>\n",
       "      <td>4.000000</td>\n",
       "      <td>6081.000000</td>\n",
       "      <td>171989.560000</td>\n",
       "      <td>4.000000</td>\n",
       "      <td>7942.620000</td>\n",
       "      <td>7014.070000</td>\n",
       "    </tr>\n",
       "  </tbody>\n",
       "</table>\n",
       "</div>"
      ],
      "text/plain": [
       "        householdID     total_ppl   square_foot  household_income  \\\n",
       "count  15000.000000  15000.000000  15000.000000      15000.000000   \n",
       "mean    7500.500000      1.572667   3118.928600      84660.356712   \n",
       "std     4330.271354      0.820710    815.925967      25754.657878   \n",
       "min        1.000000      0.000000    370.000000       1081.330000   \n",
       "25%     3750.750000      1.000000   2506.000000      66787.702500   \n",
       "50%     7500.500000      2.000000   3042.000000      84303.245000   \n",
       "75%    11250.250000      2.000000   3738.000000     102643.917500   \n",
       "max    15000.000000      4.000000   6081.000000     171989.560000   \n",
       "\n",
       "        number_pets  entertainment_spend_est  travel_spend_est  \n",
       "count  15000.000000             15000.000000      15000.000000  \n",
       "mean       1.509200              3451.933114       3682.613712  \n",
       "std        0.790163              1228.454404        908.453505  \n",
       "min        0.000000                 9.430000       1002.085526  \n",
       "25%        1.000000              2593.902500       2972.521908  \n",
       "50%        2.000000              3390.650000       3728.575000  \n",
       "75%        2.000000              4279.240000       4356.152500  \n",
       "max        4.000000              7942.620000       7014.070000  "
      ]
     },
     "execution_count": 21,
     "metadata": {},
     "output_type": "execute_result"
    }
   ],
   "source": [
    "mf2.describe()"
   ]
  },
  {
   "cell_type": "code",
   "execution_count": 22,
   "id": "c311119d",
   "metadata": {},
   "outputs": [
    {
     "data": {
      "text/html": [
       "<div>\n",
       "<style scoped>\n",
       "    .dataframe tbody tr th:only-of-type {\n",
       "        vertical-align: middle;\n",
       "    }\n",
       "\n",
       "    .dataframe tbody tr th {\n",
       "        vertical-align: top;\n",
       "    }\n",
       "\n",
       "    .dataframe thead th {\n",
       "        text-align: right;\n",
       "    }\n",
       "</style>\n",
       "<table border=\"1\" class=\"dataframe\">\n",
       "  <thead>\n",
       "    <tr style=\"text-align: right;\">\n",
       "      <th></th>\n",
       "      <th>total_ppl</th>\n",
       "      <th>square_foot</th>\n",
       "      <th>household_income</th>\n",
       "      <th>number_pets</th>\n",
       "      <th>entertainment_spend_est</th>\n",
       "      <th>travel_spend_est</th>\n",
       "    </tr>\n",
       "  </thead>\n",
       "  <tbody>\n",
       "    <tr>\n",
       "      <th>0</th>\n",
       "      <td>1.0</td>\n",
       "      <td>3309</td>\n",
       "      <td>82050.03</td>\n",
       "      <td>1</td>\n",
       "      <td>3189.11</td>\n",
       "      <td>2028.559211</td>\n",
       "    </tr>\n",
       "    <tr>\n",
       "      <th>1</th>\n",
       "      <td>1.0</td>\n",
       "      <td>3814</td>\n",
       "      <td>83077.81</td>\n",
       "      <td>2</td>\n",
       "      <td>4175.35</td>\n",
       "      <td>4713.280000</td>\n",
       "    </tr>\n",
       "    <tr>\n",
       "      <th>2</th>\n",
       "      <td>2.0</td>\n",
       "      <td>2592</td>\n",
       "      <td>91401.41</td>\n",
       "      <td>2</td>\n",
       "      <td>1814.98</td>\n",
       "      <td>3479.070000</td>\n",
       "    </tr>\n",
       "    <tr>\n",
       "      <th>3</th>\n",
       "      <td>1.0</td>\n",
       "      <td>2628</td>\n",
       "      <td>73048.55</td>\n",
       "      <td>1</td>\n",
       "      <td>1945.14</td>\n",
       "      <td>3842.420000</td>\n",
       "    </tr>\n",
       "    <tr>\n",
       "      <th>4</th>\n",
       "      <td>1.0</td>\n",
       "      <td>2442</td>\n",
       "      <td>89145.36</td>\n",
       "      <td>2</td>\n",
       "      <td>4410.86</td>\n",
       "      <td>1913.280000</td>\n",
       "    </tr>\n",
       "  </tbody>\n",
       "</table>\n",
       "</div>"
      ],
      "text/plain": [
       "   total_ppl  square_foot  household_income  number_pets  \\\n",
       "0        1.0         3309          82050.03            1   \n",
       "1        1.0         3814          83077.81            2   \n",
       "2        2.0         2592          91401.41            2   \n",
       "3        1.0         2628          73048.55            1   \n",
       "4        1.0         2442          89145.36            2   \n",
       "\n",
       "   entertainment_spend_est  travel_spend_est  \n",
       "0                  3189.11       2028.559211  \n",
       "1                  4175.35       4713.280000  \n",
       "2                  1814.98       3479.070000  \n",
       "3                  1945.14       3842.420000  \n",
       "4                  4410.86       1913.280000  "
      ]
     },
     "execution_count": 22,
     "metadata": {},
     "output_type": "execute_result"
    }
   ],
   "source": [
    "mf_num = mf2[['total_ppl', 'square_foot', 'household_income', 'number_pets', 'entertainment_spend_est', 'travel_spend_est']]\n",
    "mf_num.head()"
   ]
  },
  {
   "cell_type": "code",
   "execution_count": 23,
   "id": "d043de71",
   "metadata": {},
   "outputs": [
    {
     "data": {
      "text/html": [
       "<div>\n",
       "<style scoped>\n",
       "    .dataframe tbody tr th:only-of-type {\n",
       "        vertical-align: middle;\n",
       "    }\n",
       "\n",
       "    .dataframe tbody tr th {\n",
       "        vertical-align: top;\n",
       "    }\n",
       "\n",
       "    .dataframe thead th {\n",
       "        text-align: right;\n",
       "    }\n",
       "</style>\n",
       "<table border=\"1\" class=\"dataframe\">\n",
       "  <thead>\n",
       "    <tr style=\"text-align: right;\">\n",
       "      <th></th>\n",
       "      <th>total_ppl</th>\n",
       "      <th>square_foot</th>\n",
       "      <th>household_income</th>\n",
       "      <th>number_pets</th>\n",
       "      <th>entertainment_spend_est</th>\n",
       "      <th>travel_spend_est</th>\n",
       "    </tr>\n",
       "  </thead>\n",
       "  <tbody>\n",
       "    <tr>\n",
       "      <th>count</th>\n",
       "      <td>15000.00</td>\n",
       "      <td>15000.00</td>\n",
       "      <td>15000.00</td>\n",
       "      <td>15000.00</td>\n",
       "      <td>15000.00</td>\n",
       "      <td>15000.00</td>\n",
       "    </tr>\n",
       "    <tr>\n",
       "      <th>mean</th>\n",
       "      <td>0.00</td>\n",
       "      <td>-0.00</td>\n",
       "      <td>0.00</td>\n",
       "      <td>-0.00</td>\n",
       "      <td>0.00</td>\n",
       "      <td>-0.00</td>\n",
       "    </tr>\n",
       "    <tr>\n",
       "      <th>std</th>\n",
       "      <td>1.00</td>\n",
       "      <td>1.00</td>\n",
       "      <td>1.00</td>\n",
       "      <td>1.00</td>\n",
       "      <td>1.00</td>\n",
       "      <td>1.00</td>\n",
       "    </tr>\n",
       "    <tr>\n",
       "      <th>min</th>\n",
       "      <td>-1.92</td>\n",
       "      <td>-3.37</td>\n",
       "      <td>-3.25</td>\n",
       "      <td>-1.91</td>\n",
       "      <td>-2.80</td>\n",
       "      <td>-2.95</td>\n",
       "    </tr>\n",
       "    <tr>\n",
       "      <th>25%</th>\n",
       "      <td>-0.70</td>\n",
       "      <td>-0.75</td>\n",
       "      <td>-0.69</td>\n",
       "      <td>-0.64</td>\n",
       "      <td>-0.70</td>\n",
       "      <td>-0.78</td>\n",
       "    </tr>\n",
       "    <tr>\n",
       "      <th>50%</th>\n",
       "      <td>0.52</td>\n",
       "      <td>-0.09</td>\n",
       "      <td>-0.01</td>\n",
       "      <td>0.62</td>\n",
       "      <td>-0.05</td>\n",
       "      <td>0.05</td>\n",
       "    </tr>\n",
       "    <tr>\n",
       "      <th>75%</th>\n",
       "      <td>0.52</td>\n",
       "      <td>0.76</td>\n",
       "      <td>0.70</td>\n",
       "      <td>0.62</td>\n",
       "      <td>0.67</td>\n",
       "      <td>0.74</td>\n",
       "    </tr>\n",
       "    <tr>\n",
       "      <th>max</th>\n",
       "      <td>2.96</td>\n",
       "      <td>3.63</td>\n",
       "      <td>3.39</td>\n",
       "      <td>3.15</td>\n",
       "      <td>3.66</td>\n",
       "      <td>3.67</td>\n",
       "    </tr>\n",
       "  </tbody>\n",
       "</table>\n",
       "</div>"
      ],
      "text/plain": [
       "       total_ppl  square_foot  household_income  number_pets  \\\n",
       "count   15000.00     15000.00          15000.00     15000.00   \n",
       "mean        0.00        -0.00              0.00        -0.00   \n",
       "std         1.00         1.00              1.00         1.00   \n",
       "min        -1.92        -3.37             -3.25        -1.91   \n",
       "25%        -0.70        -0.75             -0.69        -0.64   \n",
       "50%         0.52        -0.09             -0.01         0.62   \n",
       "75%         0.52         0.76              0.70         0.62   \n",
       "max         2.96         3.63              3.39         3.15   \n",
       "\n",
       "       entertainment_spend_est  travel_spend_est  \n",
       "count                 15000.00          15000.00  \n",
       "mean                      0.00             -0.00  \n",
       "std                       1.00              1.00  \n",
       "min                      -2.80             -2.95  \n",
       "25%                      -0.70             -0.78  \n",
       "50%                      -0.05              0.05  \n",
       "75%                       0.67              0.74  \n",
       "max                       3.66              3.67  "
      ]
     },
     "execution_count": 23,
     "metadata": {},
     "output_type": "execute_result"
    }
   ],
   "source": [
    "zscore = preprocessing.StandardScaler()\n",
    "mf_standard = zscore.fit_transform(mf_num)\n",
    "mf_standard = pd.DataFrame(mf_standard)\n",
    "mf_standard.columns = mf_num.columns\n",
    "round(mf_standard.describe(), 2)"
   ]
  },
  {
   "cell_type": "code",
   "execution_count": 24,
   "id": "75828386",
   "metadata": {},
   "outputs": [
    {
     "data": {
      "text/html": [
       "<div>\n",
       "<style scoped>\n",
       "    .dataframe tbody tr th:only-of-type {\n",
       "        vertical-align: middle;\n",
       "    }\n",
       "\n",
       "    .dataframe tbody tr th {\n",
       "        vertical-align: top;\n",
       "    }\n",
       "\n",
       "    .dataframe thead th {\n",
       "        text-align: right;\n",
       "    }\n",
       "</style>\n",
       "<table border=\"1\" class=\"dataframe\">\n",
       "  <thead>\n",
       "    <tr style=\"text-align: right;\">\n",
       "      <th></th>\n",
       "      <th>total_ppl</th>\n",
       "      <th>square_foot</th>\n",
       "      <th>household_income</th>\n",
       "      <th>number_pets</th>\n",
       "      <th>entertainment_spend_est</th>\n",
       "      <th>travel_spend_est</th>\n",
       "    </tr>\n",
       "  </thead>\n",
       "  <tbody>\n",
       "    <tr>\n",
       "      <th>0</th>\n",
       "      <td>-0.697793</td>\n",
       "      <td>0.232960</td>\n",
       "      <td>-0.101357</td>\n",
       "      <td>-0.644446</td>\n",
       "      <td>-0.213953</td>\n",
       "      <td>-1.820797</td>\n",
       "    </tr>\n",
       "    <tr>\n",
       "      <th>1</th>\n",
       "      <td>-0.697793</td>\n",
       "      <td>0.851909</td>\n",
       "      <td>-0.061449</td>\n",
       "      <td>0.621159</td>\n",
       "      <td>0.588903</td>\n",
       "      <td>1.134566</td>\n",
       "    </tr>\n",
       "    <tr>\n",
       "      <th>2</th>\n",
       "      <td>0.520705</td>\n",
       "      <td>-0.645826</td>\n",
       "      <td>0.261750</td>\n",
       "      <td>0.621159</td>\n",
       "      <td>-1.332575</td>\n",
       "      <td>-0.224063</td>\n",
       "    </tr>\n",
       "    <tr>\n",
       "      <th>3</th>\n",
       "      <td>-0.697793</td>\n",
       "      <td>-0.601703</td>\n",
       "      <td>-0.450877</td>\n",
       "      <td>-0.644446</td>\n",
       "      <td>-1.226617</td>\n",
       "      <td>0.175916</td>\n",
       "    </tr>\n",
       "    <tr>\n",
       "      <th>4</th>\n",
       "      <td>-0.697793</td>\n",
       "      <td>-0.829672</td>\n",
       "      <td>0.174149</td>\n",
       "      <td>0.621159</td>\n",
       "      <td>0.780622</td>\n",
       "      <td>-1.947698</td>\n",
       "    </tr>\n",
       "  </tbody>\n",
       "</table>\n",
       "</div>"
      ],
      "text/plain": [
       "   total_ppl  square_foot  household_income  number_pets  \\\n",
       "0  -0.697793     0.232960         -0.101357    -0.644446   \n",
       "1  -0.697793     0.851909         -0.061449     0.621159   \n",
       "2   0.520705    -0.645826          0.261750     0.621159   \n",
       "3  -0.697793    -0.601703         -0.450877    -0.644446   \n",
       "4  -0.697793    -0.829672          0.174149     0.621159   \n",
       "\n",
       "   entertainment_spend_est  travel_spend_est  \n",
       "0                -0.213953         -1.820797  \n",
       "1                 0.588903          1.134566  \n",
       "2                -1.332575         -0.224063  \n",
       "3                -1.226617          0.175916  \n",
       "4                 0.780622         -1.947698  "
      ]
     },
     "execution_count": 24,
     "metadata": {},
     "output_type": "execute_result"
    }
   ],
   "source": [
    "mf_standard.head()"
   ]
  },
  {
   "cell_type": "code",
   "execution_count": 25,
   "id": "800f6f81",
   "metadata": {},
   "outputs": [
    {
     "data": {
      "text/plain": [
       "<AxesSubplot:title={'center':'The Elbow Method'}, xlabel='k', ylabel='SSE'>"
      ]
     },
     "execution_count": 25,
     "metadata": {},
     "output_type": "execute_result"
    },
    {
     "data": {
      "image/png": "[encoded data removed]",
      "text/plain": [
       "<Figure size 432x288 with 1 Axes>"
      ]
     },
     "metadata": {
      "needs_background": "light"
     },
     "output_type": "display_data"
    }
   ],
   "source": [
    "# Elbow chart\n",
    "sse = {}\n",
    "for k in range(1, 10):\n",
    "    kmeans = KMeans(n_clusters = k, random_state = 0)\n",
    "    kmeans.fit(mf_standard)\n",
    "    sse[k] = kmeans.inertia_\n",
    "plt.title('The Elbow Method')\n",
    "plt.xlabel('k')\n",
    "plt.ylabel('SSE')\n",
    "sns.pointplot(x = list(sse.keys()), y = list(sse.values()))"
   ]
  },
  {
   "cell_type": "code",
   "execution_count": 26,
   "id": "a4ab58ea",
   "metadata": {},
   "outputs": [
    {
     "data": {
      "text/html": [
       "<div>\n",
       "<style scoped>\n",
       "    .dataframe tbody tr th:only-of-type {\n",
       "        vertical-align: middle;\n",
       "    }\n",
       "\n",
       "    .dataframe tbody tr th {\n",
       "        vertical-align: top;\n",
       "    }\n",
       "\n",
       "    .dataframe thead th {\n",
       "        text-align: right;\n",
       "    }\n",
       "</style>\n",
       "<table border=\"1\" class=\"dataframe\">\n",
       "  <thead>\n",
       "    <tr style=\"text-align: right;\">\n",
       "      <th></th>\n",
       "      <th>total_ppl</th>\n",
       "      <th>square_foot</th>\n",
       "      <th>household_income</th>\n",
       "      <th>number_pets</th>\n",
       "      <th>entertainment_spend_est</th>\n",
       "      <th>travel_spend_est</th>\n",
       "    </tr>\n",
       "    <tr>\n",
       "      <th>Cluster</th>\n",
       "      <th></th>\n",
       "      <th></th>\n",
       "      <th></th>\n",
       "      <th></th>\n",
       "      <th></th>\n",
       "      <th></th>\n",
       "    </tr>\n",
       "  </thead>\n",
       "  <tbody>\n",
       "    <tr>\n",
       "      <th>0</th>\n",
       "      <td>0.28</td>\n",
       "      <td>-0.74</td>\n",
       "      <td>-0.56</td>\n",
       "      <td>-0.01</td>\n",
       "      <td>-0.46</td>\n",
       "      <td>-0.88</td>\n",
       "    </tr>\n",
       "    <tr>\n",
       "      <th>1</th>\n",
       "      <td>-1.12</td>\n",
       "      <td>-0.08</td>\n",
       "      <td>0.41</td>\n",
       "      <td>-0.06</td>\n",
       "      <td>0.22</td>\n",
       "      <td>0.46</td>\n",
       "    </tr>\n",
       "    <tr>\n",
       "      <th>2</th>\n",
       "      <td>0.50</td>\n",
       "      <td>0.11</td>\n",
       "      <td>0.99</td>\n",
       "      <td>0.01</td>\n",
       "      <td>1.10</td>\n",
       "      <td>0.75</td>\n",
       "    </tr>\n",
       "    <tr>\n",
       "      <th>3</th>\n",
       "      <td>0.37</td>\n",
       "      <td>0.94</td>\n",
       "      <td>-0.58</td>\n",
       "      <td>0.07</td>\n",
       "      <td>-0.61</td>\n",
       "      <td>-0.01</td>\n",
       "    </tr>\n",
       "  </tbody>\n",
       "</table>\n",
       "</div>"
      ],
      "text/plain": [
       "         total_ppl  square_foot  household_income  number_pets  \\\n",
       "Cluster                                                          \n",
       "0             0.28        -0.74             -0.56        -0.01   \n",
       "1            -1.12        -0.08              0.41        -0.06   \n",
       "2             0.50         0.11              0.99         0.01   \n",
       "3             0.37         0.94             -0.58         0.07   \n",
       "\n",
       "         entertainment_spend_est  travel_spend_est  \n",
       "Cluster                                             \n",
       "0                          -0.46             -0.88  \n",
       "1                           0.22              0.46  \n",
       "2                           1.10              0.75  \n",
       "3                          -0.61             -0.01  "
      ]
     },
     "execution_count": 26,
     "metadata": {},
     "output_type": "execute_result"
    }
   ],
   "source": [
    "# k-means\n",
    "kmeans = KMeans(n_clusters = 4, random_state = 0)\n",
    "kmeans.fit(mf_standard)\n",
    "cluster_labels = kmeans.labels_\n",
    "\n",
    "MF_standard = mf_standard.assign(Cluster = cluster_labels)\n",
    "MF_standard.groupby(['Cluster']).agg({\n",
    "    'total_ppl': 'mean',\n",
    "    'square_foot': 'mean',\n",
    "    'household_income': 'mean',\n",
    "    'number_pets': 'mean',\n",
    "    'entertainment_spend_est': 'mean',\n",
    "    'travel_spend_est': 'mean'\n",
    "}).round(2)"
   ]
  },
  {
   "cell_type": "code",
   "execution_count": 27,
   "id": "615ed208",
   "metadata": {},
   "outputs": [
    {
     "data": {
      "text/html": [
       "<div>\n",
       "<style scoped>\n",
       "    .dataframe tbody tr th:only-of-type {\n",
       "        vertical-align: middle;\n",
       "    }\n",
       "\n",
       "    .dataframe tbody tr th {\n",
       "        vertical-align: top;\n",
       "    }\n",
       "\n",
       "    .dataframe thead th {\n",
       "        text-align: right;\n",
       "    }\n",
       "</style>\n",
       "<table border=\"1\" class=\"dataframe\">\n",
       "  <thead>\n",
       "    <tr style=\"text-align: right;\">\n",
       "      <th></th>\n",
       "      <th>total_ppl</th>\n",
       "      <th>square_foot</th>\n",
       "      <th>household_income</th>\n",
       "      <th>number_pets</th>\n",
       "      <th>entertainment_spend_est</th>\n",
       "      <th>travel_spend_est</th>\n",
       "    </tr>\n",
       "    <tr>\n",
       "      <th>Cluster</th>\n",
       "      <th></th>\n",
       "      <th></th>\n",
       "      <th></th>\n",
       "      <th></th>\n",
       "      <th></th>\n",
       "      <th></th>\n",
       "    </tr>\n",
       "  </thead>\n",
       "  <tbody>\n",
       "    <tr>\n",
       "      <th>0</th>\n",
       "      <td>0.24</td>\n",
       "      <td>-0.63</td>\n",
       "      <td>-0.58</td>\n",
       "      <td>-0.90</td>\n",
       "      <td>-0.46</td>\n",
       "      <td>-0.77</td>\n",
       "    </tr>\n",
       "    <tr>\n",
       "      <th>1</th>\n",
       "      <td>0.41</td>\n",
       "      <td>1.12</td>\n",
       "      <td>-0.58</td>\n",
       "      <td>-0.02</td>\n",
       "      <td>-0.63</td>\n",
       "      <td>0.06</td>\n",
       "    </tr>\n",
       "    <tr>\n",
       "      <th>2</th>\n",
       "      <td>0.29</td>\n",
       "      <td>-0.57</td>\n",
       "      <td>-0.55</td>\n",
       "      <td>0.90</td>\n",
       "      <td>-0.46</td>\n",
       "      <td>-0.79</td>\n",
       "    </tr>\n",
       "    <tr>\n",
       "      <th>3</th>\n",
       "      <td>-0.94</td>\n",
       "      <td>0.01</td>\n",
       "      <td>0.51</td>\n",
       "      <td>0.94</td>\n",
       "      <td>0.35</td>\n",
       "      <td>0.55</td>\n",
       "    </tr>\n",
       "    <tr>\n",
       "      <th>4</th>\n",
       "      <td>0.75</td>\n",
       "      <td>0.11</td>\n",
       "      <td>1.00</td>\n",
       "      <td>-0.08</td>\n",
       "      <td>1.12</td>\n",
       "      <td>0.74</td>\n",
       "    </tr>\n",
       "    <tr>\n",
       "      <th>5</th>\n",
       "      <td>-1.00</td>\n",
       "      <td>0.03</td>\n",
       "      <td>0.52</td>\n",
       "      <td>-0.93</td>\n",
       "      <td>0.36</td>\n",
       "      <td>0.54</td>\n",
       "    </tr>\n",
       "  </tbody>\n",
       "</table>\n",
       "</div>"
      ],
      "text/plain": [
       "         total_ppl  square_foot  household_income  number_pets  \\\n",
       "Cluster                                                          \n",
       "0             0.24        -0.63             -0.58        -0.90   \n",
       "1             0.41         1.12             -0.58        -0.02   \n",
       "2             0.29        -0.57             -0.55         0.90   \n",
       "3            -0.94         0.01              0.51         0.94   \n",
       "4             0.75         0.11              1.00        -0.08   \n",
       "5            -1.00         0.03              0.52        -0.93   \n",
       "\n",
       "         entertainment_spend_est  travel_spend_est  \n",
       "Cluster                                             \n",
       "0                          -0.46             -0.77  \n",
       "1                          -0.63              0.06  \n",
       "2                          -0.46             -0.79  \n",
       "3                           0.35              0.55  \n",
       "4                           1.12              0.74  \n",
       "5                           0.36              0.54  "
      ]
     },
     "execution_count": 27,
     "metadata": {},
     "output_type": "execute_result"
    }
   ],
   "source": [
    "kmeans = KMeans(n_clusters = 6, random_state = 0)\n",
    "kmeans.fit(mf_standard)\n",
    "cluster_labels = kmeans.labels_\n",
    "\n",
    "MF_standard = mf_standard.assign(Cluster = cluster_labels)\n",
    "MF_standard.groupby(['Cluster']).agg({\n",
    "    'total_ppl': 'mean',\n",
    "    'square_foot': 'mean',\n",
    "    'household_income': 'mean',\n",
    "    'number_pets': 'mean',\n",
    "    'entertainment_spend_est': 'mean',\n",
    "    'travel_spend_est': 'mean'\n",
    "}).round(2)"
   ]
  },
  {
   "cell_type": "code",
   "execution_count": 28,
   "id": "6845457d",
   "metadata": {},
   "outputs": [
    {
     "data": {
      "text/html": [
       "<div>\n",
       "<style scoped>\n",
       "    .dataframe tbody tr th:only-of-type {\n",
       "        vertical-align: middle;\n",
       "    }\n",
       "\n",
       "    .dataframe tbody tr th {\n",
       "        vertical-align: top;\n",
       "    }\n",
       "\n",
       "    .dataframe thead th {\n",
       "        text-align: right;\n",
       "    }\n",
       "</style>\n",
       "<table border=\"1\" class=\"dataframe\">\n",
       "  <thead>\n",
       "    <tr style=\"text-align: right;\">\n",
       "      <th></th>\n",
       "      <th>total_ppl</th>\n",
       "      <th>square_foot</th>\n",
       "      <th>household_income</th>\n",
       "      <th>number_pets</th>\n",
       "      <th>entertainment_spend_est</th>\n",
       "      <th>travel_spend_est</th>\n",
       "    </tr>\n",
       "    <tr>\n",
       "      <th>Cluster</th>\n",
       "      <th></th>\n",
       "      <th></th>\n",
       "      <th></th>\n",
       "      <th></th>\n",
       "      <th></th>\n",
       "      <th></th>\n",
       "    </tr>\n",
       "  </thead>\n",
       "  <tbody>\n",
       "    <tr>\n",
       "      <th>0</th>\n",
       "      <td>0.24</td>\n",
       "      <td>-0.56</td>\n",
       "      <td>-0.54</td>\n",
       "      <td>-0.94</td>\n",
       "      <td>-0.44</td>\n",
       "      <td>-0.70</td>\n",
       "    </tr>\n",
       "    <tr>\n",
       "      <th>1</th>\n",
       "      <td>0.53</td>\n",
       "      <td>0.16</td>\n",
       "      <td>1.04</td>\n",
       "      <td>-0.03</td>\n",
       "      <td>1.16</td>\n",
       "      <td>0.78</td>\n",
       "    </tr>\n",
       "    <tr>\n",
       "      <th>2</th>\n",
       "      <td>0.26</td>\n",
       "      <td>1.18</td>\n",
       "      <td>-0.48</td>\n",
       "      <td>0.00</td>\n",
       "      <td>-0.55</td>\n",
       "      <td>0.15</td>\n",
       "    </tr>\n",
       "    <tr>\n",
       "      <th>3</th>\n",
       "      <td>-1.16</td>\n",
       "      <td>-0.12</td>\n",
       "      <td>0.52</td>\n",
       "      <td>-0.03</td>\n",
       "      <td>0.31</td>\n",
       "      <td>0.54</td>\n",
       "    </tr>\n",
       "    <tr>\n",
       "      <th>4</th>\n",
       "      <td>0.27</td>\n",
       "      <td>-0.53</td>\n",
       "      <td>-0.50</td>\n",
       "      <td>0.95</td>\n",
       "      <td>-0.43</td>\n",
       "      <td>-0.70</td>\n",
       "    </tr>\n",
       "  </tbody>\n",
       "</table>\n",
       "</div>"
      ],
      "text/plain": [
       "         total_ppl  square_foot  household_income  number_pets  \\\n",
       "Cluster                                                          \n",
       "0             0.24        -0.56             -0.54        -0.94   \n",
       "1             0.53         0.16              1.04        -0.03   \n",
       "2             0.26         1.18             -0.48         0.00   \n",
       "3            -1.16        -0.12              0.52        -0.03   \n",
       "4             0.27        -0.53             -0.50         0.95   \n",
       "\n",
       "         entertainment_spend_est  travel_spend_est  \n",
       "Cluster                                             \n",
       "0                          -0.44             -0.70  \n",
       "1                           1.16              0.78  \n",
       "2                          -0.55              0.15  \n",
       "3                           0.31              0.54  \n",
       "4                          -0.43             -0.70  "
      ]
     },
     "execution_count": 28,
     "metadata": {},
     "output_type": "execute_result"
    }
   ],
   "source": [
    "kmeans = KMeans(n_clusters = 5, random_state = 0)\n",
    "kmeans.fit(mf_standard)\n",
    "cluster_labels = kmeans.labels_\n",
    "\n",
    "MF_standard = mf_standard.assign(Cluster = cluster_labels)\n",
    "MF_standard.groupby(['Cluster']).agg({\n",
    "    'total_ppl': 'mean',\n",
    "    'square_foot': 'mean',\n",
    "    'household_income': 'mean',\n",
    "    'number_pets': 'mean',\n",
    "    'entertainment_spend_est': 'mean',\n",
    "    'travel_spend_est': 'mean'\n",
    "}).round(2)"
   ]
  },
  {
   "cell_type": "markdown",
   "id": "85af2ba5",
   "metadata": {},
   "source": [
    "By using the Elbow Method, I want to choose my k-value between 4-6. After trying all three clusterings, I decided to use 5 as my k-value. The naming is below. "
   ]
  },
  {
   "cell_type": "code",
   "execution_count": 29,
   "id": "859b13d9",
   "metadata": {},
   "outputs": [
    {
     "data": {
      "text/plain": [
       "householdID                  int64\n",
       "total_ppl                  float64\n",
       "own_rent                    object\n",
       "square_foot                  int64\n",
       "household_income           float64\n",
       "number_pets                  int64\n",
       "region                      object\n",
       "entertainment_spend_est    float64\n",
       "travel_spend_est           float64\n",
       "LL_passholder               object\n",
       "Cluster                      int32\n",
       "dtype: object"
      ]
     },
     "execution_count": 29,
     "metadata": {},
     "output_type": "execute_result"
    }
   ],
   "source": [
    "MF = mf2.assign(Cluster = cluster_labels)\n",
    "MF.dtypes"
   ]
  },
  {
   "cell_type": "code",
   "execution_count": 30,
   "id": "2e15c99f",
   "metadata": {},
   "outputs": [
    {
     "data": {
      "text/plain": [
       "CategoricalDtype(categories=['Saving money', 'I am rich', 'I am old', 'I love to travel',\n",
       "                  'I love pets'],\n",
       ", ordered=False)"
      ]
     },
     "execution_count": 30,
     "metadata": {},
     "output_type": "execute_result"
    }
   ],
   "source": [
    "MF['Cluster'] = MF['Cluster'].astype('category')\n",
    "MF['Cluster'] = MF['Cluster'].cat.rename_categories({0: 'Saving money', 1: 'I am rich', \n",
    "                                                     2: 'I am old', 3: 'I love to travel', 4: 'I love pets'})\n",
    "MF['Cluster'].dtype"
   ]
  },
  {
   "cell_type": "code",
   "execution_count": 31,
   "id": "a92059bb",
   "metadata": {},
   "outputs": [
    {
     "data": {
      "text/html": [
       "<div>\n",
       "<style scoped>\n",
       "    .dataframe tbody tr th:only-of-type {\n",
       "        vertical-align: middle;\n",
       "    }\n",
       "\n",
       "    .dataframe tbody tr th {\n",
       "        vertical-align: top;\n",
       "    }\n",
       "\n",
       "    .dataframe thead th {\n",
       "        text-align: right;\n",
       "    }\n",
       "</style>\n",
       "<table border=\"1\" class=\"dataframe\">\n",
       "  <thead>\n",
       "    <tr style=\"text-align: right;\">\n",
       "      <th></th>\n",
       "      <th>householdID</th>\n",
       "      <th>total_ppl</th>\n",
       "      <th>own_rent</th>\n",
       "      <th>square_foot</th>\n",
       "      <th>household_income</th>\n",
       "      <th>number_pets</th>\n",
       "      <th>region</th>\n",
       "      <th>entertainment_spend_est</th>\n",
       "      <th>travel_spend_est</th>\n",
       "      <th>LL_passholder</th>\n",
       "      <th>Cluster</th>\n",
       "    </tr>\n",
       "  </thead>\n",
       "  <tbody>\n",
       "    <tr>\n",
       "      <th>0</th>\n",
       "      <td>1</td>\n",
       "      <td>1.0</td>\n",
       "      <td>own</td>\n",
       "      <td>3309</td>\n",
       "      <td>82050.03</td>\n",
       "      <td>1</td>\n",
       "      <td>Aroostook</td>\n",
       "      <td>3189.11</td>\n",
       "      <td>2028.559211</td>\n",
       "      <td>Yes</td>\n",
       "      <td>Saving money</td>\n",
       "    </tr>\n",
       "    <tr>\n",
       "      <th>1</th>\n",
       "      <td>2</td>\n",
       "      <td>1.0</td>\n",
       "      <td>own</td>\n",
       "      <td>3814</td>\n",
       "      <td>83077.81</td>\n",
       "      <td>2</td>\n",
       "      <td>Midcoast</td>\n",
       "      <td>4175.35</td>\n",
       "      <td>4713.280000</td>\n",
       "      <td>Yes</td>\n",
       "      <td>I love to travel</td>\n",
       "    </tr>\n",
       "    <tr>\n",
       "      <th>2</th>\n",
       "      <td>3</td>\n",
       "      <td>2.0</td>\n",
       "      <td>rent</td>\n",
       "      <td>2592</td>\n",
       "      <td>91401.41</td>\n",
       "      <td>2</td>\n",
       "      <td>Downeast_Acadia</td>\n",
       "      <td>1814.98</td>\n",
       "      <td>3479.070000</td>\n",
       "      <td>No</td>\n",
       "      <td>I love pets</td>\n",
       "    </tr>\n",
       "    <tr>\n",
       "      <th>3</th>\n",
       "      <td>4</td>\n",
       "      <td>1.0</td>\n",
       "      <td>own</td>\n",
       "      <td>2628</td>\n",
       "      <td>73048.55</td>\n",
       "      <td>1</td>\n",
       "      <td>Greater Portland</td>\n",
       "      <td>1945.14</td>\n",
       "      <td>3842.420000</td>\n",
       "      <td>No</td>\n",
       "      <td>Saving money</td>\n",
       "    </tr>\n",
       "    <tr>\n",
       "      <th>4</th>\n",
       "      <td>5</td>\n",
       "      <td>1.0</td>\n",
       "      <td>rent</td>\n",
       "      <td>2442</td>\n",
       "      <td>89145.36</td>\n",
       "      <td>2</td>\n",
       "      <td>Kennebec Valley</td>\n",
       "      <td>4410.86</td>\n",
       "      <td>1913.280000</td>\n",
       "      <td>Yes</td>\n",
       "      <td>I love pets</td>\n",
       "    </tr>\n",
       "  </tbody>\n",
       "</table>\n",
       "</div>"
      ],
      "text/plain": [
       "   householdID  total_ppl own_rent  square_foot  household_income  \\\n",
       "0            1        1.0      own         3309          82050.03   \n",
       "1            2        1.0      own         3814          83077.81   \n",
       "2            3        2.0     rent         2592          91401.41   \n",
       "3            4        1.0      own         2628          73048.55   \n",
       "4            5        1.0     rent         2442          89145.36   \n",
       "\n",
       "   number_pets            region  entertainment_spend_est  travel_spend_est  \\\n",
       "0            1         Aroostook                  3189.11       2028.559211   \n",
       "1            2          Midcoast                  4175.35       4713.280000   \n",
       "2            2   Downeast_Acadia                  1814.98       3479.070000   \n",
       "3            1  Greater Portland                  1945.14       3842.420000   \n",
       "4            2   Kennebec Valley                  4410.86       1913.280000   \n",
       "\n",
       "  LL_passholder           Cluster  \n",
       "0           Yes      Saving money  \n",
       "1           Yes  I love to travel  \n",
       "2            No       I love pets  \n",
       "3            No      Saving money  \n",
       "4           Yes       I love pets  "
      ]
     },
     "execution_count": 31,
     "metadata": {},
     "output_type": "execute_result"
    }
   ],
   "source": [
    "MF.head()"
   ]
  },
  {
   "cell_type": "code",
   "execution_count": 32,
   "id": "3823fe56",
   "metadata": {},
   "outputs": [
    {
     "data": {
      "text/plain": [
       "CategoricalDtype(categories=['Saving money', 'I am rich', 'I am old', 'I love to travel',\n",
       "                  'I love pets'],\n",
       ", ordered=False)"
      ]
     },
     "execution_count": 32,
     "metadata": {},
     "output_type": "execute_result"
    }
   ],
   "source": [
    "MF_standard['Cluster'] = MF_standard['Cluster'].astype('category')\n",
    "MF_standard['Cluster'] = MF_standard['Cluster'].cat.rename_categories({0: 'Saving money', 1: 'I am rich', \n",
    "                                                                       2: 'I am old', 3: 'I love to travel', 4: 'I love pets'})\n",
    "MF_standard['Cluster'].dtype"
   ]
  },
  {
   "cell_type": "code",
   "execution_count": 33,
   "id": "aa543796",
   "metadata": {},
   "outputs": [
    {
     "data": {
      "text/html": [
       "<div>\n",
       "<style scoped>\n",
       "    .dataframe tbody tr th:only-of-type {\n",
       "        vertical-align: middle;\n",
       "    }\n",
       "\n",
       "    .dataframe tbody tr th {\n",
       "        vertical-align: top;\n",
       "    }\n",
       "\n",
       "    .dataframe thead th {\n",
       "        text-align: right;\n",
       "    }\n",
       "</style>\n",
       "<table border=\"1\" class=\"dataframe\">\n",
       "  <thead>\n",
       "    <tr style=\"text-align: right;\">\n",
       "      <th></th>\n",
       "      <th>total_ppl</th>\n",
       "      <th>square_foot</th>\n",
       "      <th>household_income</th>\n",
       "      <th>number_pets</th>\n",
       "      <th>entertainment_spend_est</th>\n",
       "      <th>travel_spend_est</th>\n",
       "      <th>Cluster</th>\n",
       "    </tr>\n",
       "  </thead>\n",
       "  <tbody>\n",
       "    <tr>\n",
       "      <th>0</th>\n",
       "      <td>-0.697793</td>\n",
       "      <td>0.232960</td>\n",
       "      <td>-0.101357</td>\n",
       "      <td>-0.644446</td>\n",
       "      <td>-0.213953</td>\n",
       "      <td>-1.820797</td>\n",
       "      <td>Saving money</td>\n",
       "    </tr>\n",
       "    <tr>\n",
       "      <th>1</th>\n",
       "      <td>-0.697793</td>\n",
       "      <td>0.851909</td>\n",
       "      <td>-0.061449</td>\n",
       "      <td>0.621159</td>\n",
       "      <td>0.588903</td>\n",
       "      <td>1.134566</td>\n",
       "      <td>I love to travel</td>\n",
       "    </tr>\n",
       "    <tr>\n",
       "      <th>2</th>\n",
       "      <td>0.520705</td>\n",
       "      <td>-0.645826</td>\n",
       "      <td>0.261750</td>\n",
       "      <td>0.621159</td>\n",
       "      <td>-1.332575</td>\n",
       "      <td>-0.224063</td>\n",
       "      <td>I love pets</td>\n",
       "    </tr>\n",
       "    <tr>\n",
       "      <th>3</th>\n",
       "      <td>-0.697793</td>\n",
       "      <td>-0.601703</td>\n",
       "      <td>-0.450877</td>\n",
       "      <td>-0.644446</td>\n",
       "      <td>-1.226617</td>\n",
       "      <td>0.175916</td>\n",
       "      <td>Saving money</td>\n",
       "    </tr>\n",
       "    <tr>\n",
       "      <th>4</th>\n",
       "      <td>-0.697793</td>\n",
       "      <td>-0.829672</td>\n",
       "      <td>0.174149</td>\n",
       "      <td>0.621159</td>\n",
       "      <td>0.780622</td>\n",
       "      <td>-1.947698</td>\n",
       "      <td>I love pets</td>\n",
       "    </tr>\n",
       "  </tbody>\n",
       "</table>\n",
       "</div>"
      ],
      "text/plain": [
       "   total_ppl  square_foot  household_income  number_pets  \\\n",
       "0  -0.697793     0.232960         -0.101357    -0.644446   \n",
       "1  -0.697793     0.851909         -0.061449     0.621159   \n",
       "2   0.520705    -0.645826          0.261750     0.621159   \n",
       "3  -0.697793    -0.601703         -0.450877    -0.644446   \n",
       "4  -0.697793    -0.829672          0.174149     0.621159   \n",
       "\n",
       "   entertainment_spend_est  travel_spend_est           Cluster  \n",
       "0                -0.213953         -1.820797      Saving money  \n",
       "1                 0.588903          1.134566  I love to travel  \n",
       "2                -1.332575         -0.224063       I love pets  \n",
       "3                -1.226617          0.175916      Saving money  \n",
       "4                 0.780622         -1.947698       I love pets  "
      ]
     },
     "execution_count": 33,
     "metadata": {},
     "output_type": "execute_result"
    }
   ],
   "source": [
    "MF_standard.head()"
   ]
  },
  {
   "cell_type": "markdown",
   "id": "dd891c9e",
   "metadata": {},
   "source": [
    "Naming\n",
    "\n",
    "Saving money: I name this cluster saving money because they live in the smallest house, have the lowest income, almost do not have pets, and have the lowest budget for both entertainment and travel. \n",
    "\n",
    "I am rich: I name this cluster I am rich because they have the highest income, entertainment spend, and travel spent. \n",
    "\n",
    "I am old: I name this cluster I am old because they live in the largest house but have a second lowest income. They do not like entertainment but would like to spend some money on travel. \n",
    "\n",
    "I love to travel: I name this cluster I love to travel because the total number of people in the house are low, and their travel spent is second highest, so they might be all out for traveling!\n",
    "\n",
    "I love pets: I name this cluster I love pets because they have the most pets!"
   ]
  },
  {
   "cell_type": "code",
   "execution_count": 34,
   "id": "345d9ff5",
   "metadata": {},
   "outputs": [
    {
     "data": {
      "text/plain": [
       "<AxesSubplot:title={'center':'Mean numbers of pets per cluster member'}, xlabel='number_pets', ylabel='Cluster'>"
      ]
     },
     "execution_count": 34,
     "metadata": {},
     "output_type": "execute_result"
    },
    {
     "data": {
      "image/png": "[encoded data removed]",
      "text/plain": [
       "<Figure size 432x288 with 1 Axes>"
      ]
     },
     "metadata": {
      "needs_background": "light"
     },
     "output_type": "display_data"
    }
   ],
   "source": [
    "order = MF.groupby(['Cluster'])['number_pets'].mean().sort_values().index\n",
    "plt.title('Mean numbers of pets per cluster member')\n",
    "sns.barplot(y = 'Cluster', x = 'number_pets', ci = None, order = order, color = 'orange', data = MF)"
   ]
  },
  {
   "cell_type": "code",
   "execution_count": 35,
   "id": "d272075a",
   "metadata": {},
   "outputs": [
    {
     "data": {
      "text/plain": [
       "<AxesSubplot:title={'center':'Mean numbers of entertainment spend per cluster member'}, xlabel='entertainment_spend_est', ylabel='Cluster'>"
      ]
     },
     "execution_count": 35,
     "metadata": {},
     "output_type": "execute_result"
    },
    {
     "data": {
      "image/png": "[encoded data removed]",
      "text/plain": [
       "<Figure size 432x288 with 1 Axes>"
      ]
     },
     "metadata": {
      "needs_background": "light"
     },
     "output_type": "display_data"
    }
   ],
   "source": [
    "order = MF.groupby(['Cluster'])['entertainment_spend_est'].mean().sort_values().index\n",
    "plt.title('Mean numbers of entertainment spend per cluster member')\n",
    "sns.barplot(y = 'Cluster', x = 'entertainment_spend_est', ci = None, order = order, color = 'red', data = MF)"
   ]
  },
  {
   "cell_type": "code",
   "execution_count": 36,
   "id": "d030a2f4",
   "metadata": {},
   "outputs": [
    {
     "data": {
      "text/html": [
       "<div>\n",
       "<style scoped>\n",
       "    .dataframe tbody tr th:only-of-type {\n",
       "        vertical-align: middle;\n",
       "    }\n",
       "\n",
       "    .dataframe tbody tr th {\n",
       "        vertical-align: top;\n",
       "    }\n",
       "\n",
       "    .dataframe thead th {\n",
       "        text-align: right;\n",
       "    }\n",
       "</style>\n",
       "<table border=\"1\" class=\"dataframe\">\n",
       "  <thead>\n",
       "    <tr style=\"text-align: right;\">\n",
       "      <th></th>\n",
       "      <th>entertainment_spend_est</th>\n",
       "      <th>travel_spend_est</th>\n",
       "    </tr>\n",
       "    <tr>\n",
       "      <th>Cluster</th>\n",
       "      <th></th>\n",
       "      <th></th>\n",
       "    </tr>\n",
       "  </thead>\n",
       "  <tbody>\n",
       "    <tr>\n",
       "      <th>Saving money</th>\n",
       "      <td>2916.006195</td>\n",
       "      <td>3042.656331</td>\n",
       "    </tr>\n",
       "    <tr>\n",
       "      <th>I am rich</th>\n",
       "      <td>4882.596554</td>\n",
       "      <td>4390.713615</td>\n",
       "    </tr>\n",
       "    <tr>\n",
       "      <th>I am old</th>\n",
       "      <td>2771.008371</td>\n",
       "      <td>3820.344648</td>\n",
       "    </tr>\n",
       "    <tr>\n",
       "      <th>I love to travel</th>\n",
       "      <td>3831.952374</td>\n",
       "      <td>4170.382650</td>\n",
       "    </tr>\n",
       "    <tr>\n",
       "      <th>I love pets</th>\n",
       "      <td>2923.625453</td>\n",
       "      <td>3044.197535</td>\n",
       "    </tr>\n",
       "  </tbody>\n",
       "</table>\n",
       "</div>"
      ],
      "text/plain": [
       "                  entertainment_spend_est  travel_spend_est\n",
       "Cluster                                                    \n",
       "Saving money                  2916.006195       3042.656331\n",
       "I am rich                     4882.596554       4390.713615\n",
       "I am old                      2771.008371       3820.344648\n",
       "I love to travel              3831.952374       4170.382650\n",
       "I love pets                   2923.625453       3044.197535"
      ]
     },
     "execution_count": 36,
     "metadata": {},
     "output_type": "execute_result"
    }
   ],
   "source": [
    "discretionary = MF.groupby('Cluster')[['entertainment_spend_est', 'travel_spend_est']].mean()\n",
    "discretionary"
   ]
  },
  {
   "cell_type": "code",
   "execution_count": 37,
   "id": "9dec1db1",
   "metadata": {},
   "outputs": [
    {
     "data": {
      "image/png": "[encoded data removed]",
      "text/plain": [
       "<Figure size 2160x1080 with 1 Axes>"
      ]
     },
     "metadata": {
      "needs_background": "light"
     },
     "output_type": "display_data"
    }
   ],
   "source": [
    "plt.figure(figsize = (30,15))\n",
    "plt.xlabel('Average entertainment spending')\n",
    "plt.ylabel('Average travel spending')\n",
    "sns.despine()\n",
    "\n",
    "p1 = sns.scatterplot(x = 'entertainment_spend_est', y = 'travel_spend_est', s = 800, hue = 'Cluster', palette = 'twilight', data = discretionary)\n",
    "\n",
    "for line in range(0, discretionary.shape[0]): \n",
    "    p1.text(discretionary.entertainment_spend_est[line], \n",
    "            discretionary.travel_spend_est[line] + 30,\n",
    "            discretionary.index[line], \n",
    "            horizontalalignment = 'center',\n",
    "            size = 'large', \n",
    "            color = 'black', \n",
    "            weight = 'semibold')"
   ]
  },
  {
   "cell_type": "code",
   "execution_count": 38,
   "id": "90929ba9",
   "metadata": {},
   "outputs": [
    {
     "data": {
      "text/plain": [
       "<AxesSubplot:ylabel='Cluster'>"
      ]
     },
     "execution_count": 38,
     "metadata": {},
     "output_type": "execute_result"
    },
    {
     "data": {
      "image/png": "[encoded data removed]",
      "text/plain": [
       "<Figure size 792x432 with 2 Axes>"
      ]
     },
     "metadata": {
      "needs_background": "light"
     },
     "output_type": "display_data"
    }
   ],
   "source": [
    "summary = MF_standard.groupby(['Cluster']).agg({\n",
    "    'total_ppl': 'mean',\n",
    "    'square_foot': 'mean',\n",
    "    'household_income': 'mean',\n",
    "    'number_pets': 'mean',\n",
    "    'entertainment_spend_est': 'mean',\n",
    "    'travel_spend_est': 'mean'\n",
    "}). round(2)\n",
    "\n",
    "plt.figure(figsize = (11, 6))\n",
    "sns.heatmap(summary, annot = True, cmap = 'YlGnBu', fmt = 'g')"
   ]
  },
  {
   "cell_type": "code",
   "execution_count": 39,
   "id": "a070c9e0",
   "metadata": {},
   "outputs": [
    {
     "data": {
      "text/plain": [
       "I love to travel    3248\n",
       "I am rich           2771\n",
       "Saving money           0\n",
       "I am old               0\n",
       "I love pets            0\n",
       "Name: Cluster, dtype: int64"
      ]
     },
     "execution_count": 39,
     "metadata": {},
     "output_type": "execute_result"
    }
   ],
   "source": [
    "# entertainment spending falls above the dataset mean \n",
    "entertainment_fans = MF[(MF['Cluster'] == 'I am rich') | (MF['Cluster'] == 'I love to travel')]\n",
    "entertainment_fans.Cluster.value_counts()"
   ]
  },
  {
   "cell_type": "code",
   "execution_count": 40,
   "id": "95720c0c",
   "metadata": {},
   "outputs": [
    {
     "data": {
      "text/plain": [
       "<AxesSubplot:xlabel='household_income', ylabel='Cluster'>"
      ]
     },
     "execution_count": 40,
     "metadata": {},
     "output_type": "execute_result"
    },
    {
     "data": {
      "image/png": "[encoded data removed]",
      "text/plain": [
       "<Figure size 648x432 with 1 Axes>"
      ]
     },
     "metadata": {
      "needs_background": "light"
     },
     "output_type": "display_data"
    }
   ],
   "source": [
    "# boxplot\n",
    "plt.figure(figsize = (9, 6))\n",
    "order2 = ['I am rich', 'I love to travel']\n",
    "sns.boxplot(y = 'Cluster', x = 'household_income', order = order2, data = entertainment_fans)"
   ]
  },
  {
   "cell_type": "code",
   "execution_count": 41,
   "id": "13f871dd",
   "metadata": {},
   "outputs": [
    {
     "data": {
      "text/plain": [
       "<AxesSubplot:xlabel='LL_passholder', ylabel='count'>"
      ]
     },
     "execution_count": 41,
     "metadata": {},
     "output_type": "execute_result"
    },
    {
     "data": {
      "image/png": "[encoded data removed]",
      "text/plain": [
       "<Figure size 648x432 with 1 Axes>"
      ]
     },
     "metadata": {
      "needs_background": "light"
     },
     "output_type": "display_data"
    }
   ],
   "source": [
    "plt.figure(figsize = (9, 6))\n",
    "sns.countplot(x = 'LL_passholder', hue = 'Cluster', data = MF)"
   ]
  },
  {
   "cell_type": "code",
   "execution_count": 42,
   "id": "056a01ee",
   "metadata": {},
   "outputs": [
    {
     "data": {
      "text/plain": [
       "<AxesSubplot:xlabel='region', ylabel='count'>"
      ]
     },
     "execution_count": 42,
     "metadata": {},
     "output_type": "execute_result"
    },
    {
     "data": {
      "image/png": "[encoded data removed]",
      "text/plain": [
       "<Figure size 648x432 with 1 Axes>"
      ]
     },
     "metadata": {
      "needs_background": "light"
     },
     "output_type": "display_data"
    }
   ],
   "source": [
    "plt.figure(figsize = (9, 6))\n",
    "sns.countplot(x = 'region', hue = 'Cluster', data = MF)"
   ]
  },
  {
   "cell_type": "markdown",
   "id": "918be516",
   "metadata": {},
   "source": [
    "Targeting\n",
    "\n",
    "Saving money: Since they are on a budget, in order to reach this segment we can send them coupons. They are probably students, and we can cooperate with Unidays to send out promotions. \n",
    "\n",
    "I am rich: They have enough budgets, we just need to let them know our place. We can let celebrities advertise the Lobster Land. We can also sell premium ticks to them, the premium tickets could have features such as shorter wait time, free lobster, etc...\n",
    "\n",
    "I am old: We could lunch senior tickets at a lower price, and advertise the Lobster Land in newspapers instead of the internet. \n",
    "\n",
    "I love to travel: Because they love traveling, they might have travel credit cards that provide travel points, instead of cash back. Therefore, we can cooperate with the bank, so they can use their travel points for ticket purchasing. \n",
    "\n",
    "I love pets: We can build some pet-friendly areas, and provide pet food. Advertise the lobster land on pet-related companies such as Petco. "
   ]
  },
  {
   "cell_type": "code",
   "execution_count": 43,
   "id": "e12c3588",
   "metadata": {},
   "outputs": [],
   "source": [
    "# Conjoint Analysis\n",
    "df_1 = pd.read_csv('bbq_lake.csv')\n",
    "df_2 = pd.read_csv('vendor_costs.csv')"
   ]
  },
  {
   "cell_type": "code",
   "execution_count": 44,
   "id": "728dcb74",
   "metadata": {},
   "outputs": [
    {
     "data": {
      "text/html": [
       "<div>\n",
       "<style scoped>\n",
       "    .dataframe tbody tr th:only-of-type {\n",
       "        vertical-align: middle;\n",
       "    }\n",
       "\n",
       "    .dataframe tbody tr th {\n",
       "        vertical-align: top;\n",
       "    }\n",
       "\n",
       "    .dataframe thead th {\n",
       "        text-align: right;\n",
       "    }\n",
       "</style>\n",
       "<table border=\"1\" class=\"dataframe\">\n",
       "  <thead>\n",
       "    <tr style=\"text-align: right;\">\n",
       "      <th></th>\n",
       "      <th>bundleID</th>\n",
       "      <th>starter</th>\n",
       "      <th>maindishI</th>\n",
       "      <th>maindishII</th>\n",
       "      <th>side</th>\n",
       "      <th>dessert</th>\n",
       "      <th>avg_rating</th>\n",
       "    </tr>\n",
       "  </thead>\n",
       "  <tbody>\n",
       "    <tr>\n",
       "      <th>0</th>\n",
       "      <td>1</td>\n",
       "      <td>Fried Chicken Tenders</td>\n",
       "      <td>BBQ Brisket</td>\n",
       "      <td>Sausage</td>\n",
       "      <td>Mac and Cheese</td>\n",
       "      <td>Peach Cobbler</td>\n",
       "      <td>5.81</td>\n",
       "    </tr>\n",
       "    <tr>\n",
       "      <th>1</th>\n",
       "      <td>2</td>\n",
       "      <td>Fried Chicken Tenders</td>\n",
       "      <td>BBQ Brisket</td>\n",
       "      <td>Sausage</td>\n",
       "      <td>Mac and Cheese</td>\n",
       "      <td>Apple Pie a la Mode</td>\n",
       "      <td>8.93</td>\n",
       "    </tr>\n",
       "    <tr>\n",
       "      <th>2</th>\n",
       "      <td>3</td>\n",
       "      <td>Fried Chicken Tenders</td>\n",
       "      <td>BBQ Brisket</td>\n",
       "      <td>Sausage</td>\n",
       "      <td>Mashed Potato</td>\n",
       "      <td>Peach Cobbler</td>\n",
       "      <td>6.20</td>\n",
       "    </tr>\n",
       "    <tr>\n",
       "      <th>3</th>\n",
       "      <td>4</td>\n",
       "      <td>Fried Chicken Tenders</td>\n",
       "      <td>BBQ Brisket</td>\n",
       "      <td>Sausage</td>\n",
       "      <td>Mashed Potato</td>\n",
       "      <td>Apple Pie a la Mode</td>\n",
       "      <td>8.71</td>\n",
       "    </tr>\n",
       "    <tr>\n",
       "      <th>4</th>\n",
       "      <td>5</td>\n",
       "      <td>Fried Chicken Tenders</td>\n",
       "      <td>BBQ Brisket</td>\n",
       "      <td>Sausage</td>\n",
       "      <td>French Fry Platter</td>\n",
       "      <td>Peach Cobbler</td>\n",
       "      <td>8.24</td>\n",
       "    </tr>\n",
       "  </tbody>\n",
       "</table>\n",
       "</div>"
      ],
      "text/plain": [
       "   bundleID                starter    maindishI maindishII  \\\n",
       "0         1  Fried Chicken Tenders  BBQ Brisket    Sausage   \n",
       "1         2  Fried Chicken Tenders  BBQ Brisket    Sausage   \n",
       "2         3  Fried Chicken Tenders  BBQ Brisket    Sausage   \n",
       "3         4  Fried Chicken Tenders  BBQ Brisket    Sausage   \n",
       "4         5  Fried Chicken Tenders  BBQ Brisket    Sausage   \n",
       "\n",
       "                 side              dessert  avg_rating  \n",
       "0      Mac and Cheese        Peach Cobbler        5.81  \n",
       "1      Mac and Cheese  Apple Pie a la Mode        8.93  \n",
       "2       Mashed Potato        Peach Cobbler        6.20  \n",
       "3       Mashed Potato  Apple Pie a la Mode        8.71  \n",
       "4  French Fry Platter        Peach Cobbler        8.24  "
      ]
     },
     "metadata": {},
     "output_type": "display_data"
    },
    {
     "data": {
      "text/html": [
       "<div>\n",
       "<style scoped>\n",
       "    .dataframe tbody tr th:only-of-type {\n",
       "        vertical-align: middle;\n",
       "    }\n",
       "\n",
       "    .dataframe tbody tr th {\n",
       "        vertical-align: top;\n",
       "    }\n",
       "\n",
       "    .dataframe thead th {\n",
       "        text-align: right;\n",
       "    }\n",
       "</style>\n",
       "<table border=\"1\" class=\"dataframe\">\n",
       "  <thead>\n",
       "    <tr style=\"text-align: right;\">\n",
       "      <th></th>\n",
       "      <th>Item</th>\n",
       "      <th>Item Category</th>\n",
       "      <th>Cost Per Serving (Dollars)</th>\n",
       "    </tr>\n",
       "  </thead>\n",
       "  <tbody>\n",
       "    <tr>\n",
       "      <th>0</th>\n",
       "      <td>Fried Chicken Tenders</td>\n",
       "      <td>Starters</td>\n",
       "      <td>3.40</td>\n",
       "    </tr>\n",
       "    <tr>\n",
       "      <th>1</th>\n",
       "      <td>Crabcakes and Shrimp</td>\n",
       "      <td>Starters</td>\n",
       "      <td>3.50</td>\n",
       "    </tr>\n",
       "    <tr>\n",
       "      <th>2</th>\n",
       "      <td>Sticky Chicken Tenders</td>\n",
       "      <td>Starters</td>\n",
       "      <td>2.90</td>\n",
       "    </tr>\n",
       "    <tr>\n",
       "      <th>3</th>\n",
       "      <td>Jumbo Shrimp</td>\n",
       "      <td>Starters</td>\n",
       "      <td>4.60</td>\n",
       "    </tr>\n",
       "    <tr>\n",
       "      <th>4</th>\n",
       "      <td>BBQ Brisket</td>\n",
       "      <td>Main Dish I</td>\n",
       "      <td>5.70</td>\n",
       "    </tr>\n",
       "    <tr>\n",
       "      <th>5</th>\n",
       "      <td>Pulled Pork</td>\n",
       "      <td>Main Dish I</td>\n",
       "      <td>6.00</td>\n",
       "    </tr>\n",
       "    <tr>\n",
       "      <th>6</th>\n",
       "      <td>BBQ Chicken</td>\n",
       "      <td>Main Dish I</td>\n",
       "      <td>5.30</td>\n",
       "    </tr>\n",
       "    <tr>\n",
       "      <th>7</th>\n",
       "      <td>Pork &amp; Brisket Combo</td>\n",
       "      <td>Main Dish I</td>\n",
       "      <td>6.10</td>\n",
       "    </tr>\n",
       "    <tr>\n",
       "      <th>8</th>\n",
       "      <td>Sausage</td>\n",
       "      <td>Main Dish II</td>\n",
       "      <td>5.30</td>\n",
       "    </tr>\n",
       "    <tr>\n",
       "      <th>9</th>\n",
       "      <td>Fajita</td>\n",
       "      <td>Main Dish II</td>\n",
       "      <td>4.70</td>\n",
       "    </tr>\n",
       "    <tr>\n",
       "      <th>10</th>\n",
       "      <td>Beef Short Ribs</td>\n",
       "      <td>Main Dish II</td>\n",
       "      <td>6.00</td>\n",
       "    </tr>\n",
       "    <tr>\n",
       "      <th>11</th>\n",
       "      <td>Steak Sampler</td>\n",
       "      <td>Main Dish II</td>\n",
       "      <td>4.70</td>\n",
       "    </tr>\n",
       "    <tr>\n",
       "      <th>12</th>\n",
       "      <td>Mac and Cheese</td>\n",
       "      <td>Side</td>\n",
       "      <td>0.25</td>\n",
       "    </tr>\n",
       "    <tr>\n",
       "      <th>13</th>\n",
       "      <td>Mashed Potato</td>\n",
       "      <td>Side</td>\n",
       "      <td>0.10</td>\n",
       "    </tr>\n",
       "    <tr>\n",
       "      <th>14</th>\n",
       "      <td>French Fry Basket</td>\n",
       "      <td>Side</td>\n",
       "      <td>0.15</td>\n",
       "    </tr>\n",
       "    <tr>\n",
       "      <th>15</th>\n",
       "      <td>Peach Cobbler</td>\n",
       "      <td>Dessert</td>\n",
       "      <td>0.60</td>\n",
       "    </tr>\n",
       "    <tr>\n",
       "      <th>16</th>\n",
       "      <td>Apple Pie a la Mode</td>\n",
       "      <td>Dessert</td>\n",
       "      <td>0.90</td>\n",
       "    </tr>\n",
       "  </tbody>\n",
       "</table>\n",
       "</div>"
      ],
      "text/plain": [
       "                      Item Item Category  Cost Per Serving (Dollars)\n",
       "0    Fried Chicken Tenders      Starters                        3.40\n",
       "1     Crabcakes and Shrimp      Starters                        3.50\n",
       "2   Sticky Chicken Tenders      Starters                        2.90\n",
       "3             Jumbo Shrimp      Starters                        4.60\n",
       "4              BBQ Brisket   Main Dish I                        5.70\n",
       "5              Pulled Pork   Main Dish I                        6.00\n",
       "6              BBQ Chicken   Main Dish I                        5.30\n",
       "7     Pork & Brisket Combo   Main Dish I                        6.10\n",
       "8                  Sausage  Main Dish II                        5.30\n",
       "9                   Fajita  Main Dish II                        4.70\n",
       "10         Beef Short Ribs  Main Dish II                        6.00\n",
       "11           Steak Sampler  Main Dish II                        4.70\n",
       "12          Mac and Cheese          Side                        0.25\n",
       "13           Mashed Potato          Side                        0.10\n",
       "14       French Fry Basket          Side                        0.15\n",
       "15           Peach Cobbler       Dessert                        0.60\n",
       "16     Apple Pie a la Mode       Dessert                        0.90"
      ]
     },
     "metadata": {},
     "output_type": "display_data"
    }
   ],
   "source": [
    "display(df_1.head(),\n",
    "        df_2)"
   ]
  },
  {
   "cell_type": "code",
   "execution_count": 45,
   "id": "8d298510",
   "metadata": {},
   "outputs": [],
   "source": [
    "# replace some miss-spell value, find through iteration\n",
    "df_1 = df_1.replace(['French Fry Platter', 'Beef Short Rib', 'Pork and Brisket Combo', 'Jumbo Shrimp Cocktail'], ['French Fry Basket', 'Beef Short Ribs', 'Pork & Brisket Combo', 'Jumbo Shrimp'])"
   ]
  },
  {
   "cell_type": "code",
   "execution_count": 46,
   "id": "4bf3639c",
   "metadata": {},
   "outputs": [],
   "source": [
    "df_1 = df_1.drop('bundleID', axis = 1)  # drop bundleId for further analysis"
   ]
  },
  {
   "cell_type": "markdown",
   "id": "894e138f",
   "metadata": {},
   "source": [
    "Add total price column to df_1"
   ]
  },
  {
   "cell_type": "code",
   "execution_count": 47,
   "id": "5ee81186",
   "metadata": {},
   "outputs": [
    {
     "data": {
      "text/plain": [
       "{'Fried Chicken Tenders': 3.4,\n",
       " 'Crabcakes and Shrimp': 3.5,\n",
       " 'Sticky Chicken Tenders': 2.9,\n",
       " 'Jumbo Shrimp': 4.6,\n",
       " 'BBQ Brisket': 5.7,\n",
       " 'Pulled Pork': 6.0,\n",
       " 'BBQ Chicken': 5.3,\n",
       " 'Pork & Brisket Combo': 6.1,\n",
       " 'Sausage': 5.3,\n",
       " 'Fajita': 4.7,\n",
       " 'Beef Short Ribs': 6.0,\n",
       " 'Steak Sampler': 4.7,\n",
       " 'Mac and Cheese': 0.25,\n",
       " 'Mashed Potato': 0.1,\n",
       " 'French Fry Basket': 0.15,\n",
       " 'Peach Cobbler': 0.6,\n",
       " 'Apple Pie a la Mode': 0.9}"
      ]
     },
     "execution_count": 47,
     "metadata": {},
     "output_type": "execute_result"
    }
   ],
   "source": [
    "# Put item and price to a hashtable\n",
    "price_dict = df_2.set_index(\"Item\")['Cost Per Serving (Dollars)'].to_dict()\n",
    "price_dict"
   ]
  },
  {
   "cell_type": "code",
   "execution_count": 48,
   "id": "cc420a50",
   "metadata": {},
   "outputs": [],
   "source": [
    "total_price = []"
   ]
  },
  {
   "cell_type": "code",
   "execution_count": 49,
   "id": "5230d8dd",
   "metadata": {},
   "outputs": [
    {
     "name": "stdout",
     "output_type": "stream",
     "text": [
      "[15.25, 15.55, 15.1, 15.4, 15.15, 15.45, 14.65, 14.95, 14.5, 14.8, 14.55, 14.85, 15.95, 16.25, 15.8, 16.1, 15.85, 16.15, 14.65, 14.95, 14.5, 14.8, 14.55, 14.85, 15.55, 15.85, 15.4, 15.7, 15.45, 15.75, 14.95, 15.25, 14.8, 15.1, 14.85, 15.15, 16.25, 16.55, 16.1, 16.4, 16.15, 16.45, 14.95, 15.25, 14.8, 15.1, 14.85, 15.15, 14.85, 15.15, 14.7, 15.0, 14.75, 15.05, 14.25, 14.55, 14.1, 14.4, 14.15, 14.45, 15.55, 15.85, 15.4, 15.7, 15.45, 15.75, 14.25, 14.55, 14.1, 14.4, 14.15, 14.45, 15.65, 15.95, 15.5, 15.8, 15.55, 15.85, 15.05, 15.35, 14.9, 15.2, 14.95, 15.25, 16.35, 16.65, 16.2, 16.5, 16.25, 16.55, 15.05, 15.35, 14.9, 15.2, 14.95, 15.25, 15.35, 15.65, 15.2, 15.5, 15.25, 15.55, 14.75, 15.05, 14.6, 14.9, 14.65, 14.95, 16.05, 16.35, 15.9, 16.2, 15.95, 16.25, 14.75, 15.05, 14.6, 14.9, 14.65, 14.95, 15.65, 15.95, 15.5, 15.8, 15.55, 15.85, 15.05, 15.35, 14.9, 15.2, 14.95, 15.25, 16.35, 16.65, 16.2, 16.5, 16.25, 16.55, 15.05, 15.35, 14.9, 15.2, 14.95, 15.25, 14.95, 15.25, 14.8, 15.1, 14.85, 15.15, 14.35, 14.65, 14.2, 14.5, 14.25, 14.55, 15.65, 15.95, 15.5, 15.8, 15.55, 15.85, 14.35, 14.65, 14.2, 14.5, 14.25, 14.55, 15.75, 16.05, 15.6, 15.9, 15.65, 15.95, 15.15, 15.45, 15.0, 15.3, 15.05, 15.35, 16.45, 16.75, 16.3, 16.6, 16.35, 16.65, 15.15, 15.45, 15.0, 15.3, 15.05, 15.35, 14.75, 15.05, 14.6, 14.9, 14.65, 14.95, 14.15, 14.45, 14.0, 14.3, 14.05, 14.35, 15.45, 15.75, 15.3, 15.6, 15.35, 15.65, 14.15, 14.45, 14.0, 14.3, 14.05, 14.35, 15.05, 15.35, 14.9, 15.2, 14.95, 15.25, 14.45, 14.75, 14.3, 14.6, 14.35, 14.65, 15.75, 16.05, 15.6, 15.9, 15.65, 15.95, 14.45, 14.75, 14.3, 14.6, 14.35, 14.65, 14.35, 14.65, 14.2, 14.5, 14.25, 14.55, 13.75, 14.05, 13.6, 13.9, 13.65, 13.95, 15.05, 15.35, 14.9, 15.2, 14.95, 15.25, 13.75, 14.05, 13.6, 13.9, 13.65, 13.95, 15.15, 15.45, 15.0, 15.3, 15.05, 15.35, 14.55, 14.85, 14.4, 14.7, 14.45, 14.75, 15.85, 16.15, 15.7, 16.0, 15.75, 16.05, 14.55, 14.85, 14.4, 14.7, 14.45, 14.75, 16.45, 16.75, 16.3, 16.6, 16.35, 16.65, 15.85, 16.15, 15.7, 16.0, 15.75, 16.05, 17.15, 17.45, 17.0, 17.3, 17.05, 17.35, 15.85, 16.15, 15.7, 16.0, 15.75, 16.05, 16.75, 17.05, 16.6, 16.9, 16.65, 16.95, 16.15, 16.45, 16.0, 16.3, 16.05, 16.35, 17.45, 17.75, 17.3, 17.6, 17.35, 17.65, 16.15, 16.45, 16.0, 16.3, 16.05, 16.35, 16.05, 16.35, 15.9, 16.2, 15.95, 16.25, 15.45, 15.75, 15.3, 15.6, 15.35, 15.65, 16.75, 17.05, 16.6, 16.9, 16.65, 16.95, 15.45, 15.75, 15.3, 15.6, 15.35, 15.65, 16.85, 17.15, 16.7, 17.0, 16.75, 17.05, 16.25, 16.55, 16.1, 16.4, 16.15, 16.45, 17.55, 17.85, 17.4, 17.7, 17.45, 17.75, 16.25, 16.55, 16.1, 16.4, 16.15, 16.45]\n"
     ]
    }
   ],
   "source": [
    "for index, row in df_1.loc[:, df_1.columns != 'avg_rating'].iterrows():\n",
    "        meal_price = 0\n",
    "        for food in row:\n",
    "                meal_price += price_dict[food]\n",
    "        total_price.append(round(meal_price,2))\n",
    "print(total_price)"
   ]
  },
  {
   "cell_type": "code",
   "execution_count": 50,
   "id": "68a4345b",
   "metadata": {},
   "outputs": [
    {
     "data": {
      "text/html": [
       "<div>\n",
       "<style scoped>\n",
       "    .dataframe tbody tr th:only-of-type {\n",
       "        vertical-align: middle;\n",
       "    }\n",
       "\n",
       "    .dataframe tbody tr th {\n",
       "        vertical-align: top;\n",
       "    }\n",
       "\n",
       "    .dataframe thead th {\n",
       "        text-align: right;\n",
       "    }\n",
       "</style>\n",
       "<table border=\"1\" class=\"dataframe\">\n",
       "  <thead>\n",
       "    <tr style=\"text-align: right;\">\n",
       "      <th></th>\n",
       "      <th>avg_rating</th>\n",
       "      <th>total_price</th>\n",
       "    </tr>\n",
       "  </thead>\n",
       "  <tbody>\n",
       "    <tr>\n",
       "      <th>avg_rating</th>\n",
       "      <td>1.000000</td>\n",
       "      <td>0.078314</td>\n",
       "    </tr>\n",
       "    <tr>\n",
       "      <th>total_price</th>\n",
       "      <td>0.078314</td>\n",
       "      <td>1.000000</td>\n",
       "    </tr>\n",
       "  </tbody>\n",
       "</table>\n",
       "</div>"
      ],
      "text/plain": [
       "             avg_rating  total_price\n",
       "avg_rating     1.000000     0.078314\n",
       "total_price    0.078314     1.000000"
      ]
     },
     "execution_count": 50,
     "metadata": {},
     "output_type": "execute_result"
    }
   ],
   "source": [
    "df_price = pd.DataFrame({'total_price': total_price})\n",
    "df_1 = pd.concat([df_1, df_price], axis = 1)\n",
    "df_1[['avg_rating','total_price']].corr()  # good which means there are no correlation between price and rating"
   ]
  },
  {
   "cell_type": "code",
   "execution_count": 51,
   "id": "037dee9d",
   "metadata": {},
   "outputs": [],
   "source": [
    "# Create dummy variables and drop_first for preventing the multicollinearity\n",
    "df_default = pd.get_dummies(df_1, drop_first=True, columns=['starter','maindishI','maindishII','side','dessert'])"
   ]
  },
  {
   "cell_type": "code",
   "execution_count": 52,
   "id": "4d761093",
   "metadata": {},
   "outputs": [],
   "source": [
    "df_reference = pd.get_dummies(df_1, columns=['starter','maindishI','maindishII','side','dessert'])"
   ]
  },
  {
   "cell_type": "code",
   "execution_count": 53,
   "id": "2b7ef679",
   "metadata": {},
   "outputs": [
    {
     "data": {
      "text/plain": [
       "Index(['avg_rating', 'total_price', 'starter_Fried Chicken Tenders',\n",
       "       'starter_Jumbo Shrimp', 'starter_Sticky Chicken Tenders',\n",
       "       'maindishI_BBQ Chicken', 'maindishI_Pork & Brisket Combo',\n",
       "       'maindishI_Pulled Pork', 'maindishII_Fajita', 'maindishII_Sausage',\n",
       "       'maindishII_Steak Sampler', 'side_Mac and Cheese', 'side_Mashed Potato',\n",
       "       'dessert_Peach Cobbler'],\n",
       "      dtype='object')"
      ]
     },
     "execution_count": 53,
     "metadata": {},
     "output_type": "execute_result"
    }
   ],
   "source": [
    "df_default.columns"
   ]
  },
  {
   "cell_type": "code",
   "execution_count": 54,
   "id": "ef614b93",
   "metadata": {},
   "outputs": [
    {
     "data": {
      "text/plain": [
       "Index(['avg_rating', 'total_price', 'starter_Crabcakes and Shrimp',\n",
       "       'starter_Fried Chicken Tenders', 'starter_Jumbo Shrimp',\n",
       "       'starter_Sticky Chicken Tenders', 'maindishI_BBQ Brisket',\n",
       "       'maindishI_BBQ Chicken', 'maindishI_Pork & Brisket Combo',\n",
       "       'maindishI_Pulled Pork', 'maindishII_Beef Short Ribs',\n",
       "       'maindishII_Fajita', 'maindishII_Sausage', 'maindishII_Steak Sampler',\n",
       "       'side_French Fry Basket', 'side_Mac and Cheese', 'side_Mashed Potato',\n",
       "       'dessert_Apple Pie a la Mode', 'dessert_Peach Cobbler'],\n",
       "      dtype='object')"
      ]
     },
     "execution_count": 54,
     "metadata": {},
     "output_type": "execute_result"
    }
   ],
   "source": [
    "df_reference.columns"
   ]
  },
  {
   "cell_type": "code",
   "execution_count": 55,
   "id": "275f187d",
   "metadata": {},
   "outputs": [
    {
     "data": {
      "text/plain": [
       "LinearRegression()"
      ]
     },
     "execution_count": 55,
     "metadata": {},
     "output_type": "execute_result"
    }
   ],
   "source": [
    "X = df_default.loc[:, ~df_default.columns.isin(['avg_rating', 'total_price'])]\n",
    "Y = df_default['avg_rating']\n",
    "regressor =LinearRegression()\n",
    "regressor.fit(X, Y)"
   ]
  },
  {
   "cell_type": "code",
   "execution_count": 56,
   "id": "5f1c59c1",
   "metadata": {},
   "outputs": [],
   "source": [
    "co_ef = pd.DataFrame(regressor.coef_, X.columns, columns=['Coefficient'])"
   ]
  },
  {
   "cell_type": "code",
   "execution_count": 57,
   "id": "0434dcbd",
   "metadata": {},
   "outputs": [
    {
     "data": {
      "text/plain": [
       "LinearRegression()"
      ]
     },
     "execution_count": 57,
     "metadata": {},
     "output_type": "execute_result"
    }
   ],
   "source": [
    "X_2 = df_reference.loc[:, ['starter_Crabcakes and Shrimp',\n",
    "       'starter_Fried Chicken Tenders', 'starter_Jumbo Shrimp',\n",
    "       'maindishI_BBQ Brisket',\n",
    "       'maindishI_BBQ Chicken', 'maindishI_Pork & Brisket Combo',\n",
    "        'maindishII_Beef Short Ribs',\n",
    "       'maindishII_Fajita', 'maindishII_Sausage',\n",
    "       'side_French Fry Basket', 'side_Mac and Cheese',\n",
    "       'dessert_Apple Pie a la Mode']]\n",
    "Y_2 = df_reference['avg_rating']\n",
    "regressor_2 =LinearRegression()\n",
    "regressor_2.fit(X_2, Y_2)"
   ]
  },
  {
   "cell_type": "code",
   "execution_count": 58,
   "id": "d6a88b4a",
   "metadata": {},
   "outputs": [
    {
     "data": {
      "text/html": [
       "<div>\n",
       "<style scoped>\n",
       "    .dataframe tbody tr th:only-of-type {\n",
       "        vertical-align: middle;\n",
       "    }\n",
       "\n",
       "    .dataframe tbody tr th {\n",
       "        vertical-align: top;\n",
       "    }\n",
       "\n",
       "    .dataframe thead th {\n",
       "        text-align: right;\n",
       "    }\n",
       "</style>\n",
       "<table border=\"1\" class=\"dataframe\">\n",
       "  <thead>\n",
       "    <tr style=\"text-align: right;\">\n",
       "      <th></th>\n",
       "      <th>Coefficient</th>\n",
       "    </tr>\n",
       "  </thead>\n",
       "  <tbody>\n",
       "    <tr>\n",
       "      <th>starter_Fried Chicken Tenders</th>\n",
       "      <td>0.103854</td>\n",
       "    </tr>\n",
       "    <tr>\n",
       "      <th>starter_Jumbo Shrimp</th>\n",
       "      <td>-0.451771</td>\n",
       "    </tr>\n",
       "    <tr>\n",
       "      <th>starter_Sticky Chicken Tenders</th>\n",
       "      <td>0.093333</td>\n",
       "    </tr>\n",
       "    <tr>\n",
       "      <th>maindishI_BBQ Chicken</th>\n",
       "      <td>-0.207917</td>\n",
       "    </tr>\n",
       "    <tr>\n",
       "      <th>maindishI_Pork &amp; Brisket Combo</th>\n",
       "      <td>1.063646</td>\n",
       "    </tr>\n",
       "    <tr>\n",
       "      <th>maindishI_Pulled Pork</th>\n",
       "      <td>0.577188</td>\n",
       "    </tr>\n",
       "    <tr>\n",
       "      <th>maindishII_Fajita</th>\n",
       "      <td>-0.498313</td>\n",
       "    </tr>\n",
       "    <tr>\n",
       "      <th>maindishII_Sausage</th>\n",
       "      <td>0.342917</td>\n",
       "    </tr>\n",
       "    <tr>\n",
       "      <th>maindishII_Steak Sampler</th>\n",
       "      <td>0.232813</td>\n",
       "    </tr>\n",
       "    <tr>\n",
       "      <th>side_Mac and Cheese</th>\n",
       "      <td>0.419688</td>\n",
       "    </tr>\n",
       "    <tr>\n",
       "      <th>side_Mashed Potato</th>\n",
       "      <td>-0.002500</td>\n",
       "    </tr>\n",
       "    <tr>\n",
       "      <th>dessert_Peach Cobbler</th>\n",
       "      <td>-0.739167</td>\n",
       "    </tr>\n",
       "  </tbody>\n",
       "</table>\n",
       "</div>"
      ],
      "text/plain": [
       "                                Coefficient\n",
       "starter_Fried Chicken Tenders      0.103854\n",
       "starter_Jumbo Shrimp              -0.451771\n",
       "starter_Sticky Chicken Tenders     0.093333\n",
       "maindishI_BBQ Chicken             -0.207917\n",
       "maindishI_Pork & Brisket Combo     1.063646\n",
       "maindishI_Pulled Pork              0.577188\n",
       "maindishII_Fajita                 -0.498313\n",
       "maindishII_Sausage                 0.342917\n",
       "maindishII_Steak Sampler           0.232813\n",
       "side_Mac and Cheese                0.419688\n",
       "side_Mashed Potato                -0.002500\n",
       "dessert_Peach Cobbler             -0.739167"
      ]
     },
     "metadata": {},
     "output_type": "display_data"
    },
    {
     "data": {
      "text/html": [
       "<div>\n",
       "<style scoped>\n",
       "    .dataframe tbody tr th:only-of-type {\n",
       "        vertical-align: middle;\n",
       "    }\n",
       "\n",
       "    .dataframe tbody tr th {\n",
       "        vertical-align: top;\n",
       "    }\n",
       "\n",
       "    .dataframe thead th {\n",
       "        text-align: right;\n",
       "    }\n",
       "</style>\n",
       "<table border=\"1\" class=\"dataframe\">\n",
       "  <thead>\n",
       "    <tr style=\"text-align: right;\">\n",
       "      <th></th>\n",
       "      <th>Coefficient</th>\n",
       "    </tr>\n",
       "  </thead>\n",
       "  <tbody>\n",
       "    <tr>\n",
       "      <th>starter_Crabcakes and Shrimp</th>\n",
       "      <td>-0.093333</td>\n",
       "    </tr>\n",
       "    <tr>\n",
       "      <th>starter_Fried Chicken Tenders</th>\n",
       "      <td>0.010521</td>\n",
       "    </tr>\n",
       "    <tr>\n",
       "      <th>starter_Jumbo Shrimp</th>\n",
       "      <td>-0.545104</td>\n",
       "    </tr>\n",
       "    <tr>\n",
       "      <th>maindishI_BBQ Brisket</th>\n",
       "      <td>-0.577188</td>\n",
       "    </tr>\n",
       "    <tr>\n",
       "      <th>maindishI_BBQ Chicken</th>\n",
       "      <td>-0.785104</td>\n",
       "    </tr>\n",
       "    <tr>\n",
       "      <th>maindishI_Pork &amp; Brisket Combo</th>\n",
       "      <td>0.486458</td>\n",
       "    </tr>\n",
       "    <tr>\n",
       "      <th>maindishII_Beef Short Ribs</th>\n",
       "      <td>-0.232812</td>\n",
       "    </tr>\n",
       "    <tr>\n",
       "      <th>maindishII_Fajita</th>\n",
       "      <td>-0.731125</td>\n",
       "    </tr>\n",
       "    <tr>\n",
       "      <th>maindishII_Sausage</th>\n",
       "      <td>0.110104</td>\n",
       "    </tr>\n",
       "    <tr>\n",
       "      <th>side_French Fry Basket</th>\n",
       "      <td>0.002500</td>\n",
       "    </tr>\n",
       "    <tr>\n",
       "      <th>side_Mac and Cheese</th>\n",
       "      <td>0.422188</td>\n",
       "    </tr>\n",
       "    <tr>\n",
       "      <th>dessert_Apple Pie a la Mode</th>\n",
       "      <td>0.739167</td>\n",
       "    </tr>\n",
       "  </tbody>\n",
       "</table>\n",
       "</div>"
      ],
      "text/plain": [
       "                                Coefficient\n",
       "starter_Crabcakes and Shrimp      -0.093333\n",
       "starter_Fried Chicken Tenders      0.010521\n",
       "starter_Jumbo Shrimp              -0.545104\n",
       "maindishI_BBQ Brisket             -0.577188\n",
       "maindishI_BBQ Chicken             -0.785104\n",
       "maindishI_Pork & Brisket Combo     0.486458\n",
       "maindishII_Beef Short Ribs        -0.232812\n",
       "maindishII_Fajita                 -0.731125\n",
       "maindishII_Sausage                 0.110104\n",
       "side_French Fry Basket             0.002500\n",
       "side_Mac and Cheese                0.422188\n",
       "dessert_Apple Pie a la Mode        0.739167"
      ]
     },
     "metadata": {},
     "output_type": "display_data"
    }
   ],
   "source": [
    "co_ef_ref = pd.DataFrame(regressor_2.coef_, X_2.columns, columns=['Coefficient'])\n",
    "display(co_ef,\n",
    "        co_ef_ref)"
   ]
  },
  {
   "cell_type": "code",
   "execution_count": 59,
   "id": "3a2a6374",
   "metadata": {},
   "outputs": [
    {
     "data": {
      "text/plain": [
       "starter        Fried Chicken Tenders\n",
       "maindishI       Pork & Brisket Combo\n",
       "maindishII           Beef Short Ribs\n",
       "side               French Fry Basket\n",
       "dessert          Apple Pie a la Mode\n",
       "avg_rating                      9.97\n",
       "total_price                    16.55\n",
       "Name: 89, dtype: object"
      ]
     },
     "execution_count": 59,
     "metadata": {},
     "output_type": "execute_result"
    }
   ],
   "source": [
    "df_1.loc[df_1['avg_rating'].idxmax(), :]"
   ]
  },
  {
   "cell_type": "code",
   "execution_count": 60,
   "id": "7a3b842a",
   "metadata": {},
   "outputs": [
    {
     "name": "stdout",
     "output_type": "stream",
     "text": [
      "15.466666666666663\n"
     ]
    },
    {
     "data": {
      "image/png": "[encoded data removed]",
      "text/plain": [
       "<Figure size 432x288 with 1 Axes>"
      ]
     },
     "metadata": {
      "needs_background": "light"
     },
     "output_type": "display_data"
    },
    {
     "data": {
      "text/plain": [
       "<Figure size 2160x1296 with 0 Axes>"
      ]
     },
     "metadata": {},
     "output_type": "display_data"
    }
   ],
   "source": [
    "plt.hist(df_1['total_price'])\n",
    "plt.axvline(sum(df_1['total_price']/ len(df_1)), color = 'red', label = 'Average')\n",
    "plt.legend()\n",
    "plt.figure(figsize=(30,18))\n",
    "print(sum(df_1['total_price']/ len(df_1)))"
   ]
  },
  {
   "cell_type": "code",
   "execution_count": 61,
   "id": "a2a55410",
   "metadata": {},
   "outputs": [
    {
     "data": {
      "text/plain": [
       "starter        Sticky Chicken Tenders\n",
       "maindishI                 BBQ Chicken\n",
       "maindishII              Steak Sampler\n",
       "side                   Mac and Cheese\n",
       "dessert           Apple Pie a la Mode\n",
       "avg_rating                       9.97\n",
       "total_price                     14.05\n",
       "Name: 259, dtype: object"
      ]
     },
     "execution_count": 61,
     "metadata": {},
     "output_type": "execute_result"
    }
   ],
   "source": [
    "df_profit = df_1[df_1['total_price'] < 15]\n",
    "df_profit.loc[df_profit['avg_rating'].idxmax(), :]"
   ]
  },
  {
   "cell_type": "code",
   "execution_count": 62,
   "id": "cc8ae5d0",
   "metadata": {},
   "outputs": [],
   "source": [
    "# Forecasting Total Revenue"
   ]
  },
  {
   "cell_type": "code",
   "execution_count": 7,
   "id": "598e87a6",
   "metadata": {
    "scrolled": false
   },
   "outputs": [
    {
     "data": {
      "text/plain": [
       "<AxesSubplot:xlabel='year'>"
      ]
     },
     "execution_count": 7,
     "metadata": {},
     "output_type": "execute_result"
    },
    {
     "data": {
      "image/png": "[encoded data removed]",
      "text/plain": [
       "<Figure size 432x288 with 1 Axes>"
      ]
     },
     "metadata": {
      "needs_background": "light"
     },
     "output_type": "display_data"
    }
   ],
   "source": [
    "TSM=pd.read_csv('data.csv',index_col='year')\n",
    "TSM['revenue'].plot()"
   ]
  },
  {
   "cell_type": "code",
   "execution_count": 8,
   "id": "e962aedd",
   "metadata": {
    "scrolled": true
   },
   "outputs": [
    {
     "data": {
      "text/html": [
       "<div>\n",
       "<style scoped>\n",
       "    .dataframe tbody tr th:only-of-type {\n",
       "        vertical-align: middle;\n",
       "    }\n",
       "\n",
       "    .dataframe tbody tr th {\n",
       "        vertical-align: top;\n",
       "    }\n",
       "\n",
       "    .dataframe thead th {\n",
       "        text-align: right;\n",
       "    }\n",
       "</style>\n",
       "<table border=\"1\" class=\"dataframe\">\n",
       "  <thead>\n",
       "    <tr style=\"text-align: right;\">\n",
       "      <th></th>\n",
       "      <th>revenue</th>\n",
       "    </tr>\n",
       "    <tr>\n",
       "      <th>year</th>\n",
       "      <th></th>\n",
       "    </tr>\n",
       "  </thead>\n",
       "  <tbody>\n",
       "    <tr>\n",
       "      <th>2013</th>\n",
       "      <td>268.6</td>\n",
       "    </tr>\n",
       "    <tr>\n",
       "      <th>2014</th>\n",
       "      <td>373.9</td>\n",
       "    </tr>\n",
       "    <tr>\n",
       "      <th>2015</th>\n",
       "      <td>441.2</td>\n",
       "    </tr>\n",
       "  </tbody>\n",
       "</table>\n",
       "</div>"
      ],
      "text/plain": [
       "      revenue\n",
       "year         \n",
       "2013    268.6\n",
       "2014    373.9\n",
       "2015    441.2"
      ]
     },
     "execution_count": 8,
     "metadata": {},
     "output_type": "execute_result"
    }
   ],
   "source": [
    "TSM.head(3)"
   ]
  },
  {
   "cell_type": "code",
   "execution_count": 9,
   "id": "e40cb224",
   "metadata": {},
   "outputs": [
    {
     "data": {
      "text/html": [
       "<div>\n",
       "<style scoped>\n",
       "    .dataframe tbody tr th:only-of-type {\n",
       "        vertical-align: middle;\n",
       "    }\n",
       "\n",
       "    .dataframe tbody tr th {\n",
       "        vertical-align: top;\n",
       "    }\n",
       "\n",
       "    .dataframe thead th {\n",
       "        text-align: right;\n",
       "    }\n",
       "</style>\n",
       "<table border=\"1\" class=\"dataframe\">\n",
       "  <thead>\n",
       "    <tr style=\"text-align: right;\">\n",
       "      <th></th>\n",
       "      <th>revenue</th>\n",
       "    </tr>\n",
       "    <tr>\n",
       "      <th>year</th>\n",
       "      <th></th>\n",
       "    </tr>\n",
       "  </thead>\n",
       "  <tbody>\n",
       "    <tr>\n",
       "      <th>2019</th>\n",
       "      <td>431.4</td>\n",
       "    </tr>\n",
       "    <tr>\n",
       "      <th>2020</th>\n",
       "      <td>371.3</td>\n",
       "    </tr>\n",
       "    <tr>\n",
       "      <th>2021</th>\n",
       "      <td>418.0</td>\n",
       "    </tr>\n",
       "  </tbody>\n",
       "</table>\n",
       "</div>"
      ],
      "text/plain": [
       "      revenue\n",
       "year         \n",
       "2019    431.4\n",
       "2020    371.3\n",
       "2021    418.0"
      ]
     },
     "execution_count": 9,
     "metadata": {},
     "output_type": "execute_result"
    }
   ],
   "source": [
    "TSM.tail(3)"
   ]
  },
  {
   "cell_type": "code",
   "execution_count": 10,
   "id": "e419db10",
   "metadata": {
    "scrolled": true
   },
   "outputs": [
    {
     "data": {
      "text/html": [
       "<table class=\"simpletable\">\n",
       "<caption>Augmented Dickey-Fuller Results</caption>\n",
       "<tr>\n",
       "  <td>Test Statistic</td>    <td>-4.741</td>\n",
       "</tr>\n",
       "<tr>\n",
       "  <td>P-value</td>            <td>0.000</td>\n",
       "</tr>\n",
       "<tr>\n",
       "  <td>Lags</td>                   <td>0</td>\n",
       "</tr>\n",
       "</table><br/><br/>Trend: Constant<br/>Critical Values: -4.67 (1%), -3.37 (5%), -2.80 (10%)<br/>Null Hypothesis: The process contains a unit root.<br/>Alternative Hypothesis: The process is weakly stationary."
      ],
      "text/plain": [
       "<class 'statsmodels.iolib.summary.Summary'>\n",
       "\"\"\"\n",
       "   Augmented Dickey-Fuller Results   \n",
       "=====================================\n",
       "Test Statistic                 -4.741\n",
       "P-value                         0.000\n",
       "Lags                                0\n",
       "-------------------------------------\n",
       "\n",
       "Trend: Constant\n",
       "Critical Values: -4.67 (1%), -3.37 (5%), -2.80 (10%)\n",
       "Null Hypothesis: The process contains a unit root.\n",
       "Alternative Hypothesis: The process is weakly stationary.\n",
       "\"\"\""
      ]
     },
     "execution_count": 10,
     "metadata": {},
     "output_type": "execute_result"
    }
   ],
   "source": [
    "ADF(TSM['revenue']).summary()"
   ]
  },
  {
   "cell_type": "code",
   "execution_count": 11,
   "id": "9105cef2",
   "metadata": {},
   "outputs": [
    {
     "data": {
      "text/plain": [
       "0.0"
      ]
     },
     "execution_count": 11,
     "metadata": {},
     "output_type": "execute_result"
    }
   ],
   "source": [
    "stattools.q_stat(stattools.acf(TSM['revenue']),len(data['revenue']))[1][-1]"
   ]
  },
  {
   "cell_type": "code",
   "execution_count": 12,
   "id": "404ca425",
   "metadata": {},
   "outputs": [
    {
     "data": {
      "text/plain": [
       "{'bic':             0           1           2           3           4\n",
       " 0  100.626466  100.484028  102.674069  103.802583  105.344296\n",
       " 1  102.146341  102.677719  107.109002  105.818097  107.973081\n",
       " 2  103.094100  104.975705  107.189322  109.276561  109.703737\n",
       " 3  104.948094  108.335886  107.577644  109.493850  115.988367\n",
       " 4         NaN  109.356616  108.955703  111.611856         NaN,\n",
       " 'bic_min_order': (0, 1)}"
      ]
     },
     "execution_count": 12,
     "metadata": {},
     "output_type": "execute_result"
    }
   ],
   "source": [
    "stattools.arma_order_select_ic(TSM['revenue'],max_ma=4)"
   ]
  },
  {
   "cell_type": "code",
   "execution_count": 13,
   "id": "a7225673",
   "metadata": {},
   "outputs": [
    {
     "name": "stdout",
     "output_type": "stream",
     "text": [
      "RUNNING THE L-BFGS-B CODE\n",
      "\n",
      "           * * *\n",
      "\n",
      "Machine precision = 2.220D-16\n",
      " N =            2     M =           12\n",
      "\n",
      "At X0         0 variables are exactly at the bounds\n",
      "\n",
      "At iterate    0    f=  5.29448D+00    |proj g|=  7.92697D-02\n",
      "\n",
      "At iterate    5    f=  5.21728D+00    |proj g|=  1.35056D-03\n",
      "\n",
      "At iterate   10    f=  5.21626D+00    |proj g|=  3.66818D-05\n",
      "\n",
      "At iterate   15    f=  5.21624D+00    |proj g|=  1.42109D-06\n",
      "\n",
      "At iterate   20    f=  5.21624D+00    |proj g|=  4.44089D-07\n",
      "\n",
      "At iterate   25    f=  5.21624D+00    |proj g|=  1.77636D-07\n",
      "  ys= 0.000E+00  -gs= 1.140E-10 BFGS update SKIPPED\n",
      "\n",
      "           * * *\n",
      "\n",
      "Tit   = total number of iterations\n",
      "Tnf   = total number of function evaluations\n",
      "Tnint = total number of segments explored during Cauchy searches\n",
      "Skip  = number of BFGS updates skipped\n",
      "Nact  = number of active bounds at final generalized Cauchy point\n",
      "Projg = norm of the final projected gradient\n",
      "F     = final function value\n",
      "\n",
      "           * * *\n",
      "\n",
      "   N    Tit     Tnf  Tnint  Skip  Nact     Projg        F\n",
      "    2     26     45      1     1     0   1.776D-07   5.216D+00\n",
      "  F =   5.2162419194735890     \n",
      "\n",
      "CONVERGENCE: REL_REDUCTION_OF_F_<=_FACTR*EPSMCH             \n"
     ]
    },
    {
     "name": "stderr",
     "output_type": "stream",
     "text": [
      " This problem is unconstrained.\n",
      "\n",
      " Warning:  more than 10 function and gradient\n",
      "   evaluations in the last line search.  Termination\n",
      "   may possibly be caused by a bad search direction.\n"
     ]
    }
   ],
   "source": [
    "model=arima_model.ARIMA(TSM['revenue'],order=(0,0,1)).fit()"
   ]
  },
  {
   "cell_type": "code",
   "execution_count": 14,
   "id": "110e89dd",
   "metadata": {},
   "outputs": [
    {
     "data": {
      "text/html": [
       "<table class=\"simpletable\">\n",
       "<caption>ARMA Model Results</caption>\n",
       "<tr>\n",
       "  <th>Dep. Variable:</th>      <td>revenue</td>     <th>  No. Observations:  </th>    <td>9</td>   \n",
       "</tr>\n",
       "<tr>\n",
       "  <th>Model:</th>            <td>ARMA(0, 1)</td>    <th>  Log Likelihood     </th> <td>-46.946</td>\n",
       "</tr>\n",
       "<tr>\n",
       "  <th>Method:</th>             <td>css-mle</td>     <th>  S.D. of innovations</th> <td>39.234</td> \n",
       "</tr>\n",
       "<tr>\n",
       "  <th>Date:</th>          <td>Tue, 13 Dec 2022</td> <th>  AIC                </th> <td>99.892</td> \n",
       "</tr>\n",
       "<tr>\n",
       "  <th>Time:</th>              <td>22:02:25</td>     <th>  BIC                </th> <td>100.484</td>\n",
       "</tr>\n",
       "<tr>\n",
       "  <th>Sample:</th>                <td>0</td>        <th>  HQIC               </th> <td>98.616</td> \n",
       "</tr>\n",
       "<tr>\n",
       "  <th></th>                       <td> </td>        <th>                     </th>    <td> </td>   \n",
       "</tr>\n",
       "</table>\n",
       "<table class=\"simpletable\">\n",
       "<tr>\n",
       "        <td></td>           <th>coef</th>     <th>std err</th>      <th>z</th>      <th>P>|z|</th>  <th>[0.025</th>    <th>0.975]</th>  \n",
       "</tr>\n",
       "<tr>\n",
       "  <th>const</th>         <td>  394.1207</td> <td>   24.810</td> <td>   15.886</td> <td> 0.000</td> <td>  345.495</td> <td>  442.747</td>\n",
       "</tr>\n",
       "<tr>\n",
       "  <th>ma.L1.revenue</th> <td>    0.9997</td> <td>    0.551</td> <td>    1.815</td> <td> 0.070</td> <td>   -0.080</td> <td>    2.079</td>\n",
       "</tr>\n",
       "</table>\n",
       "<table class=\"simpletable\">\n",
       "<caption>Roots</caption>\n",
       "<tr>\n",
       "    <td></td>   <th>            Real</th>  <th>         Imaginary</th> <th>         Modulus</th>  <th>        Frequency</th>\n",
       "</tr>\n",
       "<tr>\n",
       "  <th>MA.1</th> <td>          -1.0003</td> <td>          +0.0000j</td> <td>           1.0003</td> <td>           0.5000</td>\n",
       "</tr>\n",
       "</table>"
      ],
      "text/plain": [
       "<class 'statsmodels.iolib.summary.Summary'>\n",
       "\"\"\"\n",
       "                              ARMA Model Results                              \n",
       "==============================================================================\n",
       "Dep. Variable:                revenue   No. Observations:                    9\n",
       "Model:                     ARMA(0, 1)   Log Likelihood                 -46.946\n",
       "Method:                       css-mle   S.D. of innovations             39.234\n",
       "Date:                Tue, 13 Dec 2022   AIC                             99.892\n",
       "Time:                        22:02:25   BIC                            100.484\n",
       "Sample:                             0   HQIC                            98.616\n",
       "                                                                              \n",
       "=================================================================================\n",
       "                    coef    std err          z      P>|z|      [0.025      0.975]\n",
       "---------------------------------------------------------------------------------\n",
       "const           394.1207     24.810     15.886      0.000     345.495     442.747\n",
       "ma.L1.revenue     0.9997      0.551      1.815      0.070      -0.080       2.079\n",
       "                                    Roots                                    \n",
       "=============================================================================\n",
       "                  Real          Imaginary           Modulus         Frequency\n",
       "-----------------------------------------------------------------------------\n",
       "MA.1           -1.0003           +0.0000j            1.0003            0.5000\n",
       "-----------------------------------------------------------------------------\n",
       "\"\"\""
      ]
     },
     "execution_count": 14,
     "metadata": {},
     "output_type": "execute_result"
    }
   ],
   "source": [
    "model.summary()"
   ]
  },
  {
   "cell_type": "code",
   "execution_count": 15,
   "id": "47f62a74",
   "metadata": {},
   "outputs": [
    {
     "data": {
      "text/html": [
       "<div>\n",
       "<style scoped>\n",
       "    .dataframe tbody tr th:only-of-type {\n",
       "        vertical-align: middle;\n",
       "    }\n",
       "\n",
       "    .dataframe tbody tr th {\n",
       "        vertical-align: top;\n",
       "    }\n",
       "\n",
       "    .dataframe thead th {\n",
       "        text-align: right;\n",
       "    }\n",
       "</style>\n",
       "<table border=\"1\" class=\"dataframe\">\n",
       "  <thead>\n",
       "    <tr style=\"text-align: right;\">\n",
       "      <th></th>\n",
       "      <th>0</th>\n",
       "      <th>1</th>\n",
       "    </tr>\n",
       "  </thead>\n",
       "  <tbody>\n",
       "    <tr>\n",
       "      <th>const</th>\n",
       "      <td>345.494526</td>\n",
       "      <td>442.746948</td>\n",
       "    </tr>\n",
       "    <tr>\n",
       "      <th>ma.L1.revenue</th>\n",
       "      <td>-0.080050</td>\n",
       "      <td>2.079414</td>\n",
       "    </tr>\n",
       "  </tbody>\n",
       "</table>\n",
       "</div>"
      ],
      "text/plain": [
       "                        0           1\n",
       "const          345.494526  442.746948\n",
       "ma.L1.revenue   -0.080050    2.079414"
      ]
     },
     "execution_count": 15,
     "metadata": {},
     "output_type": "execute_result"
    }
   ],
   "source": [
    "model.conf_int()"
   ]
  },
  {
   "cell_type": "code",
   "execution_count": 16,
   "id": "12cc1e7e",
   "metadata": {},
   "outputs": [],
   "source": [
    "stdresid=model.resid/math.sqrt(model.sigma2)"
   ]
  },
  {
   "cell_type": "code",
   "execution_count": 17,
   "id": "3566788f",
   "metadata": {},
   "outputs": [
    {
     "data": {
      "text/plain": [
       "[<matplotlib.lines.Line2D at 0x7fcb690b2c70>]"
      ]
     },
     "execution_count": 17,
     "metadata": {},
     "output_type": "execute_result"
    },
    {
     "data": {
      "image/png": "[encoded data removed]",
      "text/plain": [
       "<Figure size 432x288 with 1 Axes>"
      ]
     },
     "metadata": {
      "needs_background": "light"
     },
     "output_type": "display_data"
    }
   ],
   "source": [
    "plt.plot(stdresid)"
   ]
  },
  {
   "cell_type": "code",
   "execution_count": 18,
   "id": "8b7923b2",
   "metadata": {},
   "outputs": [
    {
     "data": {
      "image/png": "[encoded data removed]",
      "text/plain": [
       "<Figure size 432x288 with 1 Axes>"
      ]
     },
     "execution_count": 18,
     "metadata": {},
     "output_type": "execute_result"
    },
    {
     "data": {
      "image/png": "[encoded data removed]",
      "text/plain": [
       "<Figure size 432x288 with 1 Axes>"
      ]
     },
     "metadata": {
      "needs_background": "light"
     },
     "output_type": "display_data"
    }
   ],
   "source": [
    "plot_acf(stdresid,lags=4)"
   ]
  },
  {
   "cell_type": "code",
   "execution_count": 19,
   "id": "858841d8",
   "metadata": {},
   "outputs": [
    {
     "name": "stdout",
     "output_type": "stream",
     "text": [
      "forecast 2022 revenue: 446.57\n"
     ]
    }
   ],
   "source": [
    "revenue2022=round(model.forecast(1)[0][0],2)\n",
    "print(\"forecast 2022 revenue:\",revenue2022)"
   ]
  },
  {
   "cell_type": "code",
   "execution_count": 20,
   "id": "a3322561",
   "metadata": {},
   "outputs": [],
   "source": [
    "TSM.loc['2022']=revenue2022"
   ]
  },
  {
   "cell_type": "code",
   "execution_count": 21,
   "id": "c88ebaae",
   "metadata": {},
   "outputs": [
    {
     "data": {
      "text/plain": [
       "[<matplotlib.lines.Line2D at 0x7fcb38691430>]"
      ]
     },
     "execution_count": 21,
     "metadata": {},
     "output_type": "execute_result"
    },
    {
     "data": {
      "image/png": "[encoded data removed]",
      "text/plain": [
       "<Figure size 432x288 with 1 Axes>"
      ]
     },
     "metadata": {
      "needs_background": "light"
     },
     "output_type": "display_data"
    }
   ],
   "source": [
    "plt.plot(data['revenue'])"
   ]
  },
  {
   "cell_type": "markdown",
   "id": "88eee0e9",
   "metadata": {},
   "source": [
    "Firstly, We collected data from  Town Square Media's financial statements and obtained it's revenue data for the last 9 years and then make an annual income graph. It can be seen from the graph that the growth has been rapid from 2013 to 2015, but it has declined since 2015, rebounded since 2017, then rose and fell, but it began to decline from 2019, reached the bottom in 2020, and then rebounded from 2020 to 2021.\n",
    "\n",
    "Secondly we add a adf test and we find that the p value is less than 0.05,we can reject the null hypothesis,so it is a stationary data. From the ljungbox and the q_stat we can see that the data is not a white noise,so we can build a time series predict on this data.\n",
    "\n",
    "Thirdly we use the auto select arima method,we find that the best model is arima(0,0,1),and then build a arima(0,0,1) model,and we can find that the residuals have not obvious auto_correlation.\n",
    "\n",
    "At the last,we use the model to predict the 2022 year revenue is $446.57 million,and we plot the total revenue with the year from 2013 to 2022,we can find the predict value continued the continuous growth since 2021.\n"
   ]
  },
  {
   "cell_type": "code",
   "execution_count": 42,
   "id": "1a1797cd",
   "metadata": {
    "colab": {
     "base_uri": "https://localhost:8080/",
     "height": 270
    },
    "id": "09nss_Wy04uj",
    "outputId": "93afb7ed-dfc3-45af-9166-6e046f773908",
    "scrolled": true
   },
   "outputs": [
    {
     "data": {
      "text/html": [
       "<div>\n",
       "<style scoped>\n",
       "    .dataframe tbody tr th:only-of-type {\n",
       "        vertical-align: middle;\n",
       "    }\n",
       "\n",
       "    .dataframe tbody tr th {\n",
       "        vertical-align: top;\n",
       "    }\n",
       "\n",
       "    .dataframe thead th {\n",
       "        text-align: right;\n",
       "    }\n",
       "</style>\n",
       "<table border=\"1\" class=\"dataframe\">\n",
       "  <thead>\n",
       "    <tr style=\"text-align: right;\">\n",
       "      <th></th>\n",
       "      <th>householdID</th>\n",
       "      <th>est_inc_USD</th>\n",
       "      <th>est_netw_USD</th>\n",
       "      <th>hhold_field</th>\n",
       "      <th>hhold_oldest</th>\n",
       "      <th>hhold_pax</th>\n",
       "      <th>hhold_youngest</th>\n",
       "      <th>homeState</th>\n",
       "      <th>hhold_car</th>\n",
       "      <th>stream_subs</th>\n",
       "      <th>primary</th>\n",
       "    </tr>\n",
       "  </thead>\n",
       "  <tbody>\n",
       "    <tr>\n",
       "      <th>0</th>\n",
       "      <td>23</td>\n",
       "      <td>59245</td>\n",
       "      <td>381931</td>\n",
       "      <td>Govt</td>\n",
       "      <td>48</td>\n",
       "      <td>2</td>\n",
       "      <td>8</td>\n",
       "      <td>New York</td>\n",
       "      <td>SUV</td>\n",
       "      <td>2</td>\n",
       "      <td>0</td>\n",
       "    </tr>\n",
       "    <tr>\n",
       "      <th>1</th>\n",
       "      <td>27</td>\n",
       "      <td>116628</td>\n",
       "      <td>457159</td>\n",
       "      <td>Tech</td>\n",
       "      <td>51</td>\n",
       "      <td>5</td>\n",
       "      <td>21</td>\n",
       "      <td>New Hampshire</td>\n",
       "      <td>SUV</td>\n",
       "      <td>3</td>\n",
       "      <td>1</td>\n",
       "    </tr>\n",
       "    <tr>\n",
       "      <th>2</th>\n",
       "      <td>36</td>\n",
       "      <td>65835</td>\n",
       "      <td>394803</td>\n",
       "      <td>Services</td>\n",
       "      <td>50</td>\n",
       "      <td>4</td>\n",
       "      <td>13</td>\n",
       "      <td>Vermont</td>\n",
       "      <td>Pickup</td>\n",
       "      <td>3</td>\n",
       "      <td>0</td>\n",
       "    </tr>\n",
       "    <tr>\n",
       "      <th>3</th>\n",
       "      <td>41</td>\n",
       "      <td>132483</td>\n",
       "      <td>429296</td>\n",
       "      <td>Tech</td>\n",
       "      <td>54</td>\n",
       "      <td>2</td>\n",
       "      <td>11</td>\n",
       "      <td>Massachusetts</td>\n",
       "      <td>SUV</td>\n",
       "      <td>3</td>\n",
       "      <td>1</td>\n",
       "    </tr>\n",
       "    <tr>\n",
       "      <th>4</th>\n",
       "      <td>44</td>\n",
       "      <td>83444</td>\n",
       "      <td>488210</td>\n",
       "      <td>Education</td>\n",
       "      <td>51</td>\n",
       "      <td>7</td>\n",
       "      <td>12</td>\n",
       "      <td>Maine</td>\n",
       "      <td>SUV</td>\n",
       "      <td>3</td>\n",
       "      <td>0</td>\n",
       "    </tr>\n",
       "  </tbody>\n",
       "</table>\n",
       "</div>"
      ],
      "text/plain": [
       "   householdID  est_inc_USD  est_netw_USD hhold_field  hhold_oldest  \\\n",
       "0           23        59245        381931        Govt            48   \n",
       "1           27       116628        457159        Tech            51   \n",
       "2           36        65835        394803    Services            50   \n",
       "3           41       132483        429296        Tech            54   \n",
       "4           44        83444        488210   Education            51   \n",
       "\n",
       "   hhold_pax  hhold_youngest      homeState hhold_car  stream_subs  primary  \n",
       "0          2               8       New York       SUV            2        0  \n",
       "1          5              21  New Hampshire       SUV            3        1  \n",
       "2          4              13        Vermont    Pickup            3        0  \n",
       "3          2              11  Massachusetts       SUV            3        1  \n",
       "4          7              12          Maine       SUV            3        0  "
      ]
     },
     "execution_count": 42,
     "metadata": {},
     "output_type": "execute_result"
    }
   ],
   "source": [
    "# Classification method: Random forest model\n",
    "visitors = pd.read_csv(\"carnival_visitors.csv\")\n",
    "visitors.head()"
   ]
  },
  {
   "cell_type": "markdown",
   "id": "913f4d52",
   "metadata": {
    "id": "rSeYulaiGzRp"
   },
   "source": [
    "In this part,We believe that “est_netw_USD” duplicates the functionality of “est_inc_USD” and that “hhold_car” would be less helpful to predict whether a particular household’s primary goal for attending a music festival will be “consume” or “entertain”.\n",
    "\n",
    "So,we will use following variables to build the model: est_inc_USD, hhold_field, hhold_oldest, hhold_pax, hhold_youngest, homeState, stream_subs, primary"
   ]
  },
  {
   "cell_type": "code",
   "execution_count": 43,
   "id": "18a937a0",
   "metadata": {
    "colab": {
     "base_uri": "https://localhost:8080/",
     "height": 300
    },
    "id": "JQ1aSCyZBe1K",
    "outputId": "46064c04-96a4-4497-a1fe-808f6d2fad5d"
   },
   "outputs": [
    {
     "data": {
      "text/html": [
       "<div>\n",
       "<style scoped>\n",
       "    .dataframe tbody tr th:only-of-type {\n",
       "        vertical-align: middle;\n",
       "    }\n",
       "\n",
       "    .dataframe tbody tr th {\n",
       "        vertical-align: top;\n",
       "    }\n",
       "\n",
       "    .dataframe thead th {\n",
       "        text-align: right;\n",
       "    }\n",
       "</style>\n",
       "<table border=\"1\" class=\"dataframe\">\n",
       "  <thead>\n",
       "    <tr style=\"text-align: right;\">\n",
       "      <th></th>\n",
       "      <th>householdID</th>\n",
       "      <th>est_inc_USD</th>\n",
       "      <th>est_netw_USD</th>\n",
       "      <th>hhold_oldest</th>\n",
       "      <th>hhold_pax</th>\n",
       "      <th>hhold_youngest</th>\n",
       "      <th>stream_subs</th>\n",
       "      <th>primary</th>\n",
       "    </tr>\n",
       "  </thead>\n",
       "  <tbody>\n",
       "    <tr>\n",
       "      <th>count</th>\n",
       "      <td>15000.000000</td>\n",
       "      <td>15000.000000</td>\n",
       "      <td>15000.000000</td>\n",
       "      <td>15000.000000</td>\n",
       "      <td>15000.000000</td>\n",
       "      <td>15000.000000</td>\n",
       "      <td>15000.000000</td>\n",
       "      <td>15000.000000</td>\n",
       "    </tr>\n",
       "    <tr>\n",
       "      <th>mean</th>\n",
       "      <td>7500.500000</td>\n",
       "      <td>94350.965000</td>\n",
       "      <td>466169.094800</td>\n",
       "      <td>45.327400</td>\n",
       "      <td>4.458933</td>\n",
       "      <td>14.984133</td>\n",
       "      <td>3.990933</td>\n",
       "      <td>0.541600</td>\n",
       "    </tr>\n",
       "    <tr>\n",
       "      <th>std</th>\n",
       "      <td>4330.271354</td>\n",
       "      <td>27826.069636</td>\n",
       "      <td>71050.877531</td>\n",
       "      <td>4.966017</td>\n",
       "      <td>1.796106</td>\n",
       "      <td>8.361085</td>\n",
       "      <td>1.746383</td>\n",
       "      <td>0.498283</td>\n",
       "    </tr>\n",
       "    <tr>\n",
       "      <th>min</th>\n",
       "      <td>1.000000</td>\n",
       "      <td>-2537.000000</td>\n",
       "      <td>180540.000000</td>\n",
       "      <td>25.000000</td>\n",
       "      <td>1.000000</td>\n",
       "      <td>1.000000</td>\n",
       "      <td>0.000000</td>\n",
       "      <td>0.000000</td>\n",
       "    </tr>\n",
       "    <tr>\n",
       "      <th>25%</th>\n",
       "      <td>3750.750000</td>\n",
       "      <td>75246.750000</td>\n",
       "      <td>418090.500000</td>\n",
       "      <td>42.000000</td>\n",
       "      <td>3.000000</td>\n",
       "      <td>11.000000</td>\n",
       "      <td>3.000000</td>\n",
       "      <td>0.000000</td>\n",
       "    </tr>\n",
       "    <tr>\n",
       "      <th>50%</th>\n",
       "      <td>7500.500000</td>\n",
       "      <td>93209.500000</td>\n",
       "      <td>466061.000000</td>\n",
       "      <td>45.000000</td>\n",
       "      <td>4.000000</td>\n",
       "      <td>13.000000</td>\n",
       "      <td>4.000000</td>\n",
       "      <td>1.000000</td>\n",
       "    </tr>\n",
       "    <tr>\n",
       "      <th>75%</th>\n",
       "      <td>11250.250000</td>\n",
       "      <td>113346.250000</td>\n",
       "      <td>514245.250000</td>\n",
       "      <td>49.000000</td>\n",
       "      <td>6.000000</td>\n",
       "      <td>16.000000</td>\n",
       "      <td>5.000000</td>\n",
       "      <td>1.000000</td>\n",
       "    </tr>\n",
       "    <tr>\n",
       "      <th>max</th>\n",
       "      <td>15000.000000</td>\n",
       "      <td>204057.000000</td>\n",
       "      <td>774358.000000</td>\n",
       "      <td>66.000000</td>\n",
       "      <td>12.000000</td>\n",
       "      <td>62.000000</td>\n",
       "      <td>11.000000</td>\n",
       "      <td>1.000000</td>\n",
       "    </tr>\n",
       "  </tbody>\n",
       "</table>\n",
       "</div>"
      ],
      "text/plain": [
       "        householdID    est_inc_USD   est_netw_USD  hhold_oldest     hhold_pax  \\\n",
       "count  15000.000000   15000.000000   15000.000000  15000.000000  15000.000000   \n",
       "mean    7500.500000   94350.965000  466169.094800     45.327400      4.458933   \n",
       "std     4330.271354   27826.069636   71050.877531      4.966017      1.796106   \n",
       "min        1.000000   -2537.000000  180540.000000     25.000000      1.000000   \n",
       "25%     3750.750000   75246.750000  418090.500000     42.000000      3.000000   \n",
       "50%     7500.500000   93209.500000  466061.000000     45.000000      4.000000   \n",
       "75%    11250.250000  113346.250000  514245.250000     49.000000      6.000000   \n",
       "max    15000.000000  204057.000000  774358.000000     66.000000     12.000000   \n",
       "\n",
       "       hhold_youngest   stream_subs       primary  \n",
       "count    15000.000000  15000.000000  15000.000000  \n",
       "mean        14.984133      3.990933      0.541600  \n",
       "std          8.361085      1.746383      0.498283  \n",
       "min          1.000000      0.000000      0.000000  \n",
       "25%         11.000000      3.000000      0.000000  \n",
       "50%         13.000000      4.000000      1.000000  \n",
       "75%         16.000000      5.000000      1.000000  \n",
       "max         62.000000     11.000000      1.000000  "
      ]
     },
     "execution_count": 43,
     "metadata": {},
     "output_type": "execute_result"
    }
   ],
   "source": [
    "visitors.describe()"
   ]
  },
  {
   "cell_type": "code",
   "execution_count": 44,
   "id": "a54d6296",
   "metadata": {
    "colab": {
     "base_uri": "https://localhost:8080/",
     "height": 317
    },
    "id": "xVYOlw70Di9d",
    "outputId": "c023796a-3869-4307-e48f-1673211e078c"
   },
   "outputs": [
    {
     "data": {
      "text/html": [
       "<div>\n",
       "<style scoped>\n",
       "    .dataframe tbody tr th:only-of-type {\n",
       "        vertical-align: middle;\n",
       "    }\n",
       "\n",
       "    .dataframe tbody tr th {\n",
       "        vertical-align: top;\n",
       "    }\n",
       "\n",
       "    .dataframe thead th {\n",
       "        text-align: right;\n",
       "    }\n",
       "</style>\n",
       "<table border=\"1\" class=\"dataframe\">\n",
       "  <thead>\n",
       "    <tr style=\"text-align: right;\">\n",
       "      <th></th>\n",
       "      <th>householdID</th>\n",
       "      <th>est_inc_USD</th>\n",
       "      <th>est_netw_USD</th>\n",
       "      <th>hhold_oldest</th>\n",
       "      <th>hhold_pax</th>\n",
       "      <th>hhold_youngest</th>\n",
       "      <th>hhold_car</th>\n",
       "      <th>stream_subs</th>\n",
       "      <th>primary</th>\n",
       "      <th>hhold_field_Education</th>\n",
       "      <th>...</th>\n",
       "      <th>homeState_Connecticut</th>\n",
       "      <th>homeState_Maine</th>\n",
       "      <th>homeState_Massachusetts</th>\n",
       "      <th>homeState_New Hampshire</th>\n",
       "      <th>homeState_New York</th>\n",
       "      <th>homeState_Ontario</th>\n",
       "      <th>homeState_Quebec</th>\n",
       "      <th>homeState_Rhode Island</th>\n",
       "      <th>homeState_US_Other</th>\n",
       "      <th>homeState_Vermont</th>\n",
       "    </tr>\n",
       "  </thead>\n",
       "  <tbody>\n",
       "    <tr>\n",
       "      <th>0</th>\n",
       "      <td>23</td>\n",
       "      <td>59245</td>\n",
       "      <td>381931</td>\n",
       "      <td>48</td>\n",
       "      <td>2</td>\n",
       "      <td>8</td>\n",
       "      <td>SUV</td>\n",
       "      <td>2</td>\n",
       "      <td>0</td>\n",
       "      <td>0</td>\n",
       "      <td>...</td>\n",
       "      <td>0</td>\n",
       "      <td>0</td>\n",
       "      <td>0</td>\n",
       "      <td>0</td>\n",
       "      <td>1</td>\n",
       "      <td>0</td>\n",
       "      <td>0</td>\n",
       "      <td>0</td>\n",
       "      <td>0</td>\n",
       "      <td>0</td>\n",
       "    </tr>\n",
       "    <tr>\n",
       "      <th>1</th>\n",
       "      <td>27</td>\n",
       "      <td>116628</td>\n",
       "      <td>457159</td>\n",
       "      <td>51</td>\n",
       "      <td>5</td>\n",
       "      <td>21</td>\n",
       "      <td>SUV</td>\n",
       "      <td>3</td>\n",
       "      <td>1</td>\n",
       "      <td>0</td>\n",
       "      <td>...</td>\n",
       "      <td>0</td>\n",
       "      <td>0</td>\n",
       "      <td>0</td>\n",
       "      <td>1</td>\n",
       "      <td>0</td>\n",
       "      <td>0</td>\n",
       "      <td>0</td>\n",
       "      <td>0</td>\n",
       "      <td>0</td>\n",
       "      <td>0</td>\n",
       "    </tr>\n",
       "    <tr>\n",
       "      <th>2</th>\n",
       "      <td>36</td>\n",
       "      <td>65835</td>\n",
       "      <td>394803</td>\n",
       "      <td>50</td>\n",
       "      <td>4</td>\n",
       "      <td>13</td>\n",
       "      <td>Pickup</td>\n",
       "      <td>3</td>\n",
       "      <td>0</td>\n",
       "      <td>0</td>\n",
       "      <td>...</td>\n",
       "      <td>0</td>\n",
       "      <td>0</td>\n",
       "      <td>0</td>\n",
       "      <td>0</td>\n",
       "      <td>0</td>\n",
       "      <td>0</td>\n",
       "      <td>0</td>\n",
       "      <td>0</td>\n",
       "      <td>0</td>\n",
       "      <td>1</td>\n",
       "    </tr>\n",
       "    <tr>\n",
       "      <th>3</th>\n",
       "      <td>41</td>\n",
       "      <td>132483</td>\n",
       "      <td>429296</td>\n",
       "      <td>54</td>\n",
       "      <td>2</td>\n",
       "      <td>11</td>\n",
       "      <td>SUV</td>\n",
       "      <td>3</td>\n",
       "      <td>1</td>\n",
       "      <td>0</td>\n",
       "      <td>...</td>\n",
       "      <td>0</td>\n",
       "      <td>0</td>\n",
       "      <td>1</td>\n",
       "      <td>0</td>\n",
       "      <td>0</td>\n",
       "      <td>0</td>\n",
       "      <td>0</td>\n",
       "      <td>0</td>\n",
       "      <td>0</td>\n",
       "      <td>0</td>\n",
       "    </tr>\n",
       "    <tr>\n",
       "      <th>4</th>\n",
       "      <td>44</td>\n",
       "      <td>83444</td>\n",
       "      <td>488210</td>\n",
       "      <td>51</td>\n",
       "      <td>7</td>\n",
       "      <td>12</td>\n",
       "      <td>SUV</td>\n",
       "      <td>3</td>\n",
       "      <td>0</td>\n",
       "      <td>1</td>\n",
       "      <td>...</td>\n",
       "      <td>0</td>\n",
       "      <td>1</td>\n",
       "      <td>0</td>\n",
       "      <td>0</td>\n",
       "      <td>0</td>\n",
       "      <td>0</td>\n",
       "      <td>0</td>\n",
       "      <td>0</td>\n",
       "      <td>0</td>\n",
       "      <td>0</td>\n",
       "    </tr>\n",
       "  </tbody>\n",
       "</table>\n",
       "<p>5 rows × 27 columns</p>\n",
       "</div>"
      ],
      "text/plain": [
       "   householdID  est_inc_USD  est_netw_USD  hhold_oldest  hhold_pax  \\\n",
       "0           23        59245        381931            48          2   \n",
       "1           27       116628        457159            51          5   \n",
       "2           36        65835        394803            50          4   \n",
       "3           41       132483        429296            54          2   \n",
       "4           44        83444        488210            51          7   \n",
       "\n",
       "   hhold_youngest hhold_car  stream_subs  primary  hhold_field_Education  ...  \\\n",
       "0               8       SUV            2        0                      0  ...   \n",
       "1              21       SUV            3        1                      0  ...   \n",
       "2              13    Pickup            3        0                      0  ...   \n",
       "3              11       SUV            3        1                      0  ...   \n",
       "4              12       SUV            3        0                      1  ...   \n",
       "\n",
       "   homeState_Connecticut  homeState_Maine  homeState_Massachusetts  \\\n",
       "0                      0                0                        0   \n",
       "1                      0                0                        0   \n",
       "2                      0                0                        0   \n",
       "3                      0                0                        1   \n",
       "4                      0                1                        0   \n",
       "\n",
       "   homeState_New Hampshire  homeState_New York  homeState_Ontario  \\\n",
       "0                        0                   1                  0   \n",
       "1                        1                   0                  0   \n",
       "2                        0                   0                  0   \n",
       "3                        0                   0                  0   \n",
       "4                        0                   0                  0   \n",
       "\n",
       "   homeState_Quebec  homeState_Rhode Island  homeState_US_Other  \\\n",
       "0                 0                       0                   0   \n",
       "1                 0                       0                   0   \n",
       "2                 0                       0                   0   \n",
       "3                 0                       0                   0   \n",
       "4                 0                       0                   0   \n",
       "\n",
       "   homeState_Vermont  \n",
       "0                  0  \n",
       "1                  0  \n",
       "2                  1  \n",
       "3                  0  \n",
       "4                  0  \n",
       "\n",
       "[5 rows x 27 columns]"
      ]
     },
     "execution_count": 44,
     "metadata": {},
     "output_type": "execute_result"
    }
   ],
   "source": [
    "# Dummify the categorical inputs\n",
    "visitors2 = pd.get_dummies(visitors, columns=['hhold_field', 'homeState'])\n",
    "visitors2.head()"
   ]
  },
  {
   "cell_type": "code",
   "execution_count": 45,
   "id": "633dea66",
   "metadata": {
    "colab": {
     "base_uri": "https://localhost:8080/"
    },
    "id": "41jySw17MxIW",
    "outputId": "5a0d70fb-0aa9-4f92-ad26-b6c35b64c84f"
   },
   "outputs": [
    {
     "data": {
      "text/plain": [
       "Index(['householdID', 'est_inc_USD', 'est_netw_USD', 'hhold_oldest',\n",
       "       'hhold_pax', 'hhold_youngest', 'hhold_car', 'stream_subs', 'primary',\n",
       "       'hhold_field_Education', 'hhold_field_Finance', 'hhold_field_Govt',\n",
       "       'hhold_field_Manufacturing', 'hhold_field_Other',\n",
       "       'hhold_field_Services', 'hhold_field_Tech', 'homeState_Can_Other',\n",
       "       'homeState_Connecticut', 'homeState_Maine', 'homeState_Massachusetts',\n",
       "       'homeState_New Hampshire', 'homeState_New York', 'homeState_Ontario',\n",
       "       'homeState_Quebec', 'homeState_Rhode Island', 'homeState_US_Other',\n",
       "       'homeState_Vermont'],\n",
       "      dtype='object')"
      ]
     },
     "execution_count": 45,
     "metadata": {},
     "output_type": "execute_result"
    }
   ],
   "source": [
    "visitors2.columns"
   ]
  },
  {
   "cell_type": "code",
   "execution_count": 46,
   "id": "02fa0052",
   "metadata": {
    "colab": {
     "base_uri": "https://localhost:8080/"
    },
    "id": "iVtqvtwpMc1v",
    "outputId": "11859e8c-703d-497f-81ea-8f3290b516d2"
   },
   "outputs": [
    {
     "data": {
      "text/plain": [
       "(9000, 23)"
      ]
     },
     "execution_count": 46,
     "metadata": {},
     "output_type": "execute_result"
    }
   ],
   "source": [
    "# Create a data partition\n",
    "X = visitors2[['est_inc_USD', 'hhold_oldest', 'hhold_pax', 'hhold_youngest',\n",
    "               'stream_subs', 'hhold_field_Education', 'hhold_field_Finance', \n",
    "               'hhold_field_Govt','hhold_field_Manufacturing', 'hhold_field_Other',\n",
    "               'hhold_field_Services', 'hhold_field_Tech', 'homeState_Can_Other',\n",
    "               'homeState_Connecticut', 'homeState_Maine', 'homeState_Massachusetts',\n",
    "               'homeState_New Hampshire', 'homeState_New York', 'homeState_Ontario',\n",
    "               'homeState_Quebec', 'homeState_Rhode Island', 'homeState_US_Other',\n",
    "               'homeState_Vermont']]\n",
    "y = visitors2['primary']\n",
    "\n",
    "X_train, X_test, y_train, y_test = train_test_split(X, y, test_size=0.4, random_state=1000)\n",
    "X_train.shape"
   ]
  },
  {
   "cell_type": "code",
   "execution_count": 47,
   "id": "205dd36d",
   "metadata": {
    "colab": {
     "base_uri": "https://localhost:8080/"
    },
    "id": "rtmpLyO4Nwew",
    "outputId": "13153e53-4f2a-4a0d-837b-5a3d73cb5ef5"
   },
   "outputs": [
    {
     "data": {
      "text/plain": [
       "RandomForestClassifier()"
      ]
     },
     "execution_count": 47,
     "metadata": {},
     "output_type": "execute_result"
    }
   ],
   "source": [
    "# Determine optimal hyperparameters\n",
    "clf=RandomForestClassifier()\n",
    "clf.fit(X_train,y_train)"
   ]
  },
  {
   "cell_type": "code",
   "execution_count": 48,
   "id": "e2a659a3",
   "metadata": {
    "id": "6ezun91uh7yb"
   },
   "outputs": [],
   "source": [
    "param_grid = {\n",
    "    'n_estimators': [50, 100, 150],\n",
    "    'max_depth': [4, 8, 10, 12],\n",
    "    'max_features': [12, 16, 20],\n",
    "    'min_samples_leaf': [6, 10, 14],\n",
    "}"
   ]
  },
  {
   "cell_type": "code",
   "execution_count": 49,
   "id": "28a81102",
   "metadata": {
    "colab": {
     "base_uri": "https://localhost:8080/"
    },
    "id": "qslyMFveiTbq",
    "outputId": "bec1fcdb-eb23-4ef4-c424-f373f5774ecc"
   },
   "outputs": [
    {
     "name": "stdout",
     "output_type": "stream",
     "text": [
      "{'max_depth': 10, 'max_features': 12, 'min_samples_leaf': 14, 'n_estimators': 150}\n"
     ]
    }
   ],
   "source": [
    "CV_rfc = GridSearchCV(estimator=clf, param_grid=param_grid, cv= 5)\n",
    "CV_rfc.fit(X_train, y_train)\n",
    "print(CV_rfc.best_params_)"
   ]
  },
  {
   "cell_type": "code",
   "execution_count": 50,
   "id": "d276a217",
   "metadata": {
    "colab": {
     "base_uri": "https://localhost:8080/"
    },
    "id": "Jwkl-76a-4jW",
    "outputId": "eb2da46a-12d6-4d53-8a7f-30fe76907180"
   },
   "outputs": [
    {
     "data": {
      "text/plain": [
       "RandomForestClassifier(max_depth=8, max_features=20, min_samples_leaf=14,\n",
       "                       n_estimators=150, random_state=1000)"
      ]
     },
     "execution_count": 50,
     "metadata": {},
     "output_type": "execute_result"
    }
   ],
   "source": [
    "# Build a random forest model\n",
    "clf=RandomForestClassifier(n_estimators=150, max_depth=8, max_features=20, min_samples_leaf=14, random_state=1000)\n",
    "clf.fit(X_train,y_train)"
   ]
  },
  {
   "cell_type": "code",
   "execution_count": 51,
   "id": "4d8b376a",
   "metadata": {
    "colab": {
     "base_uri": "https://localhost:8080/"
    },
    "id": "0aPrNOAPAkYk",
    "outputId": "fe25ef8d-0d6f-4233-89ee-4d2a07362a3c"
   },
   "outputs": [
    {
     "name": "stdout",
     "output_type": "stream",
     "text": [
      "Accuracy: 0.7163333333333334\n"
     ]
    }
   ],
   "source": [
    "# View accuracy rate of the model\n",
    "predictions = clf.predict(X_test)\n",
    "print(\"Accuracy:\",accuracy_score(y_test, predictions))"
   ]
  },
  {
   "cell_type": "markdown",
   "id": "a121a649",
   "metadata": {
    "id": "oQR9Wo6oDSWg"
   },
   "source": [
    "The accuracy rate of the model is 71.63%."
   ]
  },
  {
   "cell_type": "code",
   "execution_count": 52,
   "id": "c466d025",
   "metadata": {
    "colab": {
     "base_uri": "https://localhost:8080/",
     "height": 279
    },
    "id": "4XgHsnuuCqtL",
    "outputId": "b844646b-4167-436d-a9f6-d08e3200783f"
   },
   "outputs": [
    {
     "data": {
      "image/png": "[encoded data removed]",
      "text/plain": [
       "<Figure size 432x288 with 1 Axes>"
      ]
     },
     "metadata": {
      "needs_background": "light"
     },
     "output_type": "display_data"
    }
   ],
   "source": [
    "# Build a confusion matrix\n",
    "predictions = clf.predict(X_test)\n",
    "mat = confusion_matrix(y_test, predictions)\n",
    "sns.heatmap(mat, fmt='g', square=True, annot=True, cbar=False)\n",
    "plt.xlabel(\"Predicted Result\")\n",
    "plt.ylabel(\"Actual Result\")\n",
    "a, b = plt.ylim() \n",
    "a += 0.5 \n",
    "b -= 0.5 \n",
    "plt.ylim(a, b)\n",
    "plt.show()"
   ]
  },
  {
   "cell_type": "code",
   "execution_count": 53,
   "id": "fd9194c0",
   "metadata": {
    "colab": {
     "base_uri": "https://localhost:8080/"
    },
    "id": "-2bUJOpGGZ6E",
    "outputId": "c4c22185-160a-4651-dd01-43c10d5a0b30"
   },
   "outputs": [
    {
     "name": "stdout",
     "output_type": "stream",
     "text": [
      "Accuracy of training set: 0.7431111111111111\n",
      "Accuracy of test set: 0.7163333333333334\n"
     ]
    }
   ],
   "source": [
    "# See if the model is well-built for new data\n",
    "print(\"Accuracy of training set:\",metrics.accuracy_score(y_train, clf.predict(X_train)))\n",
    "print(\"Accuracy of test set:\",metrics.accuracy_score(y_test, clf.predict(X_test)))"
   ]
  },
  {
   "cell_type": "markdown",
   "id": "84a29f3e",
   "metadata": {
    "id": "mfxoGOioHKym"
   },
   "source": [
    "The model’s accuracy or training set is 0.74, while its accuracy of test set is 0.72. The two numbers are very close, meaning that the model is well-built for new data."
   ]
  },
  {
   "cell_type": "code",
   "execution_count": 54,
   "id": "79d31b88",
   "metadata": {
    "colab": {
     "base_uri": "https://localhost:8080/",
     "height": 771
    },
    "id": "_b3e4Z5zA5St",
    "outputId": "36be6acf-26d1-4b1d-cd70-20326f555727"
   },
   "outputs": [
    {
     "data": {
      "text/html": [
       "<div>\n",
       "<style scoped>\n",
       "    .dataframe tbody tr th:only-of-type {\n",
       "        vertical-align: middle;\n",
       "    }\n",
       "\n",
       "    .dataframe tbody tr th {\n",
       "        vertical-align: top;\n",
       "    }\n",
       "\n",
       "    .dataframe thead th {\n",
       "        text-align: right;\n",
       "    }\n",
       "</style>\n",
       "<table border=\"1\" class=\"dataframe\">\n",
       "  <thead>\n",
       "    <tr style=\"text-align: right;\">\n",
       "      <th></th>\n",
       "      <th>feature importance</th>\n",
       "      <th>feature</th>\n",
       "    </tr>\n",
       "  </thead>\n",
       "  <tbody>\n",
       "    <tr>\n",
       "      <th>1</th>\n",
       "      <td>0.301588</td>\n",
       "      <td>hhold_oldest</td>\n",
       "    </tr>\n",
       "    <tr>\n",
       "      <th>4</th>\n",
       "      <td>0.237846</td>\n",
       "      <td>stream_subs</td>\n",
       "    </tr>\n",
       "    <tr>\n",
       "      <th>0</th>\n",
       "      <td>0.109417</td>\n",
       "      <td>est_inc_USD</td>\n",
       "    </tr>\n",
       "    <tr>\n",
       "      <th>3</th>\n",
       "      <td>0.092681</td>\n",
       "      <td>hhold_youngest</td>\n",
       "    </tr>\n",
       "    <tr>\n",
       "      <th>10</th>\n",
       "      <td>0.067554</td>\n",
       "      <td>hhold_field_Services</td>\n",
       "    </tr>\n",
       "    <tr>\n",
       "      <th>5</th>\n",
       "      <td>0.060764</td>\n",
       "      <td>hhold_field_Education</td>\n",
       "    </tr>\n",
       "    <tr>\n",
       "      <th>2</th>\n",
       "      <td>0.040497</td>\n",
       "      <td>hhold_pax</td>\n",
       "    </tr>\n",
       "    <tr>\n",
       "      <th>7</th>\n",
       "      <td>0.035400</td>\n",
       "      <td>hhold_field_Govt</td>\n",
       "    </tr>\n",
       "    <tr>\n",
       "      <th>6</th>\n",
       "      <td>0.017577</td>\n",
       "      <td>hhold_field_Finance</td>\n",
       "    </tr>\n",
       "    <tr>\n",
       "      <th>11</th>\n",
       "      <td>0.012895</td>\n",
       "      <td>hhold_field_Tech</td>\n",
       "    </tr>\n",
       "    <tr>\n",
       "      <th>14</th>\n",
       "      <td>0.007669</td>\n",
       "      <td>homeState_Maine</td>\n",
       "    </tr>\n",
       "    <tr>\n",
       "      <th>9</th>\n",
       "      <td>0.003700</td>\n",
       "      <td>hhold_field_Other</td>\n",
       "    </tr>\n",
       "    <tr>\n",
       "      <th>8</th>\n",
       "      <td>0.003274</td>\n",
       "      <td>hhold_field_Manufacturing</td>\n",
       "    </tr>\n",
       "    <tr>\n",
       "      <th>16</th>\n",
       "      <td>0.002237</td>\n",
       "      <td>homeState_New Hampshire</td>\n",
       "    </tr>\n",
       "    <tr>\n",
       "      <th>22</th>\n",
       "      <td>0.001922</td>\n",
       "      <td>homeState_Vermont</td>\n",
       "    </tr>\n",
       "    <tr>\n",
       "      <th>15</th>\n",
       "      <td>0.001313</td>\n",
       "      <td>homeState_Massachusetts</td>\n",
       "    </tr>\n",
       "    <tr>\n",
       "      <th>17</th>\n",
       "      <td>0.001003</td>\n",
       "      <td>homeState_New York</td>\n",
       "    </tr>\n",
       "    <tr>\n",
       "      <th>19</th>\n",
       "      <td>0.000971</td>\n",
       "      <td>homeState_Quebec</td>\n",
       "    </tr>\n",
       "    <tr>\n",
       "      <th>18</th>\n",
       "      <td>0.000738</td>\n",
       "      <td>homeState_Ontario</td>\n",
       "    </tr>\n",
       "    <tr>\n",
       "      <th>20</th>\n",
       "      <td>0.000498</td>\n",
       "      <td>homeState_Rhode Island</td>\n",
       "    </tr>\n",
       "    <tr>\n",
       "      <th>21</th>\n",
       "      <td>0.000324</td>\n",
       "      <td>homeState_US_Other</td>\n",
       "    </tr>\n",
       "    <tr>\n",
       "      <th>13</th>\n",
       "      <td>0.000109</td>\n",
       "      <td>homeState_Connecticut</td>\n",
       "    </tr>\n",
       "    <tr>\n",
       "      <th>12</th>\n",
       "      <td>0.000025</td>\n",
       "      <td>homeState_Can_Other</td>\n",
       "    </tr>\n",
       "  </tbody>\n",
       "</table>\n",
       "</div>"
      ],
      "text/plain": [
       "    feature importance                    feature\n",
       "1             0.301588               hhold_oldest\n",
       "4             0.237846                stream_subs\n",
       "0             0.109417                est_inc_USD\n",
       "3             0.092681             hhold_youngest\n",
       "10            0.067554       hhold_field_Services\n",
       "5             0.060764      hhold_field_Education\n",
       "2             0.040497                  hhold_pax\n",
       "7             0.035400           hhold_field_Govt\n",
       "6             0.017577        hhold_field_Finance\n",
       "11            0.012895           hhold_field_Tech\n",
       "14            0.007669            homeState_Maine\n",
       "9             0.003700          hhold_field_Other\n",
       "8             0.003274  hhold_field_Manufacturing\n",
       "16            0.002237    homeState_New Hampshire\n",
       "22            0.001922          homeState_Vermont\n",
       "15            0.001313    homeState_Massachusetts\n",
       "17            0.001003         homeState_New York\n",
       "19            0.000971           homeState_Quebec\n",
       "18            0.000738          homeState_Ontario\n",
       "20            0.000498     homeState_Rhode Island\n",
       "21            0.000324         homeState_US_Other\n",
       "13            0.000109      homeState_Connecticut\n",
       "12            0.000025        homeState_Can_Other"
      ]
     },
     "execution_count": 54,
     "metadata": {},
     "output_type": "execute_result"
    }
   ],
   "source": [
    "# View a table of feature importances\n",
    "feature_imp_df = pd.DataFrame(list(zip(clf.feature_importances_, X_train)))\n",
    "feature_imp_df.columns = ['feature importance', 'feature']\n",
    "feature_imp_df = feature_imp_df.sort_values(by='feature importance', ascending=False)\n",
    "feature_imp_df"
   ]
  },
  {
   "cell_type": "code",
   "execution_count": 55,
   "id": "d6a605d4",
   "metadata": {
    "colab": {
     "base_uri": "https://localhost:8080/"
    },
    "id": "EJG0s_ENJ6SY",
    "outputId": "3832fe82-f41e-419d-902a-bb4e77b07172"
   },
   "outputs": [
    {
     "data": {
      "text/plain": [
       "array([[0.14856122, 0.85143878],\n",
       "       [0.39461066, 0.60538934],\n",
       "       [0.41709268, 0.58290732],\n",
       "       ...,\n",
       "       [0.18290187, 0.81709813],\n",
       "       [0.91158472, 0.08841528],\n",
       "       [0.30381587, 0.69618413]])"
      ]
     },
     "execution_count": 55,
     "metadata": {},
     "output_type": "execute_result"
    }
   ],
   "source": [
    "#The predicted probability for each household choosing “consume” or “entertain”  \n",
    "clf.predict_proba(X_test)"
   ]
  },
  {
   "cell_type": "markdown",
   "id": "bd301035",
   "metadata": {
    "id": "AfcEaYrVM6g0"
   },
   "source": [
    "**Conclusion of the model**\n",
    "\n",
    "In the random forest model, we can find that the three most importance variables in order are “hhold_oldest”, “stream_subs” and “est_inc_USD”, while all the dummy variables of “homeState” are least important. Based on this finding, we could pay more attention to analyze the age, entertainment service subscriptions and household income. Moreover, we can remove the “homeState” variable if we need to update the model later. This will help the park to reduce the data collection costs.\n",
    "\n",
    "For marketing approaches, Lobster Land could apply the outcomes for customer acquisition and targeting. If the festival intends to concentrate on live perfoduirmances, the resort's marketing division should place a strong emphasis on promotions to attract the households that the model anticipates are more engaged in entertainment. If the event intends to emphasize eating and retail, the marketing division should place greater emphasis on luring families that the model predicts would be more interested in consuming.\n",
    "\n",
    "Lobster Land may also utilize the algorithm to boost survey feedback return rates. Only households that enjoy watching shows could get the entertainment survey since they are more likely to respond. Similar for a different class. Based on a review of the input, the park may provide more well-liked live events or cuisine in this instance.\n",
    "\n",
    "Additionally, Lobster Land could also pay attention to the predict_proba() results. The resort should advocate for both objectives to those households that do not have a clear preference for either entertainment or consumption.\n"
   ]
  },
  {
   "cell_type": "code",
   "execution_count": 81,
   "id": "37166a9a",
   "metadata": {},
   "outputs": [],
   "source": [
    "# A/B testing\n",
    "data3 = pd.read_csv('snowmobile_pics.csv')"
   ]
  },
  {
   "cell_type": "code",
   "execution_count": 82,
   "id": "9fd43d9e",
   "metadata": {},
   "outputs": [
    {
     "data": {
      "text/html": [
       "<div>\n",
       "<style scoped>\n",
       "    .dataframe tbody tr th:only-of-type {\n",
       "        vertical-align: middle;\n",
       "    }\n",
       "\n",
       "    .dataframe tbody tr th {\n",
       "        vertical-align: top;\n",
       "    }\n",
       "\n",
       "    .dataframe thead th {\n",
       "        text-align: right;\n",
       "    }\n",
       "</style>\n",
       "<table border=\"1\" class=\"dataframe\">\n",
       "  <thead>\n",
       "    <tr style=\"text-align: right;\">\n",
       "      <th></th>\n",
       "      <th>recipient</th>\n",
       "      <th>pic_seen</th>\n",
       "      <th>site_duration</th>\n",
       "      <th>spend</th>\n",
       "      <th>register</th>\n",
       "    </tr>\n",
       "  </thead>\n",
       "  <tbody>\n",
       "    <tr>\n",
       "      <th>0</th>\n",
       "      <td>1</td>\n",
       "      <td>Racers in Action</td>\n",
       "      <td>18.20</td>\n",
       "      <td>16.60</td>\n",
       "      <td>0</td>\n",
       "    </tr>\n",
       "    <tr>\n",
       "      <th>1</th>\n",
       "      <td>2</td>\n",
       "      <td>Starting Line</td>\n",
       "      <td>28.61</td>\n",
       "      <td>15.30</td>\n",
       "      <td>0</td>\n",
       "    </tr>\n",
       "    <tr>\n",
       "      <th>2</th>\n",
       "      <td>3</td>\n",
       "      <td>Sharp Turn</td>\n",
       "      <td>10.90</td>\n",
       "      <td>16.32</td>\n",
       "      <td>1</td>\n",
       "    </tr>\n",
       "    <tr>\n",
       "      <th>3</th>\n",
       "      <td>4</td>\n",
       "      <td>Sharp Turn</td>\n",
       "      <td>11.30</td>\n",
       "      <td>22.62</td>\n",
       "      <td>0</td>\n",
       "    </tr>\n",
       "    <tr>\n",
       "      <th>4</th>\n",
       "      <td>5</td>\n",
       "      <td>Racers in Action</td>\n",
       "      <td>19.70</td>\n",
       "      <td>17.30</td>\n",
       "      <td>0</td>\n",
       "    </tr>\n",
       "  </tbody>\n",
       "</table>\n",
       "</div>"
      ],
      "text/plain": [
       "   recipient          pic_seen  site_duration  spend  register\n",
       "0          1  Racers in Action          18.20  16.60         0\n",
       "1          2     Starting Line          28.61  15.30         0\n",
       "2          3        Sharp Turn          10.90  16.32         1\n",
       "3          4        Sharp Turn          11.30  22.62         0\n",
       "4          5  Racers in Action          19.70  17.30         0"
      ]
     },
     "execution_count": 82,
     "metadata": {},
     "output_type": "execute_result"
    }
   ],
   "source": [
    "data3.head()"
   ]
  },
  {
   "cell_type": "markdown",
   "id": "62ea1db7",
   "metadata": {},
   "source": [
    "## Plot Groupby Data\n",
    "### site duration and spend"
   ]
  },
  {
   "cell_type": "code",
   "execution_count": 83,
   "id": "60271159",
   "metadata": {},
   "outputs": [
    {
     "data": {
      "text/plain": [
       "Text(0.5, 1.0, 'Group by pic_seen')"
      ]
     },
     "execution_count": 83,
     "metadata": {},
     "output_type": "execute_result"
    },
    {
     "data": {
      "image/png": "[encoded data removed]",
      "text/plain": [
       "<Figure size 432x288 with 1 Axes>"
      ]
     },
     "metadata": {
      "needs_background": "light"
     },
     "output_type": "display_data"
    }
   ],
   "source": [
    "pic_group_du = data3.groupby(\"pic_seen\")[\"site_duration\"].mean()\n",
    "plt.bar([\"Racers in Action\", \"Sharp Turn\", \"Starting Line\"], pic_group_du)\n",
    "plt.ylabel('site_duration')\n",
    "plt.title('Group by pic_seen')"
   ]
  },
  {
   "cell_type": "markdown",
   "id": "f7da1a84",
   "metadata": {},
   "source": [
    "From grouping the pic_seen, for Site_duration, Starting Line and Racers in Action are having similar performance. Sharp Turn is having the lowest value."
   ]
  },
  {
   "cell_type": "code",
   "execution_count": 84,
   "id": "1458ddd7",
   "metadata": {},
   "outputs": [
    {
     "data": {
      "text/plain": [
       "Text(0.5, 1.0, 'Group by pic_seen')"
      ]
     },
     "execution_count": 84,
     "metadata": {},
     "output_type": "execute_result"
    },
    {
     "data": {
      "image/png": "[encoded data removed]",
      "text/plain": [
       "<Figure size 432x288 with 1 Axes>"
      ]
     },
     "metadata": {
      "needs_background": "light"
     },
     "output_type": "display_data"
    }
   ],
   "source": [
    "pic_group_du = data3.groupby(\"pic_seen\")[\"spend\"].mean()\n",
    "plt.bar([\"Racers in Action\", \"Sharp Turn\", \"Starting Line\"], pic_group_du)\n",
    "plt.ylabel('spend')\n",
    "plt.title('Group by pic_seen')"
   ]
  },
  {
   "cell_type": "markdown",
   "id": "b52a3383",
   "metadata": {},
   "source": [
    "In Spend, which is the amount of merchandise purchased, three options are having similar performances."
   ]
  },
  {
   "cell_type": "code",
   "execution_count": 85,
   "id": "f707d106",
   "metadata": {},
   "outputs": [
    {
     "data": {
      "text/plain": [
       "Text(0.5, 1.0, 'Group by pic_seen')"
      ]
     },
     "execution_count": 85,
     "metadata": {},
     "output_type": "execute_result"
    },
    {
     "data": {
      "image/png": "[encoded data removed]",
      "text/plain": [
       "<Figure size 432x288 with 1 Axes>"
      ]
     },
     "metadata": {
      "needs_background": "light"
     },
     "output_type": "display_data"
    }
   ],
   "source": [
    "pic_group_du = data3.groupby(\"pic_seen\")[\"site_duration\"].mean() * data3.groupby(\"pic_seen\")[\"spend\"].mean()\n",
    "plt.bar([\"Racers in Action\", \"Sharp Turn\", \"Starting Line\"], pic_group_du)\n",
    "plt.ylabel('multiplication')\n",
    "plt.title('Group by pic_seen')"
   ]
  },
  {
   "cell_type": "markdown",
   "id": "f3f02455",
   "metadata": {},
   "source": [
    "Multiplying the two features above, \"site_duration\" and \"spend\", we can find that the Racers in Action is has the best performance among the three campaigns. "
   ]
  },
  {
   "cell_type": "markdown",
   "id": "9f349c50",
   "metadata": {},
   "source": [
    "### registration rate"
   ]
  },
  {
   "cell_type": "code",
   "execution_count": 86,
   "id": "20b698c1",
   "metadata": {},
   "outputs": [
    {
     "data": {
      "text/plain": [
       "Text(0.5, 1.0, 'Group by pic_seen')"
      ]
     },
     "execution_count": 86,
     "metadata": {},
     "output_type": "execute_result"
    },
    {
     "data": {
      "image/png": "[encoded data removed]",
      "text/plain": [
       "<Figure size 432x288 with 1 Axes>"
      ]
     },
     "metadata": {
      "needs_background": "light"
     },
     "output_type": "display_data"
    }
   ],
   "source": [
    "pic_group_du = data3.groupby(\"pic_seen\")[\"register\"].sum() / data3.groupby(\"pic_seen\").count()['register']\n",
    "plt.bar([\"Racers in Action\", \"Sharp Turn\", \"Starting Line\"], pic_group_du)\n",
    "plt.ylabel('register percent')\n",
    "plt.title('Group by pic_seen')"
   ]
  },
  {
   "cell_type": "markdown",
   "id": "383a6eb9",
   "metadata": {},
   "source": [
    "Secondly, I plot a bar chart of the register percentage for each of the three campaign options, by calculating the register divided by the number counted. From this section, we can still find that Racers in Action has the highest value."
   ]
  },
  {
   "cell_type": "markdown",
   "id": "964fff66",
   "metadata": {},
   "source": [
    "I found that the bar plot of multiplication of site_duration feature values and spend feature values is similar to\n",
    "plot of bar plot of register percent."
   ]
  },
  {
   "cell_type": "markdown",
   "id": "263119b6",
   "metadata": {},
   "source": [
    "## Statistical"
   ]
  },
  {
   "cell_type": "markdown",
   "id": "2fea067e",
   "metadata": {},
   "source": [
    "### Perform t-statistics and p-statistics for each head-to-head test:\n",
    "\n",
    "In this section, my Null Hypothesis is to assume the there is no difference among the three pic_seen, 'Racers in Action', 'Sharp Turn', 'Starting Line'."
   ]
  },
  {
   "cell_type": "code",
   "execution_count": 88,
   "id": "16e592fa",
   "metadata": {},
   "outputs": [
    {
     "name": "stdout",
     "output_type": "stream",
     "text": [
      "The t-statistics is:  4.483983175631638\n",
      "The p-statistics is:  7.69613709155986e-06\n"
     ]
    }
   ],
   "source": [
    "por1 = data3.loc[data3[\"pic_seen\"]=='Racers in Action'][\"register\"]\n",
    "por2 = data3.loc[data3[\"pic_seen\"]=='Sharp Turn'][\"register\"]\n",
    "por3 = data3.loc[data3[\"pic_seen\"]=='Starting Line'][\"register\"]\n",
    "\n",
    "\n",
    "(t, p)= stats.ttest_ind(por1.values,por2.values, equal_var=False)\n",
    "print(\"The t-statistics is: \", t)\n",
    "print(\"The p-statistics is: \", p)"
   ]
  },
  {
   "cell_type": "code",
   "execution_count": 89,
   "id": "5ca82f20",
   "metadata": {},
   "outputs": [
    {
     "name": "stdout",
     "output_type": "stream",
     "text": [
      "The t-statistics is:  4.844354466304721\n",
      "The p-statistics is:  1.357059422760036e-06\n"
     ]
    }
   ],
   "source": [
    "(t, p)= stats.ttest_ind(por1.values,por3.values, equal_var=False)\n",
    "print(\"The t-statistics is: \", t)\n",
    "print(\"The p-statistics is: \", p)"
   ]
  },
  {
   "cell_type": "code",
   "execution_count": 90,
   "id": "e4d9141a",
   "metadata": {},
   "outputs": [
    {
     "name": "stdout",
     "output_type": "stream",
     "text": [
      "The t-statistics is:  0.3546036791692854\n",
      "The p-statistics is:  0.7229192023249931\n"
     ]
    }
   ],
   "source": [
    "(t, p)= stats.ttest_ind(por2.values,por3.values, equal_var=False)\n",
    "print(\"The t-statistics is: \", t)\n",
    "print(\"The p-statistics is: \", p)"
   ]
  },
  {
   "cell_type": "markdown",
   "id": "63d1e8a7",
   "metadata": {},
   "source": [
    "According to previous plots and p-value results, we can assume Racers in Action is the most optimal campaign. If the null hypothesis assumes that there is no significant difference between three pictures, according to the calculated t value and p value, At a significance level greater than 99 percent, we have rejected the null hypothesis (p value is too low). Hence 'Racers in Action' is indeed the best one."
   ]
  }
 ],
 "metadata": {
  "kernelspec": {
   "display_name": "Python 3 (ipykernel)",
   "language": "python",
   "name": "python3"
  },
  "language_info": {
   "codemirror_mode": {
    "name": "ipython",
    "version": 3
   },
   "file_extension": ".py",
   "mimetype": "text/x-python",
   "name": "python",
   "nbconvert_exporter": "python",
   "pygments_lexer": "ipython3",
   "version": "3.9.7"
  }
 },
 "nbformat": 4,
 "nbformat_minor": 5
}
